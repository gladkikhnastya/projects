{
 "cells": [
  {
   "cell_type": "markdown",
   "metadata": {},
   "source": [
    "Есть таблица с информацией по интернет-магазину, который продаёт по всему миру компьютерные игры. Из открытых источников доступны исторические данные о продажах игр, оценки пользователей и экспертов, жанры и платформы (например, Xbox или PlayStation). Нужно выявить определяющие успешность игры закономерности. Это позволит сделать ставку на потенциально популярный продукт и спланировать рекламные кампании.\n",
    "В файле данные до 2016 года. Нужно спланировать кампанию на 2017-й."
   ]
  },
  {
   "cell_type": "markdown",
   "metadata": {},
   "source": [
    "# Исследование интернет-магазина"
   ]
  },
  {
   "cell_type": "markdown",
   "metadata": {},
   "source": [
    "## Шаг 1. Изучение общей информации"
   ]
  },
  {
   "cell_type": "code",
   "execution_count": 1,
   "metadata": {},
   "outputs": [],
   "source": [
    "import pandas as pd\n",
    "import matplotlib.pyplot as plt\n",
    "from scipy import stats as st\n",
    "import seaborn as sns"
   ]
  },
  {
   "cell_type": "code",
   "execution_count": 2,
   "metadata": {},
   "outputs": [],
   "source": [
    "data = pd.read_csv('/datasets/games.csv')"
   ]
  },
  {
   "cell_type": "code",
   "execution_count": 3,
   "metadata": {},
   "outputs": [
    {
     "data": {
      "text/html": [
       "<div>\n",
       "<style scoped>\n",
       "    .dataframe tbody tr th:only-of-type {\n",
       "        vertical-align: middle;\n",
       "    }\n",
       "\n",
       "    .dataframe tbody tr th {\n",
       "        vertical-align: top;\n",
       "    }\n",
       "\n",
       "    .dataframe thead th {\n",
       "        text-align: right;\n",
       "    }\n",
       "</style>\n",
       "<table border=\"1\" class=\"dataframe\">\n",
       "  <thead>\n",
       "    <tr style=\"text-align: right;\">\n",
       "      <th></th>\n",
       "      <th>Name</th>\n",
       "      <th>Platform</th>\n",
       "      <th>Year_of_Release</th>\n",
       "      <th>Genre</th>\n",
       "      <th>NA_sales</th>\n",
       "      <th>EU_sales</th>\n",
       "      <th>JP_sales</th>\n",
       "      <th>Other_sales</th>\n",
       "      <th>Critic_Score</th>\n",
       "      <th>User_Score</th>\n",
       "      <th>Rating</th>\n",
       "    </tr>\n",
       "  </thead>\n",
       "  <tbody>\n",
       "    <tr>\n",
       "      <th>0</th>\n",
       "      <td>Wii Sports</td>\n",
       "      <td>Wii</td>\n",
       "      <td>2006.0</td>\n",
       "      <td>Sports</td>\n",
       "      <td>41.36</td>\n",
       "      <td>28.96</td>\n",
       "      <td>3.77</td>\n",
       "      <td>8.45</td>\n",
       "      <td>76.0</td>\n",
       "      <td>8</td>\n",
       "      <td>E</td>\n",
       "    </tr>\n",
       "    <tr>\n",
       "      <th>1</th>\n",
       "      <td>Super Mario Bros.</td>\n",
       "      <td>NES</td>\n",
       "      <td>1985.0</td>\n",
       "      <td>Platform</td>\n",
       "      <td>29.08</td>\n",
       "      <td>3.58</td>\n",
       "      <td>6.81</td>\n",
       "      <td>0.77</td>\n",
       "      <td>NaN</td>\n",
       "      <td>NaN</td>\n",
       "      <td>NaN</td>\n",
       "    </tr>\n",
       "    <tr>\n",
       "      <th>2</th>\n",
       "      <td>Mario Kart Wii</td>\n",
       "      <td>Wii</td>\n",
       "      <td>2008.0</td>\n",
       "      <td>Racing</td>\n",
       "      <td>15.68</td>\n",
       "      <td>12.76</td>\n",
       "      <td>3.79</td>\n",
       "      <td>3.29</td>\n",
       "      <td>82.0</td>\n",
       "      <td>8.3</td>\n",
       "      <td>E</td>\n",
       "    </tr>\n",
       "    <tr>\n",
       "      <th>3</th>\n",
       "      <td>Wii Sports Resort</td>\n",
       "      <td>Wii</td>\n",
       "      <td>2009.0</td>\n",
       "      <td>Sports</td>\n",
       "      <td>15.61</td>\n",
       "      <td>10.93</td>\n",
       "      <td>3.28</td>\n",
       "      <td>2.95</td>\n",
       "      <td>80.0</td>\n",
       "      <td>8</td>\n",
       "      <td>E</td>\n",
       "    </tr>\n",
       "    <tr>\n",
       "      <th>4</th>\n",
       "      <td>Pokemon Red/Pokemon Blue</td>\n",
       "      <td>GB</td>\n",
       "      <td>1996.0</td>\n",
       "      <td>Role-Playing</td>\n",
       "      <td>11.27</td>\n",
       "      <td>8.89</td>\n",
       "      <td>10.22</td>\n",
       "      <td>1.00</td>\n",
       "      <td>NaN</td>\n",
       "      <td>NaN</td>\n",
       "      <td>NaN</td>\n",
       "    </tr>\n",
       "  </tbody>\n",
       "</table>\n",
       "</div>"
      ],
      "text/plain": [
       "                       Name Platform  Year_of_Release         Genre  NA_sales  \\\n",
       "0                Wii Sports      Wii           2006.0        Sports     41.36   \n",
       "1         Super Mario Bros.      NES           1985.0      Platform     29.08   \n",
       "2            Mario Kart Wii      Wii           2008.0        Racing     15.68   \n",
       "3         Wii Sports Resort      Wii           2009.0        Sports     15.61   \n",
       "4  Pokemon Red/Pokemon Blue       GB           1996.0  Role-Playing     11.27   \n",
       "\n",
       "   EU_sales  JP_sales  Other_sales  Critic_Score User_Score Rating  \n",
       "0     28.96      3.77         8.45          76.0          8      E  \n",
       "1      3.58      6.81         0.77           NaN        NaN    NaN  \n",
       "2     12.76      3.79         3.29          82.0        8.3      E  \n",
       "3     10.93      3.28         2.95          80.0          8      E  \n",
       "4      8.89     10.22         1.00           NaN        NaN    NaN  "
      ]
     },
     "execution_count": 3,
     "metadata": {},
     "output_type": "execute_result"
    }
   ],
   "source": [
    "data.head()"
   ]
  },
  {
   "cell_type": "code",
   "execution_count": 4,
   "metadata": {},
   "outputs": [
    {
     "data": {
      "image/png": "[encoded data removed]",
      "text/plain": [
       "<Figure size 1080x1440 with 6 Axes>"
      ]
     },
     "metadata": {
      "needs_background": "light"
     },
     "output_type": "display_data"
    }
   ],
   "source": [
    "data.hist(figsize=(15, 20));"
   ]
  },
  {
   "cell_type": "code",
   "execution_count": 5,
   "metadata": {},
   "outputs": [
    {
     "data": {
      "text/plain": [
       "Name                  2\n",
       "Platform              0\n",
       "Year_of_Release     269\n",
       "Genre                 2\n",
       "NA_sales              0\n",
       "EU_sales              0\n",
       "JP_sales              0\n",
       "Other_sales           0\n",
       "Critic_Score       8578\n",
       "User_Score         6701\n",
       "Rating             6766\n",
       "dtype: int64"
      ]
     },
     "execution_count": 5,
     "metadata": {},
     "output_type": "execute_result"
    }
   ],
   "source": [
    "data.isna().sum()"
   ]
  },
  {
   "cell_type": "markdown",
   "metadata": {},
   "source": [
    "В некоторых столбцах есть пропуски, которые нужно будет заполнить, также сами названия столбцов некорректны"
   ]
  },
  {
   "cell_type": "markdown",
   "metadata": {},
   "source": [
    "## Шаг 2. Подготовка данных"
   ]
  },
  {
   "cell_type": "markdown",
   "metadata": {},
   "source": [
    "### Замена названия столбцов (приведение к нижнему регистру)"
   ]
  },
  {
   "cell_type": "code",
   "execution_count": 6,
   "metadata": {},
   "outputs": [],
   "source": [
    "data.columns = data.columns.str.lower()"
   ]
  },
  {
   "cell_type": "markdown",
   "metadata": {},
   "source": [
    "Привели название колонок к \"змеиному регистру\""
   ]
  },
  {
   "cell_type": "code",
   "execution_count": 7,
   "metadata": {},
   "outputs": [
    {
     "name": "stdout",
     "output_type": "stream",
     "text": [
      "<class 'pandas.core.frame.DataFrame'>\n",
      "RangeIndex: 16715 entries, 0 to 16714\n",
      "Data columns (total 11 columns):\n",
      " #   Column           Non-Null Count  Dtype  \n",
      "---  ------           --------------  -----  \n",
      " 0   name             16713 non-null  object \n",
      " 1   platform         16715 non-null  object \n",
      " 2   year_of_release  16446 non-null  float64\n",
      " 3   genre            16713 non-null  object \n",
      " 4   na_sales         16715 non-null  float64\n",
      " 5   eu_sales         16715 non-null  float64\n",
      " 6   jp_sales         16715 non-null  float64\n",
      " 7   other_sales      16715 non-null  float64\n",
      " 8   critic_score     8137 non-null   float64\n",
      " 9   user_score       10014 non-null  object \n",
      " 10  rating           9949 non-null   object \n",
      "dtypes: float64(6), object(5)\n",
      "memory usage: 1.4+ MB\n"
     ]
    }
   ],
   "source": [
    "data.info()"
   ]
  },
  {
   "cell_type": "markdown",
   "metadata": {},
   "source": [
    "### Преобразование данных\n"
   ]
  },
  {
   "cell_type": "code",
   "execution_count": 8,
   "metadata": {},
   "outputs": [],
   "source": [
    "data['user_score'] = pd.to_numeric(data['user_score'], errors='coerce')\n",
    "data['user_score'] = data['user_score'].astype('float')"
   ]
  },
  {
   "cell_type": "markdown",
   "metadata": {},
   "source": [
    "Так как встретилась аббревиатура 'tbd' - будет определено -, невозможно сразу изменить тип, поэтому была обработка такого формата."
   ]
  },
  {
   "cell_type": "code",
   "execution_count": 9,
   "metadata": {},
   "outputs": [
    {
     "data": {
      "text/plain": [
       "count    16446.000000\n",
       "mean      2006.484616\n",
       "std          5.877050\n",
       "min       1980.000000\n",
       "25%       2003.000000\n",
       "50%       2007.000000\n",
       "75%       2010.000000\n",
       "max       2016.000000\n",
       "Name: year_of_release, dtype: float64"
      ]
     },
     "execution_count": 9,
     "metadata": {},
     "output_type": "execute_result"
    }
   ],
   "source": [
    "data['year_of_release'].describe()"
   ]
  },
  {
   "cell_type": "code",
   "execution_count": 10,
   "metadata": {},
   "outputs": [],
   "source": [
    "data['year_of_release'] = pd.to_numeric(data['year_of_release'], errors='ignore')\n",
    "data = data.dropna(subset=['year_of_release', 'name', 'genre']).reset_index(drop=True)"
   ]
  },
  {
   "cell_type": "markdown",
   "metadata": {},
   "source": [
    "В годах есть большая разница между 1980 и 2016, поэтому лучше удалить пропуски. В этих столбцах пропусков не так много, поэтому  от них можно избавиться. Столбец с рейтингом с таким больши пропусков, потому ESRB появилось только в 2005 году, то есть у игр действительно нет возрастного ценза."
   ]
  },
  {
   "cell_type": "code",
   "execution_count": 11,
   "metadata": {},
   "outputs": [
    {
     "data": {
      "text/plain": [
       "count    7983.000000\n",
       "mean       68.994363\n",
       "std        13.920060\n",
       "min        13.000000\n",
       "25%        60.000000\n",
       "50%        71.000000\n",
       "75%        79.000000\n",
       "max        98.000000\n",
       "Name: critic_score, dtype: float64"
      ]
     },
     "execution_count": 11,
     "metadata": {},
     "output_type": "execute_result"
    }
   ],
   "source": [
    "data['critic_score'].describe()"
   ]
  },
  {
   "cell_type": "code",
   "execution_count": 12,
   "metadata": {},
   "outputs": [],
   "source": [
    "data['critic_score'] = pd.to_numeric(data['critic_score'], errors='ignore')\n",
    "data['critic_score'] = data['critic_score'].fillna(-1)"
   ]
  },
  {
   "cell_type": "markdown",
   "metadata": {},
   "source": [
    "Здесь также присутствует большой разброс значений, но мнения критиков нельзя предугадать, поэтому заменяем на заглушку"
   ]
  },
  {
   "cell_type": "code",
   "execution_count": 13,
   "metadata": {},
   "outputs": [
    {
     "data": {
      "text/plain": [
       "count    7463.000000\n",
       "mean        7.126330\n",
       "std         1.499447\n",
       "min         0.000000\n",
       "25%         6.400000\n",
       "50%         7.500000\n",
       "75%         8.200000\n",
       "max         9.700000\n",
       "Name: user_score, dtype: float64"
      ]
     },
     "execution_count": 13,
     "metadata": {},
     "output_type": "execute_result"
    }
   ],
   "source": [
    "data['user_score'].describe()"
   ]
  },
  {
   "cell_type": "code",
   "execution_count": 14,
   "metadata": {},
   "outputs": [],
   "source": [
    "data['user_score'] = pd.to_numeric(data['user_score'], errors='ignore')\n",
    "data['user_score'] = data['user_score'].fillna(-1)"
   ]
  },
  {
   "cell_type": "markdown",
   "metadata": {},
   "source": [
    "Для оценок пользователей аналогично"
   ]
  },
  {
   "cell_type": "code",
   "execution_count": 15,
   "metadata": {},
   "outputs": [
    {
     "data": {
      "text/html": [
       "<div>\n",
       "<style scoped>\n",
       "    .dataframe tbody tr th:only-of-type {\n",
       "        vertical-align: middle;\n",
       "    }\n",
       "\n",
       "    .dataframe tbody tr th {\n",
       "        vertical-align: top;\n",
       "    }\n",
       "\n",
       "    .dataframe thead th {\n",
       "        text-align: right;\n",
       "    }\n",
       "</style>\n",
       "<table border=\"1\" class=\"dataframe\">\n",
       "  <thead>\n",
       "    <tr style=\"text-align: right;\">\n",
       "      <th></th>\n",
       "      <th>name</th>\n",
       "      <th>platform</th>\n",
       "      <th>year_of_release</th>\n",
       "      <th>genre</th>\n",
       "      <th>na_sales</th>\n",
       "      <th>eu_sales</th>\n",
       "      <th>jp_sales</th>\n",
       "      <th>other_sales</th>\n",
       "      <th>critic_score</th>\n",
       "      <th>user_score</th>\n",
       "      <th>rating</th>\n",
       "    </tr>\n",
       "  </thead>\n",
       "  <tbody>\n",
       "    <tr>\n",
       "      <th>0</th>\n",
       "      <td>Wii Sports</td>\n",
       "      <td>Wii</td>\n",
       "      <td>2006.0</td>\n",
       "      <td>Sports</td>\n",
       "      <td>41.36</td>\n",
       "      <td>28.96</td>\n",
       "      <td>3.77</td>\n",
       "      <td>8.45</td>\n",
       "      <td>76.0</td>\n",
       "      <td>8.0</td>\n",
       "      <td>E</td>\n",
       "    </tr>\n",
       "    <tr>\n",
       "      <th>1</th>\n",
       "      <td>Super Mario Bros.</td>\n",
       "      <td>NES</td>\n",
       "      <td>1985.0</td>\n",
       "      <td>Platform</td>\n",
       "      <td>29.08</td>\n",
       "      <td>3.58</td>\n",
       "      <td>6.81</td>\n",
       "      <td>0.77</td>\n",
       "      <td>-1.0</td>\n",
       "      <td>-1.0</td>\n",
       "      <td>NaN</td>\n",
       "    </tr>\n",
       "    <tr>\n",
       "      <th>2</th>\n",
       "      <td>Mario Kart Wii</td>\n",
       "      <td>Wii</td>\n",
       "      <td>2008.0</td>\n",
       "      <td>Racing</td>\n",
       "      <td>15.68</td>\n",
       "      <td>12.76</td>\n",
       "      <td>3.79</td>\n",
       "      <td>3.29</td>\n",
       "      <td>82.0</td>\n",
       "      <td>8.3</td>\n",
       "      <td>E</td>\n",
       "    </tr>\n",
       "    <tr>\n",
       "      <th>3</th>\n",
       "      <td>Wii Sports Resort</td>\n",
       "      <td>Wii</td>\n",
       "      <td>2009.0</td>\n",
       "      <td>Sports</td>\n",
       "      <td>15.61</td>\n",
       "      <td>10.93</td>\n",
       "      <td>3.28</td>\n",
       "      <td>2.95</td>\n",
       "      <td>80.0</td>\n",
       "      <td>8.0</td>\n",
       "      <td>E</td>\n",
       "    </tr>\n",
       "    <tr>\n",
       "      <th>4</th>\n",
       "      <td>Pokemon Red/Pokemon Blue</td>\n",
       "      <td>GB</td>\n",
       "      <td>1996.0</td>\n",
       "      <td>Role-Playing</td>\n",
       "      <td>11.27</td>\n",
       "      <td>8.89</td>\n",
       "      <td>10.22</td>\n",
       "      <td>1.00</td>\n",
       "      <td>-1.0</td>\n",
       "      <td>-1.0</td>\n",
       "      <td>NaN</td>\n",
       "    </tr>\n",
       "  </tbody>\n",
       "</table>\n",
       "</div>"
      ],
      "text/plain": [
       "                       name platform  year_of_release         genre  na_sales  \\\n",
       "0                Wii Sports      Wii           2006.0        Sports     41.36   \n",
       "1         Super Mario Bros.      NES           1985.0      Platform     29.08   \n",
       "2            Mario Kart Wii      Wii           2008.0        Racing     15.68   \n",
       "3         Wii Sports Resort      Wii           2009.0        Sports     15.61   \n",
       "4  Pokemon Red/Pokemon Blue       GB           1996.0  Role-Playing     11.27   \n",
       "\n",
       "   eu_sales  jp_sales  other_sales  critic_score  user_score rating  \n",
       "0     28.96      3.77         8.45          76.0         8.0      E  \n",
       "1      3.58      6.81         0.77          -1.0        -1.0    NaN  \n",
       "2     12.76      3.79         3.29          82.0         8.3      E  \n",
       "3     10.93      3.28         2.95          80.0         8.0      E  \n",
       "4      8.89     10.22         1.00          -1.0        -1.0    NaN  "
      ]
     },
     "execution_count": 15,
     "metadata": {},
     "output_type": "execute_result"
    }
   ],
   "source": [
    "data.head()"
   ]
  },
  {
   "cell_type": "markdown",
   "metadata": {},
   "source": [
    "### Суммарные продажи во всех регионах и преобразуем их в отдельный столбец"
   ]
  },
  {
   "cell_type": "code",
   "execution_count": 17,
   "metadata": {},
   "outputs": [
    {
     "data": {
      "text/html": [
       "<div>\n",
       "<style scoped>\n",
       "    .dataframe tbody tr th:only-of-type {\n",
       "        vertical-align: middle;\n",
       "    }\n",
       "\n",
       "    .dataframe tbody tr th {\n",
       "        vertical-align: top;\n",
       "    }\n",
       "\n",
       "    .dataframe thead th {\n",
       "        text-align: right;\n",
       "    }\n",
       "</style>\n",
       "<table border=\"1\" class=\"dataframe\">\n",
       "  <thead>\n",
       "    <tr style=\"text-align: right;\">\n",
       "      <th></th>\n",
       "      <th>name</th>\n",
       "      <th>platform</th>\n",
       "      <th>year_of_release</th>\n",
       "      <th>genre</th>\n",
       "      <th>na_sales</th>\n",
       "      <th>eu_sales</th>\n",
       "      <th>jp_sales</th>\n",
       "      <th>other_sales</th>\n",
       "      <th>critic_score</th>\n",
       "      <th>user_score</th>\n",
       "      <th>rating</th>\n",
       "      <th>sum_sales</th>\n",
       "    </tr>\n",
       "  </thead>\n",
       "  <tbody>\n",
       "    <tr>\n",
       "      <th>0</th>\n",
       "      <td>Wii Sports</td>\n",
       "      <td>Wii</td>\n",
       "      <td>2006.0</td>\n",
       "      <td>Sports</td>\n",
       "      <td>41.36</td>\n",
       "      <td>28.96</td>\n",
       "      <td>3.77</td>\n",
       "      <td>8.45</td>\n",
       "      <td>76.0</td>\n",
       "      <td>8.0</td>\n",
       "      <td>E</td>\n",
       "      <td>82.54</td>\n",
       "    </tr>\n",
       "    <tr>\n",
       "      <th>1</th>\n",
       "      <td>Super Mario Bros.</td>\n",
       "      <td>NES</td>\n",
       "      <td>1985.0</td>\n",
       "      <td>Platform</td>\n",
       "      <td>29.08</td>\n",
       "      <td>3.58</td>\n",
       "      <td>6.81</td>\n",
       "      <td>0.77</td>\n",
       "      <td>-1.0</td>\n",
       "      <td>-1.0</td>\n",
       "      <td>NaN</td>\n",
       "      <td>40.24</td>\n",
       "    </tr>\n",
       "    <tr>\n",
       "      <th>2</th>\n",
       "      <td>Mario Kart Wii</td>\n",
       "      <td>Wii</td>\n",
       "      <td>2008.0</td>\n",
       "      <td>Racing</td>\n",
       "      <td>15.68</td>\n",
       "      <td>12.76</td>\n",
       "      <td>3.79</td>\n",
       "      <td>3.29</td>\n",
       "      <td>82.0</td>\n",
       "      <td>8.3</td>\n",
       "      <td>E</td>\n",
       "      <td>35.52</td>\n",
       "    </tr>\n",
       "    <tr>\n",
       "      <th>3</th>\n",
       "      <td>Wii Sports Resort</td>\n",
       "      <td>Wii</td>\n",
       "      <td>2009.0</td>\n",
       "      <td>Sports</td>\n",
       "      <td>15.61</td>\n",
       "      <td>10.93</td>\n",
       "      <td>3.28</td>\n",
       "      <td>2.95</td>\n",
       "      <td>80.0</td>\n",
       "      <td>8.0</td>\n",
       "      <td>E</td>\n",
       "      <td>32.77</td>\n",
       "    </tr>\n",
       "    <tr>\n",
       "      <th>4</th>\n",
       "      <td>Pokemon Red/Pokemon Blue</td>\n",
       "      <td>GB</td>\n",
       "      <td>1996.0</td>\n",
       "      <td>Role-Playing</td>\n",
       "      <td>11.27</td>\n",
       "      <td>8.89</td>\n",
       "      <td>10.22</td>\n",
       "      <td>1.00</td>\n",
       "      <td>-1.0</td>\n",
       "      <td>-1.0</td>\n",
       "      <td>NaN</td>\n",
       "      <td>31.38</td>\n",
       "    </tr>\n",
       "  </tbody>\n",
       "</table>\n",
       "</div>"
      ],
      "text/plain": [
       "                       name platform  year_of_release         genre  na_sales  \\\n",
       "0                Wii Sports      Wii           2006.0        Sports     41.36   \n",
       "1         Super Mario Bros.      NES           1985.0      Platform     29.08   \n",
       "2            Mario Kart Wii      Wii           2008.0        Racing     15.68   \n",
       "3         Wii Sports Resort      Wii           2009.0        Sports     15.61   \n",
       "4  Pokemon Red/Pokemon Blue       GB           1996.0  Role-Playing     11.27   \n",
       "\n",
       "   eu_sales  jp_sales  other_sales  critic_score  user_score rating  sum_sales  \n",
       "0     28.96      3.77         8.45          76.0         8.0      E      82.54  \n",
       "1      3.58      6.81         0.77          -1.0        -1.0    NaN      40.24  \n",
       "2     12.76      3.79         3.29          82.0         8.3      E      35.52  \n",
       "3     10.93      3.28         2.95          80.0         8.0      E      32.77  \n",
       "4      8.89     10.22         1.00          -1.0        -1.0    NaN      31.38  "
      ]
     },
     "execution_count": 17,
     "metadata": {},
     "output_type": "execute_result"
    }
   ],
   "source": [
    "data['sum_sales'] = data[['na_sales', 'eu_sales', 'jp_sales', 'other_sales']].sum(axis=1)\n",
    "data.head()"
   ]
  },
  {
   "cell_type": "markdown",
   "metadata": {},
   "source": [
    "Добавили новый столбец с суммой общих продаж"
   ]
  },
  {
   "cell_type": "markdown",
   "metadata": {},
   "source": [
    "## Шаг 3. Исследовательский анализ данных\n"
   ]
  },
  {
   "cell_type": "markdown",
   "metadata": {},
   "source": [
    "### Рассмотрим, сколько игр выпускалось в разные годы\n",
    "### Важны ли данные за все периоды?\n",
    "### Рассмотрим, как менялись продажи по платформам. "
   ]
  },
  {
   "cell_type": "code",
   "execution_count": 18,
   "metadata": {},
   "outputs": [
    {
     "data": {
      "image/png": "[encoded data removed]",
      "text/plain": [
       "<Figure size 432x288 with 1 Axes>"
      ]
     },
     "metadata": {
      "needs_background": "light"
     },
     "output_type": "display_data"
    }
   ],
   "source": [
    "year_count = data.groupby('year_of_release')['name'].count()\n",
    "year_count.plot();\n",
    "plt.xlabel('Год продажи')\n",
    "plt.ylabel('Количество игр')\n",
    "plt.title('Количество игр по годам')\n",
    "plt.show()"
   ]
  },
  {
   "cell_type": "markdown",
   "metadata": {},
   "source": [
    "по графику видно, что пик популярности создания игр был с начала 2000 до 2010 годов, поэтому исследование необходимо проводить с уклоном на эти данные, так как благодаря более широкой выборке они более информативны."
   ]
  },
  {
   "cell_type": "markdown",
   "metadata": {},
   "source": [
    "### Платформы с наибольшими суммарными продажами и построение распределение по годам. \n"
   ]
  },
  {
   "cell_type": "code",
   "execution_count": 19,
   "metadata": {},
   "outputs": [
    {
     "data": {
      "text/html": [
       "<div>\n",
       "<style scoped>\n",
       "    .dataframe tbody tr th:only-of-type {\n",
       "        vertical-align: middle;\n",
       "    }\n",
       "\n",
       "    .dataframe tbody tr th {\n",
       "        vertical-align: top;\n",
       "    }\n",
       "\n",
       "    .dataframe thead th {\n",
       "        text-align: right;\n",
       "    }\n",
       "</style>\n",
       "<table border=\"1\" class=\"dataframe\">\n",
       "  <thead>\n",
       "    <tr style=\"text-align: right;\">\n",
       "      <th></th>\n",
       "      <th>sum_sales</th>\n",
       "    </tr>\n",
       "    <tr>\n",
       "      <th>platform</th>\n",
       "      <th></th>\n",
       "    </tr>\n",
       "  </thead>\n",
       "  <tbody>\n",
       "    <tr>\n",
       "      <th>PS2</th>\n",
       "      <td>1233.56</td>\n",
       "    </tr>\n",
       "    <tr>\n",
       "      <th>X360</th>\n",
       "      <td>961.24</td>\n",
       "    </tr>\n",
       "    <tr>\n",
       "      <th>PS3</th>\n",
       "      <td>931.34</td>\n",
       "    </tr>\n",
       "    <tr>\n",
       "      <th>Wii</th>\n",
       "      <td>891.18</td>\n",
       "    </tr>\n",
       "    <tr>\n",
       "      <th>DS</th>\n",
       "      <td>802.78</td>\n",
       "    </tr>\n",
       "  </tbody>\n",
       "</table>\n",
       "</div>"
      ],
      "text/plain": [
       "          sum_sales\n",
       "platform           \n",
       "PS2         1233.56\n",
       "X360         961.24\n",
       "PS3          931.34\n",
       "Wii          891.18\n",
       "DS           802.78"
      ]
     },
     "execution_count": 19,
     "metadata": {},
     "output_type": "execute_result"
    }
   ],
   "source": [
    "sum_pivot = data.pivot_table(index='platform', values='sum_sales', aggfunc='sum')\n",
    "sum_pivot.columns = ['sum_sales']\n",
    "sum_pivot.sort_values(by='sum_sales', ascending=False).head()"
   ]
  },
  {
   "cell_type": "markdown",
   "metadata": {},
   "source": [
    "Возьмем первые 5 платформ по количеству продаж для дальнейшего рассмотрения, так как они более репрезентативны."
   ]
  },
  {
   "cell_type": "markdown",
   "metadata": {},
   "source": [
    "### За какой характерный срок появляются новые и исчезают старые платформы?\n"
   ]
  },
  {
   "cell_type": "code",
   "execution_count": 20,
   "metadata": {},
   "outputs": [
    {
     "data": {
      "image/png": "[encoded data removed]",
      "text/plain": [
       "<Figure size 432x288 with 1 Axes>"
      ]
     },
     "metadata": {
      "needs_background": "light"
     },
     "output_type": "display_data"
    }
   ],
   "source": [
    "(\n",
    "    data.query('platform == \"PS2\"')\n",
    "    .pivot_table(index='year_of_release', values='sum_sales', aggfunc='count')\n",
    "    .plot()\n",
    ")   \n",
    "plt.xlabel('Год продажи')\n",
    "plt.ylabel('Суммарные продажи')\n",
    "plt.title('Жизненный цикл игры')\n",
    "plt.show()"
   ]
  },
  {
   "cell_type": "markdown",
   "metadata": {},
   "source": [
    "Основной жизненный цикл платформы - 6 лет, но данные актуальны для 2000, когда потребить был менне требователен."
   ]
  },
  {
   "cell_type": "code",
   "execution_count": 21,
   "metadata": {},
   "outputs": [
    {
     "data": {
      "image/png": "[encoded data removed]",
      "text/plain": [
       "<Figure size 432x288 with 1 Axes>"
      ]
     },
     "metadata": {
      "needs_background": "light"
     },
     "output_type": "display_data"
    }
   ],
   "source": [
    "(\n",
    "    data.query('platform == \"X360\"')\n",
    "    .pivot_table(index='year_of_release', values='sum_sales', aggfunc='count')\n",
    "    .plot()\n",
    ")   \n",
    "plt.xlabel('Год продажи')\n",
    "plt.ylabel('Суммарные продажи')\n",
    "plt.title('Жизненный цикл игры')\n",
    "plt.show()"
   ]
  },
  {
   "cell_type": "markdown",
   "metadata": {},
   "source": [
    "В более поздние года заметно, что основной жизненный цикл - около 4 лет, что меньше, чем в 2000, то есть с течением времени пользователи желают большее количество обновлений"
   ]
  },
  {
   "cell_type": "code",
   "execution_count": 22,
   "metadata": {},
   "outputs": [
    {
     "data": {
      "image/png": "[encoded data removed]",
      "text/plain": [
       "<Figure size 432x288 with 1 Axes>"
      ]
     },
     "metadata": {
      "needs_background": "light"
     },
     "output_type": "display_data"
    }
   ],
   "source": [
    "(\n",
    "    data.query('platform == \"PS3\"')\n",
    "    .pivot_table(index='year_of_release', values='sum_sales', aggfunc='count')\n",
    "    .plot()\n",
    ")  \n",
    "plt.xlabel('Год продажи')\n",
    "plt.ylabel('Суммарные продажи')\n",
    "plt.title('Жизненный цикл игры')\n",
    "plt.show()"
   ]
  },
  {
   "cell_type": "markdown",
   "metadata": {},
   "source": [
    "Так как PS стала классической платформой, известной многим, более новая модель была популярна около 7 лет, при этом пик популярности стал коротким - всего год"
   ]
  },
  {
   "cell_type": "code",
   "execution_count": 23,
   "metadata": {},
   "outputs": [
    {
     "data": {
      "image/png": "[encoded data removed]",
      "text/plain": [
       "<Figure size 432x288 with 1 Axes>"
      ]
     },
     "metadata": {
      "needs_background": "light"
     },
     "output_type": "display_data"
    }
   ],
   "source": [
    "(\n",
    "    data.query('platform == \"Wii\"')\n",
    "    .pivot_table(index='year_of_release', values='sum_sales', aggfunc='count')\n",
    "    .plot()\n",
    ");\n",
    "plt.xlabel('Год продажи')\n",
    "plt.ylabel('Суммарные продажи')\n",
    "plt.title('Жизненный цикл игры')\n",
    "plt.show()"
   ]
  },
  {
   "cell_type": "markdown",
   "metadata": {},
   "source": [
    "У данной платформы заметен резкий спад популярности, связанный с появлением других, более известных и удачных вариантов. "
   ]
  },
  {
   "cell_type": "code",
   "execution_count": 24,
   "metadata": {},
   "outputs": [
    {
     "data": {
      "image/png": "[encoded data removed]",
      "text/plain": [
       "<Figure size 432x288 with 1 Axes>"
      ]
     },
     "metadata": {
      "needs_background": "light"
     },
     "output_type": "display_data"
    }
   ],
   "source": [
    "(\n",
    "    data.query('platform == \"DS\"')\n",
    "    .pivot_table(index='year_of_release', values='sum_sales', aggfunc='count')\n",
    "    .plot()\n",
    ");\n",
    "plt.xlabel('Год продажи')\n",
    "plt.ylabel('Суммарные продажи')\n",
    "plt.title('Жизненный цикл игры')\n",
    "plt.show()"
   ]
  },
  {
   "cell_type": "markdown",
   "metadata": {},
   "source": [
    "Достаточно старая платформа, которая обрела популярность спустя десятилетия после своего выпуска, а ее период популярности при этом составил всего 5-6 лет. Был медленный рост продаж, который увеличился в несколько раз после 2004 года"
   ]
  },
  {
   "cell_type": "markdown",
   "metadata": {},
   "source": [
    "### Выберем данные за соответствующий актуальный период."
   ]
  },
  {
   "cell_type": "code",
   "execution_count": 25,
   "metadata": {},
   "outputs": [
    {
     "data": {
      "text/html": [
       "<div>\n",
       "<style scoped>\n",
       "    .dataframe tbody tr th:only-of-type {\n",
       "        vertical-align: middle;\n",
       "    }\n",
       "\n",
       "    .dataframe tbody tr th {\n",
       "        vertical-align: top;\n",
       "    }\n",
       "\n",
       "    .dataframe thead th {\n",
       "        text-align: right;\n",
       "    }\n",
       "</style>\n",
       "<table border=\"1\" class=\"dataframe\">\n",
       "  <thead>\n",
       "    <tr style=\"text-align: right;\">\n",
       "      <th></th>\n",
       "      <th>name</th>\n",
       "      <th>platform</th>\n",
       "      <th>year_of_release</th>\n",
       "      <th>genre</th>\n",
       "      <th>na_sales</th>\n",
       "      <th>eu_sales</th>\n",
       "      <th>jp_sales</th>\n",
       "      <th>other_sales</th>\n",
       "      <th>critic_score</th>\n",
       "      <th>user_score</th>\n",
       "      <th>rating</th>\n",
       "      <th>sum_sales</th>\n",
       "    </tr>\n",
       "  </thead>\n",
       "  <tbody>\n",
       "    <tr>\n",
       "      <th>0</th>\n",
       "      <td>Call of Duty: Black Ops 3</td>\n",
       "      <td>PS4</td>\n",
       "      <td>2015.0</td>\n",
       "      <td>Shooter</td>\n",
       "      <td>6.03</td>\n",
       "      <td>5.86</td>\n",
       "      <td>0.36</td>\n",
       "      <td>2.38</td>\n",
       "      <td>-1.0</td>\n",
       "      <td>-1.0</td>\n",
       "      <td>NaN</td>\n",
       "      <td>14.63</td>\n",
       "    </tr>\n",
       "    <tr>\n",
       "      <th>1</th>\n",
       "      <td>Grand Theft Auto V</td>\n",
       "      <td>PS4</td>\n",
       "      <td>2014.0</td>\n",
       "      <td>Action</td>\n",
       "      <td>3.96</td>\n",
       "      <td>6.31</td>\n",
       "      <td>0.38</td>\n",
       "      <td>1.97</td>\n",
       "      <td>97.0</td>\n",
       "      <td>8.3</td>\n",
       "      <td>M</td>\n",
       "      <td>12.62</td>\n",
       "    </tr>\n",
       "    <tr>\n",
       "      <th>2</th>\n",
       "      <td>Pokemon Omega Ruby/Pokemon Alpha Sapphire</td>\n",
       "      <td>3DS</td>\n",
       "      <td>2014.0</td>\n",
       "      <td>Role-Playing</td>\n",
       "      <td>4.35</td>\n",
       "      <td>3.49</td>\n",
       "      <td>3.10</td>\n",
       "      <td>0.74</td>\n",
       "      <td>-1.0</td>\n",
       "      <td>-1.0</td>\n",
       "      <td>NaN</td>\n",
       "      <td>11.68</td>\n",
       "    </tr>\n",
       "    <tr>\n",
       "      <th>3</th>\n",
       "      <td>FIFA 16</td>\n",
       "      <td>PS4</td>\n",
       "      <td>2015.0</td>\n",
       "      <td>Sports</td>\n",
       "      <td>1.12</td>\n",
       "      <td>6.12</td>\n",
       "      <td>0.06</td>\n",
       "      <td>1.28</td>\n",
       "      <td>82.0</td>\n",
       "      <td>4.3</td>\n",
       "      <td>E</td>\n",
       "      <td>8.58</td>\n",
       "    </tr>\n",
       "    <tr>\n",
       "      <th>4</th>\n",
       "      <td>Star Wars Battlefront (2015)</td>\n",
       "      <td>PS4</td>\n",
       "      <td>2015.0</td>\n",
       "      <td>Shooter</td>\n",
       "      <td>2.99</td>\n",
       "      <td>3.49</td>\n",
       "      <td>0.22</td>\n",
       "      <td>1.28</td>\n",
       "      <td>-1.0</td>\n",
       "      <td>-1.0</td>\n",
       "      <td>NaN</td>\n",
       "      <td>7.98</td>\n",
       "    </tr>\n",
       "    <tr>\n",
       "      <th>...</th>\n",
       "      <td>...</td>\n",
       "      <td>...</td>\n",
       "      <td>...</td>\n",
       "      <td>...</td>\n",
       "      <td>...</td>\n",
       "      <td>...</td>\n",
       "      <td>...</td>\n",
       "      <td>...</td>\n",
       "      <td>...</td>\n",
       "      <td>...</td>\n",
       "      <td>...</td>\n",
       "      <td>...</td>\n",
       "    </tr>\n",
       "    <tr>\n",
       "      <th>1684</th>\n",
       "      <td>Strawberry Nauts</td>\n",
       "      <td>PSV</td>\n",
       "      <td>2016.0</td>\n",
       "      <td>Adventure</td>\n",
       "      <td>0.00</td>\n",
       "      <td>0.00</td>\n",
       "      <td>0.01</td>\n",
       "      <td>0.00</td>\n",
       "      <td>-1.0</td>\n",
       "      <td>-1.0</td>\n",
       "      <td>NaN</td>\n",
       "      <td>0.01</td>\n",
       "    </tr>\n",
       "    <tr>\n",
       "      <th>1685</th>\n",
       "      <td>Aiyoku no Eustia</td>\n",
       "      <td>PSV</td>\n",
       "      <td>2014.0</td>\n",
       "      <td>Misc</td>\n",
       "      <td>0.00</td>\n",
       "      <td>0.00</td>\n",
       "      <td>0.01</td>\n",
       "      <td>0.00</td>\n",
       "      <td>-1.0</td>\n",
       "      <td>-1.0</td>\n",
       "      <td>NaN</td>\n",
       "      <td>0.01</td>\n",
       "    </tr>\n",
       "    <tr>\n",
       "      <th>1686</th>\n",
       "      <td>Samurai Warriors: Sanada Maru</td>\n",
       "      <td>PS3</td>\n",
       "      <td>2016.0</td>\n",
       "      <td>Action</td>\n",
       "      <td>0.00</td>\n",
       "      <td>0.00</td>\n",
       "      <td>0.01</td>\n",
       "      <td>0.00</td>\n",
       "      <td>-1.0</td>\n",
       "      <td>-1.0</td>\n",
       "      <td>NaN</td>\n",
       "      <td>0.01</td>\n",
       "    </tr>\n",
       "    <tr>\n",
       "      <th>1687</th>\n",
       "      <td>Haitaka no Psychedelica</td>\n",
       "      <td>PSV</td>\n",
       "      <td>2016.0</td>\n",
       "      <td>Adventure</td>\n",
       "      <td>0.00</td>\n",
       "      <td>0.00</td>\n",
       "      <td>0.01</td>\n",
       "      <td>0.00</td>\n",
       "      <td>-1.0</td>\n",
       "      <td>-1.0</td>\n",
       "      <td>NaN</td>\n",
       "      <td>0.01</td>\n",
       "    </tr>\n",
       "    <tr>\n",
       "      <th>1688</th>\n",
       "      <td>Winning Post 8 2016</td>\n",
       "      <td>PSV</td>\n",
       "      <td>2016.0</td>\n",
       "      <td>Simulation</td>\n",
       "      <td>0.00</td>\n",
       "      <td>0.00</td>\n",
       "      <td>0.01</td>\n",
       "      <td>0.00</td>\n",
       "      <td>-1.0</td>\n",
       "      <td>-1.0</td>\n",
       "      <td>NaN</td>\n",
       "      <td>0.01</td>\n",
       "    </tr>\n",
       "  </tbody>\n",
       "</table>\n",
       "<p>1689 rows × 12 columns</p>\n",
       "</div>"
      ],
      "text/plain": [
       "                                           name platform  year_of_release  \\\n",
       "0                     Call of Duty: Black Ops 3      PS4           2015.0   \n",
       "1                            Grand Theft Auto V      PS4           2014.0   \n",
       "2     Pokemon Omega Ruby/Pokemon Alpha Sapphire      3DS           2014.0   \n",
       "3                                       FIFA 16      PS4           2015.0   \n",
       "4                  Star Wars Battlefront (2015)      PS4           2015.0   \n",
       "...                                         ...      ...              ...   \n",
       "1684                           Strawberry Nauts      PSV           2016.0   \n",
       "1685                           Aiyoku no Eustia      PSV           2014.0   \n",
       "1686              Samurai Warriors: Sanada Maru      PS3           2016.0   \n",
       "1687                    Haitaka no Psychedelica      PSV           2016.0   \n",
       "1688                        Winning Post 8 2016      PSV           2016.0   \n",
       "\n",
       "             genre  na_sales  eu_sales  jp_sales  other_sales  critic_score  \\\n",
       "0          Shooter      6.03      5.86      0.36         2.38          -1.0   \n",
       "1           Action      3.96      6.31      0.38         1.97          97.0   \n",
       "2     Role-Playing      4.35      3.49      3.10         0.74          -1.0   \n",
       "3           Sports      1.12      6.12      0.06         1.28          82.0   \n",
       "4          Shooter      2.99      3.49      0.22         1.28          -1.0   \n",
       "...            ...       ...       ...       ...          ...           ...   \n",
       "1684     Adventure      0.00      0.00      0.01         0.00          -1.0   \n",
       "1685          Misc      0.00      0.00      0.01         0.00          -1.0   \n",
       "1686        Action      0.00      0.00      0.01         0.00          -1.0   \n",
       "1687     Adventure      0.00      0.00      0.01         0.00          -1.0   \n",
       "1688    Simulation      0.00      0.00      0.01         0.00          -1.0   \n",
       "\n",
       "      user_score rating  sum_sales  \n",
       "0           -1.0    NaN      14.63  \n",
       "1            8.3      M      12.62  \n",
       "2           -1.0    NaN      11.68  \n",
       "3            4.3      E       8.58  \n",
       "4           -1.0    NaN       7.98  \n",
       "...          ...    ...        ...  \n",
       "1684        -1.0    NaN       0.01  \n",
       "1685        -1.0    NaN       0.01  \n",
       "1686        -1.0    NaN       0.01  \n",
       "1687        -1.0    NaN       0.01  \n",
       "1688        -1.0    NaN       0.01  \n",
       "\n",
       "[1689 rows x 12 columns]"
      ]
     },
     "execution_count": 25,
     "metadata": {},
     "output_type": "execute_result"
    }
   ],
   "source": [
    "data = data.query('year_of_release > 2013')\n",
    "data.reset_index(drop=True)"
   ]
  },
  {
   "cell_type": "markdown",
   "metadata": {},
   "source": [
    "Судя по предыдущим графикам, стало понятно, что средний цикл жизни - около 6 лет, из которых около 4 - популярность, поэтому данные до 2012 года будут неактуальны, берем 2013, чтобы охватить и новые платформы"
   ]
  },
  {
   "cell_type": "markdown",
   "metadata": {},
   "source": [
    "### Какие платформы лидируют по продажам, растут или падают? \n"
   ]
  },
  {
   "cell_type": "code",
   "execution_count": 26,
   "metadata": {},
   "outputs": [
    {
     "data": {
      "text/html": [
       "<div>\n",
       "<style scoped>\n",
       "    .dataframe tbody tr th:only-of-type {\n",
       "        vertical-align: middle;\n",
       "    }\n",
       "\n",
       "    .dataframe tbody tr th {\n",
       "        vertical-align: top;\n",
       "    }\n",
       "\n",
       "    .dataframe thead th {\n",
       "        text-align: right;\n",
       "    }\n",
       "</style>\n",
       "<table border=\"1\" class=\"dataframe\">\n",
       "  <thead>\n",
       "    <tr style=\"text-align: right;\">\n",
       "      <th></th>\n",
       "      <th>sum_sales</th>\n",
       "    </tr>\n",
       "    <tr>\n",
       "      <th>platform</th>\n",
       "      <th></th>\n",
       "    </tr>\n",
       "  </thead>\n",
       "  <tbody>\n",
       "    <tr>\n",
       "      <th>PS4</th>\n",
       "      <td>288.15</td>\n",
       "    </tr>\n",
       "    <tr>\n",
       "      <th>XOne</th>\n",
       "      <td>140.36</td>\n",
       "    </tr>\n",
       "    <tr>\n",
       "      <th>3DS</th>\n",
       "      <td>86.68</td>\n",
       "    </tr>\n",
       "    <tr>\n",
       "      <th>PS3</th>\n",
       "      <td>68.18</td>\n",
       "    </tr>\n",
       "    <tr>\n",
       "      <th>X360</th>\n",
       "      <td>48.22</td>\n",
       "    </tr>\n",
       "  </tbody>\n",
       "</table>\n",
       "</div>"
      ],
      "text/plain": [
       "          sum_sales\n",
       "platform           \n",
       "PS4          288.15\n",
       "XOne         140.36\n",
       "3DS           86.68\n",
       "PS3           68.18\n",
       "X360          48.22"
      ]
     },
     "execution_count": 26,
     "metadata": {},
     "output_type": "execute_result"
    }
   ],
   "source": [
    "sum_pivot2 = data.pivot_table(index='platform', values='sum_sales', aggfunc='sum')\n",
    "sum_pivot2.columns = ['sum_sales']\n",
    "popular = sum_pivot2.sort_values(by='sum_sales', ascending=False).head()\n",
    "popular"
   ]
  },
  {
   "cell_type": "markdown",
   "metadata": {},
   "source": [
    "Будем делать акцент в исследовании на 5 самых популярных платоформ, так как на их показатели можно ориентироваться."
   ]
  },
  {
   "cell_type": "markdown",
   "metadata": {},
   "source": [
    "### График «ящик с усами» по глобальным продажам игр в разбивке по платформам. \n"
   ]
  },
  {
   "cell_type": "code",
   "execution_count": 27,
   "metadata": {},
   "outputs": [
    {
     "data": {
      "image/png": "[encoded data removed]",
      "text/plain": [
       "<Figure size 1080x1440 with 1 Axes>"
      ]
     },
     "metadata": {
      "needs_background": "light"
     },
     "output_type": "display_data"
    }
   ],
   "source": [
    "data.boxplot(column='sum_sales', by='platform', figsize=(15,20))\n",
    "plt.ylim(0,2)\n",
    "plt.xlabel('Платформа')\n",
    "plt.ylabel('Продажи')\n",
    "plt.title('Глобальные продажи')\n",
    "plt.show()"
   ]
  },
  {
   "cell_type": "markdown",
   "metadata": {},
   "source": [
    "Самый большой размах у PS4 и XOne, хотя среднее находится достаточно низко, на одной линии с остальными. Самые низкие показатели у PSP, PSV - размах и сами значения меньше в сравнении с остальными, но есть выбросы."
   ]
  },
  {
   "cell_type": "markdown",
   "metadata": {},
   "source": [
    "### Как влияют на продажи внутри одной популярной платформы отзывы пользователей и критиков. Диаграмма рассеяния и корреляцию между отзывами и продажами. Сформулируйте выводы.\n"
   ]
  },
  {
   "cell_type": "markdown",
   "metadata": {},
   "source": [
    "#### Крреляция для популярной платформы"
   ]
  },
  {
   "cell_type": "code",
   "execution_count": 28,
   "metadata": {},
   "outputs": [],
   "source": [
    "data2 = data.loc[data['critic_score'] != -1]\n",
    "data2 = data2.loc[data['user_score'] != -1]"
   ]
  },
  {
   "cell_type": "code",
   "execution_count": 29,
   "metadata": {},
   "outputs": [],
   "source": [
    "data_corr = data2[['platform','critic_score', 'user_score', 'sum_sales']]"
   ]
  },
  {
   "cell_type": "markdown",
   "metadata": {},
   "source": [
    " data2, data_corr для более удобного подсчета"
   ]
  },
  {
   "cell_type": "code",
   "execution_count": 30,
   "metadata": {},
   "outputs": [
    {
     "data": {
      "text/html": [
       "<div>\n",
       "<style scoped>\n",
       "    .dataframe tbody tr th:only-of-type {\n",
       "        vertical-align: middle;\n",
       "    }\n",
       "\n",
       "    .dataframe tbody tr th {\n",
       "        vertical-align: top;\n",
       "    }\n",
       "\n",
       "    .dataframe thead th {\n",
       "        text-align: right;\n",
       "    }\n",
       "</style>\n",
       "<table border=\"1\" class=\"dataframe\">\n",
       "  <thead>\n",
       "    <tr style=\"text-align: right;\">\n",
       "      <th></th>\n",
       "      <th>critic_score</th>\n",
       "      <th>user_score</th>\n",
       "      <th>sum_sales</th>\n",
       "    </tr>\n",
       "  </thead>\n",
       "  <tbody>\n",
       "    <tr>\n",
       "      <th>critic_score</th>\n",
       "      <td>1.000000</td>\n",
       "      <td>0.546434</td>\n",
       "      <td>0.401903</td>\n",
       "    </tr>\n",
       "    <tr>\n",
       "      <th>user_score</th>\n",
       "      <td>0.546434</td>\n",
       "      <td>1.000000</td>\n",
       "      <td>-0.043186</td>\n",
       "    </tr>\n",
       "    <tr>\n",
       "      <th>sum_sales</th>\n",
       "      <td>0.401903</td>\n",
       "      <td>-0.043186</td>\n",
       "      <td>1.000000</td>\n",
       "    </tr>\n",
       "  </tbody>\n",
       "</table>\n",
       "</div>"
      ],
      "text/plain": [
       "              critic_score  user_score  sum_sales\n",
       "critic_score      1.000000    0.546434   0.401903\n",
       "user_score        0.546434    1.000000  -0.043186\n",
       "sum_sales         0.401903   -0.043186   1.000000"
      ]
     },
     "execution_count": 30,
     "metadata": {},
     "output_type": "execute_result"
    }
   ],
   "source": [
    "data_corr.query('platform == \"PS4\"').corr()"
   ]
  },
  {
   "cell_type": "markdown",
   "metadata": {},
   "source": [
    "По матрице видно, что корреляция отдельных величин есть, далее рассмотрим детально"
   ]
  },
  {
   "cell_type": "code",
   "execution_count": 31,
   "metadata": {},
   "outputs": [
    {
     "data": {
      "text/plain": [
       "0.40190287811475334"
      ]
     },
     "execution_count": 31,
     "metadata": {},
     "output_type": "execute_result"
    }
   ],
   "source": [
    "data2.query('platform == \"PS4\"')['sum_sales'].corr(data2['critic_score'])"
   ]
  },
  {
   "cell_type": "markdown",
   "metadata": {},
   "source": [
    "У количества продаж есть зависимость от оценки, то есть люди действительно прислушиваются, но не берут оценку за правило, тк корреляция на среднем уровне"
   ]
  },
  {
   "cell_type": "code",
   "execution_count": 32,
   "metadata": {},
   "outputs": [
    {
     "data": {
      "text/plain": [
       "-0.04318585997193634"
      ]
     },
     "execution_count": 32,
     "metadata": {},
     "output_type": "execute_result"
    }
   ],
   "source": [
    "data2.query('platform == \"PS4\"')['sum_sales'].corr(data2['user_score'])"
   ]
  },
  {
   "cell_type": "markdown",
   "metadata": {},
   "source": [
    "Корреляция практически нулевая, также отрицательная (обратаная зависимость), но настолько мала, что ее можно не учитывать"
   ]
  },
  {
   "cell_type": "markdown",
   "metadata": {},
   "source": [
    "#### Крреляция для непопулярных платформ"
   ]
  },
  {
   "cell_type": "code",
   "execution_count": 33,
   "metadata": {},
   "outputs": [
    {
     "data": {
      "text/html": [
       "<div>\n",
       "<style scoped>\n",
       "    .dataframe tbody tr th:only-of-type {\n",
       "        vertical-align: middle;\n",
       "    }\n",
       "\n",
       "    .dataframe tbody tr th {\n",
       "        vertical-align: top;\n",
       "    }\n",
       "\n",
       "    .dataframe thead th {\n",
       "        text-align: right;\n",
       "    }\n",
       "</style>\n",
       "<table border=\"1\" class=\"dataframe\">\n",
       "  <thead>\n",
       "    <tr style=\"text-align: right;\">\n",
       "      <th></th>\n",
       "      <th>critic_score</th>\n",
       "      <th>user_score</th>\n",
       "      <th>sum_sales</th>\n",
       "    </tr>\n",
       "  </thead>\n",
       "  <tbody>\n",
       "    <tr>\n",
       "      <th>critic_score</th>\n",
       "      <td>1.000000</td>\n",
       "      <td>0.485783</td>\n",
       "      <td>0.304789</td>\n",
       "    </tr>\n",
       "    <tr>\n",
       "      <th>user_score</th>\n",
       "      <td>0.485783</td>\n",
       "      <td>1.000000</td>\n",
       "      <td>0.043490</td>\n",
       "    </tr>\n",
       "    <tr>\n",
       "      <th>sum_sales</th>\n",
       "      <td>0.304789</td>\n",
       "      <td>0.043490</td>\n",
       "      <td>1.000000</td>\n",
       "    </tr>\n",
       "  </tbody>\n",
       "</table>\n",
       "</div>"
      ],
      "text/plain": [
       "              critic_score  user_score  sum_sales\n",
       "critic_score      1.000000    0.485783   0.304789\n",
       "user_score        0.485783    1.000000   0.043490\n",
       "sum_sales         0.304789    0.043490   1.000000"
      ]
     },
     "execution_count": 33,
     "metadata": {},
     "output_type": "execute_result"
    }
   ],
   "source": [
    "data_corr.query('platform != \"PS4\"').corr()"
   ]
  },
  {
   "cell_type": "markdown",
   "metadata": {},
   "source": [
    "По матрице видно, что корреляция на слабом уровне, рассмотрим отдельно по оценкам ниже"
   ]
  },
  {
   "cell_type": "code",
   "execution_count": 34,
   "metadata": {},
   "outputs": [
    {
     "data": {
      "text/plain": [
       "0.3047894679009596"
      ]
     },
     "execution_count": 34,
     "metadata": {},
     "output_type": "execute_result"
    }
   ],
   "source": [
    "data2.query('platform != \"PS4\"')['sum_sales'].corr(data2['critic_score'])"
   ]
  },
  {
   "cell_type": "markdown",
   "metadata": {},
   "source": [
    "С остальными платформами корреляция также достаточно низкая, несмотря не то что оценка критиков обычно считается достаточно весомой."
   ]
  },
  {
   "cell_type": "code",
   "execution_count": 35,
   "metadata": {},
   "outputs": [
    {
     "data": {
      "text/plain": [
       "0.04349004366944432"
      ]
     },
     "execution_count": 35,
     "metadata": {},
     "output_type": "execute_result"
    }
   ],
   "source": [
    "data2.query('platform != \"PS4\"')['sum_sales'].corr(data2['user_score'])"
   ]
  },
  {
   "cell_type": "markdown",
   "metadata": {},
   "source": [
    "Здесь так же, как и при корреляции с популярной платформой, сама корреляция близка к нулю, то есть связь низкая"
   ]
  },
  {
   "cell_type": "markdown",
   "metadata": {},
   "source": [
    "#### Графики оценок для популярной платформы"
   ]
  },
  {
   "cell_type": "code",
   "execution_count": 36,
   "metadata": {},
   "outputs": [
    {
     "data": {
      "image/png": "[encoded data removed]",
      "text/plain": [
       "<Figure size 432x288 with 1 Axes>"
      ]
     },
     "metadata": {
      "needs_background": "light"
     },
     "output_type": "display_data"
    }
   ],
   "source": [
    "data2.loc[data2['platform'] == 'PS4'].plot(x='critic_score', y='sum_sales', kind='scatter');"
   ]
  },
  {
   "cell_type": "code",
   "execution_count": 37,
   "metadata": {},
   "outputs": [
    {
     "data": {
      "image/png": "[encoded data removed]",
      "text/plain": [
       "<Figure size 432x288 with 1 Axes>"
      ]
     },
     "metadata": {
      "needs_background": "light"
     },
     "output_type": "display_data"
    }
   ],
   "source": [
    "data2.loc[data2['platform'] == 'PS4'].plot(x='user_score', y='sum_sales', kind='scatter');"
   ]
  },
  {
   "cell_type": "markdown",
   "metadata": {},
   "source": [
    "По графику видно, что в обоих случаях зависимость не наблюдается"
   ]
  },
  {
   "cell_type": "markdown",
   "metadata": {},
   "source": [
    "#### Графики оценок для непопулярных платформ"
   ]
  },
  {
   "cell_type": "code",
   "execution_count": 38,
   "metadata": {},
   "outputs": [
    {
     "data": {
      "image/png": "[encoded data removed]",
      "text/plain": [
       "<Figure size 432x288 with 1 Axes>"
      ]
     },
     "metadata": {
      "needs_background": "light"
     },
     "output_type": "display_data"
    }
   ],
   "source": [
    "data2.loc[data2['platform'] != 'PS4'].plot(x='critic_score', y='sum_sales', kind='scatter');"
   ]
  },
  {
   "cell_type": "code",
   "execution_count": 39,
   "metadata": {},
   "outputs": [
    {
     "data": {
      "image/png": "[encoded data removed]",
      "text/plain": [
       "<Figure size 432x288 with 1 Axes>"
      ]
     },
     "metadata": {
      "needs_background": "light"
     },
     "output_type": "display_data"
    }
   ],
   "source": [
    "data2.loc[data2['platform'] != 'PS4'].plot(x='user_score', y='sum_sales', kind='scatter');"
   ]
  },
  {
   "cell_type": "markdown",
   "metadata": {},
   "source": [
    "Для других платформ ситуация не меняется."
   ]
  },
  {
   "cell_type": "markdown",
   "metadata": {},
   "source": [
    "### Выводы по сравнению с продажами игр на других платформах.\n"
   ]
  },
  {
   "cell_type": "markdown",
   "metadata": {},
   "source": [
    "В сумме самой удачной платформой является PS, любая модель, так как бренд хорошо себя зарекомендовал на рынке, его знают все. Платформа удовлетворяет большую часть потребностей потребителя."
   ]
  },
  {
   "cell_type": "markdown",
   "metadata": {},
   "source": [
    "### Общее распределение игр по жанрам: самые прибыльные жанры, выделяются ли жанры с высокими и низкими продажами"
   ]
  },
  {
   "cell_type": "code",
   "execution_count": null,
   "metadata": {},
   "outputs": [
    {
     "data": {
      "text/html": [
       "<div>\n",
       "<style scoped>\n",
       "    .dataframe tbody tr th:only-of-type {\n",
       "        vertical-align: middle;\n",
       "    }\n",
       "\n",
       "    .dataframe tbody tr th {\n",
       "        vertical-align: top;\n",
       "    }\n",
       "\n",
       "    .dataframe thead th {\n",
       "        text-align: right;\n",
       "    }\n",
       "</style>\n",
       "<table border=\"1\" class=\"dataframe\">\n",
       "  <thead>\n",
       "    <tr style=\"text-align: right;\">\n",
       "      <th></th>\n",
       "      <th>median</th>\n",
       "      <th>mean</th>\n",
       "    </tr>\n",
       "    <tr>\n",
       "      <th>genre</th>\n",
       "      <th></th>\n",
       "      <th></th>\n",
       "    </tr>\n",
       "  </thead>\n",
       "  <tbody>\n",
       "    <tr>\n",
       "      <th>Shooter</th>\n",
       "      <td>0.515</td>\n",
       "      <td>1.335469</td>\n",
       "    </tr>\n",
       "    <tr>\n",
       "      <th>Sports</th>\n",
       "      <td>0.180</td>\n",
       "      <td>0.680000</td>\n",
       "    </tr>\n",
       "    <tr>\n",
       "      <th>Platform</th>\n",
       "      <td>0.140</td>\n",
       "      <td>0.476053</td>\n",
       "    </tr>\n",
       "    <tr>\n",
       "      <th>Fighting</th>\n",
       "      <td>0.125</td>\n",
       "      <td>0.470333</td>\n",
       "    </tr>\n",
       "    <tr>\n",
       "      <th>Role-Playing</th>\n",
       "      <td>0.110</td>\n",
       "      <td>0.459005</td>\n",
       "    </tr>\n",
       "    <tr>\n",
       "      <th>Simulation</th>\n",
       "      <td>0.100</td>\n",
       "      <td>0.298409</td>\n",
       "    </tr>\n",
       "    <tr>\n",
       "      <th>Action</th>\n",
       "      <td>0.090</td>\n",
       "      <td>0.322068</td>\n",
       "    </tr>\n",
       "    <tr>\n",
       "      <th>Misc</th>\n",
       "      <td>0.090</td>\n",
       "      <td>0.332301</td>\n",
       "    </tr>\n",
       "    <tr>\n",
       "      <th>Racing</th>\n",
       "      <td>0.090</td>\n",
       "      <td>0.398841</td>\n",
       "    </tr>\n",
       "    <tr>\n",
       "      <th>Strategy</th>\n",
       "      <td>0.060</td>\n",
       "      <td>0.107027</td>\n",
       "    </tr>\n",
       "    <tr>\n",
       "      <th>Puzzle</th>\n",
       "      <td>0.045</td>\n",
       "      <td>0.157857</td>\n",
       "    </tr>\n",
       "    <tr>\n",
       "      <th>Adventure</th>\n",
       "      <td>0.030</td>\n",
       "      <td>0.094865</td>\n",
       "    </tr>\n",
       "  </tbody>\n",
       "</table>\n",
       "</div>"
      ],
      "text/plain": [
       "              median      mean\n",
       "genre                         \n",
       "Shooter        0.515  1.335469\n",
       "Sports         0.180  0.680000\n",
       "Platform       0.140  0.476053\n",
       "Fighting       0.125  0.470333\n",
       "Role-Playing   0.110  0.459005\n",
       "Simulation     0.100  0.298409\n",
       "Action         0.090  0.322068\n",
       "Misc           0.090  0.332301\n",
       "Racing         0.090  0.398841\n",
       "Strategy       0.060  0.107027\n",
       "Puzzle         0.045  0.157857\n",
       "Adventure      0.030  0.094865"
      ]
     },
     "execution_count": 40,
     "metadata": {},
     "output_type": "execute_result"
    }
   ],
   "source": [
    "sum_genre = data.pivot_table(index='genre', values='sum_sales', aggfunc=['median', 'mean'])\n",
    "sum_genre.columns = ['median', 'mean']\n",
    "sum_genre.sort_values(by='median', ascending=False)"
   ]
  },
  {
   "cell_type": "markdown",
   "metadata": {},
   "source": [
    "Общие продажи - плохая метрика для поиска наиболее прибыльного жанра. За высокими показателями общих продаж может скрываться множество мелких игр с низкими продажами. Или 2-3 звезды и куча провалов. Лучше найти жанр, где игры стабильно приносят высокий доход - для этого стоит рассмотреть средние или медианные продажи."
   ]
  },
  {
   "cell_type": "markdown",
   "metadata": {},
   "source": [
    "Достаточно четко прослеживаются лидеры, продажи у которых отличаются, также заметны и три жанра в конце списка, показатели которых достаточно малы, что говорит о их невостребованности. Самый прибыльны1 жанр - Shooter, а игры Puzzle, Adventure, Strategy достаочно скучные, поэтому предпочтение отдают первым в списке."
   ]
  },
  {
   "cell_type": "markdown",
   "metadata": {},
   "source": [
    "## Шаг 4. Портрет пользователя каждого региона\n"
   ]
  },
  {
   "cell_type": "markdown",
   "metadata": {},
   "source": [
    "### Определение для пользователя каждого региона (NA, EU, JP):\n",
    "#### Самые популярные платформы (топ-5)."
   ]
  },
  {
   "cell_type": "code",
   "execution_count": 41,
   "metadata": {},
   "outputs": [
    {
     "data": {
      "image/png": "[encoded data removed]",
      "text/plain": [
       "<Figure size 432x288 with 1 Axes>"
      ]
     },
     "metadata": {
      "needs_background": "light"
     },
     "output_type": "display_data"
    }
   ],
   "source": [
    "na = data.pivot_table(index='platform', values='na_sales', aggfunc='sum')\n",
    "na.columns = ['sum']\n",
    "na.sort_values(by='sum', ascending=False).head().plot(kind='bar');"
   ]
  },
  {
   "cell_type": "markdown",
   "metadata": {},
   "source": [
    "Первые две позиции в разы отличаются от последних, так как 3DS в принципе не очень популярен, а  PS3 ушла из пользования из-за PS4. Для Америки лидер - PS4 с достаточным отрывом."
   ]
  },
  {
   "cell_type": "code",
   "execution_count": 42,
   "metadata": {},
   "outputs": [
    {
     "data": {
      "image/png": "[encoded data removed]",
      "text/plain": [
       "<Figure size 432x288 with 1 Axes>"
      ]
     },
     "metadata": {
      "needs_background": "light"
     },
     "output_type": "display_data"
    }
   ],
   "source": [
    "eu = data.pivot_table(index='platform', values='eu_sales', aggfunc='sum')\n",
    "eu.columns = ['sum']\n",
    "eu.sort_values(by='sum', ascending=False).head().plot(kind='bar');"
   ]
  },
  {
   "cell_type": "markdown",
   "metadata": {},
   "source": [
    "В Европе заметно лидирует PS4 - достаточно привычная вещь, которая будет актуально долгое время, остальные же платформы с заметным отрывом уступают первой, так как новая модель заинтеревосвала пользователей в большей степени"
   ]
  },
  {
   "cell_type": "code",
   "execution_count": 43,
   "metadata": {},
   "outputs": [
    {
     "data": {
      "image/png": "[encoded data removed]",
      "text/plain": [
       "<Figure size 432x288 with 1 Axes>"
      ]
     },
     "metadata": {
      "needs_background": "light"
     },
     "output_type": "display_data"
    }
   ],
   "source": [
    "jp = data.pivot_table(index='platform', values='jp_sales', aggfunc='sum')\n",
    "jp.columns = ['sum']\n",
    "jp.sort_values(by='sum', ascending=False).head().plot(kind='bar');"
   ]
  },
  {
   "cell_type": "markdown",
   "metadata": {},
   "source": [
    "3В Японии же не самый известный лидер - 3DS, который в предыдущих странах был на последних позициях. У  3DS заметен сильный отрыв от конкурентов, хотя в целом продажи в Японии на порядок меньше даже в сравнении с Европой."
   ]
  },
  {
   "cell_type": "markdown",
   "metadata": {},
   "source": [
    "### Определение для пользователя каждого региона (NA, EU, JP):\n",
    "#### Самые популярные жанры (топ-5). "
   ]
  },
  {
   "cell_type": "code",
   "execution_count": 44,
   "metadata": {},
   "outputs": [
    {
     "data": {
      "image/png": "[encoded data removed]",
      "text/plain": [
       "<Figure size 432x288 with 1 Axes>"
      ]
     },
     "metadata": {
      "needs_background": "light"
     },
     "output_type": "display_data"
    }
   ],
   "source": [
    "na_genre = data.pivot_table(index='genre', values='na_sales', aggfunc='sum')\n",
    "na_genre.columns = ['sum']\n",
    "na_genre.sort_values(by='sum', ascending=False).head().plot(kind='bar');"
   ]
  },
  {
   "cell_type": "markdown",
   "metadata": {},
   "source": [
    "В Америке популярны активные игры с интересным сюжетом(Shooter, Action), что достаточно понятно для среднего потребителя"
   ]
  },
  {
   "cell_type": "code",
   "execution_count": 45,
   "metadata": {},
   "outputs": [
    {
     "data": {
      "image/png": "[encoded data removed]",
      "text/plain": [
       "<Figure size 432x288 with 1 Axes>"
      ]
     },
     "metadata": {
      "needs_background": "light"
     },
     "output_type": "display_data"
    }
   ],
   "source": [
    "eu_genre = data.pivot_table(index='genre', values='eu_sales', aggfunc='sum')\n",
    "eu_genre.columns = ['sum']\n",
    "eu_genre.sort_values(by='sum', ascending=False).head().plot(kind='bar');"
   ]
  },
  {
   "cell_type": "markdown",
   "metadata": {},
   "source": [
    "В Европе ситуация схожа, так как активные игры (Action, Shooter) актуальны всегда"
   ]
  },
  {
   "cell_type": "code",
   "execution_count": 46,
   "metadata": {},
   "outputs": [
    {
     "data": {
      "image/png": "[encoded data removed]",
      "text/plain": [
       "<Figure size 432x288 with 1 Axes>"
      ]
     },
     "metadata": {
      "needs_background": "light"
     },
     "output_type": "display_data"
    }
   ],
   "source": [
    "jp_genre = data.pivot_table(index='genre', values='jp_sales', aggfunc='sum')\n",
    "jp_genre.columns = ['sum']\n",
    "jp_genre.sort_values(by='sum', ascending=False).head().plot(kind='bar');"
   ]
  },
  {
   "cell_type": "markdown",
   "metadata": {},
   "source": [
    "Даже отличавшаяся ранее Япония также заинтересована  Action, а не пазлах"
   ]
  },
  {
   "cell_type": "markdown",
   "metadata": {},
   "source": [
    "### Определение для пользователя каждого региона (NA, EU, JP):\n",
    "#### Влияет ли рейтинг ESRB на продажи в отдельном регионе?"
   ]
  },
  {
   "cell_type": "code",
   "execution_count": 47,
   "metadata": {},
   "outputs": [
    {
     "data": {
      "image/png": "[encoded data removed]",
      "text/plain": [
       "<Figure size 432x288 with 1 Axes>"
      ]
     },
     "metadata": {},
     "output_type": "display_data"
    }
   ],
   "source": [
    "na_rating = data.pivot_table(index='rating', values='na_sales', aggfunc='sum')\n",
    "na_rating.columns = ['sum']\n",
    "na_rating.sort_values(by='sum', ascending=False).plot(kind='pie', subplots=True);"
   ]
  },
  {
   "cell_type": "markdown",
   "metadata": {},
   "source": [
    "В Америке предпочтение отдают играм М и, наоборот, играм для категории Е, так как во взрослых вариантах чаще встречаются интересные сюжеты, что побуждает к покупке, а детские игры востребованы засчет больго количества детей."
   ]
  },
  {
   "cell_type": "code",
   "execution_count": 48,
   "metadata": {},
   "outputs": [
    {
     "data": {
      "image/png": "[encoded data removed]",
      "text/plain": [
       "<Figure size 432x288 with 1 Axes>"
      ]
     },
     "metadata": {},
     "output_type": "display_data"
    }
   ],
   "source": [
    "eu_rating = data.pivot_table(index='rating', values='eu_sales', aggfunc='sum')\n",
    "eu_rating.columns = ['sum']\n",
    "eu_rating.sort_values(by='sum', ascending=False).plot(kind='pie', subplots=True);"
   ]
  },
  {
   "cell_type": "markdown",
   "metadata": {},
   "source": [
    "Для Европы ситуация аналогична, так как логика людей для каждой страны примерно одинакова"
   ]
  },
  {
   "cell_type": "code",
   "execution_count": 49,
   "metadata": {},
   "outputs": [
    {
     "data": {
      "image/png": "[encoded data removed]",
      "text/plain": [
       "<Figure size 432x288 with 1 Axes>"
      ]
     },
     "metadata": {},
     "output_type": "display_data"
    }
   ],
   "source": [
    "jp_rating = data.pivot_table(index='rating', values='jp_sales', aggfunc='sum')\n",
    "jp_rating.columns = ['sum']\n",
    "jp_rating.sort_values(by='sum', ascending=False).plot(kind='pie', subplots=True);"
   ]
  },
  {
   "cell_type": "markdown",
   "metadata": {},
   "source": [
    "В Японии же все резко меняется, так как страна известа своими строгими законами, из-за которых игры М могут преобрести действительно тек, кто достиг этого возраста, поэтому лидируют по продажам Е и Т, так как основные пользователи игр."
   ]
  },
  {
   "cell_type": "markdown",
   "metadata": {},
   "source": [
    "## Проверка гипотез "
   ]
  },
  {
   "cell_type": "markdown",
   "metadata": {},
   "source": [
    "### 📊 Средние пользовательские рейтинги платформ Xbox One и PC одинаковые;"
   ]
  },
  {
   "cell_type": "markdown",
   "metadata": {},
   "source": [
    "Проверка гипотезы: Средние пользовательские рейтинги платформ Xbox One и PC одинаковые;\n",
    "\n",
    "```\n",
    "H_0: Средний пользовательский рейтинг Xbox = средний пользовательский рейтинг РС`\n",
    "H_a: Средний пользовательский рейтинг Xbox ≠ средний пользовательский рейтинг РС`\n",
    "alpha = 0.05\n",
    "```"
   ]
  },
  {
   "cell_type": "code",
   "execution_count": 50,
   "metadata": {},
   "outputs": [],
   "source": [
    "xone = data2.query('platform == \"XOne\"')['user_score']\n",
    "pc = data2.query('platform == \"PC\"')['user_score']"
   ]
  },
  {
   "cell_type": "code",
   "execution_count": 51,
   "metadata": {},
   "outputs": [
    {
     "name": "stdout",
     "output_type": "stream",
     "text": [
      "0.1403785186826978\n",
      "0.1403785186826978\n",
      "Не получилось отвергнуть нулевую гипотезу\n"
     ]
    }
   ],
   "source": [
    "results = st.ttest_ind(xone, pc, equal_var=False)\n",
    "alpha = .05\n",
    "\n",
    "print(results.pvalue)\n",
    "\n",
    "if results.pvalue < alpha:\n",
    "    print(results.pvalue)\n",
    "    print('Отвергаем нулевую гипотезу ')\n",
    "else:\n",
    "    print(results.pvalue)\n",
    "    print('Не получилось отвергнуть нулевую гипотезу')"
   ]
  },
  {
   "cell_type": "markdown",
   "metadata": {},
   "source": [
    "Тест для сравнения среднего двух генеральных совокупностей."
   ]
  },
  {
   "cell_type": "markdown",
   "metadata": {},
   "source": [
    "### 📊 Средние пользовательские рейтинги жанров Action (англ. «действие», экшен-игры) и Sports (англ. «спортивные соревнования») разные."
   ]
  },
  {
   "cell_type": "markdown",
   "metadata": {},
   "source": [
    "Проверка гипотезы: Средние пользовательские рейтинги жанров Action и Sports разные;\n",
    "\n",
    "```\n",
    "H_0: Средний пользовательский рейтинг Action ≠ Средний пользовательский рейтинг Sports`\n",
    "H_a: Средний пользовательский рейтинг Action = Средний пользовательский рейтинг Sports`\n",
    "alpha = 0.05\n",
    "```"
   ]
  },
  {
   "cell_type": "code",
   "execution_count": 52,
   "metadata": {},
   "outputs": [],
   "source": [
    "action = data2.query('genre == \"Action\"')['user_score']\n",
    "sports = data2.query('genre == \"Sports\"')['user_score']"
   ]
  },
  {
   "cell_type": "code",
   "execution_count": 53,
   "metadata": {},
   "outputs": [
    {
     "name": "stdout",
     "output_type": "stream",
     "text": [
      "8.327612976032047e-09\n",
      "8.327612976032047e-09\n",
      "Отвергаем нулевую гипотезу \n"
     ]
    },
    {
     "name": "stderr",
     "output_type": "stream",
     "text": [
      "/tmp/ipykernel_137/4042797306.py:1: DeprecationWarning: Please use `ttest_ind` from the `scipy.stats` namespace, the `scipy.stats.stats` namespace is deprecated.\n",
      "  results = st.stats.ttest_ind(action, sports, equal_var=False)\n"
     ]
    }
   ],
   "source": [
    "results = st.stats.ttest_ind(action, sports, equal_var=False)\n",
    "alpha = .05\n",
    "\n",
    "print(results.pvalue)\n",
    "\n",
    "if results.pvalue < alpha:\n",
    "    print(results.pvalue)\n",
    "    print('Отвергаем нулевую гипотезу ')\n",
    "else:\n",
    "    print(results.pvalue)\n",
    "    print('Не получилось отвергнуть нулевую гипотезу')"
   ]
  },
  {
   "cell_type": "markdown",
   "metadata": {},
   "source": [
    "Опять же сравниваем среднее двух генеральных совокупностей, поэтому данный тест"
   ]
  },
  {
   "cell_type": "markdown",
   "metadata": {},
   "source": [
    "## Общий вывод "
   ]
  },
  {
   "cell_type": "markdown",
   "metadata": {},
   "source": [
    "На начальном этапе были обработаны данные для удобства и большей информативности, также был добавлен новый столбец с общими продажами для рассмотрения данных в полном объеме.\n",
    "\n",
    "В процессе исследования стало понятно, что не все данные актуальны, так как средний срок жизни платформы - 8 лет, а время популярности - около 6, поэтому были отброшены лишние данные для более точного прогнощирования в дальнейшем.\n",
    "\n",
    "Также посмотрев на корреляцию продаж и рейтинг, был сделан вывод, что оценки потребителей не играют никакой роли, а оценки критиков незначительно влияют на выбор при покупке.\n",
    "\n",
    "Портрет пользователя Северной Америки: играет в Shooter категории М на PS4\n",
    "\n",
    "Портрет пользователя Европы: играет в Action категории М на PS4\n",
    "\n",
    "Портрет пользователя Японии: играет в  Role-Playing категории T на 3DS\n",
    "\n",
    "В 4 блоке не удалось отвергнуть гипотезу о том, что средние пользовательские рейтинги платформ Xbox One и PC одинаковые, но гипотезу о том, что средние пользовательские рейтинги жанров Action (англ. «действие», экшен-игры) и Sports (англ. «спортивные соревнования») разные получилось отвергнуть."
   ]
  }
 ],
 "metadata": {
  "ExecuteTimeLog": [
   {
    "duration": 460,
    "start_time": "2023-04-02T11:03:44.491Z"
   },
   {
    "duration": 90,
    "start_time": "2023-04-02T11:04:24.963Z"
   },
   {
    "duration": 32,
    "start_time": "2023-04-02T11:04:31.271Z"
   },
   {
    "duration": 78,
    "start_time": "2023-04-02T11:05:36.554Z"
   },
   {
    "duration": 7,
    "start_time": "2023-04-02T11:05:42.368Z"
   },
   {
    "duration": 10,
    "start_time": "2023-04-02T11:05:47.169Z"
   },
   {
    "duration": 44,
    "start_time": "2023-04-02T11:07:16.348Z"
   },
   {
    "duration": 7,
    "start_time": "2023-04-02T11:07:20.054Z"
   },
   {
    "duration": 7,
    "start_time": "2023-04-02T11:07:26.789Z"
   },
   {
    "duration": 8,
    "start_time": "2023-04-02T11:09:28.330Z"
   },
   {
    "duration": 8,
    "start_time": "2023-04-02T11:09:36.510Z"
   },
   {
    "duration": 7,
    "start_time": "2023-04-02T11:11:29.962Z"
   },
   {
    "duration": 5,
    "start_time": "2023-04-02T11:11:35.443Z"
   },
   {
    "duration": 347,
    "start_time": "2023-04-02T20:32:55.988Z"
   },
   {
    "duration": 200,
    "start_time": "2023-04-02T20:32:56.607Z"
   },
   {
    "duration": 28,
    "start_time": "2023-04-02T20:32:57.415Z"
   },
   {
    "duration": 4,
    "start_time": "2023-04-02T20:32:59.163Z"
   },
   {
    "duration": 20,
    "start_time": "2023-04-02T20:33:29.355Z"
   },
   {
    "duration": 69,
    "start_time": "2023-04-02T20:36:10.395Z"
   },
   {
    "duration": 9,
    "start_time": "2023-04-02T20:40:41.787Z"
   },
   {
    "duration": 8,
    "start_time": "2023-04-02T20:41:54.156Z"
   },
   {
    "duration": 4,
    "start_time": "2023-04-02T20:42:04.356Z"
   },
   {
    "duration": 9,
    "start_time": "2023-04-02T20:43:14.316Z"
   },
   {
    "duration": 4,
    "start_time": "2023-04-02T20:43:34.045Z"
   },
   {
    "duration": 9,
    "start_time": "2023-04-02T20:44:24.335Z"
   },
   {
    "duration": 5,
    "start_time": "2023-04-02T20:45:29.107Z"
   },
   {
    "duration": 1250,
    "start_time": "2023-04-02T20:46:29.004Z"
   },
   {
    "duration": 9,
    "start_time": "2023-04-02T20:46:34.999Z"
   },
   {
    "duration": 5,
    "start_time": "2023-04-02T20:46:51.995Z"
   },
   {
    "duration": 5,
    "start_time": "2023-04-02T20:46:57.835Z"
   },
   {
    "duration": 4,
    "start_time": "2023-04-02T20:47:46.556Z"
   },
   {
    "duration": 1254,
    "start_time": "2023-04-02T20:48:38.886Z"
   },
   {
    "duration": 12,
    "start_time": "2023-04-02T20:48:47.378Z"
   },
   {
    "duration": 17,
    "start_time": "2023-04-02T20:49:04.516Z"
   },
   {
    "duration": 14,
    "start_time": "2023-04-02T20:50:14.277Z"
   },
   {
    "duration": 406,
    "start_time": "2023-04-02T20:51:57.436Z"
   },
   {
    "duration": 51,
    "start_time": "2023-04-02T20:51:57.928Z"
   },
   {
    "duration": 27,
    "start_time": "2023-04-02T20:51:58.015Z"
   },
   {
    "duration": 3,
    "start_time": "2023-04-02T20:51:58.198Z"
   },
   {
    "duration": 13,
    "start_time": "2023-04-02T20:51:58.316Z"
   },
   {
    "duration": 9,
    "start_time": "2023-04-02T20:51:58.391Z"
   },
   {
    "duration": 4,
    "start_time": "2023-04-02T20:51:58.437Z"
   },
   {
    "duration": 8,
    "start_time": "2023-04-02T20:51:58.599Z"
   },
   {
    "duration": 5,
    "start_time": "2023-04-02T20:51:58.693Z"
   },
   {
    "duration": 10,
    "start_time": "2023-04-02T20:51:58.899Z"
   },
   {
    "duration": 4,
    "start_time": "2023-04-02T20:51:58.935Z"
   },
   {
    "duration": 8,
    "start_time": "2023-04-02T20:51:59.098Z"
   },
   {
    "duration": 72,
    "start_time": "2023-04-02T20:51:59.199Z"
   },
   {
    "duration": 13,
    "start_time": "2023-04-02T20:51:59.523Z"
   },
   {
    "duration": 16,
    "start_time": "2023-04-02T20:53:02.546Z"
   },
   {
    "duration": 82,
    "start_time": "2023-04-03T06:43:50.723Z"
   },
   {
    "duration": 517,
    "start_time": "2023-04-03T06:43:55.870Z"
   },
   {
    "duration": 114,
    "start_time": "2023-04-03T06:43:56.390Z"
   },
   {
    "duration": 49,
    "start_time": "2023-04-03T06:43:56.837Z"
   },
   {
    "duration": 4,
    "start_time": "2023-04-03T06:43:58.181Z"
   },
   {
    "duration": 21,
    "start_time": "2023-04-03T06:43:58.762Z"
   },
   {
    "duration": 53,
    "start_time": "2023-04-03T06:43:59.627Z"
   },
   {
    "duration": 20,
    "start_time": "2023-04-03T06:44:56.037Z"
   },
   {
    "duration": 19,
    "start_time": "2023-04-03T06:45:25.631Z"
   },
   {
    "duration": 17,
    "start_time": "2023-04-03T06:45:34.039Z"
   },
   {
    "duration": 17,
    "start_time": "2023-04-03T06:45:56.734Z"
   },
   {
    "duration": 13,
    "start_time": "2023-04-03T06:46:20.342Z"
   },
   {
    "duration": 10,
    "start_time": "2023-04-03T06:46:29.677Z"
   },
   {
    "duration": 7,
    "start_time": "2023-04-03T06:46:32.142Z"
   },
   {
    "duration": 11,
    "start_time": "2023-04-03T06:46:47.450Z"
   },
   {
    "duration": 5,
    "start_time": "2023-04-03T06:46:49.058Z"
   },
   {
    "duration": 13,
    "start_time": "2023-04-03T06:46:50.646Z"
   },
   {
    "duration": 17,
    "start_time": "2023-04-03T06:47:33.760Z"
   },
   {
    "duration": 5,
    "start_time": "2023-04-03T06:47:34.814Z"
   },
   {
    "duration": 8,
    "start_time": "2023-04-03T06:47:43.734Z"
   },
   {
    "duration": 7,
    "start_time": "2023-04-03T06:47:45.030Z"
   },
   {
    "duration": 411,
    "start_time": "2023-04-03T06:48:41.118Z"
   },
   {
    "duration": 77,
    "start_time": "2023-04-03T06:48:41.548Z"
   },
   {
    "duration": 45,
    "start_time": "2023-04-03T06:48:42.200Z"
   },
   {
    "duration": 4,
    "start_time": "2023-04-03T06:48:43.353Z"
   },
   {
    "duration": 16,
    "start_time": "2023-04-03T06:48:43.919Z"
   },
   {
    "duration": 9,
    "start_time": "2023-04-03T06:48:47.918Z"
   },
   {
    "duration": 100,
    "start_time": "2023-04-03T06:48:56.690Z"
   },
   {
    "duration": 12,
    "start_time": "2023-04-03T06:48:58.814Z"
   },
   {
    "duration": 8,
    "start_time": "2023-04-03T06:48:59.284Z"
   },
   {
    "duration": 10,
    "start_time": "2023-04-03T06:49:00.129Z"
   },
   {
    "duration": 5,
    "start_time": "2023-04-03T06:49:00.589Z"
   },
   {
    "duration": 11,
    "start_time": "2023-04-03T06:49:01.549Z"
   },
   {
    "duration": 6,
    "start_time": "2023-04-03T06:49:02.029Z"
   },
   {
    "duration": 17,
    "start_time": "2023-04-03T06:49:18.921Z"
   },
   {
    "duration": 22,
    "start_time": "2023-04-03T06:50:15.464Z"
   },
   {
    "duration": 11,
    "start_time": "2023-04-03T06:51:31.050Z"
   },
   {
    "duration": 17,
    "start_time": "2023-04-03T06:51:38.419Z"
   },
   {
    "duration": 10,
    "start_time": "2023-04-03T06:53:00.225Z"
   },
   {
    "duration": 11,
    "start_time": "2023-04-03T06:53:10.274Z"
   },
   {
    "duration": 420,
    "start_time": "2023-04-03T16:23:58.667Z"
   },
   {
    "duration": 89,
    "start_time": "2023-04-03T16:23:59.158Z"
   },
   {
    "duration": 28,
    "start_time": "2023-04-03T16:23:59.250Z"
   },
   {
    "duration": 4,
    "start_time": "2023-04-03T16:23:59.398Z"
   },
   {
    "duration": 16,
    "start_time": "2023-04-03T16:23:59.507Z"
   },
   {
    "duration": 13,
    "start_time": "2023-04-03T16:23:59.591Z"
   },
   {
    "duration": 75,
    "start_time": "2023-04-03T16:23:59.738Z"
   },
   {
    "duration": 10,
    "start_time": "2023-04-03T16:23:59.857Z"
   },
   {
    "duration": 5,
    "start_time": "2023-04-03T16:23:59.918Z"
   },
   {
    "duration": 8,
    "start_time": "2023-04-03T16:24:00.070Z"
   },
   {
    "duration": 4,
    "start_time": "2023-04-03T16:24:00.158Z"
   },
   {
    "duration": 8,
    "start_time": "2023-04-03T16:24:00.366Z"
   },
   {
    "duration": 3,
    "start_time": "2023-04-03T16:24:00.410Z"
   },
   {
    "duration": 8,
    "start_time": "2023-04-03T16:24:00.578Z"
   },
   {
    "duration": 12,
    "start_time": "2023-04-03T16:24:00.650Z"
   },
   {
    "duration": 11,
    "start_time": "2023-04-03T16:26:40.774Z"
   },
   {
    "duration": 4,
    "start_time": "2023-04-03T16:26:52.194Z"
   },
   {
    "duration": 13,
    "start_time": "2023-04-03T16:27:08.706Z"
   },
   {
    "duration": 401,
    "start_time": "2023-04-03T16:27:31.826Z"
   },
   {
    "duration": 48,
    "start_time": "2023-04-03T16:27:32.230Z"
   },
   {
    "duration": 34,
    "start_time": "2023-04-03T16:27:32.279Z"
   },
   {
    "duration": 3,
    "start_time": "2023-04-03T16:27:32.315Z"
   },
   {
    "duration": 23,
    "start_time": "2023-04-03T16:27:32.320Z"
   },
   {
    "duration": 10,
    "start_time": "2023-04-03T16:27:32.345Z"
   },
   {
    "duration": 84,
    "start_time": "2023-04-03T16:27:32.357Z"
   },
   {
    "duration": 0,
    "start_time": "2023-04-03T16:27:32.443Z"
   },
   {
    "duration": 0,
    "start_time": "2023-04-03T16:27:32.445Z"
   },
   {
    "duration": 0,
    "start_time": "2023-04-03T16:27:32.446Z"
   },
   {
    "duration": 0,
    "start_time": "2023-04-03T16:27:32.448Z"
   },
   {
    "duration": 0,
    "start_time": "2023-04-03T16:27:32.448Z"
   },
   {
    "duration": 0,
    "start_time": "2023-04-03T16:27:32.450Z"
   },
   {
    "duration": 0,
    "start_time": "2023-04-03T16:27:32.451Z"
   },
   {
    "duration": 0,
    "start_time": "2023-04-03T16:27:32.452Z"
   },
   {
    "duration": 453,
    "start_time": "2023-04-03T16:28:17.157Z"
   },
   {
    "duration": 64,
    "start_time": "2023-04-03T16:28:17.612Z"
   },
   {
    "duration": 37,
    "start_time": "2023-04-03T16:28:17.678Z"
   },
   {
    "duration": 4,
    "start_time": "2023-04-03T16:28:17.716Z"
   },
   {
    "duration": 17,
    "start_time": "2023-04-03T16:28:17.739Z"
   },
   {
    "duration": 9,
    "start_time": "2023-04-03T16:28:17.758Z"
   },
   {
    "duration": 18,
    "start_time": "2023-04-03T16:28:17.769Z"
   },
   {
    "duration": 9,
    "start_time": "2023-04-03T16:28:17.789Z"
   },
   {
    "duration": 6,
    "start_time": "2023-04-03T16:28:17.800Z"
   },
   {
    "duration": 6,
    "start_time": "2023-04-03T16:28:17.841Z"
   },
   {
    "duration": 11,
    "start_time": "2023-04-03T16:28:17.849Z"
   },
   {
    "duration": 5,
    "start_time": "2023-04-03T16:28:17.862Z"
   },
   {
    "duration": 23,
    "start_time": "2023-04-03T16:28:17.869Z"
   },
   {
    "duration": 4,
    "start_time": "2023-04-03T16:28:17.895Z"
   },
   {
    "duration": 8,
    "start_time": "2023-04-03T16:28:17.901Z"
   },
   {
    "duration": 14,
    "start_time": "2023-04-03T16:31:49.999Z"
   },
   {
    "duration": 17,
    "start_time": "2023-04-03T16:32:02.051Z"
   },
   {
    "duration": 73,
    "start_time": "2023-04-03T16:36:23.809Z"
   },
   {
    "duration": 20,
    "start_time": "2023-04-03T16:36:33.465Z"
   },
   {
    "duration": 32,
    "start_time": "2023-04-03T16:37:14.465Z"
   },
   {
    "duration": 19,
    "start_time": "2023-04-03T16:38:36.826Z"
   },
   {
    "duration": 26,
    "start_time": "2023-04-03T16:39:09.417Z"
   },
   {
    "duration": 57,
    "start_time": "2023-04-03T16:50:08.322Z"
   },
   {
    "duration": 15,
    "start_time": "2023-04-03T16:50:16.821Z"
   },
   {
    "duration": 700,
    "start_time": "2023-04-03T16:50:22.772Z"
   },
   {
    "duration": 53,
    "start_time": "2023-04-03T16:50:30.120Z"
   },
   {
    "duration": 14,
    "start_time": "2023-04-03T16:50:55.372Z"
   },
   {
    "duration": 68,
    "start_time": "2023-04-03T16:51:00.124Z"
   },
   {
    "duration": 16,
    "start_time": "2023-04-03T16:51:08.831Z"
   },
   {
    "duration": 883,
    "start_time": "2023-04-03T16:51:13.232Z"
   },
   {
    "duration": 21,
    "start_time": "2023-04-03T16:52:35.718Z"
   },
   {
    "duration": 18,
    "start_time": "2023-04-03T16:56:36.930Z"
   },
   {
    "duration": 9,
    "start_time": "2023-04-03T16:57:07.217Z"
   },
   {
    "duration": 10,
    "start_time": "2023-04-03T16:57:17.399Z"
   },
   {
    "duration": 8,
    "start_time": "2023-04-03T16:57:24.071Z"
   },
   {
    "duration": 20,
    "start_time": "2023-04-03T16:59:26.758Z"
   },
   {
    "duration": 47,
    "start_time": "2023-04-03T16:59:35.563Z"
   },
   {
    "duration": 58,
    "start_time": "2023-04-03T16:59:39.762Z"
   },
   {
    "duration": 31,
    "start_time": "2023-04-03T17:00:20.839Z"
   },
   {
    "duration": 28,
    "start_time": "2023-04-03T17:00:27.698Z"
   },
   {
    "duration": 17,
    "start_time": "2023-04-03T17:00:35.998Z"
   },
   {
    "duration": 14,
    "start_time": "2023-04-03T17:06:02.829Z"
   },
   {
    "duration": 1445,
    "start_time": "2023-04-03T17:06:38.729Z"
   },
   {
    "duration": 49,
    "start_time": "2023-04-03T17:07:13.694Z"
   },
   {
    "duration": 407,
    "start_time": "2023-04-03T17:07:18.631Z"
   },
   {
    "duration": 49,
    "start_time": "2023-04-03T17:07:19.059Z"
   },
   {
    "duration": 19,
    "start_time": "2023-04-03T17:07:20.259Z"
   },
   {
    "duration": 1020,
    "start_time": "2023-04-03T17:07:21.070Z"
   },
   {
    "duration": 12,
    "start_time": "2023-04-03T17:07:22.092Z"
   },
   {
    "duration": 3,
    "start_time": "2023-04-03T17:08:10.314Z"
   },
   {
    "duration": 14,
    "start_time": "2023-04-03T17:08:10.825Z"
   },
   {
    "duration": 12,
    "start_time": "2023-04-03T17:08:11.926Z"
   },
   {
    "duration": 9,
    "start_time": "2023-04-03T17:08:14.305Z"
   },
   {
    "duration": 4,
    "start_time": "2023-04-03T17:08:15.095Z"
   },
   {
    "duration": 4,
    "start_time": "2023-04-03T17:08:15.698Z"
   },
   {
    "duration": 10,
    "start_time": "2023-04-03T17:08:17.135Z"
   },
   {
    "duration": 4,
    "start_time": "2023-04-03T17:08:17.895Z"
   },
   {
    "duration": 9,
    "start_time": "2023-04-03T17:08:18.699Z"
   },
   {
    "duration": 4,
    "start_time": "2023-04-03T17:08:19.095Z"
   },
   {
    "duration": 8,
    "start_time": "2023-04-03T17:08:19.895Z"
   },
   {
    "duration": 12,
    "start_time": "2023-04-03T17:08:20.826Z"
   },
   {
    "duration": 17,
    "start_time": "2023-04-03T17:08:21.406Z"
   },
   {
    "duration": 42,
    "start_time": "2023-04-03T17:10:40.406Z"
   },
   {
    "duration": 12,
    "start_time": "2023-04-03T17:11:29.020Z"
   },
   {
    "duration": 14,
    "start_time": "2023-04-03T17:13:22.921Z"
   },
   {
    "duration": 6,
    "start_time": "2023-04-03T17:16:31.901Z"
   },
   {
    "duration": 6,
    "start_time": "2023-04-03T17:16:38.053Z"
   },
   {
    "duration": 4,
    "start_time": "2023-04-03T17:17:28.812Z"
   },
   {
    "duration": 12,
    "start_time": "2023-04-03T17:18:47.393Z"
   },
   {
    "duration": 14,
    "start_time": "2023-04-03T17:18:53.632Z"
   },
   {
    "duration": 17,
    "start_time": "2023-04-03T17:19:13.693Z"
   },
   {
    "duration": 6,
    "start_time": "2023-04-03T17:20:23.165Z"
   },
   {
    "duration": 5,
    "start_time": "2023-04-03T17:20:28.341Z"
   },
   {
    "duration": 12,
    "start_time": "2023-04-03T17:20:38.202Z"
   },
   {
    "duration": 17,
    "start_time": "2023-04-03T17:20:47.522Z"
   },
   {
    "duration": 13,
    "start_time": "2023-04-03T17:20:52.281Z"
   },
   {
    "duration": 56,
    "start_time": "2023-04-03T17:22:03.942Z"
   },
   {
    "duration": 46,
    "start_time": "2023-04-03T17:22:12.921Z"
   },
   {
    "duration": 9,
    "start_time": "2023-04-03T17:22:24.221Z"
   },
   {
    "duration": 413,
    "start_time": "2023-04-03T17:23:45.333Z"
   },
   {
    "duration": 62,
    "start_time": "2023-04-03T17:23:45.749Z"
   },
   {
    "duration": 20,
    "start_time": "2023-04-03T17:23:45.812Z"
   },
   {
    "duration": 1005,
    "start_time": "2023-04-03T17:23:45.835Z"
   },
   {
    "duration": 16,
    "start_time": "2023-04-03T17:23:46.843Z"
   },
   {
    "duration": 8,
    "start_time": "2023-04-03T17:23:46.861Z"
   },
   {
    "duration": 19,
    "start_time": "2023-04-03T17:23:46.871Z"
   },
   {
    "duration": 13,
    "start_time": "2023-04-03T17:23:46.891Z"
   },
   {
    "duration": 22,
    "start_time": "2023-04-03T17:23:46.906Z"
   },
   {
    "duration": 15,
    "start_time": "2023-04-03T17:23:46.930Z"
   },
   {
    "duration": 8,
    "start_time": "2023-04-03T17:23:46.948Z"
   },
   {
    "duration": 13,
    "start_time": "2023-04-03T17:23:46.958Z"
   },
   {
    "duration": 4,
    "start_time": "2023-04-03T17:23:46.973Z"
   },
   {
    "duration": 11,
    "start_time": "2023-04-03T17:23:46.978Z"
   },
   {
    "duration": 5,
    "start_time": "2023-04-03T17:23:46.990Z"
   },
   {
    "duration": 10,
    "start_time": "2023-04-03T17:23:46.997Z"
   },
   {
    "duration": 53,
    "start_time": "2023-04-03T17:23:47.008Z"
   },
   {
    "duration": 451,
    "start_time": "2023-04-03T17:24:30.134Z"
   },
   {
    "duration": 53,
    "start_time": "2023-04-03T17:24:30.587Z"
   },
   {
    "duration": 28,
    "start_time": "2023-04-03T17:24:30.643Z"
   },
   {
    "duration": 1056,
    "start_time": "2023-04-03T17:24:30.674Z"
   },
   {
    "duration": 14,
    "start_time": "2023-04-03T17:24:31.731Z"
   },
   {
    "duration": 10,
    "start_time": "2023-04-03T17:24:31.749Z"
   },
   {
    "duration": 29,
    "start_time": "2023-04-03T17:24:31.761Z"
   },
   {
    "duration": 9,
    "start_time": "2023-04-03T17:24:31.791Z"
   },
   {
    "duration": 23,
    "start_time": "2023-04-03T17:24:31.802Z"
   },
   {
    "duration": 26,
    "start_time": "2023-04-03T17:24:31.827Z"
   },
   {
    "duration": 17,
    "start_time": "2023-04-03T17:24:31.855Z"
   },
   {
    "duration": 14,
    "start_time": "2023-04-03T17:24:31.874Z"
   },
   {
    "duration": 5,
    "start_time": "2023-04-03T17:24:31.890Z"
   },
   {
    "duration": 9,
    "start_time": "2023-04-03T17:24:31.897Z"
   },
   {
    "duration": 27,
    "start_time": "2023-04-03T17:24:31.908Z"
   },
   {
    "duration": 26,
    "start_time": "2023-04-03T17:24:31.937Z"
   },
   {
    "duration": 13,
    "start_time": "2023-04-03T17:24:31.965Z"
   },
   {
    "duration": 21,
    "start_time": "2023-04-03T17:24:31.980Z"
   },
   {
    "duration": 32,
    "start_time": "2023-04-03T17:26:40.882Z"
   },
   {
    "duration": 22,
    "start_time": "2023-04-03T17:27:11.222Z"
   },
   {
    "duration": 9,
    "start_time": "2023-04-03T17:27:25.262Z"
   },
   {
    "duration": 132,
    "start_time": "2023-04-03T17:28:05.641Z"
   },
   {
    "duration": 52,
    "start_time": "2023-04-03T17:29:04.929Z"
   },
   {
    "duration": 199,
    "start_time": "2023-04-03T17:29:12.966Z"
   },
   {
    "duration": 161,
    "start_time": "2023-04-03T17:29:24.962Z"
   },
   {
    "duration": 161,
    "start_time": "2023-04-03T17:29:29.422Z"
   },
   {
    "duration": 132,
    "start_time": "2023-04-03T17:29:34.644Z"
   },
   {
    "duration": 125,
    "start_time": "2023-04-03T17:29:38.963Z"
   },
   {
    "duration": 161,
    "start_time": "2023-04-03T17:29:48.063Z"
   },
   {
    "duration": 147,
    "start_time": "2023-04-03T17:29:53.766Z"
   },
   {
    "duration": 190,
    "start_time": "2023-04-03T17:30:01.102Z"
   },
   {
    "duration": 139,
    "start_time": "2023-04-03T17:30:08.982Z"
   },
   {
    "duration": 144,
    "start_time": "2023-04-03T17:30:14.242Z"
   },
   {
    "duration": 151,
    "start_time": "2023-04-03T17:30:19.702Z"
   },
   {
    "duration": 251,
    "start_time": "2023-04-03T17:30:29.438Z"
   },
   {
    "duration": 7,
    "start_time": "2023-04-03T17:30:48.141Z"
   },
   {
    "duration": 11,
    "start_time": "2023-04-03T17:30:55.642Z"
   },
   {
    "duration": 148,
    "start_time": "2023-04-03T17:31:13.197Z"
   },
   {
    "duration": 16,
    "start_time": "2023-04-03T17:38:43.127Z"
   },
   {
    "duration": 16,
    "start_time": "2023-04-03T17:43:01.360Z"
   },
   {
    "duration": 80,
    "start_time": "2023-04-03T17:43:21.007Z"
   },
   {
    "duration": 24,
    "start_time": "2023-04-03T17:43:31.740Z"
   },
   {
    "duration": 23,
    "start_time": "2023-04-03T17:43:40.140Z"
   },
   {
    "duration": 18,
    "start_time": "2023-04-03T17:44:41.056Z"
   },
   {
    "duration": 27,
    "start_time": "2023-04-03T17:45:10.339Z"
   },
   {
    "duration": 13,
    "start_time": "2023-04-03T17:45:55.662Z"
   },
   {
    "duration": 27,
    "start_time": "2023-04-03T17:51:22.440Z"
   },
   {
    "duration": 102,
    "start_time": "2023-04-03T17:51:59.440Z"
   },
   {
    "duration": 1195,
    "start_time": "2023-04-03T17:52:03.121Z"
   },
   {
    "duration": 784,
    "start_time": "2023-04-03T17:52:29.203Z"
   },
   {
    "duration": 13,
    "start_time": "2023-04-03T17:53:55.601Z"
   },
   {
    "duration": 424,
    "start_time": "2023-04-03T20:37:05.705Z"
   },
   {
    "duration": 88,
    "start_time": "2023-04-03T20:37:06.131Z"
   },
   {
    "duration": 23,
    "start_time": "2023-04-03T20:37:06.220Z"
   },
   {
    "duration": 1216,
    "start_time": "2023-04-03T20:37:06.245Z"
   },
   {
    "duration": 9,
    "start_time": "2023-04-03T20:37:07.464Z"
   },
   {
    "duration": 11,
    "start_time": "2023-04-03T20:37:07.475Z"
   },
   {
    "duration": 89,
    "start_time": "2023-04-03T20:37:07.488Z"
   },
   {
    "duration": 9,
    "start_time": "2023-04-03T20:37:07.579Z"
   },
   {
    "duration": 18,
    "start_time": "2023-04-03T20:37:07.589Z"
   },
   {
    "duration": 5,
    "start_time": "2023-04-03T20:37:07.609Z"
   },
   {
    "duration": 13,
    "start_time": "2023-04-03T20:37:07.616Z"
   },
   {
    "duration": 12,
    "start_time": "2023-04-03T20:37:07.631Z"
   },
   {
    "duration": 4,
    "start_time": "2023-04-03T20:37:07.645Z"
   },
   {
    "duration": 8,
    "start_time": "2023-04-03T20:37:07.652Z"
   },
   {
    "duration": 4,
    "start_time": "2023-04-03T20:37:07.661Z"
   },
   {
    "duration": 36,
    "start_time": "2023-04-03T20:37:07.667Z"
   },
   {
    "duration": 13,
    "start_time": "2023-04-03T20:37:07.705Z"
   },
   {
    "duration": 19,
    "start_time": "2023-04-03T20:37:07.720Z"
   },
   {
    "duration": 164,
    "start_time": "2023-04-03T20:37:07.740Z"
   },
   {
    "duration": 18,
    "start_time": "2023-04-03T20:37:07.906Z"
   },
   {
    "duration": 24,
    "start_time": "2023-04-03T20:37:18.679Z"
   },
   {
    "duration": 24,
    "start_time": "2023-04-03T20:37:31.158Z"
   },
   {
    "duration": 156,
    "start_time": "2023-04-03T20:37:52.307Z"
   },
   {
    "duration": 209,
    "start_time": "2023-04-03T20:38:21.073Z"
   },
   {
    "duration": 74,
    "start_time": "2023-04-03T20:41:17.143Z"
   },
   {
    "duration": 145,
    "start_time": "2023-04-03T20:41:34.260Z"
   },
   {
    "duration": 3951,
    "start_time": "2023-04-03T20:44:58.890Z"
   },
   {
    "duration": 15,
    "start_time": "2023-04-03T20:45:50.782Z"
   },
   {
    "duration": 331,
    "start_time": "2023-04-03T20:53:07.372Z"
   },
   {
    "duration": 20,
    "start_time": "2023-04-03T20:53:32.318Z"
   },
   {
    "duration": 14,
    "start_time": "2023-04-03T20:54:32.287Z"
   },
   {
    "duration": 144,
    "start_time": "2023-04-03T20:54:39.465Z"
   },
   {
    "duration": 151,
    "start_time": "2023-04-03T20:55:35.812Z"
   },
   {
    "duration": 162,
    "start_time": "2023-04-03T20:55:39.481Z"
   },
   {
    "duration": 154,
    "start_time": "2023-04-03T20:55:43.203Z"
   },
   {
    "duration": 138,
    "start_time": "2023-04-03T20:55:45.891Z"
   },
   {
    "duration": 75,
    "start_time": "2023-04-03T20:57:01.907Z"
   },
   {
    "duration": 49,
    "start_time": "2023-04-03T20:57:21.378Z"
   },
   {
    "duration": 34,
    "start_time": "2023-04-03T20:57:35.677Z"
   },
   {
    "duration": 25,
    "start_time": "2023-04-03T20:57:49.850Z"
   },
   {
    "duration": 26,
    "start_time": "2023-04-03T20:58:11.407Z"
   },
   {
    "duration": 18,
    "start_time": "2023-04-03T20:59:04.579Z"
   },
   {
    "duration": 15,
    "start_time": "2023-04-03T20:59:34.614Z"
   },
   {
    "duration": 134,
    "start_time": "2023-04-03T20:59:54.321Z"
   },
   {
    "duration": 10,
    "start_time": "2023-04-03T21:00:20.034Z"
   },
   {
    "duration": 9,
    "start_time": "2023-04-03T21:00:26.693Z"
   },
   {
    "duration": 575,
    "start_time": "2023-04-03T21:01:05.105Z"
   },
   {
    "duration": 8,
    "start_time": "2023-04-03T21:01:58.376Z"
   },
   {
    "duration": 111,
    "start_time": "2023-04-03T21:02:11.573Z"
   },
   {
    "duration": 97,
    "start_time": "2023-04-03T21:02:39.594Z"
   },
   {
    "duration": 15,
    "start_time": "2023-04-03T21:02:59.590Z"
   },
   {
    "duration": 377,
    "start_time": "2023-04-04T14:37:40.571Z"
   },
   {
    "duration": 213,
    "start_time": "2023-04-04T14:37:40.949Z"
   },
   {
    "duration": 25,
    "start_time": "2023-04-04T14:37:41.164Z"
   },
   {
    "duration": 1270,
    "start_time": "2023-04-04T14:37:41.191Z"
   },
   {
    "duration": 11,
    "start_time": "2023-04-04T14:37:42.463Z"
   },
   {
    "duration": 4,
    "start_time": "2023-04-04T14:37:42.859Z"
   },
   {
    "duration": 15,
    "start_time": "2023-04-04T14:37:43.359Z"
   },
   {
    "duration": 75,
    "start_time": "2023-04-04T14:37:43.440Z"
   },
   {
    "duration": 11,
    "start_time": "2023-04-04T14:37:43.578Z"
   },
   {
    "duration": 5,
    "start_time": "2023-04-04T14:37:43.686Z"
   },
   {
    "duration": 5,
    "start_time": "2023-04-04T14:37:43.759Z"
   },
   {
    "duration": 9,
    "start_time": "2023-04-04T14:37:43.920Z"
   },
   {
    "duration": 5,
    "start_time": "2023-04-04T14:37:44.000Z"
   },
   {
    "duration": 9,
    "start_time": "2023-04-04T14:37:44.199Z"
   },
   {
    "duration": 5,
    "start_time": "2023-04-04T14:37:44.284Z"
   },
   {
    "duration": 10,
    "start_time": "2023-04-04T14:37:44.419Z"
   },
   {
    "duration": 14,
    "start_time": "2023-04-04T14:37:44.599Z"
   },
   {
    "duration": 19,
    "start_time": "2023-04-04T14:37:44.687Z"
   },
   {
    "duration": 141,
    "start_time": "2023-04-04T14:37:44.947Z"
   },
   {
    "duration": 21,
    "start_time": "2023-04-04T14:37:45.099Z"
   },
   {
    "duration": 142,
    "start_time": "2023-04-04T14:37:47.280Z"
   },
   {
    "duration": 154,
    "start_time": "2023-04-04T14:37:47.439Z"
   },
   {
    "duration": 145,
    "start_time": "2023-04-04T14:37:47.607Z"
   },
   {
    "duration": 140,
    "start_time": "2023-04-04T14:37:47.789Z"
   },
   {
    "duration": 150,
    "start_time": "2023-04-04T14:37:47.931Z"
   },
   {
    "duration": 23,
    "start_time": "2023-04-04T14:37:48.114Z"
   },
   {
    "duration": 15,
    "start_time": "2023-04-04T14:37:48.319Z"
   },
   {
    "duration": 20,
    "start_time": "2023-04-04T14:39:16.001Z"
   },
   {
    "duration": 19,
    "start_time": "2023-04-04T14:39:39.506Z"
   },
   {
    "duration": 3,
    "start_time": "2023-04-04T14:43:40.694Z"
   },
   {
    "duration": 107,
    "start_time": "2023-04-04T14:44:43.187Z"
   },
   {
    "duration": 34,
    "start_time": "2023-04-04T14:45:56.148Z"
   },
   {
    "duration": 14,
    "start_time": "2023-04-04T14:45:57.929Z"
   },
   {
    "duration": 3,
    "start_time": "2023-04-04T14:46:01.488Z"
   },
   {
    "duration": 100,
    "start_time": "2023-04-04T14:46:02.736Z"
   },
   {
    "duration": 1300,
    "start_time": "2023-04-04T14:46:58.947Z"
   },
   {
    "duration": 1611,
    "start_time": "2023-04-04T14:55:55.385Z"
   },
   {
    "duration": 18,
    "start_time": "2023-04-04T14:57:40.559Z"
   },
   {
    "duration": 18,
    "start_time": "2023-04-04T14:58:00.630Z"
   },
   {
    "duration": 17,
    "start_time": "2023-04-04T14:58:27.750Z"
   },
   {
    "duration": 3,
    "start_time": "2023-04-04T14:58:29.150Z"
   },
   {
    "duration": 9,
    "start_time": "2023-04-04T14:58:29.782Z"
   },
   {
    "duration": 13,
    "start_time": "2023-04-04T14:59:37.810Z"
   },
   {
    "duration": 12,
    "start_time": "2023-04-04T14:59:48.596Z"
   },
   {
    "duration": 3,
    "start_time": "2023-04-04T14:59:50.714Z"
   },
   {
    "duration": 8,
    "start_time": "2023-04-04T14:59:51.403Z"
   },
   {
    "duration": 413,
    "start_time": "2023-04-04T14:59:58.832Z"
   },
   {
    "duration": 54,
    "start_time": "2023-04-04T14:59:59.253Z"
   },
   {
    "duration": 22,
    "start_time": "2023-04-04T14:59:59.308Z"
   },
   {
    "duration": 1046,
    "start_time": "2023-04-04T14:59:59.332Z"
   },
   {
    "duration": 10,
    "start_time": "2023-04-04T15:00:00.380Z"
   },
   {
    "duration": 63,
    "start_time": "2023-04-04T15:00:00.392Z"
   },
   {
    "duration": 42,
    "start_time": "2023-04-04T15:00:00.457Z"
   },
   {
    "duration": 50,
    "start_time": "2023-04-04T15:00:00.501Z"
   },
   {
    "duration": 69,
    "start_time": "2023-04-04T15:00:00.553Z"
   },
   {
    "duration": 67,
    "start_time": "2023-04-04T15:00:00.624Z"
   },
   {
    "duration": 64,
    "start_time": "2023-04-04T15:00:00.693Z"
   },
   {
    "duration": 60,
    "start_time": "2023-04-04T15:00:00.759Z"
   },
   {
    "duration": 35,
    "start_time": "2023-04-04T15:00:00.821Z"
   },
   {
    "duration": 52,
    "start_time": "2023-04-04T15:00:00.860Z"
   },
   {
    "duration": 36,
    "start_time": "2023-04-04T15:00:00.914Z"
   },
   {
    "duration": 45,
    "start_time": "2023-04-04T15:00:00.952Z"
   },
   {
    "duration": 40,
    "start_time": "2023-04-04T15:00:00.999Z"
   },
   {
    "duration": 50,
    "start_time": "2023-04-04T15:00:01.041Z"
   },
   {
    "duration": 167,
    "start_time": "2023-04-04T15:00:01.093Z"
   },
   {
    "duration": 17,
    "start_time": "2023-04-04T15:00:01.262Z"
   },
   {
    "duration": 238,
    "start_time": "2023-04-04T15:00:01.280Z"
   },
   {
    "duration": 160,
    "start_time": "2023-04-04T15:00:01.520Z"
   },
   {
    "duration": 161,
    "start_time": "2023-04-04T15:00:01.682Z"
   },
   {
    "duration": 162,
    "start_time": "2023-04-04T15:00:01.846Z"
   },
   {
    "duration": 154,
    "start_time": "2023-04-04T15:00:02.009Z"
   },
   {
    "duration": 32,
    "start_time": "2023-04-04T15:00:02.165Z"
   },
   {
    "duration": 16,
    "start_time": "2023-04-04T15:00:02.199Z"
   },
   {
    "duration": 16,
    "start_time": "2023-04-04T15:00:02.217Z"
   },
   {
    "duration": 130,
    "start_time": "2023-04-04T15:00:02.240Z"
   },
   {
    "duration": 0,
    "start_time": "2023-04-04T15:00:02.371Z"
   },
   {
    "duration": 9,
    "start_time": "2023-04-04T15:00:28.483Z"
   },
   {
    "duration": 95,
    "start_time": "2023-04-04T15:00:39.303Z"
   },
   {
    "duration": 7,
    "start_time": "2023-04-04T15:00:53.762Z"
   },
   {
    "duration": 1614,
    "start_time": "2023-04-04T15:01:21.344Z"
   },
   {
    "duration": 1243,
    "start_time": "2023-04-04T15:01:48.163Z"
   },
   {
    "duration": 7,
    "start_time": "2023-04-04T15:02:02.116Z"
   },
   {
    "duration": 109,
    "start_time": "2023-04-04T15:02:45.966Z"
   },
   {
    "duration": 93,
    "start_time": "2023-04-04T15:03:03.186Z"
   },
   {
    "duration": 130,
    "start_time": "2023-04-04T15:03:45.537Z"
   },
   {
    "duration": 158,
    "start_time": "2023-04-04T15:04:03.136Z"
   },
   {
    "duration": 10,
    "start_time": "2023-04-04T15:05:01.010Z"
   },
   {
    "duration": 9,
    "start_time": "2023-04-04T15:05:06.138Z"
   },
   {
    "duration": 148,
    "start_time": "2023-04-04T15:05:11.622Z"
   },
   {
    "duration": 259,
    "start_time": "2023-04-04T15:05:35.941Z"
   },
   {
    "duration": 152,
    "start_time": "2023-04-04T15:05:40.602Z"
   },
   {
    "duration": 163,
    "start_time": "2023-04-04T15:05:48.030Z"
   },
   {
    "duration": 156,
    "start_time": "2023-04-04T15:05:52.679Z"
   },
   {
    "duration": 153,
    "start_time": "2023-04-04T15:06:01.950Z"
   },
   {
    "duration": 174,
    "start_time": "2023-04-04T15:06:25.936Z"
   },
   {
    "duration": 157,
    "start_time": "2023-04-04T15:06:34.654Z"
   },
   {
    "duration": 149,
    "start_time": "2023-04-04T15:06:38.278Z"
   },
   {
    "duration": 82,
    "start_time": "2023-04-04T15:08:08.545Z"
   },
   {
    "duration": 91,
    "start_time": "2023-04-04T15:08:14.007Z"
   },
   {
    "duration": 92,
    "start_time": "2023-04-04T15:08:17.830Z"
   },
   {
    "duration": 153,
    "start_time": "2023-04-04T15:08:25.057Z"
   },
   {
    "duration": 114,
    "start_time": "2023-04-04T15:11:07.462Z"
   },
   {
    "duration": 170,
    "start_time": "2023-04-04T15:12:23.330Z"
   },
   {
    "duration": 5,
    "start_time": "2023-04-04T15:15:29.273Z"
   },
   {
    "duration": 7,
    "start_time": "2023-04-04T15:15:31.512Z"
   },
   {
    "duration": 33,
    "start_time": "2023-04-04T15:15:31.521Z"
   },
   {
    "duration": 20,
    "start_time": "2023-04-04T15:15:36.113Z"
   },
   {
    "duration": 2042,
    "start_time": "2023-04-04T15:16:03.433Z"
   },
   {
    "duration": 413,
    "start_time": "2023-04-04T15:16:12.578Z"
   },
   {
    "duration": 54,
    "start_time": "2023-04-04T15:16:12.993Z"
   },
   {
    "duration": 23,
    "start_time": "2023-04-04T15:16:13.049Z"
   },
   {
    "duration": 1039,
    "start_time": "2023-04-04T15:16:13.074Z"
   },
   {
    "duration": 9,
    "start_time": "2023-04-04T15:16:14.116Z"
   },
   {
    "duration": 15,
    "start_time": "2023-04-04T15:16:14.126Z"
   },
   {
    "duration": 15,
    "start_time": "2023-04-04T15:16:14.142Z"
   },
   {
    "duration": 17,
    "start_time": "2023-04-04T15:16:14.159Z"
   },
   {
    "duration": 17,
    "start_time": "2023-04-04T15:16:14.178Z"
   },
   {
    "duration": 5,
    "start_time": "2023-04-04T15:16:14.197Z"
   },
   {
    "duration": 8,
    "start_time": "2023-04-04T15:16:14.203Z"
   },
   {
    "duration": 13,
    "start_time": "2023-04-04T15:16:14.212Z"
   },
   {
    "duration": 4,
    "start_time": "2023-04-04T15:16:14.242Z"
   },
   {
    "duration": 15,
    "start_time": "2023-04-04T15:16:14.248Z"
   },
   {
    "duration": 4,
    "start_time": "2023-04-04T15:16:14.265Z"
   },
   {
    "duration": 20,
    "start_time": "2023-04-04T15:16:14.270Z"
   },
   {
    "duration": 16,
    "start_time": "2023-04-04T15:16:14.292Z"
   },
   {
    "duration": 56,
    "start_time": "2023-04-04T15:16:14.310Z"
   },
   {
    "duration": 138,
    "start_time": "2023-04-04T15:16:14.368Z"
   },
   {
    "duration": 18,
    "start_time": "2023-04-04T15:16:14.508Z"
   },
   {
    "duration": 229,
    "start_time": "2023-04-04T15:16:14.528Z"
   },
   {
    "duration": 161,
    "start_time": "2023-04-04T15:16:14.759Z"
   },
   {
    "duration": 158,
    "start_time": "2023-04-04T15:16:14.922Z"
   },
   {
    "duration": 165,
    "start_time": "2023-04-04T15:16:15.082Z"
   },
   {
    "duration": 158,
    "start_time": "2023-04-04T15:16:15.249Z"
   },
   {
    "duration": 34,
    "start_time": "2023-04-04T15:16:15.409Z"
   },
   {
    "duration": 12,
    "start_time": "2023-04-04T15:16:15.445Z"
   },
   {
    "duration": 12,
    "start_time": "2023-04-04T15:16:15.458Z"
   },
   {
    "duration": 160,
    "start_time": "2023-04-04T15:16:15.471Z"
   },
   {
    "duration": 2486,
    "start_time": "2023-04-04T15:16:15.633Z"
   },
   {
    "duration": 7,
    "start_time": "2023-04-04T15:17:58.359Z"
   },
   {
    "duration": 13,
    "start_time": "2023-04-04T15:18:00.794Z"
   },
   {
    "duration": 26,
    "start_time": "2023-04-04T15:18:07.234Z"
   },
   {
    "duration": 61,
    "start_time": "2023-04-04T15:19:15.601Z"
   },
   {
    "duration": 11,
    "start_time": "2023-04-04T15:19:23.514Z"
   },
   {
    "duration": 20,
    "start_time": "2023-04-04T15:21:08.379Z"
   },
   {
    "duration": 20,
    "start_time": "2023-04-04T15:22:32.084Z"
   },
   {
    "duration": 16,
    "start_time": "2023-04-04T15:23:11.523Z"
   },
   {
    "duration": 134,
    "start_time": "2023-04-04T15:24:10.255Z"
   },
   {
    "duration": 133,
    "start_time": "2023-04-04T15:24:37.111Z"
   },
   {
    "duration": 10,
    "start_time": "2023-04-04T16:10:59.727Z"
   },
   {
    "duration": 11,
    "start_time": "2023-04-04T16:12:00.011Z"
   },
   {
    "duration": 9,
    "start_time": "2023-04-04T16:13:10.821Z"
   },
   {
    "duration": 504,
    "start_time": "2023-04-04T16:13:53.570Z"
   },
   {
    "duration": 46,
    "start_time": "2023-04-04T16:13:56.050Z"
   },
   {
    "duration": 380,
    "start_time": "2023-04-04T16:14:11.256Z"
   },
   {
    "duration": 58,
    "start_time": "2023-04-04T16:14:11.638Z"
   },
   {
    "duration": 21,
    "start_time": "2023-04-04T16:14:11.697Z"
   },
   {
    "duration": 963,
    "start_time": "2023-04-04T16:14:11.720Z"
   },
   {
    "duration": 9,
    "start_time": "2023-04-04T16:14:12.685Z"
   },
   {
    "duration": 8,
    "start_time": "2023-04-04T16:14:12.695Z"
   },
   {
    "duration": 22,
    "start_time": "2023-04-04T16:14:12.704Z"
   },
   {
    "duration": 17,
    "start_time": "2023-04-04T16:14:12.727Z"
   },
   {
    "duration": 11,
    "start_time": "2023-04-04T16:14:12.745Z"
   },
   {
    "duration": 5,
    "start_time": "2023-04-04T16:14:12.759Z"
   },
   {
    "duration": 7,
    "start_time": "2023-04-04T16:14:12.765Z"
   },
   {
    "duration": 11,
    "start_time": "2023-04-04T16:14:12.773Z"
   },
   {
    "duration": 4,
    "start_time": "2023-04-04T16:14:12.785Z"
   },
   {
    "duration": 10,
    "start_time": "2023-04-04T16:14:12.791Z"
   },
   {
    "duration": 38,
    "start_time": "2023-04-04T16:14:12.803Z"
   },
   {
    "duration": 11,
    "start_time": "2023-04-04T16:14:12.843Z"
   },
   {
    "duration": 15,
    "start_time": "2023-04-04T16:14:12.855Z"
   },
   {
    "duration": 19,
    "start_time": "2023-04-04T16:14:12.872Z"
   },
   {
    "duration": 150,
    "start_time": "2023-04-04T16:14:12.893Z"
   },
   {
    "duration": 17,
    "start_time": "2023-04-04T16:14:13.045Z"
   },
   {
    "duration": 222,
    "start_time": "2023-04-04T16:14:13.064Z"
   },
   {
    "duration": 146,
    "start_time": "2023-04-04T16:14:13.288Z"
   },
   {
    "duration": 162,
    "start_time": "2023-04-04T16:14:13.435Z"
   },
   {
    "duration": 162,
    "start_time": "2023-04-04T16:14:13.598Z"
   },
   {
    "duration": 144,
    "start_time": "2023-04-04T16:14:13.762Z"
   },
   {
    "duration": 22,
    "start_time": "2023-04-04T16:14:13.907Z"
   },
   {
    "duration": 66,
    "start_time": "2023-04-04T16:14:13.941Z"
   },
   {
    "duration": 0,
    "start_time": "2023-04-04T16:14:14.009Z"
   },
   {
    "duration": 0,
    "start_time": "2023-04-04T16:14:14.010Z"
   },
   {
    "duration": 0,
    "start_time": "2023-04-04T16:14:14.011Z"
   },
   {
    "duration": 0,
    "start_time": "2023-04-04T16:14:14.012Z"
   },
   {
    "duration": 12,
    "start_time": "2023-04-04T16:14:31.544Z"
   },
   {
    "duration": 9,
    "start_time": "2023-04-04T16:14:41.802Z"
   },
   {
    "duration": 12,
    "start_time": "2023-04-04T16:15:00.424Z"
   },
   {
    "duration": 153,
    "start_time": "2023-04-04T16:16:51.118Z"
   },
   {
    "duration": 144,
    "start_time": "2023-04-04T16:17:05.169Z"
   },
   {
    "duration": 131,
    "start_time": "2023-04-04T16:17:10.063Z"
   },
   {
    "duration": 168,
    "start_time": "2023-04-04T16:17:20.670Z"
   },
   {
    "duration": 145,
    "start_time": "2023-04-04T16:17:28.610Z"
   },
   {
    "duration": 4,
    "start_time": "2023-04-04T16:21:19.278Z"
   },
   {
    "duration": 4,
    "start_time": "2023-04-04T16:21:26.749Z"
   },
   {
    "duration": 11,
    "start_time": "2023-04-04T16:21:30.117Z"
   },
   {
    "duration": 1124,
    "start_time": "2023-04-04T16:22:49.229Z"
   },
   {
    "duration": 10,
    "start_time": "2023-04-04T16:26:26.989Z"
   },
   {
    "duration": 9,
    "start_time": "2023-04-04T16:26:40.289Z"
   },
   {
    "duration": 11,
    "start_time": "2023-04-04T16:26:53.317Z"
   },
   {
    "duration": 554,
    "start_time": "2023-04-04T16:26:57.309Z"
   },
   {
    "duration": 164,
    "start_time": "2023-04-04T16:26:57.869Z"
   },
   {
    "duration": 432,
    "start_time": "2023-04-04T17:58:31.059Z"
   },
   {
    "duration": 265,
    "start_time": "2023-04-04T17:58:31.494Z"
   },
   {
    "duration": 25,
    "start_time": "2023-04-04T17:58:31.761Z"
   },
   {
    "duration": 1398,
    "start_time": "2023-04-04T17:58:31.787Z"
   },
   {
    "duration": 12,
    "start_time": "2023-04-04T17:58:33.189Z"
   },
   {
    "duration": 15,
    "start_time": "2023-04-04T17:58:33.202Z"
   },
   {
    "duration": 94,
    "start_time": "2023-04-04T17:58:33.219Z"
   },
   {
    "duration": 29,
    "start_time": "2023-04-04T17:58:33.315Z"
   },
   {
    "duration": 20,
    "start_time": "2023-04-04T17:58:33.346Z"
   },
   {
    "duration": 5,
    "start_time": "2023-04-04T17:58:33.368Z"
   },
   {
    "duration": 6,
    "start_time": "2023-04-04T17:58:33.374Z"
   },
   {
    "duration": 11,
    "start_time": "2023-04-04T17:58:33.381Z"
   },
   {
    "duration": 7,
    "start_time": "2023-04-04T17:58:33.394Z"
   },
   {
    "duration": 33,
    "start_time": "2023-04-04T17:58:33.404Z"
   },
   {
    "duration": 8,
    "start_time": "2023-04-04T17:58:33.443Z"
   },
   {
    "duration": 25,
    "start_time": "2023-04-04T17:58:33.453Z"
   },
   {
    "duration": 17,
    "start_time": "2023-04-04T17:58:33.480Z"
   },
   {
    "duration": 27,
    "start_time": "2023-04-04T17:58:33.499Z"
   },
   {
    "duration": 172,
    "start_time": "2023-04-04T17:58:33.528Z"
   },
   {
    "duration": 19,
    "start_time": "2023-04-04T17:58:33.702Z"
   },
   {
    "duration": 181,
    "start_time": "2023-04-04T17:58:33.723Z"
   },
   {
    "duration": 201,
    "start_time": "2023-04-04T17:58:33.906Z"
   },
   {
    "duration": 190,
    "start_time": "2023-04-04T17:58:34.109Z"
   },
   {
    "duration": 168,
    "start_time": "2023-04-04T17:58:34.301Z"
   },
   {
    "duration": 157,
    "start_time": "2023-04-04T17:58:34.470Z"
   },
   {
    "duration": 33,
    "start_time": "2023-04-04T17:58:34.636Z"
   },
   {
    "duration": 10,
    "start_time": "2023-04-04T17:58:34.671Z"
   },
   {
    "duration": 602,
    "start_time": "2023-04-04T17:58:34.682Z"
   },
   {
    "duration": 184,
    "start_time": "2023-04-04T17:58:35.286Z"
   },
   {
    "duration": 9,
    "start_time": "2023-04-04T17:58:35.472Z"
   },
   {
    "duration": 13,
    "start_time": "2023-04-04T17:58:35.483Z"
   },
   {
    "duration": 21,
    "start_time": "2023-04-04T17:59:56.761Z"
   },
   {
    "duration": 17,
    "start_time": "2023-04-04T18:02:12.729Z"
   },
   {
    "duration": 17,
    "start_time": "2023-04-04T18:03:16.563Z"
   },
   {
    "duration": 23,
    "start_time": "2023-04-04T18:03:18.225Z"
   },
   {
    "duration": 16,
    "start_time": "2023-04-04T18:06:10.095Z"
   },
   {
    "duration": 15,
    "start_time": "2023-04-04T18:06:21.303Z"
   },
   {
    "duration": 16,
    "start_time": "2023-04-04T18:06:32.259Z"
   },
   {
    "duration": 16,
    "start_time": "2023-04-04T18:06:45.259Z"
   },
   {
    "duration": 16,
    "start_time": "2023-04-04T18:06:48.304Z"
   },
   {
    "duration": 16,
    "start_time": "2023-04-04T18:09:00.347Z"
   },
   {
    "duration": 15,
    "start_time": "2023-04-04T18:09:06.390Z"
   },
   {
    "duration": 16,
    "start_time": "2023-04-04T18:09:13.207Z"
   },
   {
    "duration": 15,
    "start_time": "2023-04-04T18:14:26.108Z"
   },
   {
    "duration": 14,
    "start_time": "2023-04-04T18:14:58.817Z"
   },
   {
    "duration": 16,
    "start_time": "2023-04-04T18:15:25.326Z"
   },
   {
    "duration": 12,
    "start_time": "2023-04-04T18:15:33.966Z"
   },
   {
    "duration": 151,
    "start_time": "2023-04-04T18:15:39.088Z"
   },
   {
    "duration": 143,
    "start_time": "2023-04-04T18:15:47.405Z"
   },
   {
    "duration": 135,
    "start_time": "2023-04-04T18:15:51.253Z"
   },
   {
    "duration": 175,
    "start_time": "2023-04-04T18:15:56.473Z"
   },
   {
    "duration": 135,
    "start_time": "2023-04-04T18:16:00.546Z"
   },
   {
    "duration": 144,
    "start_time": "2023-04-04T18:16:03.845Z"
   },
   {
    "duration": 146,
    "start_time": "2023-04-04T18:16:07.813Z"
   },
   {
    "duration": 134,
    "start_time": "2023-04-04T18:16:10.946Z"
   },
   {
    "duration": 256,
    "start_time": "2023-04-04T18:16:14.005Z"
   },
   {
    "duration": 15,
    "start_time": "2023-04-04T18:39:18.019Z"
   },
   {
    "duration": 13,
    "start_time": "2023-04-04T18:39:20.637Z"
   },
   {
    "duration": 90,
    "start_time": "2023-04-04T18:46:49.279Z"
   },
   {
    "duration": 17,
    "start_time": "2023-04-04T18:51:32.997Z"
   },
   {
    "duration": 117,
    "start_time": "2023-04-04T18:51:39.717Z"
   },
   {
    "duration": 137,
    "start_time": "2023-04-04T18:51:48.197Z"
   },
   {
    "duration": 17,
    "start_time": "2023-04-04T18:51:52.977Z"
   },
   {
    "duration": 3,
    "start_time": "2023-04-04T18:52:47.190Z"
   },
   {
    "duration": 157,
    "start_time": "2023-04-04T18:52:48.970Z"
   },
   {
    "duration": 96,
    "start_time": "2023-04-04T19:18:27.987Z"
   },
   {
    "duration": 157,
    "start_time": "2023-04-04T19:21:07.830Z"
   },
   {
    "duration": 157,
    "start_time": "2023-04-04T19:21:37.981Z"
   },
   {
    "duration": 75,
    "start_time": "2023-04-04T19:27:19.126Z"
   },
   {
    "duration": 76,
    "start_time": "2023-04-04T19:27:29.186Z"
   },
   {
    "duration": 16,
    "start_time": "2023-04-04T19:27:35.346Z"
   },
   {
    "duration": 331,
    "start_time": "2023-04-04T19:30:01.992Z"
   },
   {
    "duration": 152,
    "start_time": "2023-04-04T19:30:09.750Z"
   },
   {
    "duration": 17,
    "start_time": "2023-04-04T19:30:15.198Z"
   },
   {
    "duration": 162,
    "start_time": "2023-04-04T19:30:46.890Z"
   },
   {
    "duration": 438,
    "start_time": "2023-04-04T19:35:59.844Z"
   },
   {
    "duration": 58,
    "start_time": "2023-04-04T19:36:00.284Z"
   },
   {
    "duration": 25,
    "start_time": "2023-04-04T19:36:00.344Z"
   },
   {
    "duration": 1121,
    "start_time": "2023-04-04T19:36:00.370Z"
   },
   {
    "duration": 11,
    "start_time": "2023-04-04T19:36:01.494Z"
   },
   {
    "duration": 38,
    "start_time": "2023-04-04T19:36:01.507Z"
   },
   {
    "duration": 44,
    "start_time": "2023-04-04T19:36:01.547Z"
   },
   {
    "duration": 28,
    "start_time": "2023-04-04T19:36:01.593Z"
   },
   {
    "duration": 22,
    "start_time": "2023-04-04T19:36:01.623Z"
   },
   {
    "duration": 10,
    "start_time": "2023-04-04T19:36:01.647Z"
   },
   {
    "duration": 57,
    "start_time": "2023-04-04T19:36:01.658Z"
   },
   {
    "duration": 26,
    "start_time": "2023-04-04T19:36:01.717Z"
   },
   {
    "duration": 16,
    "start_time": "2023-04-04T19:36:01.745Z"
   },
   {
    "duration": 35,
    "start_time": "2023-04-04T19:36:01.764Z"
   },
   {
    "duration": 16,
    "start_time": "2023-04-04T19:36:01.801Z"
   },
   {
    "duration": 43,
    "start_time": "2023-04-04T19:36:01.819Z"
   },
   {
    "duration": 64,
    "start_time": "2023-04-04T19:36:01.863Z"
   },
   {
    "duration": 37,
    "start_time": "2023-04-04T19:36:01.928Z"
   },
   {
    "duration": 149,
    "start_time": "2023-04-04T19:36:01.966Z"
   },
   {
    "duration": 23,
    "start_time": "2023-04-04T19:36:02.117Z"
   },
   {
    "duration": 221,
    "start_time": "2023-04-04T19:36:02.142Z"
   },
   {
    "duration": 173,
    "start_time": "2023-04-04T19:36:02.365Z"
   },
   {
    "duration": 169,
    "start_time": "2023-04-04T19:36:02.540Z"
   },
   {
    "duration": 156,
    "start_time": "2023-04-04T19:36:02.711Z"
   },
   {
    "duration": 150,
    "start_time": "2023-04-04T19:36:02.868Z"
   },
   {
    "duration": 34,
    "start_time": "2023-04-04T19:36:03.020Z"
   },
   {
    "duration": 23,
    "start_time": "2023-04-04T19:36:03.056Z"
   },
   {
    "duration": 20,
    "start_time": "2023-04-04T19:36:03.081Z"
   },
   {
    "duration": 193,
    "start_time": "2023-04-04T19:36:03.103Z"
   },
   {
    "duration": 10,
    "start_time": "2023-04-04T19:36:03.298Z"
   },
   {
    "duration": 24,
    "start_time": "2023-04-04T19:36:03.309Z"
   },
   {
    "duration": 169,
    "start_time": "2023-04-04T19:36:03.335Z"
   },
   {
    "duration": 17,
    "start_time": "2023-04-04T19:36:03.506Z"
   },
   {
    "duration": 23,
    "start_time": "2023-04-04T19:36:03.533Z"
   },
   {
    "duration": 173,
    "start_time": "2023-04-04T19:36:03.557Z"
   },
   {
    "duration": 165,
    "start_time": "2023-04-04T19:36:03.733Z"
   },
   {
    "duration": 169,
    "start_time": "2023-04-04T19:36:03.899Z"
   },
   {
    "duration": 191,
    "start_time": "2023-04-04T19:36:04.070Z"
   },
   {
    "duration": 237,
    "start_time": "2023-04-04T19:36:04.263Z"
   },
   {
    "duration": 173,
    "start_time": "2023-04-04T19:36:04.502Z"
   },
   {
    "duration": 159,
    "start_time": "2023-04-04T19:36:04.678Z"
   },
   {
    "duration": 157,
    "start_time": "2023-04-04T19:36:04.839Z"
   },
   {
    "duration": 154,
    "start_time": "2023-04-04T19:36:04.998Z"
   },
   {
    "duration": 426,
    "start_time": "2023-04-04T20:01:30.058Z"
   },
   {
    "duration": 59,
    "start_time": "2023-04-04T20:01:30.486Z"
   },
   {
    "duration": 22,
    "start_time": "2023-04-04T20:01:30.547Z"
   },
   {
    "duration": 1149,
    "start_time": "2023-04-04T20:01:30.571Z"
   },
   {
    "duration": 17,
    "start_time": "2023-04-04T20:01:31.722Z"
   },
   {
    "duration": 29,
    "start_time": "2023-04-04T20:01:31.741Z"
   },
   {
    "duration": 49,
    "start_time": "2023-04-04T20:01:31.772Z"
   },
   {
    "duration": 44,
    "start_time": "2023-04-04T20:01:31.823Z"
   },
   {
    "duration": 48,
    "start_time": "2023-04-04T20:01:31.869Z"
   },
   {
    "duration": 43,
    "start_time": "2023-04-04T20:01:31.919Z"
   },
   {
    "duration": 94,
    "start_time": "2023-04-04T20:01:31.964Z"
   },
   {
    "duration": 62,
    "start_time": "2023-04-04T20:01:32.060Z"
   },
   {
    "duration": 32,
    "start_time": "2023-04-04T20:01:32.124Z"
   },
   {
    "duration": 48,
    "start_time": "2023-04-04T20:01:32.160Z"
   },
   {
    "duration": 9,
    "start_time": "2023-04-04T20:01:32.210Z"
   },
   {
    "duration": 17,
    "start_time": "2023-04-04T20:01:32.221Z"
   },
   {
    "duration": 20,
    "start_time": "2023-04-04T20:01:32.240Z"
   },
   {
    "duration": 25,
    "start_time": "2023-04-04T20:01:32.262Z"
   },
   {
    "duration": 161,
    "start_time": "2023-04-04T20:01:32.289Z"
   },
   {
    "duration": 18,
    "start_time": "2023-04-04T20:01:32.452Z"
   },
   {
    "duration": 232,
    "start_time": "2023-04-04T20:01:32.472Z"
   },
   {
    "duration": 173,
    "start_time": "2023-04-04T20:01:32.706Z"
   },
   {
    "duration": 164,
    "start_time": "2023-04-04T20:01:32.881Z"
   },
   {
    "duration": 175,
    "start_time": "2023-04-04T20:01:33.047Z"
   },
   {
    "duration": 158,
    "start_time": "2023-04-04T20:01:33.224Z"
   },
   {
    "duration": 24,
    "start_time": "2023-04-04T20:01:33.384Z"
   },
   {
    "duration": 33,
    "start_time": "2023-04-04T20:01:33.410Z"
   },
   {
    "duration": 25,
    "start_time": "2023-04-04T20:01:33.445Z"
   },
   {
    "duration": 160,
    "start_time": "2023-04-04T20:01:33.472Z"
   },
   {
    "duration": 10,
    "start_time": "2023-04-04T20:01:33.634Z"
   },
   {
    "duration": 30,
    "start_time": "2023-04-04T20:01:33.646Z"
   },
   {
    "duration": 173,
    "start_time": "2023-04-04T20:01:33.678Z"
   },
   {
    "duration": 16,
    "start_time": "2023-04-04T20:01:33.853Z"
   },
   {
    "duration": 41,
    "start_time": "2023-04-04T20:01:33.871Z"
   },
   {
    "duration": 189,
    "start_time": "2023-04-04T20:01:33.914Z"
   },
   {
    "duration": 173,
    "start_time": "2023-04-04T20:01:34.105Z"
   },
   {
    "duration": 155,
    "start_time": "2023-04-04T20:01:34.280Z"
   },
   {
    "duration": 164,
    "start_time": "2023-04-04T20:01:34.437Z"
   },
   {
    "duration": 225,
    "start_time": "2023-04-04T20:01:34.603Z"
   },
   {
    "duration": 161,
    "start_time": "2023-04-04T20:01:34.833Z"
   },
   {
    "duration": 157,
    "start_time": "2023-04-04T20:01:34.998Z"
   },
   {
    "duration": 155,
    "start_time": "2023-04-04T20:01:35.157Z"
   },
   {
    "duration": 160,
    "start_time": "2023-04-04T20:01:35.314Z"
   },
   {
    "duration": 469,
    "start_time": "2023-04-04T20:11:10.137Z"
   },
   {
    "duration": 75,
    "start_time": "2023-04-04T20:13:32.920Z"
   },
   {
    "duration": 11,
    "start_time": "2023-04-04T20:13:38.004Z"
   },
   {
    "duration": 14,
    "start_time": "2023-04-04T20:13:43.372Z"
   },
   {
    "duration": 11,
    "start_time": "2023-04-04T20:13:53.301Z"
   },
   {
    "duration": 7,
    "start_time": "2023-04-04T20:18:48.086Z"
   },
   {
    "duration": 8,
    "start_time": "2023-04-04T20:19:07.406Z"
   },
   {
    "duration": 35,
    "start_time": "2023-04-04T20:19:59.165Z"
   },
   {
    "duration": 46,
    "start_time": "2023-04-04T20:20:21.343Z"
   },
   {
    "duration": 6,
    "start_time": "2023-04-04T20:21:00.278Z"
   },
   {
    "duration": 8,
    "start_time": "2023-04-04T20:21:05.778Z"
   },
   {
    "duration": 22,
    "start_time": "2023-04-04T20:22:22.944Z"
   },
   {
    "duration": 8,
    "start_time": "2023-04-04T20:22:39.944Z"
   },
   {
    "duration": 5,
    "start_time": "2023-04-04T20:22:43.424Z"
   },
   {
    "duration": 10,
    "start_time": "2023-04-04T20:24:27.982Z"
   },
   {
    "duration": 6,
    "start_time": "2023-04-04T20:24:28.622Z"
   },
   {
    "duration": 10,
    "start_time": "2023-04-04T20:25:20.792Z"
   },
   {
    "duration": 5,
    "start_time": "2023-04-04T20:25:21.381Z"
   },
   {
    "duration": 6,
    "start_time": "2023-04-04T20:25:30.293Z"
   },
   {
    "duration": 8,
    "start_time": "2023-04-04T20:26:13.608Z"
   },
   {
    "duration": 12,
    "start_time": "2023-04-04T20:26:21.580Z"
   },
   {
    "duration": 10,
    "start_time": "2023-04-04T20:29:14.987Z"
   },
   {
    "duration": 6,
    "start_time": "2023-04-04T20:29:17.515Z"
   },
   {
    "duration": 10,
    "start_time": "2023-04-04T20:29:27.708Z"
   },
   {
    "duration": 6,
    "start_time": "2023-04-04T20:29:28.368Z"
   },
   {
    "duration": 107,
    "start_time": "2023-04-04T20:30:57.513Z"
   },
   {
    "duration": 12,
    "start_time": "2023-04-04T20:31:03.841Z"
   },
   {
    "duration": 16,
    "start_time": "2023-04-04T20:32:14.107Z"
   },
   {
    "duration": 14,
    "start_time": "2023-04-04T20:32:59.365Z"
   },
   {
    "duration": 5,
    "start_time": "2023-04-04T20:33:00.146Z"
   },
   {
    "duration": 17,
    "start_time": "2023-04-04T20:33:12.126Z"
   },
   {
    "duration": 7,
    "start_time": "2023-04-04T20:33:45.218Z"
   },
   {
    "duration": 14,
    "start_time": "2023-04-04T20:42:56.597Z"
   },
   {
    "duration": 13,
    "start_time": "2023-04-04T20:43:01.328Z"
   },
   {
    "duration": 6,
    "start_time": "2023-04-04T20:43:02.157Z"
   },
   {
    "duration": 9,
    "start_time": "2023-04-04T20:43:17.162Z"
   },
   {
    "duration": 5,
    "start_time": "2023-04-04T20:43:17.842Z"
   },
   {
    "duration": 448,
    "start_time": "2023-04-04T21:04:51.965Z"
   },
   {
    "duration": 95,
    "start_time": "2023-04-04T21:04:52.415Z"
   },
   {
    "duration": 22,
    "start_time": "2023-04-04T21:04:52.512Z"
   },
   {
    "duration": 1417,
    "start_time": "2023-04-04T21:04:52.536Z"
   },
   {
    "duration": 12,
    "start_time": "2023-04-04T21:04:53.955Z"
   },
   {
    "duration": 21,
    "start_time": "2023-04-04T21:04:53.969Z"
   },
   {
    "duration": 100,
    "start_time": "2023-04-04T21:04:53.993Z"
   },
   {
    "duration": 11,
    "start_time": "2023-04-04T21:04:54.095Z"
   },
   {
    "duration": 14,
    "start_time": "2023-04-04T21:04:54.107Z"
   },
   {
    "duration": 5,
    "start_time": "2023-04-04T21:04:54.123Z"
   },
   {
    "duration": 13,
    "start_time": "2023-04-04T21:04:54.130Z"
   },
   {
    "duration": 18,
    "start_time": "2023-04-04T21:04:54.145Z"
   },
   {
    "duration": 23,
    "start_time": "2023-04-04T21:04:54.166Z"
   },
   {
    "duration": 35,
    "start_time": "2023-04-04T21:04:54.193Z"
   },
   {
    "duration": 11,
    "start_time": "2023-04-04T21:04:54.230Z"
   },
   {
    "duration": 37,
    "start_time": "2023-04-04T21:04:54.243Z"
   },
   {
    "duration": 43,
    "start_time": "2023-04-04T21:04:54.282Z"
   },
   {
    "duration": 39,
    "start_time": "2023-04-04T21:04:54.327Z"
   },
   {
    "duration": 184,
    "start_time": "2023-04-04T21:04:54.368Z"
   },
   {
    "duration": 17,
    "start_time": "2023-04-04T21:04:54.555Z"
   },
   {
    "duration": 231,
    "start_time": "2023-04-04T21:04:54.573Z"
   },
   {
    "duration": 182,
    "start_time": "2023-04-04T21:04:54.807Z"
   },
   {
    "duration": 235,
    "start_time": "2023-04-04T21:04:54.992Z"
   },
   {
    "duration": 188,
    "start_time": "2023-04-04T21:04:55.229Z"
   },
   {
    "duration": 157,
    "start_time": "2023-04-04T21:04:55.418Z"
   },
   {
    "duration": 39,
    "start_time": "2023-04-04T21:04:55.577Z"
   },
   {
    "duration": 19,
    "start_time": "2023-04-04T21:04:55.618Z"
   },
   {
    "duration": 3,
    "start_time": "2023-04-04T21:04:55.640Z"
   },
   {
    "duration": 229,
    "start_time": "2023-04-04T21:04:55.645Z"
   },
   {
    "duration": 15,
    "start_time": "2023-04-04T21:04:55.876Z"
   },
   {
    "duration": 12,
    "start_time": "2023-04-04T21:04:55.893Z"
   },
   {
    "duration": 184,
    "start_time": "2023-04-04T21:04:55.907Z"
   },
   {
    "duration": 18,
    "start_time": "2023-04-04T21:04:56.093Z"
   },
   {
    "duration": 47,
    "start_time": "2023-04-04T21:04:56.113Z"
   },
   {
    "duration": 240,
    "start_time": "2023-04-04T21:04:56.162Z"
   },
   {
    "duration": 220,
    "start_time": "2023-04-04T21:04:56.405Z"
   },
   {
    "duration": 246,
    "start_time": "2023-04-04T21:04:56.628Z"
   },
   {
    "duration": 254,
    "start_time": "2023-04-04T21:04:56.876Z"
   },
   {
    "duration": 165,
    "start_time": "2023-04-04T21:04:57.132Z"
   },
   {
    "duration": 213,
    "start_time": "2023-04-04T21:04:57.299Z"
   },
   {
    "duration": 188,
    "start_time": "2023-04-04T21:04:57.518Z"
   },
   {
    "duration": 206,
    "start_time": "2023-04-04T21:04:57.708Z"
   },
   {
    "duration": 177,
    "start_time": "2023-04-04T21:04:57.918Z"
   },
   {
    "duration": 605,
    "start_time": "2023-04-04T21:04:58.098Z"
   },
   {
    "duration": 10,
    "start_time": "2023-04-04T21:04:58.706Z"
   },
   {
    "duration": 18,
    "start_time": "2023-04-04T21:04:58.717Z"
   },
   {
    "duration": 10,
    "start_time": "2023-04-04T21:04:58.738Z"
   },
   {
    "duration": 8,
    "start_time": "2023-04-04T21:04:58.750Z"
   },
   {
    "duration": 51,
    "start_time": "2023-04-05T05:29:10.469Z"
   },
   {
    "duration": 1251,
    "start_time": "2023-04-05T05:56:54.371Z"
   },
   {
    "duration": 107,
    "start_time": "2023-04-05T05:56:55.624Z"
   },
   {
    "duration": 21,
    "start_time": "2023-04-05T05:56:58.193Z"
   },
   {
    "duration": 769,
    "start_time": "2023-04-05T05:56:59.859Z"
   },
   {
    "duration": 9,
    "start_time": "2023-04-05T05:57:02.000Z"
   },
   {
    "duration": 3,
    "start_time": "2023-04-05T05:57:07.891Z"
   },
   {
    "duration": 14,
    "start_time": "2023-04-05T05:57:10.772Z"
   },
   {
    "duration": 10,
    "start_time": "2023-04-05T05:57:12.271Z"
   },
   {
    "duration": 10,
    "start_time": "2023-04-05T05:57:14.155Z"
   },
   {
    "duration": 5,
    "start_time": "2023-04-05T05:57:14.671Z"
   },
   {
    "duration": 4,
    "start_time": "2023-04-05T05:57:15.431Z"
   },
   {
    "duration": 9,
    "start_time": "2023-04-05T05:57:18.462Z"
   },
   {
    "duration": 6,
    "start_time": "2023-04-05T05:57:18.967Z"
   },
   {
    "duration": 9,
    "start_time": "2023-04-05T05:57:21.683Z"
   },
   {
    "duration": 7,
    "start_time": "2023-04-05T05:57:22.155Z"
   },
   {
    "duration": 12,
    "start_time": "2023-04-05T05:57:23.559Z"
   },
   {
    "duration": 17,
    "start_time": "2023-04-05T05:57:25.460Z"
   },
   {
    "duration": 20,
    "start_time": "2023-04-05T05:57:26.403Z"
   },
   {
    "duration": 148,
    "start_time": "2023-04-05T05:57:32.979Z"
   },
   {
    "duration": 131,
    "start_time": "2023-04-05T05:57:41.971Z"
   },
   {
    "duration": 21,
    "start_time": "2023-04-05T05:57:47.231Z"
   },
   {
    "duration": 136,
    "start_time": "2023-04-05T05:57:50.359Z"
   },
   {
    "duration": 149,
    "start_time": "2023-04-05T05:57:52.911Z"
   },
   {
    "duration": 162,
    "start_time": "2023-04-05T05:57:54.823Z"
   },
   {
    "duration": 190,
    "start_time": "2023-04-05T05:57:56.131Z"
   },
   {
    "duration": 202,
    "start_time": "2023-04-05T05:57:57.288Z"
   },
   {
    "duration": 24,
    "start_time": "2023-04-05T05:58:06.059Z"
   },
   {
    "duration": 15,
    "start_time": "2023-04-05T05:58:12.758Z"
   },
   {
    "duration": 163,
    "start_time": "2023-04-05T05:58:47.513Z"
   },
   {
    "duration": 342,
    "start_time": "2023-04-05T05:59:40.359Z"
   },
   {
    "duration": 1063,
    "start_time": "2023-04-05T06:02:20.958Z"
   },
   {
    "duration": 75,
    "start_time": "2023-04-05T06:02:22.682Z"
   },
   {
    "duration": 18,
    "start_time": "2023-04-05T06:02:23.163Z"
   },
   {
    "duration": 718,
    "start_time": "2023-04-05T06:02:23.601Z"
   },
   {
    "duration": 25,
    "start_time": "2023-04-05T06:02:24.320Z"
   },
   {
    "duration": 3,
    "start_time": "2023-04-05T06:02:25.329Z"
   },
   {
    "duration": 21,
    "start_time": "2023-04-05T06:02:26.282Z"
   },
   {
    "duration": 13,
    "start_time": "2023-04-05T06:02:26.962Z"
   },
   {
    "duration": 11,
    "start_time": "2023-04-05T06:02:29.510Z"
   },
   {
    "duration": 6,
    "start_time": "2023-04-05T06:02:30.001Z"
   },
   {
    "duration": 4,
    "start_time": "2023-04-05T06:02:30.471Z"
   },
   {
    "duration": 8,
    "start_time": "2023-04-05T06:02:31.859Z"
   },
   {
    "duration": 5,
    "start_time": "2023-04-05T06:02:32.282Z"
   },
   {
    "duration": 9,
    "start_time": "2023-04-05T06:02:33.202Z"
   },
   {
    "duration": 6,
    "start_time": "2023-04-05T06:02:33.497Z"
   },
   {
    "duration": 12,
    "start_time": "2023-04-05T06:02:34.253Z"
   },
   {
    "duration": 17,
    "start_time": "2023-04-05T06:02:34.981Z"
   },
   {
    "duration": 26,
    "start_time": "2023-04-05T06:02:35.409Z"
   },
   {
    "duration": 155,
    "start_time": "2023-04-05T06:02:36.502Z"
   },
   {
    "duration": 16,
    "start_time": "2023-04-05T06:02:37.922Z"
   },
   {
    "duration": 169,
    "start_time": "2023-04-05T06:02:40.501Z"
   },
   {
    "duration": 152,
    "start_time": "2023-04-05T06:02:41.929Z"
   },
   {
    "duration": 179,
    "start_time": "2023-04-05T06:02:42.501Z"
   },
   {
    "duration": 139,
    "start_time": "2023-04-05T06:02:43.161Z"
   },
   {
    "duration": 154,
    "start_time": "2023-04-05T06:02:43.738Z"
   },
   {
    "duration": 46,
    "start_time": "2023-04-05T06:02:46.527Z"
   },
   {
    "duration": 18,
    "start_time": "2023-04-05T06:02:50.602Z"
   },
   {
    "duration": 220,
    "start_time": "2023-04-05T06:02:55.902Z"
   },
   {
    "duration": 10,
    "start_time": "2023-04-05T06:02:58.522Z"
   },
   {
    "duration": 347,
    "start_time": "2023-04-05T06:03:18.449Z"
   },
   {
    "duration": 6,
    "start_time": "2023-04-05T06:04:07.300Z"
   },
   {
    "duration": 178,
    "start_time": "2023-04-05T06:04:14.460Z"
   },
   {
    "duration": 992,
    "start_time": "2023-04-05T06:06:41.086Z"
   },
   {
    "duration": 48,
    "start_time": "2023-04-05T06:06:42.080Z"
   },
   {
    "duration": 37,
    "start_time": "2023-04-05T06:06:42.129Z"
   },
   {
    "duration": 714,
    "start_time": "2023-04-05T06:06:42.168Z"
   },
   {
    "duration": 10,
    "start_time": "2023-04-05T06:06:42.884Z"
   },
   {
    "duration": 3,
    "start_time": "2023-04-05T06:06:44.404Z"
   },
   {
    "duration": 15,
    "start_time": "2023-04-05T06:06:45.672Z"
   },
   {
    "duration": 14,
    "start_time": "2023-04-05T06:06:58.065Z"
   },
   {
    "duration": 12,
    "start_time": "2023-04-05T06:06:59.685Z"
   },
   {
    "duration": 5,
    "start_time": "2023-04-05T06:07:00.185Z"
   },
   {
    "duration": 4,
    "start_time": "2023-04-05T06:07:00.765Z"
   },
   {
    "duration": 10,
    "start_time": "2023-04-05T06:07:03.005Z"
   },
   {
    "duration": 4,
    "start_time": "2023-04-05T06:07:03.585Z"
   },
   {
    "duration": 9,
    "start_time": "2023-04-05T06:07:04.692Z"
   },
   {
    "duration": 5,
    "start_time": "2023-04-05T06:07:05.065Z"
   },
   {
    "duration": 11,
    "start_time": "2023-04-05T06:07:06.024Z"
   },
   {
    "duration": 25,
    "start_time": "2023-04-05T06:07:06.904Z"
   },
   {
    "duration": 16,
    "start_time": "2023-04-05T06:07:07.165Z"
   },
   {
    "duration": 138,
    "start_time": "2023-04-05T06:07:08.225Z"
   },
   {
    "duration": 19,
    "start_time": "2023-04-05T06:07:10.058Z"
   },
   {
    "duration": 154,
    "start_time": "2023-04-05T06:07:10.824Z"
   },
   {
    "duration": 143,
    "start_time": "2023-04-05T06:07:11.196Z"
   },
   {
    "duration": 141,
    "start_time": "2023-04-05T06:07:11.564Z"
   },
   {
    "duration": 138,
    "start_time": "2023-04-05T06:07:11.964Z"
   },
   {
    "duration": 144,
    "start_time": "2023-04-05T06:07:12.365Z"
   },
   {
    "duration": 23,
    "start_time": "2023-04-05T06:07:13.357Z"
   },
   {
    "duration": 16,
    "start_time": "2023-04-05T06:07:14.156Z"
   },
   {
    "duration": 263,
    "start_time": "2023-04-05T06:07:16.125Z"
   },
   {
    "duration": 11,
    "start_time": "2023-04-05T06:07:18.285Z"
   },
   {
    "duration": 9,
    "start_time": "2023-04-05T06:07:20.296Z"
   },
   {
    "duration": 2566,
    "start_time": "2023-04-05T06:14:30.636Z"
   },
   {
    "duration": 2716,
    "start_time": "2023-04-05T06:14:50.430Z"
   },
   {
    "duration": 3333,
    "start_time": "2023-04-05T06:15:03.502Z"
   },
   {
    "duration": 134,
    "start_time": "2023-04-05T06:15:45.978Z"
   },
   {
    "duration": 14,
    "start_time": "2023-04-05T06:15:55.161Z"
   },
   {
    "duration": 24,
    "start_time": "2023-04-05T06:16:08.138Z"
   },
   {
    "duration": 24,
    "start_time": "2023-04-05T06:22:06.186Z"
   },
   {
    "duration": 183,
    "start_time": "2023-04-05T06:23:43.286Z"
   },
   {
    "duration": 13,
    "start_time": "2023-04-05T06:24:05.574Z"
   },
   {
    "duration": 16,
    "start_time": "2023-04-05T06:24:21.859Z"
   },
   {
    "duration": 17,
    "start_time": "2023-04-05T06:24:27.684Z"
   },
   {
    "duration": 189,
    "start_time": "2023-04-05T06:24:46.206Z"
   },
   {
    "duration": 16,
    "start_time": "2023-04-05T06:25:20.759Z"
   },
   {
    "duration": 121,
    "start_time": "2023-04-05T06:25:37.398Z"
   },
   {
    "duration": 167,
    "start_time": "2023-04-05T06:25:49.288Z"
   },
   {
    "duration": 204,
    "start_time": "2023-04-05T06:25:54.087Z"
   },
   {
    "duration": 168,
    "start_time": "2023-04-05T06:26:02.895Z"
   },
   {
    "duration": 151,
    "start_time": "2023-04-05T06:26:08.774Z"
   },
   {
    "duration": 246,
    "start_time": "2023-04-05T06:26:16.827Z"
   },
   {
    "duration": 204,
    "start_time": "2023-04-05T06:29:08.594Z"
   },
   {
    "duration": 154,
    "start_time": "2023-04-05T06:29:11.259Z"
   },
   {
    "duration": 173,
    "start_time": "2023-04-05T06:29:42.515Z"
   },
   {
    "duration": 192,
    "start_time": "2023-04-05T06:29:51.019Z"
   },
   {
    "duration": 211,
    "start_time": "2023-04-05T06:29:56.538Z"
   },
   {
    "duration": 158,
    "start_time": "2023-04-05T06:30:16.123Z"
   },
   {
    "duration": 178,
    "start_time": "2023-04-05T06:30:31.893Z"
   },
   {
    "duration": 132,
    "start_time": "2023-04-05T06:30:41.162Z"
   },
   {
    "duration": 125,
    "start_time": "2023-04-05T06:30:52.158Z"
   },
   {
    "duration": 11,
    "start_time": "2023-04-05T06:32:56.073Z"
   },
   {
    "duration": 8,
    "start_time": "2023-04-05T06:32:56.593Z"
   },
   {
    "duration": 1102,
    "start_time": "2023-04-05T07:37:47.672Z"
   },
   {
    "duration": 49,
    "start_time": "2023-04-05T07:37:48.776Z"
   },
   {
    "duration": 34,
    "start_time": "2023-04-05T07:37:48.826Z"
   },
   {
    "duration": 731,
    "start_time": "2023-04-05T07:37:48.862Z"
   },
   {
    "duration": 10,
    "start_time": "2023-04-05T07:37:49.595Z"
   },
   {
    "duration": 3,
    "start_time": "2023-04-05T07:37:49.606Z"
   },
   {
    "duration": 62,
    "start_time": "2023-04-05T07:37:49.611Z"
   },
   {
    "duration": 8,
    "start_time": "2023-04-05T07:37:49.675Z"
   },
   {
    "duration": 9,
    "start_time": "2023-04-05T07:37:49.685Z"
   },
   {
    "duration": 4,
    "start_time": "2023-04-05T07:37:49.695Z"
   },
   {
    "duration": 5,
    "start_time": "2023-04-05T07:37:49.700Z"
   },
   {
    "duration": 9,
    "start_time": "2023-04-05T07:37:49.706Z"
   },
   {
    "duration": 8,
    "start_time": "2023-04-05T07:37:49.716Z"
   },
   {
    "duration": 42,
    "start_time": "2023-04-05T07:37:49.727Z"
   },
   {
    "duration": 5,
    "start_time": "2023-04-05T07:37:49.771Z"
   },
   {
    "duration": 7,
    "start_time": "2023-04-05T07:37:49.778Z"
   },
   {
    "duration": 14,
    "start_time": "2023-04-05T07:37:49.786Z"
   },
   {
    "duration": 20,
    "start_time": "2023-04-05T07:37:49.802Z"
   },
   {
    "duration": 156,
    "start_time": "2023-04-05T07:37:49.824Z"
   },
   {
    "duration": 21,
    "start_time": "2023-04-05T07:37:49.982Z"
   },
   {
    "duration": 165,
    "start_time": "2023-04-05T07:37:50.004Z"
   },
   {
    "duration": 154,
    "start_time": "2023-04-05T07:37:50.171Z"
   },
   {
    "duration": 155,
    "start_time": "2023-04-05T07:37:50.327Z"
   },
   {
    "duration": 185,
    "start_time": "2023-04-05T07:37:50.485Z"
   },
   {
    "duration": 142,
    "start_time": "2023-04-05T07:37:50.672Z"
   },
   {
    "duration": 42,
    "start_time": "2023-04-05T07:37:50.815Z"
   },
   {
    "duration": 21,
    "start_time": "2023-04-05T07:37:50.858Z"
   },
   {
    "duration": 114,
    "start_time": "2023-04-05T07:37:50.880Z"
   },
   {
    "duration": 0,
    "start_time": "2023-04-05T07:37:50.996Z"
   },
   {
    "duration": 0,
    "start_time": "2023-04-05T07:37:50.997Z"
   },
   {
    "duration": 0,
    "start_time": "2023-04-05T07:37:50.998Z"
   },
   {
    "duration": 0,
    "start_time": "2023-04-05T07:37:50.999Z"
   },
   {
    "duration": 0,
    "start_time": "2023-04-05T07:37:51.000Z"
   },
   {
    "duration": 0,
    "start_time": "2023-04-05T07:37:51.001Z"
   },
   {
    "duration": 0,
    "start_time": "2023-04-05T07:37:51.002Z"
   },
   {
    "duration": 0,
    "start_time": "2023-04-05T07:37:51.003Z"
   },
   {
    "duration": 0,
    "start_time": "2023-04-05T07:37:51.004Z"
   },
   {
    "duration": 0,
    "start_time": "2023-04-05T07:37:51.005Z"
   },
   {
    "duration": 0,
    "start_time": "2023-04-05T07:37:51.006Z"
   },
   {
    "duration": 0,
    "start_time": "2023-04-05T07:37:51.104Z"
   },
   {
    "duration": 0,
    "start_time": "2023-04-05T07:37:51.105Z"
   },
   {
    "duration": 0,
    "start_time": "2023-04-05T07:37:51.105Z"
   },
   {
    "duration": 0,
    "start_time": "2023-04-05T07:37:51.106Z"
   },
   {
    "duration": 0,
    "start_time": "2023-04-05T07:37:51.107Z"
   },
   {
    "duration": 0,
    "start_time": "2023-04-05T07:37:51.108Z"
   },
   {
    "duration": 0,
    "start_time": "2023-04-05T07:37:51.109Z"
   },
   {
    "duration": 55,
    "start_time": "2023-04-05T07:38:15.361Z"
   },
   {
    "duration": 18,
    "start_time": "2023-04-05T07:38:26.385Z"
   },
   {
    "duration": 12,
    "start_time": "2023-04-05T07:43:01.874Z"
   },
   {
    "duration": 12,
    "start_time": "2023-04-05T07:43:24.176Z"
   },
   {
    "duration": 124,
    "start_time": "2023-04-05T07:43:33.357Z"
   },
   {
    "duration": 122,
    "start_time": "2023-04-05T07:44:02.632Z"
   },
   {
    "duration": 13,
    "start_time": "2023-04-05T07:46:25.872Z"
   },
   {
    "duration": 9,
    "start_time": "2023-04-05T07:46:50.168Z"
   },
   {
    "duration": 111,
    "start_time": "2023-04-05T07:47:03.375Z"
   },
   {
    "duration": 209,
    "start_time": "2023-04-05T07:47:12.767Z"
   },
   {
    "duration": 8,
    "start_time": "2023-04-05T07:47:39.539Z"
   },
   {
    "duration": 4,
    "start_time": "2023-04-05T07:48:07.017Z"
   },
   {
    "duration": 38,
    "start_time": "2023-04-05T07:48:16.316Z"
   },
   {
    "duration": 8,
    "start_time": "2023-04-05T07:48:38.760Z"
   },
   {
    "duration": 9,
    "start_time": "2023-04-05T07:49:19.871Z"
   },
   {
    "duration": 8,
    "start_time": "2023-04-05T07:49:32.064Z"
   },
   {
    "duration": 12,
    "start_time": "2023-04-05T07:49:56.919Z"
   },
   {
    "duration": 10,
    "start_time": "2023-04-05T07:50:41.574Z"
   },
   {
    "duration": 269,
    "start_time": "2023-04-05T08:05:48.728Z"
   },
   {
    "duration": 317,
    "start_time": "2023-04-05T08:06:58.309Z"
   },
   {
    "duration": 403,
    "start_time": "2023-04-05T08:07:05.962Z"
   },
   {
    "duration": 1233,
    "start_time": "2023-04-05T08:14:06.020Z"
   },
   {
    "duration": 52,
    "start_time": "2023-04-05T08:14:07.255Z"
   },
   {
    "duration": 16,
    "start_time": "2023-04-05T08:14:07.309Z"
   },
   {
    "duration": 738,
    "start_time": "2023-04-05T08:14:07.327Z"
   },
   {
    "duration": 11,
    "start_time": "2023-04-05T08:14:08.068Z"
   },
   {
    "duration": 14,
    "start_time": "2023-04-05T08:14:08.080Z"
   },
   {
    "duration": 35,
    "start_time": "2023-04-05T08:14:08.096Z"
   },
   {
    "duration": 34,
    "start_time": "2023-04-05T08:14:08.132Z"
   },
   {
    "duration": 12,
    "start_time": "2023-04-05T08:14:08.167Z"
   },
   {
    "duration": 5,
    "start_time": "2023-04-05T08:14:08.181Z"
   },
   {
    "duration": 4,
    "start_time": "2023-04-05T08:14:08.187Z"
   },
   {
    "duration": 10,
    "start_time": "2023-04-05T08:14:08.193Z"
   },
   {
    "duration": 8,
    "start_time": "2023-04-05T08:14:08.204Z"
   },
   {
    "duration": 11,
    "start_time": "2023-04-05T08:14:08.216Z"
   },
   {
    "duration": 29,
    "start_time": "2023-04-05T08:14:08.228Z"
   },
   {
    "duration": 11,
    "start_time": "2023-04-05T08:14:08.259Z"
   },
   {
    "duration": 14,
    "start_time": "2023-04-05T08:14:08.271Z"
   },
   {
    "duration": 16,
    "start_time": "2023-04-05T08:14:08.287Z"
   },
   {
    "duration": 151,
    "start_time": "2023-04-05T08:14:08.304Z"
   },
   {
    "duration": 23,
    "start_time": "2023-04-05T08:14:08.461Z"
   },
   {
    "duration": 157,
    "start_time": "2023-04-05T08:14:08.485Z"
   },
   {
    "duration": 148,
    "start_time": "2023-04-05T08:14:08.643Z"
   },
   {
    "duration": 172,
    "start_time": "2023-04-05T08:14:08.792Z"
   },
   {
    "duration": 224,
    "start_time": "2023-04-05T08:14:08.972Z"
   },
   {
    "duration": 135,
    "start_time": "2023-04-05T08:14:09.197Z"
   },
   {
    "duration": 36,
    "start_time": "2023-04-05T08:14:09.339Z"
   },
   {
    "duration": 14,
    "start_time": "2023-04-05T08:14:09.376Z"
   },
   {
    "duration": 291,
    "start_time": "2023-04-05T08:14:09.391Z"
   },
   {
    "duration": 8,
    "start_time": "2023-04-05T08:14:09.683Z"
   },
   {
    "duration": 15,
    "start_time": "2023-04-05T08:14:09.693Z"
   },
   {
    "duration": 153,
    "start_time": "2023-04-05T08:14:09.709Z"
   },
   {
    "duration": 138,
    "start_time": "2023-04-05T08:14:09.867Z"
   },
   {
    "duration": 3100,
    "start_time": "2023-04-05T08:14:10.007Z"
   },
   {
    "duration": 19,
    "start_time": "2023-04-05T08:14:13.108Z"
   },
   {
    "duration": 189,
    "start_time": "2023-04-05T08:14:13.129Z"
   },
   {
    "duration": 160,
    "start_time": "2023-04-05T08:14:13.320Z"
   },
   {
    "duration": 190,
    "start_time": "2023-04-05T08:14:13.482Z"
   },
   {
    "duration": 173,
    "start_time": "2023-04-05T08:14:13.676Z"
   },
   {
    "duration": 165,
    "start_time": "2023-04-05T08:14:13.862Z"
   },
   {
    "duration": 167,
    "start_time": "2023-04-05T08:14:14.029Z"
   },
   {
    "duration": 136,
    "start_time": "2023-04-05T08:14:14.199Z"
   },
   {
    "duration": 150,
    "start_time": "2023-04-05T08:14:14.337Z"
   },
   {
    "duration": 137,
    "start_time": "2023-04-05T08:14:14.489Z"
   },
   {
    "duration": 23,
    "start_time": "2023-04-05T08:14:14.628Z"
   },
   {
    "duration": 12,
    "start_time": "2023-04-05T08:14:14.666Z"
   },
   {
    "duration": 19,
    "start_time": "2023-04-05T08:14:14.679Z"
   },
   {
    "duration": 20,
    "start_time": "2023-04-05T08:14:14.699Z"
   },
   {
    "duration": 180,
    "start_time": "2023-04-05T08:14:40.301Z"
   },
   {
    "duration": 145,
    "start_time": "2023-04-05T08:14:51.289Z"
   },
   {
    "duration": 156,
    "start_time": "2023-04-05T08:14:58.979Z"
   },
   {
    "duration": 142,
    "start_time": "2023-04-05T08:17:43.717Z"
   },
   {
    "duration": 127,
    "start_time": "2023-04-05T08:17:55.326Z"
   },
   {
    "duration": 13,
    "start_time": "2023-04-05T08:23:29.869Z"
   },
   {
    "duration": 12,
    "start_time": "2023-04-05T08:23:49.102Z"
   },
   {
    "duration": 137,
    "start_time": "2023-04-05T08:24:23.014Z"
   },
   {
    "duration": 12,
    "start_time": "2023-04-05T08:24:28.815Z"
   },
   {
    "duration": 218,
    "start_time": "2023-04-05T08:25:59.311Z"
   },
   {
    "duration": 66,
    "start_time": "2023-04-05T08:26:25.968Z"
   },
   {
    "duration": 15,
    "start_time": "2023-04-05T08:26:52.355Z"
   },
   {
    "duration": 18,
    "start_time": "2023-04-05T08:30:30.139Z"
   },
   {
    "duration": 6,
    "start_time": "2023-04-05T08:30:30.798Z"
   },
   {
    "duration": 11,
    "start_time": "2023-04-05T08:53:19.265Z"
   },
   {
    "duration": 6,
    "start_time": "2023-04-05T08:53:19.815Z"
   },
   {
    "duration": 8,
    "start_time": "2023-04-05T08:53:25.614Z"
   },
   {
    "duration": 7,
    "start_time": "2023-04-05T08:53:26.995Z"
   },
   {
    "duration": 10,
    "start_time": "2023-04-05T08:53:39.902Z"
   },
   {
    "duration": 14,
    "start_time": "2023-04-05T08:53:45.403Z"
   },
   {
    "duration": 8,
    "start_time": "2023-04-05T08:54:23.863Z"
   },
   {
    "duration": 19,
    "start_time": "2023-04-05T08:54:28.134Z"
   },
   {
    "duration": 5,
    "start_time": "2023-04-05T08:54:28.976Z"
   },
   {
    "duration": 9,
    "start_time": "2023-04-05T08:54:49.404Z"
   },
   {
    "duration": 17,
    "start_time": "2023-04-05T08:54:50.564Z"
   },
   {
    "duration": 7,
    "start_time": "2023-04-05T08:54:51.164Z"
   },
   {
    "duration": 10,
    "start_time": "2023-04-05T08:55:22.259Z"
   },
   {
    "duration": 12,
    "start_time": "2023-04-05T08:55:25.902Z"
   },
   {
    "duration": 11,
    "start_time": "2023-04-05T08:58:09.814Z"
   },
   {
    "duration": 8,
    "start_time": "2023-04-05T08:59:20.159Z"
   },
   {
    "duration": 10,
    "start_time": "2023-04-05T08:59:33.511Z"
   },
   {
    "duration": 4,
    "start_time": "2023-04-05T08:59:40.116Z"
   },
   {
    "duration": 5,
    "start_time": "2023-04-05T09:00:13.007Z"
   },
   {
    "duration": 1365,
    "start_time": "2023-04-05T10:10:23.001Z"
   },
   {
    "duration": 89,
    "start_time": "2023-04-05T10:10:24.370Z"
   },
   {
    "duration": 29,
    "start_time": "2023-04-05T10:10:24.464Z"
   },
   {
    "duration": 910,
    "start_time": "2023-04-05T10:10:24.495Z"
   },
   {
    "duration": 11,
    "start_time": "2023-04-05T10:10:25.408Z"
   },
   {
    "duration": 8,
    "start_time": "2023-04-05T10:10:25.422Z"
   },
   {
    "duration": 24,
    "start_time": "2023-04-05T10:10:25.432Z"
   },
   {
    "duration": 25,
    "start_time": "2023-04-05T10:10:25.458Z"
   },
   {
    "duration": 20,
    "start_time": "2023-04-05T10:10:25.489Z"
   },
   {
    "duration": 10,
    "start_time": "2023-04-05T10:10:25.512Z"
   },
   {
    "duration": 9,
    "start_time": "2023-04-05T10:10:25.524Z"
   },
   {
    "duration": 14,
    "start_time": "2023-04-05T10:10:25.535Z"
   },
   {
    "duration": 36,
    "start_time": "2023-04-05T10:10:25.551Z"
   },
   {
    "duration": 14,
    "start_time": "2023-04-05T10:10:25.595Z"
   },
   {
    "duration": 7,
    "start_time": "2023-04-05T10:10:25.611Z"
   },
   {
    "duration": 24,
    "start_time": "2023-04-05T10:10:25.620Z"
   },
   {
    "duration": 46,
    "start_time": "2023-04-05T10:10:25.646Z"
   },
   {
    "duration": 21,
    "start_time": "2023-04-05T10:10:25.694Z"
   },
   {
    "duration": 187,
    "start_time": "2023-04-05T10:10:25.717Z"
   },
   {
    "duration": 25,
    "start_time": "2023-04-05T10:10:25.906Z"
   },
   {
    "duration": 191,
    "start_time": "2023-04-05T10:10:25.934Z"
   },
   {
    "duration": 226,
    "start_time": "2023-04-05T10:10:26.128Z"
   },
   {
    "duration": 238,
    "start_time": "2023-04-05T10:10:26.357Z"
   },
   {
    "duration": 263,
    "start_time": "2023-04-05T10:10:26.597Z"
   },
   {
    "duration": 183,
    "start_time": "2023-04-05T10:10:26.862Z"
   },
   {
    "duration": 46,
    "start_time": "2023-04-05T10:10:27.047Z"
   },
   {
    "duration": 22,
    "start_time": "2023-04-05T10:10:27.095Z"
   },
   {
    "duration": 345,
    "start_time": "2023-04-05T10:10:27.118Z"
   },
   {
    "duration": 28,
    "start_time": "2023-04-05T10:10:27.465Z"
   },
   {
    "duration": 10,
    "start_time": "2023-04-05T10:10:27.497Z"
   },
   {
    "duration": 190,
    "start_time": "2023-04-05T10:10:27.509Z"
   },
   {
    "duration": 165,
    "start_time": "2023-04-05T10:10:27.701Z"
   },
   {
    "duration": 180,
    "start_time": "2023-04-05T10:10:27.869Z"
   },
   {
    "duration": 160,
    "start_time": "2023-04-05T10:10:28.051Z"
   },
   {
    "duration": 34,
    "start_time": "2023-04-05T10:10:28.214Z"
   },
   {
    "duration": 228,
    "start_time": "2023-04-05T10:10:28.250Z"
   },
   {
    "duration": 221,
    "start_time": "2023-04-05T10:10:28.479Z"
   },
   {
    "duration": 199,
    "start_time": "2023-04-05T10:10:28.702Z"
   },
   {
    "duration": 309,
    "start_time": "2023-04-05T10:10:28.904Z"
   },
   {
    "duration": 214,
    "start_time": "2023-04-05T10:10:29.216Z"
   },
   {
    "duration": 267,
    "start_time": "2023-04-05T10:10:29.436Z"
   },
   {
    "duration": 187,
    "start_time": "2023-04-05T10:10:29.706Z"
   },
   {
    "duration": 226,
    "start_time": "2023-04-05T10:10:29.897Z"
   },
   {
    "duration": 175,
    "start_time": "2023-04-05T10:10:30.126Z"
   },
   {
    "duration": 9,
    "start_time": "2023-04-05T10:10:30.304Z"
   },
   {
    "duration": 57,
    "start_time": "2023-04-05T10:10:30.315Z"
   },
   {
    "duration": 43,
    "start_time": "2023-04-05T10:10:30.374Z"
   },
   {
    "duration": 45,
    "start_time": "2023-04-05T10:10:30.420Z"
   },
   {
    "duration": 29,
    "start_time": "2023-04-05T10:33:29.720Z"
   },
   {
    "duration": 5,
    "start_time": "2023-04-05T10:33:54.464Z"
   },
   {
    "duration": 1321,
    "start_time": "2023-04-05T10:33:59.581Z"
   },
   {
    "duration": 52,
    "start_time": "2023-04-05T10:34:00.909Z"
   },
   {
    "duration": 33,
    "start_time": "2023-04-05T10:34:00.963Z"
   },
   {
    "duration": 861,
    "start_time": "2023-04-05T10:34:01.000Z"
   },
   {
    "duration": 20,
    "start_time": "2023-04-05T10:34:01.864Z"
   },
   {
    "duration": 40,
    "start_time": "2023-04-05T10:34:01.886Z"
   },
   {
    "duration": 60,
    "start_time": "2023-04-05T10:34:01.929Z"
   },
   {
    "duration": 18,
    "start_time": "2023-04-05T10:34:01.994Z"
   },
   {
    "duration": 48,
    "start_time": "2023-04-05T10:34:02.014Z"
   },
   {
    "duration": 43,
    "start_time": "2023-04-05T10:34:02.063Z"
   },
   {
    "duration": 54,
    "start_time": "2023-04-05T10:34:02.108Z"
   },
   {
    "duration": 39,
    "start_time": "2023-04-05T10:34:02.165Z"
   },
   {
    "duration": 6,
    "start_time": "2023-04-05T10:34:02.206Z"
   },
   {
    "duration": 34,
    "start_time": "2023-04-05T10:34:02.215Z"
   },
   {
    "duration": 19,
    "start_time": "2023-04-05T10:34:02.251Z"
   },
   {
    "duration": 25,
    "start_time": "2023-04-05T10:34:02.272Z"
   },
   {
    "duration": 19,
    "start_time": "2023-04-05T10:34:02.300Z"
   },
   {
    "duration": 19,
    "start_time": "2023-04-05T10:34:02.321Z"
   },
   {
    "duration": 183,
    "start_time": "2023-04-05T10:34:02.342Z"
   },
   {
    "duration": 14,
    "start_time": "2023-04-05T10:34:02.527Z"
   },
   {
    "duration": 34,
    "start_time": "2023-04-05T10:34:02.543Z"
   },
   {
    "duration": 171,
    "start_time": "2023-04-05T10:34:02.579Z"
   },
   {
    "duration": 192,
    "start_time": "2023-04-05T10:34:02.752Z"
   },
   {
    "duration": 192,
    "start_time": "2023-04-05T10:34:02.945Z"
   },
   {
    "duration": 280,
    "start_time": "2023-04-05T10:34:03.139Z"
   },
   {
    "duration": 188,
    "start_time": "2023-04-05T10:34:03.421Z"
   },
   {
    "duration": 35,
    "start_time": "2023-04-05T10:34:03.612Z"
   },
   {
    "duration": 16,
    "start_time": "2023-04-05T10:34:03.649Z"
   },
   {
    "duration": 347,
    "start_time": "2023-04-05T10:34:03.667Z"
   },
   {
    "duration": 10,
    "start_time": "2023-04-05T10:34:04.015Z"
   },
   {
    "duration": 11,
    "start_time": "2023-04-05T10:34:04.027Z"
   },
   {
    "duration": 221,
    "start_time": "2023-04-05T10:34:04.041Z"
   },
   {
    "duration": 202,
    "start_time": "2023-04-05T10:34:04.265Z"
   },
   {
    "duration": 176,
    "start_time": "2023-04-05T10:34:04.469Z"
   },
   {
    "duration": 162,
    "start_time": "2023-04-05T10:34:04.647Z"
   },
   {
    "duration": 33,
    "start_time": "2023-04-05T10:34:04.812Z"
   },
   {
    "duration": 209,
    "start_time": "2023-04-05T10:34:04.848Z"
   },
   {
    "duration": 222,
    "start_time": "2023-04-05T10:34:05.059Z"
   },
   {
    "duration": 224,
    "start_time": "2023-04-05T10:34:05.283Z"
   },
   {
    "duration": 309,
    "start_time": "2023-04-05T10:34:05.510Z"
   },
   {
    "duration": 540,
    "start_time": "2023-04-05T10:34:05.877Z"
   },
   {
    "duration": 571,
    "start_time": "2023-04-05T10:34:06.420Z"
   },
   {
    "duration": 400,
    "start_time": "2023-04-05T10:34:06.999Z"
   },
   {
    "duration": 399,
    "start_time": "2023-04-05T10:34:07.401Z"
   },
   {
    "duration": 383,
    "start_time": "2023-04-05T10:34:07.804Z"
   },
   {
    "duration": 11,
    "start_time": "2023-04-05T10:34:08.189Z"
   },
   {
    "duration": 18,
    "start_time": "2023-04-05T10:34:08.202Z"
   },
   {
    "duration": 71,
    "start_time": "2023-04-05T10:34:08.222Z"
   },
   {
    "duration": 9,
    "start_time": "2023-04-05T10:34:08.301Z"
   },
   {
    "duration": 7,
    "start_time": "2023-04-05T10:35:12.537Z"
   },
   {
    "duration": 45,
    "start_time": "2023-04-05T10:35:59.205Z"
   },
   {
    "duration": 4,
    "start_time": "2023-04-05T10:35:59.353Z"
   },
   {
    "duration": 1387,
    "start_time": "2023-04-05T10:36:14.761Z"
   },
   {
    "duration": 60,
    "start_time": "2023-04-05T10:36:16.150Z"
   },
   {
    "duration": 24,
    "start_time": "2023-04-05T10:36:16.212Z"
   },
   {
    "duration": 914,
    "start_time": "2023-04-05T10:36:16.238Z"
   },
   {
    "duration": 23,
    "start_time": "2023-04-05T10:36:17.155Z"
   },
   {
    "duration": 10,
    "start_time": "2023-04-05T10:36:17.186Z"
   },
   {
    "duration": 16,
    "start_time": "2023-04-05T10:36:17.204Z"
   },
   {
    "duration": 9,
    "start_time": "2023-04-05T10:36:17.222Z"
   },
   {
    "duration": 10,
    "start_time": "2023-04-05T10:36:17.233Z"
   },
   {
    "duration": 4,
    "start_time": "2023-04-05T10:36:17.245Z"
   },
   {
    "duration": 26,
    "start_time": "2023-04-05T10:36:17.251Z"
   },
   {
    "duration": 29,
    "start_time": "2023-04-05T10:36:17.279Z"
   },
   {
    "duration": 8,
    "start_time": "2023-04-05T10:36:17.310Z"
   },
   {
    "duration": 21,
    "start_time": "2023-04-05T10:36:17.323Z"
   },
   {
    "duration": 6,
    "start_time": "2023-04-05T10:36:17.346Z"
   },
   {
    "duration": 40,
    "start_time": "2023-04-05T10:36:17.353Z"
   },
   {
    "duration": 20,
    "start_time": "2023-04-05T10:36:17.395Z"
   },
   {
    "duration": 20,
    "start_time": "2023-04-05T10:36:17.418Z"
   },
   {
    "duration": 5,
    "start_time": "2023-04-05T10:36:17.440Z"
   },
   {
    "duration": 192,
    "start_time": "2023-04-05T10:36:17.448Z"
   },
   {
    "duration": 19,
    "start_time": "2023-04-05T10:36:17.642Z"
   },
   {
    "duration": 198,
    "start_time": "2023-04-05T10:36:17.663Z"
   },
   {
    "duration": 196,
    "start_time": "2023-04-05T10:36:17.863Z"
   },
   {
    "duration": 191,
    "start_time": "2023-04-05T10:36:18.061Z"
   },
   {
    "duration": 289,
    "start_time": "2023-04-05T10:36:18.254Z"
   },
   {
    "duration": 187,
    "start_time": "2023-04-05T10:36:18.545Z"
   },
   {
    "duration": 39,
    "start_time": "2023-04-05T10:36:18.735Z"
   },
   {
    "duration": 19,
    "start_time": "2023-04-05T10:36:18.785Z"
   },
   {
    "duration": 336,
    "start_time": "2023-04-05T10:36:18.807Z"
   },
   {
    "duration": 10,
    "start_time": "2023-04-05T10:36:19.145Z"
   },
   {
    "duration": 30,
    "start_time": "2023-04-05T10:36:19.157Z"
   },
   {
    "duration": 166,
    "start_time": "2023-04-05T10:36:19.188Z"
   },
   {
    "duration": 163,
    "start_time": "2023-04-05T10:36:19.356Z"
   },
   {
    "duration": 183,
    "start_time": "2023-04-05T10:36:19.520Z"
   },
   {
    "duration": 139,
    "start_time": "2023-04-05T10:36:19.712Z"
   },
   {
    "duration": 46,
    "start_time": "2023-04-05T10:36:19.853Z"
   },
   {
    "duration": 205,
    "start_time": "2023-04-05T10:36:19.905Z"
   },
   {
    "duration": 213,
    "start_time": "2023-04-05T10:36:20.112Z"
   },
   {
    "duration": 223,
    "start_time": "2023-04-05T10:36:20.327Z"
   },
   {
    "duration": 310,
    "start_time": "2023-04-05T10:36:20.552Z"
   },
   {
    "duration": 246,
    "start_time": "2023-04-05T10:36:20.868Z"
   },
   {
    "duration": 233,
    "start_time": "2023-04-05T10:36:21.116Z"
   },
   {
    "duration": 237,
    "start_time": "2023-04-05T10:36:21.352Z"
   },
   {
    "duration": 175,
    "start_time": "2023-04-05T10:36:21.594Z"
   },
   {
    "duration": 171,
    "start_time": "2023-04-05T10:36:21.771Z"
   },
   {
    "duration": 9,
    "start_time": "2023-04-05T10:36:21.944Z"
   },
   {
    "duration": 44,
    "start_time": "2023-04-05T10:36:21.955Z"
   },
   {
    "duration": 10,
    "start_time": "2023-04-05T10:36:22.003Z"
   },
   {
    "duration": 14,
    "start_time": "2023-04-05T10:36:22.014Z"
   },
   {
    "duration": 18,
    "start_time": "2023-04-05T10:37:21.624Z"
   },
   {
    "duration": 16,
    "start_time": "2023-04-05T10:37:27.272Z"
   },
   {
    "duration": 1282,
    "start_time": "2023-04-05T10:37:44.545Z"
   },
   {
    "duration": 53,
    "start_time": "2023-04-05T10:37:45.829Z"
   },
   {
    "duration": 27,
    "start_time": "2023-04-05T10:37:45.884Z"
   },
   {
    "duration": 955,
    "start_time": "2023-04-05T10:37:45.916Z"
   },
   {
    "duration": 13,
    "start_time": "2023-04-05T10:37:46.874Z"
   },
   {
    "duration": 11,
    "start_time": "2023-04-05T10:37:46.889Z"
   },
   {
    "duration": 18,
    "start_time": "2023-04-05T10:37:46.904Z"
   },
   {
    "duration": 13,
    "start_time": "2023-04-05T10:37:46.924Z"
   },
   {
    "duration": 19,
    "start_time": "2023-04-05T10:37:46.939Z"
   },
   {
    "duration": 13,
    "start_time": "2023-04-05T10:37:46.974Z"
   },
   {
    "duration": 20,
    "start_time": "2023-04-05T10:37:46.989Z"
   },
   {
    "duration": 5,
    "start_time": "2023-04-05T10:37:47.011Z"
   },
   {
    "duration": 10,
    "start_time": "2023-04-05T10:37:47.018Z"
   },
   {
    "duration": 20,
    "start_time": "2023-04-05T10:37:47.030Z"
   },
   {
    "duration": 9,
    "start_time": "2023-04-05T10:37:47.052Z"
   },
   {
    "duration": 22,
    "start_time": "2023-04-05T10:37:47.063Z"
   },
   {
    "duration": 6,
    "start_time": "2023-04-05T10:37:47.087Z"
   },
   {
    "duration": 18,
    "start_time": "2023-04-05T10:37:47.096Z"
   },
   {
    "duration": 15,
    "start_time": "2023-04-05T10:37:47.116Z"
   },
   {
    "duration": 27,
    "start_time": "2023-04-05T10:37:47.132Z"
   },
   {
    "duration": 206,
    "start_time": "2023-04-05T10:37:47.160Z"
   },
   {
    "duration": 33,
    "start_time": "2023-04-05T10:37:47.368Z"
   },
   {
    "duration": 165,
    "start_time": "2023-04-05T10:37:47.403Z"
   },
   {
    "duration": 180,
    "start_time": "2023-04-05T10:37:47.570Z"
   },
   {
    "duration": 194,
    "start_time": "2023-04-05T10:37:47.752Z"
   },
   {
    "duration": 266,
    "start_time": "2023-04-05T10:37:47.948Z"
   },
   {
    "duration": 194,
    "start_time": "2023-04-05T10:37:48.216Z"
   },
   {
    "duration": 31,
    "start_time": "2023-04-05T10:37:48.416Z"
   },
   {
    "duration": 17,
    "start_time": "2023-04-05T10:37:48.449Z"
   },
   {
    "duration": 338,
    "start_time": "2023-04-05T10:37:48.476Z"
   },
   {
    "duration": 8,
    "start_time": "2023-04-05T10:37:48.816Z"
   },
   {
    "duration": 9,
    "start_time": "2023-04-05T10:37:48.826Z"
   },
   {
    "duration": 208,
    "start_time": "2023-04-05T10:37:48.837Z"
   },
   {
    "duration": 170,
    "start_time": "2023-04-05T10:37:49.047Z"
   },
   {
    "duration": 168,
    "start_time": "2023-04-05T10:37:49.219Z"
   },
   {
    "duration": 154,
    "start_time": "2023-04-05T10:37:49.388Z"
   },
   {
    "duration": 52,
    "start_time": "2023-04-05T10:37:49.544Z"
   },
   {
    "duration": 192,
    "start_time": "2023-04-05T10:37:49.597Z"
   },
   {
    "duration": 214,
    "start_time": "2023-04-05T10:37:49.796Z"
   },
   {
    "duration": 206,
    "start_time": "2023-04-05T10:37:50.012Z"
   },
   {
    "duration": 320,
    "start_time": "2023-04-05T10:37:50.220Z"
   },
   {
    "duration": 218,
    "start_time": "2023-04-05T10:37:50.541Z"
   },
   {
    "duration": 203,
    "start_time": "2023-04-05T10:37:50.762Z"
   },
   {
    "duration": 170,
    "start_time": "2023-04-05T10:37:50.967Z"
   },
   {
    "duration": 270,
    "start_time": "2023-04-05T10:37:51.139Z"
   },
   {
    "duration": 506,
    "start_time": "2023-04-05T10:37:51.413Z"
   },
   {
    "duration": 72,
    "start_time": "2023-04-05T10:37:51.921Z"
   },
   {
    "duration": 38,
    "start_time": "2023-04-05T10:37:51.994Z"
   },
   {
    "duration": 52,
    "start_time": "2023-04-05T10:37:52.033Z"
   },
   {
    "duration": 45,
    "start_time": "2023-04-05T10:37:52.086Z"
   },
   {
    "duration": 1356,
    "start_time": "2023-04-05T10:38:36.808Z"
   },
   {
    "duration": 76,
    "start_time": "2023-04-05T10:38:38.166Z"
   },
   {
    "duration": 22,
    "start_time": "2023-04-05T10:38:38.245Z"
   },
   {
    "duration": 895,
    "start_time": "2023-04-05T10:38:38.270Z"
   },
   {
    "duration": 30,
    "start_time": "2023-04-05T10:38:39.174Z"
   },
   {
    "duration": 6,
    "start_time": "2023-04-05T10:38:39.207Z"
   },
   {
    "duration": 19,
    "start_time": "2023-04-05T10:38:39.215Z"
   },
   {
    "duration": 14,
    "start_time": "2023-04-05T10:38:39.237Z"
   },
   {
    "duration": 26,
    "start_time": "2023-04-05T10:38:39.253Z"
   },
   {
    "duration": 7,
    "start_time": "2023-04-05T10:38:39.283Z"
   },
   {
    "duration": 13,
    "start_time": "2023-04-05T10:38:39.296Z"
   },
   {
    "duration": 6,
    "start_time": "2023-04-05T10:38:39.310Z"
   },
   {
    "duration": 12,
    "start_time": "2023-04-05T10:38:39.317Z"
   },
   {
    "duration": 16,
    "start_time": "2023-04-05T10:38:39.332Z"
   },
   {
    "duration": 16,
    "start_time": "2023-04-05T10:38:39.375Z"
   },
   {
    "duration": 9,
    "start_time": "2023-04-05T10:38:39.392Z"
   },
   {
    "duration": 18,
    "start_time": "2023-04-05T10:38:39.402Z"
   },
   {
    "duration": 6,
    "start_time": "2023-04-05T10:38:39.422Z"
   },
   {
    "duration": 11,
    "start_time": "2023-04-05T10:38:39.430Z"
   },
   {
    "duration": 45,
    "start_time": "2023-04-05T10:38:39.444Z"
   },
   {
    "duration": 29,
    "start_time": "2023-04-05T10:38:39.496Z"
   },
   {
    "duration": 196,
    "start_time": "2023-04-05T10:38:39.527Z"
   },
   {
    "duration": 18,
    "start_time": "2023-04-05T10:38:39.725Z"
   },
   {
    "duration": 187,
    "start_time": "2023-04-05T10:38:39.744Z"
   },
   {
    "duration": 188,
    "start_time": "2023-04-05T10:38:39.933Z"
   },
   {
    "duration": 207,
    "start_time": "2023-04-05T10:38:40.124Z"
   },
   {
    "duration": 304,
    "start_time": "2023-04-05T10:38:40.333Z"
   },
   {
    "duration": 188,
    "start_time": "2023-04-05T10:38:40.639Z"
   },
   {
    "duration": 28,
    "start_time": "2023-04-05T10:38:40.829Z"
   },
   {
    "duration": 35,
    "start_time": "2023-04-05T10:38:40.859Z"
   },
   {
    "duration": 345,
    "start_time": "2023-04-05T10:38:40.895Z"
   },
   {
    "duration": 9,
    "start_time": "2023-04-05T10:38:41.241Z"
   },
   {
    "duration": 229,
    "start_time": "2023-04-05T10:38:41.252Z"
   },
   {
    "duration": 193,
    "start_time": "2023-04-05T10:38:41.491Z"
   },
   {
    "duration": 159,
    "start_time": "2023-04-05T10:38:41.688Z"
   },
   {
    "duration": 183,
    "start_time": "2023-04-05T10:38:41.849Z"
   },
   {
    "duration": 164,
    "start_time": "2023-04-05T10:38:42.034Z"
   },
   {
    "duration": 28,
    "start_time": "2023-04-05T10:38:42.200Z"
   },
   {
    "duration": 227,
    "start_time": "2023-04-05T10:38:42.229Z"
   },
   {
    "duration": 250,
    "start_time": "2023-04-05T10:38:42.458Z"
   },
   {
    "duration": 205,
    "start_time": "2023-04-05T10:38:42.714Z"
   },
   {
    "duration": 309,
    "start_time": "2023-04-05T10:38:42.921Z"
   },
   {
    "duration": 217,
    "start_time": "2023-04-05T10:38:43.232Z"
   },
   {
    "duration": 215,
    "start_time": "2023-04-05T10:38:43.451Z"
   },
   {
    "duration": 172,
    "start_time": "2023-04-05T10:38:43.668Z"
   },
   {
    "duration": 209,
    "start_time": "2023-04-05T10:38:43.842Z"
   },
   {
    "duration": 198,
    "start_time": "2023-04-05T10:38:44.053Z"
   },
   {
    "duration": 9,
    "start_time": "2023-04-05T10:38:44.254Z"
   },
   {
    "duration": 13,
    "start_time": "2023-04-05T10:38:44.275Z"
   },
   {
    "duration": 29,
    "start_time": "2023-04-05T10:38:44.291Z"
   },
   {
    "duration": 22,
    "start_time": "2023-04-05T10:38:44.322Z"
   },
   {
    "duration": 1317,
    "start_time": "2023-04-05T10:39:30.234Z"
   },
   {
    "duration": 67,
    "start_time": "2023-04-05T10:39:31.553Z"
   },
   {
    "duration": 19,
    "start_time": "2023-04-05T10:39:31.622Z"
   },
   {
    "duration": 1184,
    "start_time": "2023-04-05T10:39:31.643Z"
   },
   {
    "duration": 17,
    "start_time": "2023-04-05T10:39:32.831Z"
   },
   {
    "duration": 5,
    "start_time": "2023-04-05T10:39:32.850Z"
   },
   {
    "duration": 40,
    "start_time": "2023-04-05T10:39:32.857Z"
   },
   {
    "duration": 51,
    "start_time": "2023-04-05T10:39:32.904Z"
   },
   {
    "duration": 14,
    "start_time": "2023-04-05T10:39:32.957Z"
   },
   {
    "duration": 42,
    "start_time": "2023-04-05T10:39:32.973Z"
   },
   {
    "duration": 47,
    "start_time": "2023-04-05T10:39:33.021Z"
   },
   {
    "duration": 12,
    "start_time": "2023-04-05T10:39:33.071Z"
   },
   {
    "duration": 22,
    "start_time": "2023-04-05T10:39:33.086Z"
   },
   {
    "duration": 12,
    "start_time": "2023-04-05T10:39:33.116Z"
   },
   {
    "duration": 18,
    "start_time": "2023-04-05T10:39:33.130Z"
   },
   {
    "duration": 10,
    "start_time": "2023-04-05T10:39:33.150Z"
   },
   {
    "duration": 37,
    "start_time": "2023-04-05T10:39:33.163Z"
   },
   {
    "duration": 11,
    "start_time": "2023-04-05T10:39:33.203Z"
   },
   {
    "duration": 21,
    "start_time": "2023-04-05T10:39:33.223Z"
   },
   {
    "duration": 34,
    "start_time": "2023-04-05T10:39:33.246Z"
   },
   {
    "duration": 56,
    "start_time": "2023-04-05T10:39:33.283Z"
   },
   {
    "duration": 185,
    "start_time": "2023-04-05T10:39:33.341Z"
   },
   {
    "duration": 20,
    "start_time": "2023-04-05T10:39:33.528Z"
   },
   {
    "duration": 222,
    "start_time": "2023-04-05T10:39:33.550Z"
   },
   {
    "duration": 197,
    "start_time": "2023-04-05T10:39:33.775Z"
   },
   {
    "duration": 260,
    "start_time": "2023-04-05T10:39:33.980Z"
   },
   {
    "duration": 326,
    "start_time": "2023-04-05T10:39:34.243Z"
   },
   {
    "duration": 307,
    "start_time": "2023-04-05T10:39:34.577Z"
   },
   {
    "duration": 43,
    "start_time": "2023-04-05T10:39:34.891Z"
   },
   {
    "duration": 21,
    "start_time": "2023-04-05T10:39:34.937Z"
   },
   {
    "duration": 622,
    "start_time": "2023-04-05T10:39:34.960Z"
   },
   {
    "duration": 13,
    "start_time": "2023-04-05T10:39:35.584Z"
   },
   {
    "duration": 19,
    "start_time": "2023-04-05T10:39:35.599Z"
   },
   {
    "duration": 174,
    "start_time": "2023-04-05T10:39:35.620Z"
   },
   {
    "duration": 166,
    "start_time": "2023-04-05T10:39:35.795Z"
   },
   {
    "duration": 176,
    "start_time": "2023-04-05T10:39:35.963Z"
   },
   {
    "duration": 174,
    "start_time": "2023-04-05T10:39:36.141Z"
   },
   {
    "duration": 22,
    "start_time": "2023-04-05T10:39:36.317Z"
   },
   {
    "duration": 208,
    "start_time": "2023-04-05T10:39:36.341Z"
   },
   {
    "duration": 289,
    "start_time": "2023-04-05T10:39:36.551Z"
   },
   {
    "duration": 195,
    "start_time": "2023-04-05T10:39:36.844Z"
   },
   {
    "duration": 218,
    "start_time": "2023-04-05T10:39:37.041Z"
   },
   {
    "duration": 210,
    "start_time": "2023-04-05T10:39:37.260Z"
   },
   {
    "duration": 196,
    "start_time": "2023-04-05T10:39:37.475Z"
   },
   {
    "duration": 196,
    "start_time": "2023-04-05T10:39:37.675Z"
   },
   {
    "duration": 190,
    "start_time": "2023-04-05T10:39:37.880Z"
   },
   {
    "duration": 212,
    "start_time": "2023-04-05T10:39:38.081Z"
   },
   {
    "duration": 12,
    "start_time": "2023-04-05T10:39:38.304Z"
   },
   {
    "duration": 10,
    "start_time": "2023-04-05T10:39:38.318Z"
   },
   {
    "duration": 9,
    "start_time": "2023-04-05T10:39:38.330Z"
   },
   {
    "duration": 30,
    "start_time": "2023-04-05T10:39:38.341Z"
   },
   {
    "duration": 10,
    "start_time": "2023-04-05T10:44:00.204Z"
   },
   {
    "duration": 1274,
    "start_time": "2023-04-05T10:44:12.432Z"
   },
   {
    "duration": 49,
    "start_time": "2023-04-05T10:44:13.708Z"
   },
   {
    "duration": 19,
    "start_time": "2023-04-05T10:44:13.759Z"
   },
   {
    "duration": 972,
    "start_time": "2023-04-05T10:44:13.779Z"
   },
   {
    "duration": 9,
    "start_time": "2023-04-05T10:44:14.753Z"
   },
   {
    "duration": 6,
    "start_time": "2023-04-05T10:44:14.775Z"
   },
   {
    "duration": 23,
    "start_time": "2023-04-05T10:44:14.783Z"
   },
   {
    "duration": 9,
    "start_time": "2023-04-05T10:44:14.809Z"
   },
   {
    "duration": 10,
    "start_time": "2023-04-05T10:44:14.820Z"
   },
   {
    "duration": 4,
    "start_time": "2023-04-05T10:44:14.831Z"
   },
   {
    "duration": 44,
    "start_time": "2023-04-05T10:44:14.837Z"
   },
   {
    "duration": 14,
    "start_time": "2023-04-05T10:44:14.883Z"
   },
   {
    "duration": 10,
    "start_time": "2023-04-05T10:44:14.906Z"
   },
   {
    "duration": 8,
    "start_time": "2023-04-05T10:44:14.919Z"
   },
   {
    "duration": 121,
    "start_time": "2023-04-05T10:44:14.928Z"
   },
   {
    "duration": 0,
    "start_time": "2023-04-05T10:44:15.051Z"
   },
   {
    "duration": 0,
    "start_time": "2023-04-05T10:44:15.053Z"
   },
   {
    "duration": 0,
    "start_time": "2023-04-05T10:44:15.055Z"
   },
   {
    "duration": 0,
    "start_time": "2023-04-05T10:44:15.056Z"
   },
   {
    "duration": 0,
    "start_time": "2023-04-05T10:44:15.057Z"
   },
   {
    "duration": 0,
    "start_time": "2023-04-05T10:44:15.058Z"
   },
   {
    "duration": 0,
    "start_time": "2023-04-05T10:44:15.059Z"
   },
   {
    "duration": 0,
    "start_time": "2023-04-05T10:44:15.060Z"
   },
   {
    "duration": 0,
    "start_time": "2023-04-05T10:44:15.075Z"
   },
   {
    "duration": 0,
    "start_time": "2023-04-05T10:44:15.076Z"
   },
   {
    "duration": 0,
    "start_time": "2023-04-05T10:44:15.077Z"
   },
   {
    "duration": 0,
    "start_time": "2023-04-05T10:44:15.079Z"
   },
   {
    "duration": 0,
    "start_time": "2023-04-05T10:44:15.080Z"
   },
   {
    "duration": 0,
    "start_time": "2023-04-05T10:44:15.081Z"
   },
   {
    "duration": 0,
    "start_time": "2023-04-05T10:44:15.082Z"
   },
   {
    "duration": 0,
    "start_time": "2023-04-05T10:44:15.082Z"
   },
   {
    "duration": 0,
    "start_time": "2023-04-05T10:44:15.084Z"
   },
   {
    "duration": 0,
    "start_time": "2023-04-05T10:44:15.085Z"
   },
   {
    "duration": 0,
    "start_time": "2023-04-05T10:44:15.086Z"
   },
   {
    "duration": 0,
    "start_time": "2023-04-05T10:44:15.087Z"
   },
   {
    "duration": 0,
    "start_time": "2023-04-05T10:44:15.088Z"
   },
   {
    "duration": 0,
    "start_time": "2023-04-05T10:44:15.088Z"
   },
   {
    "duration": 0,
    "start_time": "2023-04-05T10:44:15.089Z"
   },
   {
    "duration": 0,
    "start_time": "2023-04-05T10:44:15.090Z"
   },
   {
    "duration": 0,
    "start_time": "2023-04-05T10:44:15.091Z"
   },
   {
    "duration": 0,
    "start_time": "2023-04-05T10:44:15.092Z"
   },
   {
    "duration": 0,
    "start_time": "2023-04-05T10:44:15.093Z"
   },
   {
    "duration": 0,
    "start_time": "2023-04-05T10:44:15.094Z"
   },
   {
    "duration": 0,
    "start_time": "2023-04-05T10:44:15.095Z"
   },
   {
    "duration": 0,
    "start_time": "2023-04-05T10:44:15.096Z"
   },
   {
    "duration": 0,
    "start_time": "2023-04-05T10:44:15.097Z"
   },
   {
    "duration": 0,
    "start_time": "2023-04-05T10:44:15.099Z"
   },
   {
    "duration": 0,
    "start_time": "2023-04-05T10:44:15.100Z"
   },
   {
    "duration": 0,
    "start_time": "2023-04-05T10:44:15.101Z"
   },
   {
    "duration": 0,
    "start_time": "2023-04-05T10:44:15.102Z"
   },
   {
    "duration": 0,
    "start_time": "2023-04-05T10:44:15.103Z"
   },
   {
    "duration": 0,
    "start_time": "2023-04-05T10:44:15.104Z"
   },
   {
    "duration": 9,
    "start_time": "2023-04-05T10:44:42.706Z"
   },
   {
    "duration": 10,
    "start_time": "2023-04-05T10:44:52.298Z"
   },
   {
    "duration": 6,
    "start_time": "2023-04-05T10:45:17.204Z"
   },
   {
    "duration": 1581,
    "start_time": "2023-04-05T10:48:22.274Z"
   },
   {
    "duration": 1364,
    "start_time": "2023-04-05T10:48:43.292Z"
   },
   {
    "duration": 71,
    "start_time": "2023-04-05T10:48:44.658Z"
   },
   {
    "duration": 20,
    "start_time": "2023-04-05T10:48:44.731Z"
   },
   {
    "duration": 890,
    "start_time": "2023-04-05T10:48:44.753Z"
   },
   {
    "duration": 11,
    "start_time": "2023-04-05T10:48:45.646Z"
   },
   {
    "duration": 37,
    "start_time": "2023-04-05T10:48:45.660Z"
   },
   {
    "duration": 23,
    "start_time": "2023-04-05T10:48:45.698Z"
   },
   {
    "duration": 14,
    "start_time": "2023-04-05T10:48:45.723Z"
   },
   {
    "duration": 35,
    "start_time": "2023-04-05T10:48:45.739Z"
   },
   {
    "duration": 13,
    "start_time": "2023-04-05T10:48:45.793Z"
   },
   {
    "duration": 48,
    "start_time": "2023-04-05T10:48:45.808Z"
   },
   {
    "duration": 50,
    "start_time": "2023-04-05T10:48:45.858Z"
   },
   {
    "duration": 8,
    "start_time": "2023-04-05T10:48:45.911Z"
   },
   {
    "duration": 24,
    "start_time": "2023-04-05T10:48:45.922Z"
   },
   {
    "duration": 25,
    "start_time": "2023-04-05T10:48:45.948Z"
   },
   {
    "duration": 43,
    "start_time": "2023-04-05T10:48:45.975Z"
   },
   {
    "duration": 7,
    "start_time": "2023-04-05T10:48:46.021Z"
   },
   {
    "duration": 12,
    "start_time": "2023-04-05T10:48:46.030Z"
   },
   {
    "duration": 38,
    "start_time": "2023-04-05T10:48:46.043Z"
   },
   {
    "duration": 34,
    "start_time": "2023-04-05T10:48:46.082Z"
   },
   {
    "duration": 199,
    "start_time": "2023-04-05T10:48:46.118Z"
   },
   {
    "duration": 17,
    "start_time": "2023-04-05T10:48:46.319Z"
   },
   {
    "duration": 201,
    "start_time": "2023-04-05T10:48:46.338Z"
   },
   {
    "duration": 201,
    "start_time": "2023-04-05T10:48:46.541Z"
   },
   {
    "duration": 205,
    "start_time": "2023-04-05T10:48:46.744Z"
   },
   {
    "duration": 294,
    "start_time": "2023-04-05T10:48:46.951Z"
   },
   {
    "duration": 203,
    "start_time": "2023-04-05T10:48:47.247Z"
   },
   {
    "duration": 52,
    "start_time": "2023-04-05T10:48:47.451Z"
   },
   {
    "duration": 17,
    "start_time": "2023-04-05T10:48:47.508Z"
   },
   {
    "duration": 356,
    "start_time": "2023-04-05T10:48:47.527Z"
   },
   {
    "duration": 21,
    "start_time": "2023-04-05T10:48:47.885Z"
   },
   {
    "duration": 12,
    "start_time": "2023-04-05T10:48:47.909Z"
   },
   {
    "duration": 181,
    "start_time": "2023-04-05T10:48:47.923Z"
   },
   {
    "duration": 164,
    "start_time": "2023-04-05T10:48:48.106Z"
   },
   {
    "duration": 171,
    "start_time": "2023-04-05T10:48:48.272Z"
   },
   {
    "duration": 162,
    "start_time": "2023-04-05T10:48:48.445Z"
   },
   {
    "duration": 38,
    "start_time": "2023-04-05T10:48:48.609Z"
   },
   {
    "duration": 207,
    "start_time": "2023-04-05T10:48:48.649Z"
   },
   {
    "duration": 208,
    "start_time": "2023-04-05T10:48:48.858Z"
   },
   {
    "duration": 192,
    "start_time": "2023-04-05T10:48:49.068Z"
   },
   {
    "duration": 303,
    "start_time": "2023-04-05T10:48:49.265Z"
   },
   {
    "duration": 225,
    "start_time": "2023-04-05T10:48:49.570Z"
   },
   {
    "duration": 208,
    "start_time": "2023-04-05T10:48:49.803Z"
   },
   {
    "duration": 185,
    "start_time": "2023-04-05T10:48:50.013Z"
   },
   {
    "duration": 181,
    "start_time": "2023-04-05T10:48:50.200Z"
   },
   {
    "duration": 209,
    "start_time": "2023-04-05T10:48:50.392Z"
   },
   {
    "duration": 8,
    "start_time": "2023-04-05T10:48:50.606Z"
   },
   {
    "duration": 19,
    "start_time": "2023-04-05T10:48:50.616Z"
   },
   {
    "duration": 9,
    "start_time": "2023-04-05T10:48:50.637Z"
   },
   {
    "duration": 27,
    "start_time": "2023-04-05T10:48:50.648Z"
   },
   {
    "duration": 4,
    "start_time": "2023-04-05T10:51:20.316Z"
   },
   {
    "duration": 144,
    "start_time": "2023-04-05T10:52:40.491Z"
   },
   {
    "duration": 1270,
    "start_time": "2023-04-05T10:54:25.225Z"
   },
   {
    "duration": 49,
    "start_time": "2023-04-05T10:54:26.497Z"
   },
   {
    "duration": 18,
    "start_time": "2023-04-05T10:54:26.548Z"
   },
   {
    "duration": 874,
    "start_time": "2023-04-05T10:54:26.568Z"
   },
   {
    "duration": 10,
    "start_time": "2023-04-05T10:54:27.444Z"
   },
   {
    "duration": 24,
    "start_time": "2023-04-05T10:54:27.456Z"
   },
   {
    "duration": 26,
    "start_time": "2023-04-05T10:54:27.482Z"
   },
   {
    "duration": 9,
    "start_time": "2023-04-05T10:54:27.509Z"
   },
   {
    "duration": 11,
    "start_time": "2023-04-05T10:54:27.520Z"
   },
   {
    "duration": 4,
    "start_time": "2023-04-05T10:54:27.534Z"
   },
   {
    "duration": 5,
    "start_time": "2023-04-05T10:54:27.540Z"
   },
   {
    "duration": 31,
    "start_time": "2023-04-05T10:54:27.546Z"
   },
   {
    "duration": 11,
    "start_time": "2023-04-05T10:54:27.579Z"
   },
   {
    "duration": 13,
    "start_time": "2023-04-05T10:54:27.599Z"
   },
   {
    "duration": 7,
    "start_time": "2023-04-05T10:54:27.614Z"
   },
   {
    "duration": 9,
    "start_time": "2023-04-05T10:54:27.622Z"
   },
   {
    "duration": 19,
    "start_time": "2023-04-05T10:54:27.633Z"
   },
   {
    "duration": 41,
    "start_time": "2023-04-05T10:54:27.654Z"
   },
   {
    "duration": 23,
    "start_time": "2023-04-05T10:54:27.696Z"
   },
   {
    "duration": 180,
    "start_time": "2023-04-05T10:54:27.720Z"
   },
   {
    "duration": 21,
    "start_time": "2023-04-05T10:54:27.902Z"
   },
   {
    "duration": 184,
    "start_time": "2023-04-05T10:54:27.925Z"
   },
   {
    "duration": 197,
    "start_time": "2023-04-05T10:54:28.111Z"
   },
   {
    "duration": 194,
    "start_time": "2023-04-05T10:54:28.310Z"
   },
   {
    "duration": 256,
    "start_time": "2023-04-05T10:54:28.506Z"
   },
   {
    "duration": 177,
    "start_time": "2023-04-05T10:54:28.764Z"
   },
   {
    "duration": 55,
    "start_time": "2023-04-05T10:54:28.943Z"
   },
   {
    "duration": 16,
    "start_time": "2023-04-05T10:54:29.003Z"
   },
   {
    "duration": 322,
    "start_time": "2023-04-05T10:54:29.021Z"
   },
   {
    "duration": 8,
    "start_time": "2023-04-05T10:54:29.345Z"
   },
   {
    "duration": 34,
    "start_time": "2023-04-05T10:54:29.355Z"
   },
   {
    "duration": 159,
    "start_time": "2023-04-05T10:54:29.398Z"
   },
   {
    "duration": 161,
    "start_time": "2023-04-05T10:54:29.559Z"
   },
   {
    "duration": 181,
    "start_time": "2023-04-05T10:54:29.722Z"
   },
   {
    "duration": 154,
    "start_time": "2023-04-05T10:54:29.905Z"
   },
   {
    "duration": 46,
    "start_time": "2023-04-05T10:54:30.061Z"
   },
   {
    "duration": 198,
    "start_time": "2023-04-05T10:54:30.109Z"
   },
   {
    "duration": 211,
    "start_time": "2023-04-05T10:54:30.309Z"
   },
   {
    "duration": 198,
    "start_time": "2023-04-05T10:54:30.522Z"
   },
   {
    "duration": 299,
    "start_time": "2023-04-05T10:54:30.721Z"
   },
   {
    "duration": 215,
    "start_time": "2023-04-05T10:54:31.021Z"
   },
   {
    "duration": 201,
    "start_time": "2023-04-05T10:54:31.238Z"
   },
   {
    "duration": 171,
    "start_time": "2023-04-05T10:54:31.441Z"
   },
   {
    "duration": 187,
    "start_time": "2023-04-05T10:54:31.614Z"
   },
   {
    "duration": 164,
    "start_time": "2023-04-05T10:54:31.804Z"
   },
   {
    "duration": 29,
    "start_time": "2023-04-05T10:54:31.970Z"
   },
   {
    "duration": 61,
    "start_time": "2023-04-05T10:54:32.001Z"
   },
   {
    "duration": 37,
    "start_time": "2023-04-05T10:54:32.064Z"
   },
   {
    "duration": 46,
    "start_time": "2023-04-05T10:54:32.103Z"
   },
   {
    "duration": 25,
    "start_time": "2023-04-05T11:06:47.729Z"
   },
   {
    "duration": 4,
    "start_time": "2023-04-05T11:07:00.545Z"
   },
   {
    "duration": 1248,
    "start_time": "2023-04-05T11:07:38.369Z"
   },
   {
    "duration": 50,
    "start_time": "2023-04-05T11:07:39.620Z"
   },
   {
    "duration": 22,
    "start_time": "2023-04-05T11:07:39.672Z"
   },
   {
    "duration": 859,
    "start_time": "2023-04-05T11:07:39.695Z"
   },
   {
    "duration": 9,
    "start_time": "2023-04-05T11:07:40.556Z"
   },
   {
    "duration": 27,
    "start_time": "2023-04-05T11:07:40.567Z"
   },
   {
    "duration": 30,
    "start_time": "2023-04-05T11:07:40.596Z"
   },
   {
    "duration": 12,
    "start_time": "2023-04-05T11:07:40.628Z"
   },
   {
    "duration": 14,
    "start_time": "2023-04-05T11:07:40.642Z"
   },
   {
    "duration": 5,
    "start_time": "2023-04-05T11:07:40.658Z"
   },
   {
    "duration": 23,
    "start_time": "2023-04-05T11:07:40.665Z"
   },
   {
    "duration": 17,
    "start_time": "2023-04-05T11:07:40.690Z"
   },
   {
    "duration": 5,
    "start_time": "2023-04-05T11:07:40.709Z"
   },
   {
    "duration": 14,
    "start_time": "2023-04-05T11:07:40.718Z"
   },
   {
    "duration": 6,
    "start_time": "2023-04-05T11:07:40.734Z"
   },
   {
    "duration": 13,
    "start_time": "2023-04-05T11:07:40.741Z"
   },
   {
    "duration": 32,
    "start_time": "2023-04-05T11:07:40.757Z"
   },
   {
    "duration": 32,
    "start_time": "2023-04-05T11:07:40.791Z"
   },
   {
    "duration": 185,
    "start_time": "2023-04-05T11:07:40.825Z"
   },
   {
    "duration": 46,
    "start_time": "2023-04-05T11:07:41.012Z"
   },
   {
    "duration": 162,
    "start_time": "2023-04-05T11:07:41.060Z"
   },
   {
    "duration": 171,
    "start_time": "2023-04-05T11:07:41.224Z"
   },
   {
    "duration": 175,
    "start_time": "2023-04-05T11:07:41.397Z"
   },
   {
    "duration": 254,
    "start_time": "2023-04-05T11:07:41.574Z"
   },
   {
    "duration": 164,
    "start_time": "2023-04-05T11:07:41.829Z"
   },
   {
    "duration": 27,
    "start_time": "2023-04-05T11:07:41.995Z"
   },
   {
    "duration": 15,
    "start_time": "2023-04-05T11:07:42.024Z"
   },
   {
    "duration": 353,
    "start_time": "2023-04-05T11:07:42.041Z"
   },
   {
    "duration": 10,
    "start_time": "2023-04-05T11:07:42.397Z"
   },
   {
    "duration": 24,
    "start_time": "2023-04-05T11:07:42.409Z"
   },
   {
    "duration": 158,
    "start_time": "2023-04-05T11:07:42.436Z"
   },
   {
    "duration": 148,
    "start_time": "2023-04-05T11:07:42.595Z"
   },
   {
    "duration": 155,
    "start_time": "2023-04-05T11:07:42.744Z"
   },
   {
    "duration": 155,
    "start_time": "2023-04-05T11:07:42.901Z"
   },
   {
    "duration": 37,
    "start_time": "2023-04-05T11:07:43.058Z"
   },
   {
    "duration": 190,
    "start_time": "2023-04-05T11:07:43.097Z"
   },
   {
    "duration": 168,
    "start_time": "2023-04-05T11:07:43.289Z"
   },
   {
    "duration": 184,
    "start_time": "2023-04-05T11:07:43.458Z"
   },
   {
    "duration": 288,
    "start_time": "2023-04-05T11:07:43.644Z"
   },
   {
    "duration": 214,
    "start_time": "2023-04-05T11:07:43.933Z"
   },
   {
    "duration": 263,
    "start_time": "2023-04-05T11:07:44.152Z"
   },
   {
    "duration": 171,
    "start_time": "2023-04-05T11:07:44.417Z"
   },
   {
    "duration": 164,
    "start_time": "2023-04-05T11:07:44.590Z"
   },
   {
    "duration": 184,
    "start_time": "2023-04-05T11:07:44.756Z"
   },
   {
    "duration": 8,
    "start_time": "2023-04-05T11:07:44.942Z"
   },
   {
    "duration": 21,
    "start_time": "2023-04-05T11:07:44.951Z"
   },
   {
    "duration": 29,
    "start_time": "2023-04-05T11:07:44.974Z"
   },
   {
    "duration": 33,
    "start_time": "2023-04-05T11:07:45.004Z"
   },
   {
    "duration": 114,
    "start_time": "2023-04-05T13:07:06.571Z"
   },
   {
    "duration": 44,
    "start_time": "2023-04-05T13:09:30.592Z"
   },
   {
    "duration": 1295,
    "start_time": "2023-04-05T13:11:10.331Z"
   },
   {
    "duration": 204,
    "start_time": "2023-04-05T13:11:11.628Z"
   },
   {
    "duration": 17,
    "start_time": "2023-04-05T13:11:11.834Z"
   },
   {
    "duration": 702,
    "start_time": "2023-04-05T13:11:11.853Z"
   },
   {
    "duration": 9,
    "start_time": "2023-04-05T13:11:12.557Z"
   },
   {
    "duration": 7,
    "start_time": "2023-04-05T13:11:12.568Z"
   },
   {
    "duration": 17,
    "start_time": "2023-04-05T13:11:12.577Z"
   },
   {
    "duration": 8,
    "start_time": "2023-04-05T13:11:12.595Z"
   },
   {
    "duration": 30,
    "start_time": "2023-04-05T13:11:12.605Z"
   },
   {
    "duration": 5,
    "start_time": "2023-04-05T13:11:12.636Z"
   },
   {
    "duration": 15,
    "start_time": "2023-04-05T13:11:12.643Z"
   },
   {
    "duration": 5,
    "start_time": "2023-04-05T13:11:12.659Z"
   },
   {
    "duration": 27,
    "start_time": "2023-04-05T13:11:12.666Z"
   },
   {
    "duration": 4,
    "start_time": "2023-04-05T13:11:12.697Z"
   },
   {
    "duration": 11,
    "start_time": "2023-04-05T13:11:12.703Z"
   },
   {
    "duration": 27,
    "start_time": "2023-04-05T13:11:12.716Z"
   },
   {
    "duration": 29,
    "start_time": "2023-04-05T13:11:12.745Z"
   },
   {
    "duration": 149,
    "start_time": "2023-04-05T13:11:12.776Z"
   },
   {
    "duration": 24,
    "start_time": "2023-04-05T13:11:12.927Z"
   },
   {
    "duration": 177,
    "start_time": "2023-04-05T13:11:12.953Z"
   },
   {
    "duration": 166,
    "start_time": "2023-04-05T13:11:13.134Z"
   },
   {
    "duration": 159,
    "start_time": "2023-04-05T13:11:13.302Z"
   },
   {
    "duration": 217,
    "start_time": "2023-04-05T13:11:13.463Z"
   },
   {
    "duration": 154,
    "start_time": "2023-04-05T13:11:13.682Z"
   },
   {
    "duration": 23,
    "start_time": "2023-04-05T13:11:13.837Z"
   },
   {
    "duration": 13,
    "start_time": "2023-04-05T13:11:13.861Z"
   },
   {
    "duration": 492,
    "start_time": "2023-04-05T13:11:13.875Z"
   },
   {
    "duration": 7,
    "start_time": "2023-04-05T13:11:14.369Z"
   },
   {
    "duration": 22,
    "start_time": "2023-04-05T13:11:14.377Z"
   },
   {
    "duration": 123,
    "start_time": "2023-04-05T13:11:14.401Z"
   },
   {
    "duration": 123,
    "start_time": "2023-04-05T13:11:14.527Z"
   },
   {
    "duration": 122,
    "start_time": "2023-04-05T13:11:14.651Z"
   },
   {
    "duration": 122,
    "start_time": "2023-04-05T13:11:14.774Z"
   },
   {
    "duration": 19,
    "start_time": "2023-04-05T13:11:14.898Z"
   },
   {
    "duration": 644,
    "start_time": "2023-04-05T13:11:14.919Z"
   },
   {
    "duration": 538,
    "start_time": "2023-04-05T13:11:15.565Z"
   },
   {
    "duration": 670,
    "start_time": "2023-04-05T13:11:16.105Z"
   },
   {
    "duration": 316,
    "start_time": "2023-04-05T13:11:16.777Z"
   },
   {
    "duration": 302,
    "start_time": "2023-04-05T13:11:17.094Z"
   },
   {
    "duration": 292,
    "start_time": "2023-04-05T13:11:17.398Z"
   },
   {
    "duration": 177,
    "start_time": "2023-04-05T13:11:17.694Z"
   },
   {
    "duration": 170,
    "start_time": "2023-04-05T13:11:17.873Z"
   },
   {
    "duration": 149,
    "start_time": "2023-04-05T13:11:18.045Z"
   },
   {
    "duration": 8,
    "start_time": "2023-04-05T13:11:18.196Z"
   },
   {
    "duration": 21,
    "start_time": "2023-04-05T13:11:18.205Z"
   },
   {
    "duration": 33,
    "start_time": "2023-04-05T13:11:18.228Z"
   },
   {
    "duration": 26,
    "start_time": "2023-04-05T13:11:18.263Z"
   },
   {
    "duration": 569,
    "start_time": "2023-04-05T13:12:58.782Z"
   },
   {
    "duration": 113,
    "start_time": "2023-04-05T13:16:24.232Z"
   },
   {
    "duration": 1081,
    "start_time": "2023-04-05T13:20:10.447Z"
   },
   {
    "duration": 50,
    "start_time": "2023-04-05T13:20:11.530Z"
   },
   {
    "duration": 17,
    "start_time": "2023-04-05T13:20:13.227Z"
   },
   {
    "duration": 737,
    "start_time": "2023-04-05T13:20:14.275Z"
   },
   {
    "duration": 9,
    "start_time": "2023-04-05T13:20:17.247Z"
   },
   {
    "duration": 4,
    "start_time": "2023-04-05T13:20:21.415Z"
   },
   {
    "duration": 14,
    "start_time": "2023-04-05T13:20:23.127Z"
   },
   {
    "duration": 10,
    "start_time": "2023-04-05T13:20:26.408Z"
   },
   {
    "duration": 9,
    "start_time": "2023-04-05T13:20:29.082Z"
   },
   {
    "duration": 5,
    "start_time": "2023-04-05T13:20:33.221Z"
   },
   {
    "duration": 8,
    "start_time": "2023-04-05T13:20:36.082Z"
   },
   {
    "duration": 4,
    "start_time": "2023-04-05T13:20:36.849Z"
   },
   {
    "duration": 9,
    "start_time": "2023-04-05T13:20:45.301Z"
   },
   {
    "duration": 4,
    "start_time": "2023-04-05T13:20:48.902Z"
   },
   {
    "duration": 12,
    "start_time": "2023-04-05T13:21:11.385Z"
   },
   {
    "duration": 9,
    "start_time": "2023-04-05T13:21:17.822Z"
   },
   {
    "duration": 14,
    "start_time": "2023-04-05T13:21:27.344Z"
   },
   {
    "duration": 99,
    "start_time": "2023-04-05T13:23:24.557Z"
   },
   {
    "duration": 6,
    "start_time": "2023-04-05T13:23:35.765Z"
   },
   {
    "duration": 13,
    "start_time": "2023-04-05T13:23:37.013Z"
   },
   {
    "duration": 14,
    "start_time": "2023-04-05T13:23:51.705Z"
   },
   {
    "duration": 13,
    "start_time": "2023-04-05T13:24:10.301Z"
   },
   {
    "duration": 8,
    "start_time": "2023-04-05T13:27:27.254Z"
   },
   {
    "duration": 12,
    "start_time": "2023-04-05T13:27:28.853Z"
   },
   {
    "duration": 1118,
    "start_time": "2023-04-05T13:27:45.808Z"
   },
   {
    "duration": 51,
    "start_time": "2023-04-05T13:27:46.927Z"
   },
   {
    "duration": 16,
    "start_time": "2023-04-05T13:27:46.979Z"
   },
   {
    "duration": 668,
    "start_time": "2023-04-05T13:27:47.347Z"
   },
   {
    "duration": 18,
    "start_time": "2023-04-05T13:27:48.017Z"
   },
   {
    "duration": 2,
    "start_time": "2023-04-05T13:27:49.993Z"
   },
   {
    "duration": 13,
    "start_time": "2023-04-05T13:27:51.048Z"
   },
   {
    "duration": 7,
    "start_time": "2023-04-05T13:27:51.611Z"
   },
   {
    "duration": 9,
    "start_time": "2023-04-05T13:27:52.647Z"
   },
   {
    "duration": 5,
    "start_time": "2023-04-05T13:27:53.408Z"
   },
   {
    "duration": 9,
    "start_time": "2023-04-05T13:27:54.776Z"
   },
   {
    "duration": 4,
    "start_time": "2023-04-05T13:27:55.149Z"
   },
   {
    "duration": 9,
    "start_time": "2023-04-05T13:27:56.694Z"
   },
   {
    "duration": 3,
    "start_time": "2023-04-05T13:27:57.068Z"
   },
   {
    "duration": 12,
    "start_time": "2023-04-05T13:27:59.640Z"
   },
   {
    "duration": 10,
    "start_time": "2023-04-05T13:28:02.547Z"
   },
   {
    "duration": 12,
    "start_time": "2023-04-05T13:28:03.748Z"
   },
   {
    "duration": 104,
    "start_time": "2023-04-05T13:28:16.468Z"
   },
   {
    "duration": 9,
    "start_time": "2023-04-05T13:28:20.167Z"
   },
   {
    "duration": 309,
    "start_time": "2023-04-05T13:28:28.256Z"
   },
   {
    "duration": 12,
    "start_time": "2023-04-05T13:28:28.828Z"
   },
   {
    "duration": 8,
    "start_time": "2023-04-05T13:28:38.255Z"
   },
   {
    "duration": 13,
    "start_time": "2023-04-05T13:28:39.008Z"
   },
   {
    "duration": 12,
    "start_time": "2023-04-05T13:29:45.189Z"
   },
   {
    "duration": 8,
    "start_time": "2023-04-05T13:29:57.184Z"
   },
   {
    "duration": 16,
    "start_time": "2023-04-05T13:29:57.852Z"
   },
   {
    "duration": 15,
    "start_time": "2023-04-05T13:32:13.972Z"
   },
   {
    "duration": 7,
    "start_time": "2023-04-05T13:32:27.838Z"
   },
   {
    "duration": 12,
    "start_time": "2023-04-05T13:32:30.401Z"
   },
   {
    "duration": 13,
    "start_time": "2023-04-05T13:34:21.782Z"
   },
   {
    "duration": 19,
    "start_time": "2023-04-05T13:34:35.399Z"
   },
   {
    "duration": 17,
    "start_time": "2023-04-05T13:34:36.558Z"
   },
   {
    "duration": 131,
    "start_time": "2023-04-05T13:34:40.298Z"
   },
   {
    "duration": 16,
    "start_time": "2023-04-05T13:34:43.339Z"
   },
   {
    "duration": 156,
    "start_time": "2023-04-05T13:34:46.138Z"
   },
   {
    "duration": 138,
    "start_time": "2023-04-05T13:34:47.405Z"
   },
   {
    "duration": 142,
    "start_time": "2023-04-05T13:34:48.198Z"
   },
   {
    "duration": 204,
    "start_time": "2023-04-05T13:34:48.973Z"
   },
   {
    "duration": 142,
    "start_time": "2023-04-05T13:34:49.486Z"
   },
   {
    "duration": 21,
    "start_time": "2023-04-05T13:34:52.959Z"
   },
   {
    "duration": 14,
    "start_time": "2023-04-05T13:34:59.238Z"
   },
   {
    "duration": 534,
    "start_time": "2023-04-05T13:35:02.439Z"
   },
   {
    "duration": 7,
    "start_time": "2023-04-05T13:38:05.151Z"
   },
   {
    "duration": 7,
    "start_time": "2023-04-05T13:38:11.074Z"
   },
   {
    "duration": 132,
    "start_time": "2023-04-05T13:38:14.950Z"
   },
   {
    "duration": 115,
    "start_time": "2023-04-05T13:38:15.757Z"
   },
   {
    "duration": 127,
    "start_time": "2023-04-05T13:38:16.831Z"
   },
   {
    "duration": 123,
    "start_time": "2023-04-05T13:38:17.232Z"
   },
   {
    "duration": 21,
    "start_time": "2023-04-05T13:38:28.405Z"
   },
   {
    "duration": 122,
    "start_time": "2023-04-05T13:39:31.521Z"
   },
   {
    "duration": 224,
    "start_time": "2023-04-05T13:39:35.409Z"
   },
   {
    "duration": 156,
    "start_time": "2023-04-05T13:39:38.021Z"
   },
   {
    "duration": 315,
    "start_time": "2023-04-05T13:39:40.921Z"
   },
   {
    "duration": 291,
    "start_time": "2023-04-05T13:39:42.622Z"
   },
   {
    "duration": 306,
    "start_time": "2023-04-05T13:39:44.891Z"
   },
   {
    "duration": 146,
    "start_time": "2023-04-05T13:39:47.770Z"
   },
   {
    "duration": 160,
    "start_time": "2023-04-05T13:39:48.488Z"
   },
   {
    "duration": 142,
    "start_time": "2023-04-05T13:39:49.021Z"
   },
   {
    "duration": 7,
    "start_time": "2023-04-05T13:39:51.554Z"
   },
   {
    "duration": 5,
    "start_time": "2023-04-05T13:39:52.094Z"
   },
   {
    "duration": 7,
    "start_time": "2023-04-05T13:39:54.412Z"
   },
   {
    "duration": 4,
    "start_time": "2023-04-05T13:39:54.894Z"
   },
   {
    "duration": 130,
    "start_time": "2023-04-05T13:42:43.574Z"
   },
   {
    "duration": 120,
    "start_time": "2023-04-05T13:42:52.697Z"
   },
   {
    "duration": 1113,
    "start_time": "2023-04-05T22:47:34.887Z"
   },
   {
    "duration": 49,
    "start_time": "2023-04-05T22:47:36.002Z"
   },
   {
    "duration": 17,
    "start_time": "2023-04-05T22:47:36.052Z"
   },
   {
    "duration": 708,
    "start_time": "2023-04-05T22:47:36.071Z"
   },
   {
    "duration": 14,
    "start_time": "2023-04-05T22:47:36.781Z"
   },
   {
    "duration": 7,
    "start_time": "2023-04-05T22:47:36.797Z"
   },
   {
    "duration": 30,
    "start_time": "2023-04-05T22:47:36.806Z"
   },
   {
    "duration": 9,
    "start_time": "2023-04-05T22:47:36.837Z"
   },
   {
    "duration": 26,
    "start_time": "2023-04-05T22:47:36.848Z"
   },
   {
    "duration": 5,
    "start_time": "2023-04-05T22:47:36.878Z"
   },
   {
    "duration": 11,
    "start_time": "2023-04-05T22:47:36.884Z"
   },
   {
    "duration": 12,
    "start_time": "2023-04-05T22:47:36.897Z"
   },
   {
    "duration": 16,
    "start_time": "2023-04-05T22:47:36.910Z"
   },
   {
    "duration": 4,
    "start_time": "2023-04-05T22:47:36.928Z"
   },
   {
    "duration": 16,
    "start_time": "2023-04-05T22:47:36.934Z"
   },
   {
    "duration": 15,
    "start_time": "2023-04-05T22:47:36.951Z"
   },
   {
    "duration": 35,
    "start_time": "2023-04-05T22:47:36.968Z"
   },
   {
    "duration": 141,
    "start_time": "2023-04-05T22:47:37.005Z"
   },
   {
    "duration": 15,
    "start_time": "2023-04-05T22:47:37.148Z"
   },
   {
    "duration": 175,
    "start_time": "2023-04-05T22:47:37.165Z"
   },
   {
    "duration": 163,
    "start_time": "2023-04-05T22:47:37.342Z"
   },
   {
    "duration": 161,
    "start_time": "2023-04-05T22:47:37.507Z"
   },
   {
    "duration": 228,
    "start_time": "2023-04-05T22:47:37.669Z"
   },
   {
    "duration": 161,
    "start_time": "2023-04-05T22:47:37.899Z"
   },
   {
    "duration": 31,
    "start_time": "2023-04-05T22:47:38.062Z"
   },
   {
    "duration": 13,
    "start_time": "2023-04-05T22:47:38.094Z"
   },
   {
    "duration": 547,
    "start_time": "2023-04-05T22:47:38.108Z"
   },
   {
    "duration": 12,
    "start_time": "2023-04-05T22:47:38.659Z"
   },
   {
    "duration": 27,
    "start_time": "2023-04-05T22:47:38.672Z"
   },
   {
    "duration": 134,
    "start_time": "2023-04-05T22:47:38.700Z"
   },
   {
    "duration": 126,
    "start_time": "2023-04-05T22:47:38.836Z"
   },
   {
    "duration": 130,
    "start_time": "2023-04-05T22:47:38.964Z"
   },
   {
    "duration": 129,
    "start_time": "2023-04-05T22:47:39.096Z"
   },
   {
    "duration": 18,
    "start_time": "2023-04-05T22:47:39.227Z"
   },
   {
    "duration": 127,
    "start_time": "2023-04-05T22:47:39.247Z"
   },
   {
    "duration": 208,
    "start_time": "2023-04-05T22:47:39.375Z"
   },
   {
    "duration": 138,
    "start_time": "2023-04-05T22:47:39.589Z"
   },
   {
    "duration": 579,
    "start_time": "2023-04-05T22:47:39.729Z"
   },
   {
    "duration": 604,
    "start_time": "2023-04-05T22:47:40.309Z"
   },
   {
    "duration": 528,
    "start_time": "2023-04-05T22:47:40.915Z"
   },
   {
    "duration": 158,
    "start_time": "2023-04-05T22:47:41.445Z"
   },
   {
    "duration": 164,
    "start_time": "2023-04-05T22:47:41.605Z"
   },
   {
    "duration": 152,
    "start_time": "2023-04-05T22:47:41.770Z"
   },
   {
    "duration": 7,
    "start_time": "2023-04-05T22:47:41.924Z"
   },
   {
    "duration": 18,
    "start_time": "2023-04-05T22:47:41.933Z"
   },
   {
    "duration": 16,
    "start_time": "2023-04-05T22:47:41.953Z"
   },
   {
    "duration": 7,
    "start_time": "2023-04-05T22:47:41.971Z"
   },
   {
    "duration": 95,
    "start_time": "2023-04-05T22:48:30.906Z"
   },
   {
    "duration": 7,
    "start_time": "2023-04-05T22:48:35.116Z"
   },
   {
    "duration": 1211,
    "start_time": "2023-04-05T22:48:41.379Z"
   },
   {
    "duration": 50,
    "start_time": "2023-04-05T22:48:42.592Z"
   },
   {
    "duration": 16,
    "start_time": "2023-04-05T22:48:42.643Z"
   },
   {
    "duration": 749,
    "start_time": "2023-04-05T22:48:42.661Z"
   },
   {
    "duration": 9,
    "start_time": "2023-04-05T22:48:43.411Z"
   },
   {
    "duration": 6,
    "start_time": "2023-04-05T22:48:43.421Z"
   },
   {
    "duration": 16,
    "start_time": "2023-04-05T22:48:43.429Z"
   },
   {
    "duration": 9,
    "start_time": "2023-04-05T22:48:43.446Z"
   },
   {
    "duration": 34,
    "start_time": "2023-04-05T22:48:43.457Z"
   },
   {
    "duration": 5,
    "start_time": "2023-04-05T22:48:43.493Z"
   },
   {
    "duration": 22,
    "start_time": "2023-04-05T22:48:43.500Z"
   },
   {
    "duration": 17,
    "start_time": "2023-04-05T22:48:43.523Z"
   },
   {
    "duration": 12,
    "start_time": "2023-04-05T22:48:43.541Z"
   },
   {
    "duration": 16,
    "start_time": "2023-04-05T22:48:43.554Z"
   },
   {
    "duration": 4,
    "start_time": "2023-04-05T22:48:43.571Z"
   },
   {
    "duration": 15,
    "start_time": "2023-04-05T22:48:43.576Z"
   },
   {
    "duration": 16,
    "start_time": "2023-04-05T22:48:43.592Z"
   },
   {
    "duration": 21,
    "start_time": "2023-04-05T22:48:43.609Z"
   },
   {
    "duration": 158,
    "start_time": "2023-04-05T22:48:43.631Z"
   },
   {
    "duration": 16,
    "start_time": "2023-04-05T22:48:43.790Z"
   },
   {
    "duration": 166,
    "start_time": "2023-04-05T22:48:43.807Z"
   },
   {
    "duration": 154,
    "start_time": "2023-04-05T22:48:43.975Z"
   },
   {
    "duration": 157,
    "start_time": "2023-04-05T22:48:44.130Z"
   },
   {
    "duration": 225,
    "start_time": "2023-04-05T22:48:44.289Z"
   },
   {
    "duration": 163,
    "start_time": "2023-04-05T22:48:44.515Z"
   },
   {
    "duration": 30,
    "start_time": "2023-04-05T22:48:44.679Z"
   },
   {
    "duration": 16,
    "start_time": "2023-04-05T22:48:44.710Z"
   },
   {
    "duration": 563,
    "start_time": "2023-04-05T22:48:44.729Z"
   },
   {
    "duration": 7,
    "start_time": "2023-04-05T22:48:45.294Z"
   },
   {
    "duration": 13,
    "start_time": "2023-04-05T22:48:45.303Z"
   },
   {
    "duration": 141,
    "start_time": "2023-04-05T22:48:45.318Z"
   },
   {
    "duration": 131,
    "start_time": "2023-04-05T22:48:45.461Z"
   },
   {
    "duration": 136,
    "start_time": "2023-04-05T22:48:45.594Z"
   },
   {
    "duration": 141,
    "start_time": "2023-04-05T22:48:45.732Z"
   },
   {
    "duration": 30,
    "start_time": "2023-04-05T22:48:45.874Z"
   },
   {
    "duration": 120,
    "start_time": "2023-04-05T22:48:45.906Z"
   },
   {
    "duration": 204,
    "start_time": "2023-04-05T22:48:46.028Z"
   },
   {
    "duration": 141,
    "start_time": "2023-04-05T22:48:46.234Z"
   },
   {
    "duration": 313,
    "start_time": "2023-04-05T22:48:46.376Z"
   },
   {
    "duration": 313,
    "start_time": "2023-04-05T22:48:46.691Z"
   },
   {
    "duration": 320,
    "start_time": "2023-04-05T22:48:47.006Z"
   },
   {
    "duration": 193,
    "start_time": "2023-04-05T22:48:47.328Z"
   },
   {
    "duration": 189,
    "start_time": "2023-04-05T22:48:47.523Z"
   },
   {
    "duration": 167,
    "start_time": "2023-04-05T22:48:47.713Z"
   },
   {
    "duration": 12,
    "start_time": "2023-04-05T22:48:47.881Z"
   },
   {
    "duration": 7,
    "start_time": "2023-04-05T22:48:47.895Z"
   },
   {
    "duration": 12,
    "start_time": "2023-04-05T22:48:47.904Z"
   },
   {
    "duration": 7,
    "start_time": "2023-04-05T22:48:47.918Z"
   },
   {
    "duration": 1176,
    "start_time": "2023-04-05T22:54:24.500Z"
   },
   {
    "duration": 51,
    "start_time": "2023-04-05T22:54:25.678Z"
   },
   {
    "duration": 17,
    "start_time": "2023-04-05T22:54:25.731Z"
   },
   {
    "duration": 695,
    "start_time": "2023-04-05T22:54:25.750Z"
   },
   {
    "duration": 9,
    "start_time": "2023-04-05T22:54:26.448Z"
   },
   {
    "duration": 14,
    "start_time": "2023-04-05T22:54:26.459Z"
   },
   {
    "duration": 24,
    "start_time": "2023-04-05T22:54:26.475Z"
   },
   {
    "duration": 8,
    "start_time": "2023-04-05T22:54:26.500Z"
   },
   {
    "duration": 12,
    "start_time": "2023-04-05T22:54:26.509Z"
   },
   {
    "duration": 5,
    "start_time": "2023-04-05T22:54:26.523Z"
   },
   {
    "duration": 14,
    "start_time": "2023-04-05T22:54:26.529Z"
   },
   {
    "duration": 3,
    "start_time": "2023-04-05T22:54:26.545Z"
   },
   {
    "duration": 20,
    "start_time": "2023-04-05T22:54:26.549Z"
   },
   {
    "duration": 3,
    "start_time": "2023-04-05T22:54:26.589Z"
   },
   {
    "duration": 14,
    "start_time": "2023-04-05T22:54:26.594Z"
   },
   {
    "duration": 18,
    "start_time": "2023-04-05T22:54:26.610Z"
   },
   {
    "duration": 14,
    "start_time": "2023-04-05T22:54:26.630Z"
   },
   {
    "duration": 26,
    "start_time": "2023-04-05T22:54:26.645Z"
   },
   {
    "duration": 156,
    "start_time": "2023-04-05T22:54:26.672Z"
   },
   {
    "duration": 16,
    "start_time": "2023-04-05T22:54:26.829Z"
   },
   {
    "duration": 175,
    "start_time": "2023-04-05T22:54:26.846Z"
   },
   {
    "duration": 149,
    "start_time": "2023-04-05T22:54:27.022Z"
   },
   {
    "duration": 175,
    "start_time": "2023-04-05T22:54:27.173Z"
   },
   {
    "duration": 236,
    "start_time": "2023-04-05T22:54:27.350Z"
   },
   {
    "duration": 156,
    "start_time": "2023-04-05T22:54:27.590Z"
   },
   {
    "duration": 23,
    "start_time": "2023-04-05T22:54:27.748Z"
   },
   {
    "duration": 14,
    "start_time": "2023-04-05T22:54:27.788Z"
   },
   {
    "duration": 528,
    "start_time": "2023-04-05T22:54:27.804Z"
   },
   {
    "duration": 8,
    "start_time": "2023-04-05T22:54:28.334Z"
   },
   {
    "duration": 22,
    "start_time": "2023-04-05T22:54:28.344Z"
   },
   {
    "duration": 146,
    "start_time": "2023-04-05T22:54:28.367Z"
   },
   {
    "duration": 126,
    "start_time": "2023-04-05T22:54:28.514Z"
   },
   {
    "duration": 131,
    "start_time": "2023-04-05T22:54:28.641Z"
   },
   {
    "duration": 124,
    "start_time": "2023-04-05T22:54:28.773Z"
   },
   {
    "duration": 18,
    "start_time": "2023-04-05T22:54:28.899Z"
   },
   {
    "duration": 120,
    "start_time": "2023-04-05T22:54:28.918Z"
   },
   {
    "duration": 381,
    "start_time": "2023-04-05T22:54:29.039Z"
   },
   {
    "duration": 285,
    "start_time": "2023-04-05T22:54:29.422Z"
   },
   {
    "duration": 600,
    "start_time": "2023-04-05T22:54:29.709Z"
   },
   {
    "duration": 537,
    "start_time": "2023-04-05T22:54:30.310Z"
   },
   {
    "duration": 306,
    "start_time": "2023-04-05T22:54:30.851Z"
   },
   {
    "duration": 160,
    "start_time": "2023-04-05T22:54:31.159Z"
   },
   {
    "duration": 162,
    "start_time": "2023-04-05T22:54:31.320Z"
   },
   {
    "duration": 153,
    "start_time": "2023-04-05T22:54:31.484Z"
   },
   {
    "duration": 8,
    "start_time": "2023-04-05T22:54:31.638Z"
   },
   {
    "duration": 30,
    "start_time": "2023-04-05T22:54:31.647Z"
   },
   {
    "duration": 18,
    "start_time": "2023-04-05T22:54:31.678Z"
   },
   {
    "duration": 32,
    "start_time": "2023-04-05T22:54:31.697Z"
   },
   {
    "duration": 4,
    "start_time": "2023-04-05T23:05:35.352Z"
   },
   {
    "duration": 8,
    "start_time": "2023-04-05T23:05:37.216Z"
   },
   {
    "duration": 5,
    "start_time": "2023-04-05T23:05:38.006Z"
   },
   {
    "duration": 22,
    "start_time": "2023-04-05T23:05:43.733Z"
   },
   {
    "duration": 21,
    "start_time": "2023-04-05T23:06:04.906Z"
   },
   {
    "duration": 9,
    "start_time": "2023-04-05T23:06:28.637Z"
   },
   {
    "duration": 1216,
    "start_time": "2023-04-05T23:06:47.098Z"
   },
   {
    "duration": 48,
    "start_time": "2023-04-05T23:06:48.315Z"
   },
   {
    "duration": 16,
    "start_time": "2023-04-05T23:06:48.365Z"
   },
   {
    "duration": 825,
    "start_time": "2023-04-05T23:06:48.382Z"
   },
   {
    "duration": 10,
    "start_time": "2023-04-05T23:06:49.209Z"
   },
   {
    "duration": 4,
    "start_time": "2023-04-05T23:06:49.220Z"
   },
   {
    "duration": 17,
    "start_time": "2023-04-05T23:06:49.225Z"
   },
   {
    "duration": 7,
    "start_time": "2023-04-05T23:06:49.244Z"
   },
   {
    "duration": 11,
    "start_time": "2023-04-05T23:06:49.252Z"
   },
   {
    "duration": 25,
    "start_time": "2023-04-05T23:06:49.264Z"
   },
   {
    "duration": 15,
    "start_time": "2023-04-05T23:06:49.291Z"
   },
   {
    "duration": 6,
    "start_time": "2023-04-05T23:06:49.307Z"
   },
   {
    "duration": 10,
    "start_time": "2023-04-05T23:06:49.314Z"
   },
   {
    "duration": 4,
    "start_time": "2023-04-05T23:06:49.328Z"
   },
   {
    "duration": 23,
    "start_time": "2023-04-05T23:06:49.333Z"
   },
   {
    "duration": 18,
    "start_time": "2023-04-05T23:06:49.358Z"
   },
   {
    "duration": 26,
    "start_time": "2023-04-05T23:06:49.378Z"
   },
   {
    "duration": 146,
    "start_time": "2023-04-05T23:06:49.405Z"
   },
   {
    "duration": 15,
    "start_time": "2023-04-05T23:06:49.552Z"
   },
   {
    "duration": 177,
    "start_time": "2023-04-05T23:06:49.569Z"
   },
   {
    "duration": 154,
    "start_time": "2023-04-05T23:06:49.748Z"
   },
   {
    "duration": 155,
    "start_time": "2023-04-05T23:06:49.903Z"
   },
   {
    "duration": 222,
    "start_time": "2023-04-05T23:06:50.060Z"
   },
   {
    "duration": 155,
    "start_time": "2023-04-05T23:06:50.288Z"
   },
   {
    "duration": 25,
    "start_time": "2023-04-05T23:06:50.445Z"
   },
   {
    "duration": 28,
    "start_time": "2023-04-05T23:06:50.471Z"
   },
   {
    "duration": 545,
    "start_time": "2023-04-05T23:06:50.501Z"
   },
   {
    "duration": 8,
    "start_time": "2023-04-05T23:06:51.048Z"
   },
   {
    "duration": 11,
    "start_time": "2023-04-05T23:06:51.057Z"
   },
   {
    "duration": 152,
    "start_time": "2023-04-05T23:06:51.069Z"
   },
   {
    "duration": 125,
    "start_time": "2023-04-05T23:06:51.223Z"
   },
   {
    "duration": 130,
    "start_time": "2023-04-05T23:06:51.350Z"
   },
   {
    "duration": 133,
    "start_time": "2023-04-05T23:06:51.481Z"
   },
   {
    "duration": 20,
    "start_time": "2023-04-05T23:06:51.616Z"
   },
   {
    "duration": 141,
    "start_time": "2023-04-05T23:06:51.637Z"
   },
   {
    "duration": 223,
    "start_time": "2023-04-05T23:06:51.780Z"
   },
   {
    "duration": 153,
    "start_time": "2023-04-05T23:06:52.005Z"
   },
   {
    "duration": 309,
    "start_time": "2023-04-05T23:06:52.160Z"
   },
   {
    "duration": 305,
    "start_time": "2023-04-05T23:06:52.471Z"
   },
   {
    "duration": 313,
    "start_time": "2023-04-05T23:06:52.778Z"
   },
   {
    "duration": 175,
    "start_time": "2023-04-05T23:06:53.095Z"
   },
   {
    "duration": 164,
    "start_time": "2023-04-05T23:06:53.272Z"
   },
   {
    "duration": 157,
    "start_time": "2023-04-05T23:06:53.438Z"
   },
   {
    "duration": 23,
    "start_time": "2023-04-05T23:06:53.597Z"
   },
   {
    "duration": 7,
    "start_time": "2023-04-05T23:06:53.621Z"
   },
   {
    "duration": 11,
    "start_time": "2023-04-05T23:06:53.630Z"
   },
   {
    "duration": 10,
    "start_time": "2023-04-05T23:06:53.643Z"
   },
   {
    "duration": 7,
    "start_time": "2023-04-05T23:06:53.655Z"
   },
   {
    "duration": 1445,
    "start_time": "2023-04-06T05:01:57.935Z"
   },
   {
    "duration": 208,
    "start_time": "2023-04-06T05:01:59.382Z"
   },
   {
    "duration": 29,
    "start_time": "2023-04-06T05:01:59.592Z"
   },
   {
    "duration": 871,
    "start_time": "2023-04-06T05:02:00.070Z"
   },
   {
    "duration": 13,
    "start_time": "2023-04-06T05:02:00.943Z"
   },
   {
    "duration": 4,
    "start_time": "2023-04-06T05:02:04.202Z"
   },
   {
    "duration": 20,
    "start_time": "2023-04-06T05:02:06.439Z"
   },
   {
    "duration": 12,
    "start_time": "2023-04-06T05:02:10.691Z"
   },
   {
    "duration": 11,
    "start_time": "2023-04-06T05:02:13.059Z"
   },
   {
    "duration": 141,
    "start_time": "2023-04-06T05:02:17.803Z"
   },
   {
    "duration": 9,
    "start_time": "2023-04-06T05:02:38.118Z"
   },
   {
    "duration": 1345,
    "start_time": "2023-04-06T05:04:24.629Z"
   },
   {
    "duration": 67,
    "start_time": "2023-04-06T05:04:25.976Z"
   },
   {
    "duration": 32,
    "start_time": "2023-04-06T05:04:26.578Z"
   },
   {
    "duration": 903,
    "start_time": "2023-04-06T05:04:27.290Z"
   },
   {
    "duration": 17,
    "start_time": "2023-04-06T05:04:28.196Z"
   },
   {
    "duration": 4,
    "start_time": "2023-04-06T05:04:30.409Z"
   },
   {
    "duration": 17,
    "start_time": "2023-04-06T05:04:31.502Z"
   },
   {
    "duration": 11,
    "start_time": "2023-04-06T05:04:32.270Z"
   },
   {
    "duration": 13,
    "start_time": "2023-04-06T05:04:33.156Z"
   },
   {
    "duration": 15,
    "start_time": "2023-04-06T05:04:34.310Z"
   },
   {
    "duration": 8,
    "start_time": "2023-04-06T05:04:34.953Z"
   },
   {
    "duration": 16,
    "start_time": "2023-04-06T05:04:36.214Z"
   },
   {
    "duration": 6,
    "start_time": "2023-04-06T05:04:50.397Z"
   },
   {
    "duration": 123,
    "start_time": "2023-04-06T05:04:51.490Z"
   },
   {
    "duration": 14,
    "start_time": "2023-04-06T05:05:07.500Z"
   },
   {
    "duration": 1349,
    "start_time": "2023-04-06T05:05:44.217Z"
   },
   {
    "duration": 57,
    "start_time": "2023-04-06T05:05:45.568Z"
   },
   {
    "duration": 25,
    "start_time": "2023-04-06T05:05:45.627Z"
   },
   {
    "duration": 944,
    "start_time": "2023-04-06T05:05:45.909Z"
   },
   {
    "duration": 18,
    "start_time": "2023-04-06T05:05:46.856Z"
   },
   {
    "duration": 4,
    "start_time": "2023-04-06T05:05:48.373Z"
   },
   {
    "duration": 25,
    "start_time": "2023-04-06T05:05:49.485Z"
   },
   {
    "duration": 16,
    "start_time": "2023-04-06T05:05:50.235Z"
   },
   {
    "duration": 13,
    "start_time": "2023-04-06T05:05:51.616Z"
   },
   {
    "duration": 15,
    "start_time": "2023-04-06T05:05:53.252Z"
   },
   {
    "duration": 122,
    "start_time": "2023-04-06T05:05:54.593Z"
   },
   {
    "duration": 15,
    "start_time": "2023-04-06T05:05:57.050Z"
   },
   {
    "duration": 15,
    "start_time": "2023-04-06T05:06:16.368Z"
   },
   {
    "duration": 17,
    "start_time": "2023-04-06T05:06:25.886Z"
   },
   {
    "duration": 1386,
    "start_time": "2023-04-06T05:07:41.810Z"
   },
   {
    "duration": 65,
    "start_time": "2023-04-06T05:07:43.200Z"
   },
   {
    "duration": 19,
    "start_time": "2023-04-06T05:07:43.267Z"
   },
   {
    "duration": 888,
    "start_time": "2023-04-06T05:07:43.288Z"
   },
   {
    "duration": 10,
    "start_time": "2023-04-06T05:07:44.178Z"
   },
   {
    "duration": 3,
    "start_time": "2023-04-06T05:07:46.406Z"
   },
   {
    "duration": 24,
    "start_time": "2023-04-06T05:07:47.837Z"
   },
   {
    "duration": 9,
    "start_time": "2023-04-06T05:07:48.910Z"
   },
   {
    "duration": 12,
    "start_time": "2023-04-06T05:07:50.047Z"
   },
   {
    "duration": 16,
    "start_time": "2023-04-06T05:07:51.714Z"
   },
   {
    "duration": 125,
    "start_time": "2023-04-06T05:07:52.494Z"
   },
   {
    "duration": 7,
    "start_time": "2023-04-06T05:08:35.252Z"
   },
   {
    "duration": 17,
    "start_time": "2023-04-06T05:08:36.146Z"
   },
   {
    "duration": 6,
    "start_time": "2023-04-06T05:10:01.281Z"
   },
   {
    "duration": 18,
    "start_time": "2023-04-06T05:10:02.421Z"
   },
   {
    "duration": 15,
    "start_time": "2023-04-06T05:14:49.190Z"
   },
   {
    "duration": 27,
    "start_time": "2023-04-06T05:14:53.121Z"
   },
   {
    "duration": 1295,
    "start_time": "2023-04-06T05:15:39.949Z"
   },
   {
    "duration": 58,
    "start_time": "2023-04-06T05:15:41.246Z"
   },
   {
    "duration": 20,
    "start_time": "2023-04-06T05:15:41.306Z"
   },
   {
    "duration": 890,
    "start_time": "2023-04-06T05:15:41.327Z"
   },
   {
    "duration": 31,
    "start_time": "2023-04-06T05:15:42.219Z"
   },
   {
    "duration": 4,
    "start_time": "2023-04-06T05:15:43.396Z"
   },
   {
    "duration": 15,
    "start_time": "2023-04-06T05:15:44.181Z"
   },
   {
    "duration": 20,
    "start_time": "2023-04-06T05:15:45.128Z"
   },
   {
    "duration": 13,
    "start_time": "2023-04-06T05:15:46.209Z"
   },
   {
    "duration": 17,
    "start_time": "2023-04-06T05:15:49.627Z"
   },
   {
    "duration": 128,
    "start_time": "2023-04-06T05:15:49.650Z"
   },
   {
    "duration": 23,
    "start_time": "2023-04-06T05:16:59.215Z"
   },
   {
    "duration": 14,
    "start_time": "2023-04-06T05:17:02.370Z"
   },
   {
    "duration": 1290,
    "start_time": "2023-04-06T05:18:23.495Z"
   },
   {
    "duration": 60,
    "start_time": "2023-04-06T05:18:24.787Z"
   },
   {
    "duration": 19,
    "start_time": "2023-04-06T05:18:24.849Z"
   },
   {
    "duration": 862,
    "start_time": "2023-04-06T05:18:24.870Z"
   },
   {
    "duration": 13,
    "start_time": "2023-04-06T05:18:25.742Z"
   },
   {
    "duration": 4,
    "start_time": "2023-04-06T05:18:27.382Z"
   },
   {
    "duration": 15,
    "start_time": "2023-04-06T05:18:28.515Z"
   },
   {
    "duration": 10,
    "start_time": "2023-04-06T05:18:29.483Z"
   },
   {
    "duration": 10,
    "start_time": "2023-04-06T05:18:30.519Z"
   },
   {
    "duration": 19,
    "start_time": "2023-04-06T05:18:32.515Z"
   },
   {
    "duration": 16,
    "start_time": "2023-04-06T05:18:33.428Z"
   },
   {
    "duration": 14,
    "start_time": "2023-04-06T05:18:34.167Z"
   },
   {
    "duration": 1251,
    "start_time": "2023-04-06T05:28:18.261Z"
   },
   {
    "duration": 56,
    "start_time": "2023-04-06T05:28:19.515Z"
   },
   {
    "duration": 20,
    "start_time": "2023-04-06T05:28:19.573Z"
   },
   {
    "duration": 850,
    "start_time": "2023-04-06T05:28:19.594Z"
   },
   {
    "duration": 11,
    "start_time": "2023-04-06T05:28:20.447Z"
   },
   {
    "duration": 12,
    "start_time": "2023-04-06T05:28:20.459Z"
   },
   {
    "duration": 18,
    "start_time": "2023-04-06T05:28:20.473Z"
   },
   {
    "duration": 9,
    "start_time": "2023-04-06T05:28:20.492Z"
   },
   {
    "duration": 35,
    "start_time": "2023-04-06T05:28:20.503Z"
   },
   {
    "duration": 14,
    "start_time": "2023-04-06T05:28:20.540Z"
   },
   {
    "duration": 11,
    "start_time": "2023-04-06T05:28:20.556Z"
   },
   {
    "duration": 7,
    "start_time": "2023-04-06T05:28:20.569Z"
   },
   {
    "duration": 13,
    "start_time": "2023-04-06T05:28:20.577Z"
   },
   {
    "duration": 4,
    "start_time": "2023-04-06T05:28:20.594Z"
   },
   {
    "duration": 48,
    "start_time": "2023-04-06T05:28:20.600Z"
   },
   {
    "duration": 19,
    "start_time": "2023-04-06T05:28:20.649Z"
   },
   {
    "duration": 30,
    "start_time": "2023-04-06T05:28:20.670Z"
   },
   {
    "duration": 175,
    "start_time": "2023-04-06T05:28:20.702Z"
   },
   {
    "duration": 17,
    "start_time": "2023-04-06T05:28:20.879Z"
   },
   {
    "duration": 180,
    "start_time": "2023-04-06T05:28:20.898Z"
   },
   {
    "duration": 178,
    "start_time": "2023-04-06T05:28:21.080Z"
   },
   {
    "duration": 183,
    "start_time": "2023-04-06T05:28:21.261Z"
   },
   {
    "duration": 266,
    "start_time": "2023-04-06T05:28:21.446Z"
   },
   {
    "duration": 171,
    "start_time": "2023-04-06T05:28:21.714Z"
   },
   {
    "duration": 27,
    "start_time": "2023-04-06T05:28:21.886Z"
   },
   {
    "duration": 30,
    "start_time": "2023-04-06T05:28:21.914Z"
   },
   {
    "duration": 402,
    "start_time": "2023-04-06T05:28:21.946Z"
   },
   {
    "duration": 6,
    "start_time": "2023-04-06T05:28:22.350Z"
   },
   {
    "duration": 130,
    "start_time": "2023-04-06T05:28:22.358Z"
   },
   {
    "duration": 0,
    "start_time": "2023-04-06T05:28:22.491Z"
   },
   {
    "duration": 0,
    "start_time": "2023-04-06T05:28:22.492Z"
   },
   {
    "duration": 0,
    "start_time": "2023-04-06T05:28:22.493Z"
   },
   {
    "duration": 0,
    "start_time": "2023-04-06T05:28:22.494Z"
   },
   {
    "duration": 0,
    "start_time": "2023-04-06T05:28:22.496Z"
   },
   {
    "duration": 0,
    "start_time": "2023-04-06T05:28:22.497Z"
   },
   {
    "duration": 0,
    "start_time": "2023-04-06T05:28:22.498Z"
   },
   {
    "duration": 0,
    "start_time": "2023-04-06T05:28:22.499Z"
   },
   {
    "duration": 0,
    "start_time": "2023-04-06T05:28:22.500Z"
   },
   {
    "duration": 0,
    "start_time": "2023-04-06T05:28:22.501Z"
   },
   {
    "duration": 0,
    "start_time": "2023-04-06T05:28:22.502Z"
   },
   {
    "duration": 0,
    "start_time": "2023-04-06T05:28:22.504Z"
   },
   {
    "duration": 0,
    "start_time": "2023-04-06T05:28:22.540Z"
   },
   {
    "duration": 0,
    "start_time": "2023-04-06T05:28:22.542Z"
   },
   {
    "duration": 0,
    "start_time": "2023-04-06T05:28:22.545Z"
   },
   {
    "duration": 0,
    "start_time": "2023-04-06T05:28:22.545Z"
   },
   {
    "duration": 0,
    "start_time": "2023-04-06T05:28:22.546Z"
   },
   {
    "duration": 0,
    "start_time": "2023-04-06T05:28:22.547Z"
   },
   {
    "duration": 0,
    "start_time": "2023-04-06T05:28:22.549Z"
   },
   {
    "duration": 0,
    "start_time": "2023-04-06T05:28:22.552Z"
   },
   {
    "duration": 0,
    "start_time": "2023-04-06T05:28:22.554Z"
   },
   {
    "duration": 6,
    "start_time": "2023-04-06T05:31:39.390Z"
   },
   {
    "duration": 10,
    "start_time": "2023-04-06T05:31:40.009Z"
   },
   {
    "duration": 1295,
    "start_time": "2023-04-06T05:31:56.090Z"
   },
   {
    "duration": 66,
    "start_time": "2023-04-06T05:31:57.388Z"
   },
   {
    "duration": 19,
    "start_time": "2023-04-06T05:31:57.456Z"
   },
   {
    "duration": 835,
    "start_time": "2023-04-06T05:31:57.477Z"
   },
   {
    "duration": 10,
    "start_time": "2023-04-06T05:31:58.314Z"
   },
   {
    "duration": 5,
    "start_time": "2023-04-06T05:31:58.333Z"
   },
   {
    "duration": 27,
    "start_time": "2023-04-06T05:31:58.340Z"
   },
   {
    "duration": 11,
    "start_time": "2023-04-06T05:31:58.369Z"
   },
   {
    "duration": 14,
    "start_time": "2023-04-06T05:31:58.382Z"
   },
   {
    "duration": 36,
    "start_time": "2023-04-06T05:31:58.398Z"
   },
   {
    "duration": 10,
    "start_time": "2023-04-06T05:31:58.436Z"
   },
   {
    "duration": 12,
    "start_time": "2023-04-06T05:31:58.448Z"
   },
   {
    "duration": 15,
    "start_time": "2023-04-06T05:31:58.462Z"
   },
   {
    "duration": 4,
    "start_time": "2023-04-06T05:31:58.481Z"
   },
   {
    "duration": 27,
    "start_time": "2023-04-06T05:31:58.487Z"
   },
   {
    "duration": 38,
    "start_time": "2023-04-06T05:31:58.516Z"
   },
   {
    "duration": 25,
    "start_time": "2023-04-06T05:31:58.556Z"
   },
   {
    "duration": 153,
    "start_time": "2023-04-06T05:31:58.583Z"
   },
   {
    "duration": 17,
    "start_time": "2023-04-06T05:31:58.738Z"
   },
   {
    "duration": 176,
    "start_time": "2023-04-06T05:31:58.757Z"
   },
   {
    "duration": 176,
    "start_time": "2023-04-06T05:31:58.935Z"
   },
   {
    "duration": 180,
    "start_time": "2023-04-06T05:31:59.113Z"
   },
   {
    "duration": 270,
    "start_time": "2023-04-06T05:31:59.295Z"
   },
   {
    "duration": 187,
    "start_time": "2023-04-06T05:31:59.567Z"
   },
   {
    "duration": 26,
    "start_time": "2023-04-06T05:31:59.756Z"
   },
   {
    "duration": 15,
    "start_time": "2023-04-06T05:31:59.784Z"
   },
   {
    "duration": 403,
    "start_time": "2023-04-06T05:31:59.801Z"
   },
   {
    "duration": 6,
    "start_time": "2023-04-06T05:32:00.206Z"
   },
   {
    "duration": 23,
    "start_time": "2023-04-06T05:32:00.213Z"
   },
   {
    "duration": 8,
    "start_time": "2023-04-06T05:32:00.238Z"
   },
   {
    "duration": 28,
    "start_time": "2023-04-06T05:32:00.248Z"
   },
   {
    "duration": 42,
    "start_time": "2023-04-06T05:32:00.278Z"
   },
   {
    "duration": 164,
    "start_time": "2023-04-06T05:32:00.322Z"
   },
   {
    "duration": 158,
    "start_time": "2023-04-06T05:32:00.488Z"
   },
   {
    "duration": 158,
    "start_time": "2023-04-06T05:32:00.649Z"
   },
   {
    "duration": 151,
    "start_time": "2023-04-06T05:32:00.810Z"
   },
   {
    "duration": 24,
    "start_time": "2023-04-06T05:32:00.964Z"
   },
   {
    "duration": 164,
    "start_time": "2023-04-06T05:32:00.991Z"
   },
   {
    "duration": 156,
    "start_time": "2023-04-06T05:32:01.157Z"
   },
   {
    "duration": 164,
    "start_time": "2023-04-06T05:32:01.315Z"
   },
   {
    "duration": 291,
    "start_time": "2023-04-06T05:32:01.484Z"
   },
   {
    "duration": 162,
    "start_time": "2023-04-06T05:32:01.778Z"
   },
   {
    "duration": 158,
    "start_time": "2023-04-06T05:32:01.942Z"
   },
   {
    "duration": 165,
    "start_time": "2023-04-06T05:32:02.102Z"
   },
   {
    "duration": 180,
    "start_time": "2023-04-06T05:32:02.269Z"
   },
   {
    "duration": 162,
    "start_time": "2023-04-06T05:32:02.451Z"
   },
   {
    "duration": 8,
    "start_time": "2023-04-06T05:32:02.615Z"
   },
   {
    "duration": 46,
    "start_time": "2023-04-06T05:32:02.624Z"
   },
   {
    "duration": 26,
    "start_time": "2023-04-06T05:32:02.672Z"
   },
   {
    "duration": 14,
    "start_time": "2023-04-06T05:32:02.700Z"
   },
   {
    "duration": 1365,
    "start_time": "2023-04-06T05:38:44.752Z"
   },
   {
    "duration": 63,
    "start_time": "2023-04-06T05:38:46.120Z"
   },
   {
    "duration": 24,
    "start_time": "2023-04-06T05:38:46.185Z"
   },
   {
    "duration": 934,
    "start_time": "2023-04-06T05:38:46.211Z"
   },
   {
    "duration": 11,
    "start_time": "2023-04-06T05:38:47.147Z"
   },
   {
    "duration": 8,
    "start_time": "2023-04-06T05:38:47.160Z"
   },
   {
    "duration": 18,
    "start_time": "2023-04-06T05:38:47.170Z"
   },
   {
    "duration": 15,
    "start_time": "2023-04-06T05:38:47.190Z"
   },
   {
    "duration": 33,
    "start_time": "2023-04-06T05:38:47.207Z"
   },
   {
    "duration": 14,
    "start_time": "2023-04-06T05:38:47.242Z"
   },
   {
    "duration": 11,
    "start_time": "2023-04-06T05:38:47.257Z"
   },
   {
    "duration": 6,
    "start_time": "2023-04-06T05:38:47.270Z"
   },
   {
    "duration": 10,
    "start_time": "2023-04-06T05:38:47.278Z"
   },
   {
    "duration": 43,
    "start_time": "2023-04-06T05:38:47.293Z"
   },
   {
    "duration": 20,
    "start_time": "2023-04-06T05:38:47.338Z"
   },
   {
    "duration": 18,
    "start_time": "2023-04-06T05:38:47.359Z"
   },
   {
    "duration": 30,
    "start_time": "2023-04-06T05:38:47.378Z"
   },
   {
    "duration": 185,
    "start_time": "2023-04-06T05:38:47.409Z"
   },
   {
    "duration": 18,
    "start_time": "2023-04-06T05:38:47.596Z"
   },
   {
    "duration": 185,
    "start_time": "2023-04-06T05:38:47.615Z"
   },
   {
    "duration": 174,
    "start_time": "2023-04-06T05:38:47.803Z"
   },
   {
    "duration": 189,
    "start_time": "2023-04-06T05:38:47.980Z"
   },
   {
    "duration": 247,
    "start_time": "2023-04-06T05:38:48.172Z"
   },
   {
    "duration": 172,
    "start_time": "2023-04-06T05:38:48.421Z"
   },
   {
    "duration": 50,
    "start_time": "2023-04-06T05:38:48.595Z"
   },
   {
    "duration": 21,
    "start_time": "2023-04-06T05:38:48.648Z"
   },
   {
    "duration": 380,
    "start_time": "2023-04-06T05:38:48.672Z"
   },
   {
    "duration": 6,
    "start_time": "2023-04-06T05:38:49.054Z"
   },
   {
    "duration": 9,
    "start_time": "2023-04-06T05:38:49.062Z"
   },
   {
    "duration": 10,
    "start_time": "2023-04-06T05:38:49.073Z"
   },
   {
    "duration": 11,
    "start_time": "2023-04-06T05:38:49.085Z"
   },
   {
    "duration": 41,
    "start_time": "2023-04-06T05:38:49.098Z"
   },
   {
    "duration": 149,
    "start_time": "2023-04-06T05:38:49.141Z"
   },
   {
    "duration": 164,
    "start_time": "2023-04-06T05:38:49.292Z"
   },
   {
    "duration": 158,
    "start_time": "2023-04-06T05:38:49.458Z"
   },
   {
    "duration": 152,
    "start_time": "2023-04-06T05:38:49.618Z"
   },
   {
    "duration": 29,
    "start_time": "2023-04-06T05:38:49.772Z"
   },
   {
    "duration": 168,
    "start_time": "2023-04-06T05:38:49.803Z"
   },
   {
    "duration": 161,
    "start_time": "2023-04-06T05:38:49.973Z"
   },
   {
    "duration": 147,
    "start_time": "2023-04-06T05:38:50.136Z"
   },
   {
    "duration": 256,
    "start_time": "2023-04-06T05:38:50.288Z"
   },
   {
    "duration": 177,
    "start_time": "2023-04-06T05:38:50.546Z"
   },
   {
    "duration": 186,
    "start_time": "2023-04-06T05:38:50.725Z"
   },
   {
    "duration": 177,
    "start_time": "2023-04-06T05:38:50.914Z"
   },
   {
    "duration": 174,
    "start_time": "2023-04-06T05:38:51.094Z"
   },
   {
    "duration": 169,
    "start_time": "2023-04-06T05:38:51.270Z"
   },
   {
    "duration": 11,
    "start_time": "2023-04-06T05:38:51.442Z"
   },
   {
    "duration": 10,
    "start_time": "2023-04-06T05:38:51.455Z"
   },
   {
    "duration": 17,
    "start_time": "2023-04-06T05:38:51.467Z"
   },
   {
    "duration": 12,
    "start_time": "2023-04-06T05:38:51.487Z"
   },
   {
    "duration": 1061,
    "start_time": "2023-04-07T02:00:30.988Z"
   },
   {
    "duration": 52,
    "start_time": "2023-04-07T02:00:32.051Z"
   },
   {
    "duration": 16,
    "start_time": "2023-04-07T02:00:32.105Z"
   },
   {
    "duration": 694,
    "start_time": "2023-04-07T02:00:32.123Z"
   },
   {
    "duration": 8,
    "start_time": "2023-04-07T02:00:32.818Z"
   },
   {
    "duration": 9,
    "start_time": "2023-04-07T02:00:32.828Z"
   },
   {
    "duration": 20,
    "start_time": "2023-04-07T02:00:32.838Z"
   },
   {
    "duration": 13,
    "start_time": "2023-04-07T02:00:32.859Z"
   },
   {
    "duration": 46,
    "start_time": "2023-04-07T02:00:32.874Z"
   },
   {
    "duration": 15,
    "start_time": "2023-04-07T02:00:32.922Z"
   },
   {
    "duration": 16,
    "start_time": "2023-04-07T02:00:32.938Z"
   },
   {
    "duration": 19,
    "start_time": "2023-04-07T02:00:32.955Z"
   },
   {
    "duration": 42,
    "start_time": "2023-04-07T02:00:32.976Z"
   },
   {
    "duration": 9,
    "start_time": "2023-04-07T02:00:33.020Z"
   },
   {
    "duration": 25,
    "start_time": "2023-04-07T02:00:33.031Z"
   },
   {
    "duration": 22,
    "start_time": "2023-04-07T02:00:33.057Z"
   },
   {
    "duration": 20,
    "start_time": "2023-04-07T02:00:33.080Z"
   },
   {
    "duration": 134,
    "start_time": "2023-04-07T02:00:33.102Z"
   },
   {
    "duration": 16,
    "start_time": "2023-04-07T02:00:33.237Z"
   },
   {
    "duration": 145,
    "start_time": "2023-04-07T02:00:33.254Z"
   },
   {
    "duration": 158,
    "start_time": "2023-04-07T02:00:33.400Z"
   },
   {
    "duration": 145,
    "start_time": "2023-04-07T02:00:33.559Z"
   },
   {
    "duration": 215,
    "start_time": "2023-04-07T02:00:33.706Z"
   },
   {
    "duration": 138,
    "start_time": "2023-04-07T02:00:33.922Z"
   },
   {
    "duration": 23,
    "start_time": "2023-04-07T02:00:34.061Z"
   },
   {
    "duration": 12,
    "start_time": "2023-04-07T02:00:34.085Z"
   },
   {
    "duration": 350,
    "start_time": "2023-04-07T02:00:34.099Z"
   },
   {
    "duration": 5,
    "start_time": "2023-04-07T02:00:34.453Z"
   },
   {
    "duration": 12,
    "start_time": "2023-04-07T02:00:34.459Z"
   },
   {
    "duration": 8,
    "start_time": "2023-04-07T02:00:34.473Z"
   },
   {
    "duration": 17,
    "start_time": "2023-04-07T02:00:34.482Z"
   },
   {
    "duration": 6,
    "start_time": "2023-04-07T02:00:34.501Z"
   },
   {
    "duration": 139,
    "start_time": "2023-04-07T02:00:34.509Z"
   },
   {
    "duration": 128,
    "start_time": "2023-04-07T02:00:34.650Z"
   },
   {
    "duration": 130,
    "start_time": "2023-04-07T02:00:34.779Z"
   },
   {
    "duration": 125,
    "start_time": "2023-04-07T02:00:34.910Z"
   },
   {
    "duration": 31,
    "start_time": "2023-04-07T02:00:35.036Z"
   },
   {
    "duration": 143,
    "start_time": "2023-04-07T02:00:35.068Z"
   },
   {
    "duration": 123,
    "start_time": "2023-04-07T02:00:35.213Z"
   },
   {
    "duration": 117,
    "start_time": "2023-04-07T02:00:35.337Z"
   },
   {
    "duration": 201,
    "start_time": "2023-04-07T02:00:35.456Z"
   },
   {
    "duration": 130,
    "start_time": "2023-04-07T02:00:35.658Z"
   },
   {
    "duration": 128,
    "start_time": "2023-04-07T02:00:35.790Z"
   },
   {
    "duration": 132,
    "start_time": "2023-04-07T02:00:35.919Z"
   },
   {
    "duration": 135,
    "start_time": "2023-04-07T02:00:36.052Z"
   },
   {
    "duration": 130,
    "start_time": "2023-04-07T02:00:36.189Z"
   },
   {
    "duration": 7,
    "start_time": "2023-04-07T02:00:36.321Z"
   },
   {
    "duration": 10,
    "start_time": "2023-04-07T02:00:36.329Z"
   },
   {
    "duration": 11,
    "start_time": "2023-04-07T02:00:36.349Z"
   },
   {
    "duration": 6,
    "start_time": "2023-04-07T02:00:36.362Z"
   },
   {
    "duration": 1060,
    "start_time": "2023-04-07T02:07:44.498Z"
   },
   {
    "duration": 53,
    "start_time": "2023-04-07T02:07:45.560Z"
   },
   {
    "duration": 15,
    "start_time": "2023-04-07T02:07:45.614Z"
   },
   {
    "duration": 666,
    "start_time": "2023-04-07T02:07:45.632Z"
   },
   {
    "duration": 8,
    "start_time": "2023-04-07T02:07:46.299Z"
   },
   {
    "duration": 3,
    "start_time": "2023-04-07T02:07:46.308Z"
   },
   {
    "duration": 26,
    "start_time": "2023-04-07T02:07:46.312Z"
   },
   {
    "duration": 13,
    "start_time": "2023-04-07T02:07:46.339Z"
   },
   {
    "duration": 10,
    "start_time": "2023-04-07T02:07:46.353Z"
   },
   {
    "duration": 11,
    "start_time": "2023-04-07T02:07:46.365Z"
   },
   {
    "duration": 8,
    "start_time": "2023-04-07T02:07:46.377Z"
   },
   {
    "duration": 4,
    "start_time": "2023-04-07T02:07:46.386Z"
   },
   {
    "duration": 12,
    "start_time": "2023-04-07T02:07:46.391Z"
   },
   {
    "duration": 3,
    "start_time": "2023-04-07T02:07:46.404Z"
   },
   {
    "duration": 42,
    "start_time": "2023-04-07T02:07:46.408Z"
   },
   {
    "duration": 12,
    "start_time": "2023-04-07T02:07:46.451Z"
   },
   {
    "duration": 16,
    "start_time": "2023-04-07T02:07:46.464Z"
   },
   {
    "duration": 147,
    "start_time": "2023-04-07T02:07:46.481Z"
   },
   {
    "duration": 20,
    "start_time": "2023-04-07T02:07:46.629Z"
   },
   {
    "duration": 139,
    "start_time": "2023-04-07T02:07:46.651Z"
   },
   {
    "duration": 153,
    "start_time": "2023-04-07T02:07:46.791Z"
   },
   {
    "duration": 148,
    "start_time": "2023-04-07T02:07:46.948Z"
   },
   {
    "duration": 222,
    "start_time": "2023-04-07T02:07:47.098Z"
   },
   {
    "duration": 137,
    "start_time": "2023-04-07T02:07:47.322Z"
   },
   {
    "duration": 22,
    "start_time": "2023-04-07T02:07:47.461Z"
   },
   {
    "duration": 13,
    "start_time": "2023-04-07T02:07:47.484Z"
   },
   {
    "duration": 451,
    "start_time": "2023-04-07T02:07:47.498Z"
   },
   {
    "duration": 4,
    "start_time": "2023-04-07T02:07:47.952Z"
   },
   {
    "duration": 13,
    "start_time": "2023-04-07T02:07:47.958Z"
   },
   {
    "duration": 7,
    "start_time": "2023-04-07T02:07:47.972Z"
   },
   {
    "duration": 6,
    "start_time": "2023-04-07T02:07:47.981Z"
   },
   {
    "duration": 7,
    "start_time": "2023-04-07T02:07:47.989Z"
   },
   {
    "duration": 137,
    "start_time": "2023-04-07T02:07:47.998Z"
   },
   {
    "duration": 124,
    "start_time": "2023-04-07T02:07:48.137Z"
   },
   {
    "duration": 138,
    "start_time": "2023-04-07T02:07:48.262Z"
   },
   {
    "duration": 125,
    "start_time": "2023-04-07T02:07:48.402Z"
   },
   {
    "duration": 29,
    "start_time": "2023-04-07T02:07:48.529Z"
   },
   {
    "duration": 121,
    "start_time": "2023-04-07T02:07:48.559Z"
   },
   {
    "duration": 125,
    "start_time": "2023-04-07T02:07:48.681Z"
   },
   {
    "duration": 116,
    "start_time": "2023-04-07T02:07:48.807Z"
   },
   {
    "duration": 195,
    "start_time": "2023-04-07T02:07:48.924Z"
   },
   {
    "duration": 136,
    "start_time": "2023-04-07T02:07:49.121Z"
   },
   {
    "duration": 127,
    "start_time": "2023-04-07T02:07:49.258Z"
   },
   {
    "duration": 130,
    "start_time": "2023-04-07T02:07:49.387Z"
   },
   {
    "duration": 134,
    "start_time": "2023-04-07T02:07:49.519Z"
   },
   {
    "duration": 213,
    "start_time": "2023-04-07T02:07:49.655Z"
   },
   {
    "duration": 7,
    "start_time": "2023-04-07T02:07:49.870Z"
   },
   {
    "duration": 9,
    "start_time": "2023-04-07T02:07:49.878Z"
   },
   {
    "duration": 63,
    "start_time": "2023-04-07T02:07:49.889Z"
   },
   {
    "duration": 6,
    "start_time": "2023-04-07T02:07:49.954Z"
   },
   {
    "duration": 1155,
    "start_time": "2023-04-07T02:08:30.683Z"
   },
   {
    "duration": 52,
    "start_time": "2023-04-07T02:08:31.840Z"
   },
   {
    "duration": 17,
    "start_time": "2023-04-07T02:08:31.894Z"
   },
   {
    "duration": 695,
    "start_time": "2023-04-07T02:08:31.913Z"
   },
   {
    "duration": 9,
    "start_time": "2023-04-07T02:08:32.609Z"
   },
   {
    "duration": 9,
    "start_time": "2023-04-07T02:08:32.620Z"
   },
   {
    "duration": 28,
    "start_time": "2023-04-07T02:08:32.631Z"
   },
   {
    "duration": 8,
    "start_time": "2023-04-07T02:08:32.661Z"
   },
   {
    "duration": 18,
    "start_time": "2023-04-07T02:08:32.670Z"
   },
   {
    "duration": 12,
    "start_time": "2023-04-07T02:08:32.690Z"
   },
   {
    "duration": 12,
    "start_time": "2023-04-07T02:08:32.703Z"
   },
   {
    "duration": 9,
    "start_time": "2023-04-07T02:08:32.716Z"
   },
   {
    "duration": 22,
    "start_time": "2023-04-07T02:08:32.727Z"
   },
   {
    "duration": 10,
    "start_time": "2023-04-07T02:08:32.750Z"
   },
   {
    "duration": 13,
    "start_time": "2023-04-07T02:08:32.761Z"
   },
   {
    "duration": 22,
    "start_time": "2023-04-07T02:08:32.776Z"
   },
   {
    "duration": 27,
    "start_time": "2023-04-07T02:08:32.800Z"
   },
   {
    "duration": 42,
    "start_time": "2023-04-07T02:08:32.829Z"
   },
   {
    "duration": 144,
    "start_time": "2023-04-07T02:08:32.872Z"
   },
   {
    "duration": 14,
    "start_time": "2023-04-07T02:08:33.018Z"
   },
   {
    "duration": 149,
    "start_time": "2023-04-07T02:08:33.035Z"
   },
   {
    "duration": 148,
    "start_time": "2023-04-07T02:08:33.185Z"
   },
   {
    "duration": 148,
    "start_time": "2023-04-07T02:08:33.334Z"
   },
   {
    "duration": 209,
    "start_time": "2023-04-07T02:08:33.484Z"
   },
   {
    "duration": 137,
    "start_time": "2023-04-07T02:08:33.695Z"
   },
   {
    "duration": 27,
    "start_time": "2023-04-07T02:08:33.834Z"
   },
   {
    "duration": 13,
    "start_time": "2023-04-07T02:08:33.863Z"
   },
   {
    "duration": 331,
    "start_time": "2023-04-07T02:08:33.879Z"
   },
   {
    "duration": 5,
    "start_time": "2023-04-07T02:08:34.212Z"
   },
   {
    "duration": 12,
    "start_time": "2023-04-07T02:08:34.218Z"
   },
   {
    "duration": 30,
    "start_time": "2023-04-07T02:08:34.231Z"
   },
   {
    "duration": 13,
    "start_time": "2023-04-07T02:08:34.263Z"
   },
   {
    "duration": 21,
    "start_time": "2023-04-07T02:08:34.278Z"
   },
   {
    "duration": 131,
    "start_time": "2023-04-07T02:08:34.300Z"
   },
   {
    "duration": 135,
    "start_time": "2023-04-07T02:08:34.433Z"
   },
   {
    "duration": 128,
    "start_time": "2023-04-07T02:08:34.569Z"
   },
   {
    "duration": 252,
    "start_time": "2023-04-07T02:08:34.699Z"
   },
   {
    "duration": 19,
    "start_time": "2023-04-07T02:08:34.953Z"
   },
   {
    "duration": 278,
    "start_time": "2023-04-07T02:08:34.973Z"
   },
   {
    "duration": 219,
    "start_time": "2023-04-07T02:08:35.252Z"
   },
   {
    "duration": 218,
    "start_time": "2023-04-07T02:08:35.473Z"
   },
   {
    "duration": 457,
    "start_time": "2023-04-07T02:08:35.692Z"
   },
   {
    "duration": 233,
    "start_time": "2023-04-07T02:08:36.150Z"
   },
   {
    "duration": 175,
    "start_time": "2023-04-07T02:08:36.384Z"
   },
   {
    "duration": 130,
    "start_time": "2023-04-07T02:08:36.561Z"
   },
   {
    "duration": 136,
    "start_time": "2023-04-07T02:08:36.692Z"
   },
   {
    "duration": 124,
    "start_time": "2023-04-07T02:08:36.830Z"
   },
   {
    "duration": 6,
    "start_time": "2023-04-07T02:08:36.956Z"
   },
   {
    "duration": 10,
    "start_time": "2023-04-07T02:08:36.963Z"
   },
   {
    "duration": 12,
    "start_time": "2023-04-07T02:08:36.974Z"
   },
   {
    "duration": 10,
    "start_time": "2023-04-07T02:08:36.987Z"
   },
   {
    "duration": 26,
    "start_time": "2023-04-07T02:13:34.556Z"
   },
   {
    "duration": 74,
    "start_time": "2023-04-07T02:18:50.052Z"
   },
   {
    "duration": 4,
    "start_time": "2023-04-07T02:18:55.260Z"
   },
   {
    "duration": 4,
    "start_time": "2023-04-07T02:19:15.214Z"
   },
   {
    "duration": 1114,
    "start_time": "2023-04-07T02:19:42.924Z"
   },
   {
    "duration": 54,
    "start_time": "2023-04-07T02:19:44.040Z"
   },
   {
    "duration": 17,
    "start_time": "2023-04-07T02:19:44.095Z"
   },
   {
    "duration": 675,
    "start_time": "2023-04-07T02:19:44.114Z"
   },
   {
    "duration": 8,
    "start_time": "2023-04-07T02:19:44.790Z"
   },
   {
    "duration": 7,
    "start_time": "2023-04-07T02:19:44.799Z"
   },
   {
    "duration": 14,
    "start_time": "2023-04-07T02:19:44.807Z"
   },
   {
    "duration": 8,
    "start_time": "2023-04-07T02:19:44.822Z"
   },
   {
    "duration": 9,
    "start_time": "2023-04-07T02:19:44.848Z"
   },
   {
    "duration": 11,
    "start_time": "2023-04-07T02:19:44.859Z"
   },
   {
    "duration": 7,
    "start_time": "2023-04-07T02:19:44.872Z"
   },
   {
    "duration": 4,
    "start_time": "2023-04-07T02:19:44.881Z"
   },
   {
    "duration": 9,
    "start_time": "2023-04-07T02:19:44.887Z"
   },
   {
    "duration": 5,
    "start_time": "2023-04-07T02:19:44.897Z"
   },
   {
    "duration": 14,
    "start_time": "2023-04-07T02:19:44.904Z"
   },
   {
    "duration": 37,
    "start_time": "2023-04-07T02:19:44.920Z"
   },
   {
    "duration": 17,
    "start_time": "2023-04-07T02:19:44.958Z"
   },
   {
    "duration": 144,
    "start_time": "2023-04-07T02:19:44.976Z"
   },
   {
    "duration": 14,
    "start_time": "2023-04-07T02:19:45.122Z"
   },
   {
    "duration": 143,
    "start_time": "2023-04-07T02:19:45.137Z"
   },
   {
    "duration": 138,
    "start_time": "2023-04-07T02:19:45.282Z"
   },
   {
    "duration": 143,
    "start_time": "2023-04-07T02:19:45.422Z"
   },
   {
    "duration": 203,
    "start_time": "2023-04-07T02:19:45.567Z"
   },
   {
    "duration": 140,
    "start_time": "2023-04-07T02:19:45.771Z"
   },
   {
    "duration": 22,
    "start_time": "2023-04-07T02:19:45.912Z"
   },
   {
    "duration": 24,
    "start_time": "2023-04-07T02:19:45.935Z"
   },
   {
    "duration": 340,
    "start_time": "2023-04-07T02:19:45.960Z"
   },
   {
    "duration": 106,
    "start_time": "2023-04-07T02:19:46.303Z"
   },
   {
    "duration": 0,
    "start_time": "2023-04-07T02:19:46.410Z"
   },
   {
    "duration": 0,
    "start_time": "2023-04-07T02:19:46.411Z"
   },
   {
    "duration": 0,
    "start_time": "2023-04-07T02:19:46.412Z"
   },
   {
    "duration": 0,
    "start_time": "2023-04-07T02:19:46.413Z"
   },
   {
    "duration": 0,
    "start_time": "2023-04-07T02:19:46.413Z"
   },
   {
    "duration": 0,
    "start_time": "2023-04-07T02:19:46.414Z"
   },
   {
    "duration": 0,
    "start_time": "2023-04-07T02:19:46.415Z"
   },
   {
    "duration": 0,
    "start_time": "2023-04-07T02:19:46.416Z"
   },
   {
    "duration": 0,
    "start_time": "2023-04-07T02:19:46.416Z"
   },
   {
    "duration": 0,
    "start_time": "2023-04-07T02:19:46.417Z"
   },
   {
    "duration": 0,
    "start_time": "2023-04-07T02:19:46.418Z"
   },
   {
    "duration": 0,
    "start_time": "2023-04-07T02:19:46.419Z"
   },
   {
    "duration": 0,
    "start_time": "2023-04-07T02:19:46.420Z"
   },
   {
    "duration": 0,
    "start_time": "2023-04-07T02:19:46.420Z"
   },
   {
    "duration": 0,
    "start_time": "2023-04-07T02:19:46.421Z"
   },
   {
    "duration": 0,
    "start_time": "2023-04-07T02:19:46.422Z"
   },
   {
    "duration": 0,
    "start_time": "2023-04-07T02:19:46.423Z"
   },
   {
    "duration": 0,
    "start_time": "2023-04-07T02:19:46.449Z"
   },
   {
    "duration": 0,
    "start_time": "2023-04-07T02:19:46.449Z"
   },
   {
    "duration": 0,
    "start_time": "2023-04-07T02:19:46.450Z"
   },
   {
    "duration": 0,
    "start_time": "2023-04-07T02:19:46.451Z"
   },
   {
    "duration": 0,
    "start_time": "2023-04-07T02:19:46.452Z"
   },
   {
    "duration": 0,
    "start_time": "2023-04-07T02:19:46.453Z"
   },
   {
    "duration": 0,
    "start_time": "2023-04-07T02:19:46.454Z"
   },
   {
    "duration": 0,
    "start_time": "2023-04-07T02:19:46.455Z"
   },
   {
    "duration": 0,
    "start_time": "2023-04-07T02:19:46.456Z"
   },
   {
    "duration": 0,
    "start_time": "2023-04-07T02:19:46.456Z"
   },
   {
    "duration": 1165,
    "start_time": "2023-04-07T02:20:09.168Z"
   },
   {
    "duration": 52,
    "start_time": "2023-04-07T02:20:10.335Z"
   },
   {
    "duration": 15,
    "start_time": "2023-04-07T02:20:10.389Z"
   },
   {
    "duration": 673,
    "start_time": "2023-04-07T02:20:10.406Z"
   },
   {
    "duration": 10,
    "start_time": "2023-04-07T02:20:11.081Z"
   },
   {
    "duration": 12,
    "start_time": "2023-04-07T02:20:11.092Z"
   },
   {
    "duration": 25,
    "start_time": "2023-04-07T02:20:11.105Z"
   },
   {
    "duration": 10,
    "start_time": "2023-04-07T02:20:11.131Z"
   },
   {
    "duration": 9,
    "start_time": "2023-04-07T02:20:11.148Z"
   },
   {
    "duration": 13,
    "start_time": "2023-04-07T02:20:11.161Z"
   },
   {
    "duration": 9,
    "start_time": "2023-04-07T02:20:11.175Z"
   },
   {
    "duration": 6,
    "start_time": "2023-04-07T02:20:11.185Z"
   },
   {
    "duration": 13,
    "start_time": "2023-04-07T02:20:11.192Z"
   },
   {
    "duration": 4,
    "start_time": "2023-04-07T02:20:11.207Z"
   },
   {
    "duration": 43,
    "start_time": "2023-04-07T02:20:11.213Z"
   },
   {
    "duration": 13,
    "start_time": "2023-04-07T02:20:11.258Z"
   },
   {
    "duration": 15,
    "start_time": "2023-04-07T02:20:11.273Z"
   },
   {
    "duration": 160,
    "start_time": "2023-04-07T02:20:11.290Z"
   },
   {
    "duration": 16,
    "start_time": "2023-04-07T02:20:11.452Z"
   },
   {
    "duration": 147,
    "start_time": "2023-04-07T02:20:11.470Z"
   },
   {
    "duration": 143,
    "start_time": "2023-04-07T02:20:11.619Z"
   },
   {
    "duration": 144,
    "start_time": "2023-04-07T02:20:11.764Z"
   },
   {
    "duration": 207,
    "start_time": "2023-04-07T02:20:11.909Z"
   },
   {
    "duration": 139,
    "start_time": "2023-04-07T02:20:12.118Z"
   },
   {
    "duration": 23,
    "start_time": "2023-04-07T02:20:12.259Z"
   },
   {
    "duration": 13,
    "start_time": "2023-04-07T02:20:12.283Z"
   },
   {
    "duration": 343,
    "start_time": "2023-04-07T02:20:12.298Z"
   },
   {
    "duration": 5,
    "start_time": "2023-04-07T02:20:12.648Z"
   },
   {
    "duration": 10,
    "start_time": "2023-04-07T02:20:12.654Z"
   },
   {
    "duration": 14,
    "start_time": "2023-04-07T02:20:12.665Z"
   },
   {
    "duration": 28,
    "start_time": "2023-04-07T02:20:12.681Z"
   },
   {
    "duration": 8,
    "start_time": "2023-04-07T02:20:12.711Z"
   },
   {
    "duration": 29,
    "start_time": "2023-04-07T02:20:12.721Z"
   },
   {
    "duration": 8,
    "start_time": "2023-04-07T02:20:12.751Z"
   },
   {
    "duration": 11,
    "start_time": "2023-04-07T02:20:12.760Z"
   },
   {
    "duration": 128,
    "start_time": "2023-04-07T02:20:12.772Z"
   },
   {
    "duration": 135,
    "start_time": "2023-04-07T02:20:12.902Z"
   },
   {
    "duration": 135,
    "start_time": "2023-04-07T02:20:13.039Z"
   },
   {
    "duration": 120,
    "start_time": "2023-04-07T02:20:13.175Z"
   },
   {
    "duration": 18,
    "start_time": "2023-04-07T02:20:13.297Z"
   },
   {
    "duration": 132,
    "start_time": "2023-04-07T02:20:13.317Z"
   },
   {
    "duration": 127,
    "start_time": "2023-04-07T02:20:13.451Z"
   },
   {
    "duration": 124,
    "start_time": "2023-04-07T02:20:13.579Z"
   },
   {
    "duration": 200,
    "start_time": "2023-04-07T02:20:13.705Z"
   },
   {
    "duration": 128,
    "start_time": "2023-04-07T02:20:13.906Z"
   },
   {
    "duration": 127,
    "start_time": "2023-04-07T02:20:14.035Z"
   },
   {
    "duration": 129,
    "start_time": "2023-04-07T02:20:14.163Z"
   },
   {
    "duration": 156,
    "start_time": "2023-04-07T02:20:14.293Z"
   },
   {
    "duration": 133,
    "start_time": "2023-04-07T02:20:14.450Z"
   },
   {
    "duration": 6,
    "start_time": "2023-04-07T02:20:14.585Z"
   },
   {
    "duration": 21,
    "start_time": "2023-04-07T02:20:14.593Z"
   },
   {
    "duration": 8,
    "start_time": "2023-04-07T02:20:14.616Z"
   },
   {
    "duration": 8,
    "start_time": "2023-04-07T02:20:14.626Z"
   },
   {
    "duration": 1131,
    "start_time": "2023-04-07T02:21:05.119Z"
   },
   {
    "duration": 53,
    "start_time": "2023-04-07T02:21:06.252Z"
   },
   {
    "duration": 16,
    "start_time": "2023-04-07T02:21:06.307Z"
   },
   {
    "duration": 691,
    "start_time": "2023-04-07T02:21:06.324Z"
   },
   {
    "duration": 8,
    "start_time": "2023-04-07T02:21:07.017Z"
   },
   {
    "duration": 4,
    "start_time": "2023-04-07T02:21:07.026Z"
   },
   {
    "duration": 29,
    "start_time": "2023-04-07T02:21:07.031Z"
   },
   {
    "duration": 8,
    "start_time": "2023-04-07T02:21:07.062Z"
   },
   {
    "duration": 9,
    "start_time": "2023-04-07T02:21:07.072Z"
   },
   {
    "duration": 11,
    "start_time": "2023-04-07T02:21:07.084Z"
   },
   {
    "duration": 8,
    "start_time": "2023-04-07T02:21:07.096Z"
   },
   {
    "duration": 3,
    "start_time": "2023-04-07T02:21:07.106Z"
   },
   {
    "duration": 39,
    "start_time": "2023-04-07T02:21:07.110Z"
   },
   {
    "duration": 4,
    "start_time": "2023-04-07T02:21:07.151Z"
   },
   {
    "duration": 13,
    "start_time": "2023-04-07T02:21:07.199Z"
   },
   {
    "duration": 13,
    "start_time": "2023-04-07T02:21:07.319Z"
   },
   {
    "duration": 16,
    "start_time": "2023-04-07T02:21:07.469Z"
   },
   {
    "duration": 128,
    "start_time": "2023-04-07T02:21:07.659Z"
   },
   {
    "duration": 15,
    "start_time": "2023-04-07T02:21:07.829Z"
   },
   {
    "duration": 132,
    "start_time": "2023-04-07T02:21:08.085Z"
   },
   {
    "duration": 137,
    "start_time": "2023-04-07T02:21:08.309Z"
   },
   {
    "duration": 134,
    "start_time": "2023-04-07T02:21:08.519Z"
   },
   {
    "duration": 198,
    "start_time": "2023-04-07T02:21:08.739Z"
   },
   {
    "duration": 138,
    "start_time": "2023-04-07T02:21:09.048Z"
   },
   {
    "duration": 22,
    "start_time": "2023-04-07T02:21:09.319Z"
   },
   {
    "duration": 13,
    "start_time": "2023-04-07T02:21:09.498Z"
   },
   {
    "duration": 333,
    "start_time": "2023-04-07T02:21:09.768Z"
   },
   {
    "duration": 4,
    "start_time": "2023-04-07T02:21:10.103Z"
   },
   {
    "duration": 4,
    "start_time": "2023-04-07T02:21:10.189Z"
   },
   {
    "duration": 5,
    "start_time": "2023-04-07T02:21:10.448Z"
   },
   {
    "duration": 4,
    "start_time": "2023-04-07T02:21:10.738Z"
   },
   {
    "duration": 5,
    "start_time": "2023-04-07T02:21:11.268Z"
   },
   {
    "duration": 34,
    "start_time": "2023-04-07T02:21:11.274Z"
   },
   {
    "duration": 9,
    "start_time": "2023-04-07T02:21:11.310Z"
   },
   {
    "duration": 7,
    "start_time": "2023-04-07T02:21:11.809Z"
   },
   {
    "duration": 7,
    "start_time": "2023-04-07T02:21:11.819Z"
   },
   {
    "duration": 7,
    "start_time": "2023-04-07T02:21:11.828Z"
   },
   {
    "duration": 114,
    "start_time": "2023-04-07T02:21:12.499Z"
   },
   {
    "duration": 125,
    "start_time": "2023-04-07T02:21:12.615Z"
   },
   {
    "duration": 125,
    "start_time": "2023-04-07T02:21:12.742Z"
   },
   {
    "duration": 127,
    "start_time": "2023-04-07T02:21:12.870Z"
   },
   {
    "duration": 18,
    "start_time": "2023-04-07T02:21:15.088Z"
   },
   {
    "duration": 108,
    "start_time": "2023-04-07T02:21:15.108Z"
   },
   {
    "duration": 113,
    "start_time": "2023-04-07T02:21:15.529Z"
   },
   {
    "duration": 113,
    "start_time": "2023-04-07T02:21:15.648Z"
   },
   {
    "duration": 198,
    "start_time": "2023-04-07T02:21:15.762Z"
   },
   {
    "duration": 127,
    "start_time": "2023-04-07T02:21:34.785Z"
   },
   {
    "duration": 131,
    "start_time": "2023-04-07T02:21:34.914Z"
   },
   {
    "duration": 126,
    "start_time": "2023-04-07T02:21:35.049Z"
   },
   {
    "duration": 145,
    "start_time": "2023-04-07T02:21:35.176Z"
   },
   {
    "duration": 133,
    "start_time": "2023-04-07T02:21:35.323Z"
   },
   {
    "duration": 6,
    "start_time": "2023-04-07T02:21:35.458Z"
   },
   {
    "duration": 6,
    "start_time": "2023-04-07T02:21:35.466Z"
   },
   {
    "duration": 11,
    "start_time": "2023-04-07T02:21:35.474Z"
   },
   {
    "duration": 10,
    "start_time": "2023-04-07T02:21:35.487Z"
   },
   {
    "duration": 4,
    "start_time": "2023-04-07T02:45:52.221Z"
   },
   {
    "duration": 22,
    "start_time": "2023-04-07T02:46:02.457Z"
   },
   {
    "duration": 1225,
    "start_time": "2023-04-07T04:33:38.467Z"
   },
   {
    "duration": 182,
    "start_time": "2023-04-07T04:33:39.693Z"
   },
   {
    "duration": 16,
    "start_time": "2023-04-07T04:33:39.876Z"
   },
   {
    "duration": 626,
    "start_time": "2023-04-07T04:33:39.893Z"
   },
   {
    "duration": 8,
    "start_time": "2023-04-07T04:33:40.521Z"
   },
   {
    "duration": 8,
    "start_time": "2023-04-07T04:33:40.531Z"
   },
   {
    "duration": 32,
    "start_time": "2023-04-07T04:33:40.540Z"
   },
   {
    "duration": 11,
    "start_time": "2023-04-07T04:33:40.573Z"
   },
   {
    "duration": 37,
    "start_time": "2023-04-07T04:33:40.585Z"
   },
   {
    "duration": 55,
    "start_time": "2023-04-07T04:33:40.623Z"
   },
   {
    "duration": 17,
    "start_time": "2023-04-07T04:33:40.680Z"
   },
   {
    "duration": 19,
    "start_time": "2023-04-07T04:33:40.699Z"
   },
   {
    "duration": 24,
    "start_time": "2023-04-07T04:33:40.719Z"
   },
   {
    "duration": 9,
    "start_time": "2023-04-07T04:33:40.746Z"
   },
   {
    "duration": 32,
    "start_time": "2023-04-07T04:33:40.756Z"
   },
   {
    "duration": 18,
    "start_time": "2023-04-07T04:33:40.789Z"
   },
   {
    "duration": 28,
    "start_time": "2023-04-07T04:33:40.809Z"
   },
   {
    "duration": 119,
    "start_time": "2023-04-07T04:33:40.838Z"
   },
   {
    "duration": 20,
    "start_time": "2023-04-07T04:33:40.958Z"
   },
   {
    "duration": 125,
    "start_time": "2023-04-07T04:33:40.979Z"
   },
   {
    "duration": 134,
    "start_time": "2023-04-07T04:33:41.105Z"
   },
   {
    "duration": 133,
    "start_time": "2023-04-07T04:33:41.240Z"
   },
   {
    "duration": 183,
    "start_time": "2023-04-07T04:33:41.375Z"
   },
   {
    "duration": 128,
    "start_time": "2023-04-07T04:33:41.559Z"
   },
   {
    "duration": 20,
    "start_time": "2023-04-07T04:33:41.689Z"
   },
   {
    "duration": 13,
    "start_time": "2023-04-07T04:33:41.710Z"
   },
   {
    "duration": 318,
    "start_time": "2023-04-07T04:33:41.724Z"
   },
   {
    "duration": 5,
    "start_time": "2023-04-07T04:33:42.043Z"
   },
   {
    "duration": 17,
    "start_time": "2023-04-07T04:33:42.049Z"
   },
   {
    "duration": 11,
    "start_time": "2023-04-07T04:33:42.068Z"
   },
   {
    "duration": 12,
    "start_time": "2023-04-07T04:33:42.081Z"
   },
   {
    "duration": 8,
    "start_time": "2023-04-07T04:33:42.094Z"
   },
   {
    "duration": 114,
    "start_time": "2023-04-07T04:33:42.104Z"
   },
   {
    "duration": 125,
    "start_time": "2023-04-07T04:33:42.220Z"
   },
   {
    "duration": 126,
    "start_time": "2023-04-07T04:33:42.346Z"
   },
   {
    "duration": 130,
    "start_time": "2023-04-07T04:33:42.473Z"
   },
   {
    "duration": 18,
    "start_time": "2023-04-07T04:33:42.604Z"
   },
   {
    "duration": 110,
    "start_time": "2023-04-07T04:33:42.623Z"
   },
   {
    "duration": 117,
    "start_time": "2023-04-07T04:33:42.735Z"
   },
   {
    "duration": 124,
    "start_time": "2023-04-07T04:33:42.853Z"
   },
   {
    "duration": 191,
    "start_time": "2023-04-07T04:33:42.982Z"
   },
   {
    "duration": 124,
    "start_time": "2023-04-07T04:33:43.174Z"
   },
   {
    "duration": 115,
    "start_time": "2023-04-07T04:33:43.300Z"
   },
   {
    "duration": 123,
    "start_time": "2023-04-07T04:33:43.416Z"
   },
   {
    "duration": 126,
    "start_time": "2023-04-07T04:33:43.541Z"
   },
   {
    "duration": 119,
    "start_time": "2023-04-07T04:33:43.668Z"
   },
   {
    "duration": 6,
    "start_time": "2023-04-07T04:33:43.789Z"
   },
   {
    "duration": 17,
    "start_time": "2023-04-07T04:33:43.796Z"
   },
   {
    "duration": 27,
    "start_time": "2023-04-07T04:33:43.814Z"
   },
   {
    "duration": 18,
    "start_time": "2023-04-07T04:33:43.843Z"
   },
   {
    "duration": 1165,
    "start_time": "2023-04-07T06:21:43.977Z"
   },
   {
    "duration": 92,
    "start_time": "2023-04-07T06:21:45.144Z"
   },
   {
    "duration": 15,
    "start_time": "2023-04-07T06:21:45.237Z"
   },
   {
    "duration": 648,
    "start_time": "2023-04-07T06:21:45.253Z"
   },
   {
    "duration": 9,
    "start_time": "2023-04-07T06:21:45.903Z"
   },
   {
    "duration": 7,
    "start_time": "2023-04-07T06:21:45.913Z"
   },
   {
    "duration": 14,
    "start_time": "2023-04-07T06:21:45.921Z"
   },
   {
    "duration": 7,
    "start_time": "2023-04-07T06:21:45.936Z"
   },
   {
    "duration": 25,
    "start_time": "2023-04-07T06:21:45.944Z"
   },
   {
    "duration": 10,
    "start_time": "2023-04-07T06:21:45.970Z"
   },
   {
    "duration": 33,
    "start_time": "2023-04-07T06:21:45.982Z"
   },
   {
    "duration": 3,
    "start_time": "2023-04-07T06:21:46.016Z"
   },
   {
    "duration": 9,
    "start_time": "2023-04-07T06:21:46.020Z"
   },
   {
    "duration": 4,
    "start_time": "2023-04-07T06:21:46.031Z"
   },
   {
    "duration": 13,
    "start_time": "2023-04-07T06:21:46.036Z"
   },
   {
    "duration": 12,
    "start_time": "2023-04-07T06:21:46.051Z"
   },
   {
    "duration": 13,
    "start_time": "2023-04-07T06:21:46.068Z"
   },
   {
    "duration": 135,
    "start_time": "2023-04-07T06:21:46.083Z"
   },
   {
    "duration": 13,
    "start_time": "2023-04-07T06:21:46.220Z"
   },
   {
    "duration": 139,
    "start_time": "2023-04-07T06:21:46.235Z"
   },
   {
    "duration": 138,
    "start_time": "2023-04-07T06:21:46.375Z"
   },
   {
    "duration": 139,
    "start_time": "2023-04-07T06:21:46.514Z"
   },
   {
    "duration": 198,
    "start_time": "2023-04-07T06:21:46.655Z"
   },
   {
    "duration": 127,
    "start_time": "2023-04-07T06:21:46.855Z"
   },
   {
    "duration": 21,
    "start_time": "2023-04-07T06:21:46.984Z"
   },
   {
    "duration": 12,
    "start_time": "2023-04-07T06:21:47.007Z"
   },
   {
    "duration": 391,
    "start_time": "2023-04-07T06:21:47.021Z"
   },
   {
    "duration": 5,
    "start_time": "2023-04-07T06:21:47.414Z"
   },
   {
    "duration": 23,
    "start_time": "2023-04-07T06:21:47.420Z"
   },
   {
    "duration": 8,
    "start_time": "2023-04-07T06:21:47.445Z"
   },
   {
    "duration": 9,
    "start_time": "2023-04-07T06:21:47.454Z"
   },
   {
    "duration": 8,
    "start_time": "2023-04-07T06:21:47.464Z"
   },
   {
    "duration": 214,
    "start_time": "2023-04-07T06:21:47.473Z"
   },
   {
    "duration": 210,
    "start_time": "2023-04-07T06:21:47.688Z"
   },
   {
    "duration": 148,
    "start_time": "2023-04-07T06:21:47.899Z"
   },
   {
    "duration": 147,
    "start_time": "2023-04-07T06:21:48.048Z"
   },
   {
    "duration": 20,
    "start_time": "2023-04-07T06:21:48.196Z"
   },
   {
    "duration": 152,
    "start_time": "2023-04-07T06:21:48.218Z"
   },
   {
    "duration": 134,
    "start_time": "2023-04-07T06:21:48.371Z"
   },
   {
    "duration": 123,
    "start_time": "2023-04-07T06:21:48.507Z"
   },
   {
    "duration": 206,
    "start_time": "2023-04-07T06:21:48.633Z"
   },
   {
    "duration": 140,
    "start_time": "2023-04-07T06:21:48.841Z"
   },
   {
    "duration": 131,
    "start_time": "2023-04-07T06:21:48.983Z"
   },
   {
    "duration": 155,
    "start_time": "2023-04-07T06:21:49.116Z"
   },
   {
    "duration": 163,
    "start_time": "2023-04-07T06:21:49.273Z"
   },
   {
    "duration": 132,
    "start_time": "2023-04-07T06:21:49.438Z"
   },
   {
    "duration": 7,
    "start_time": "2023-04-07T06:21:49.572Z"
   },
   {
    "duration": 51,
    "start_time": "2023-04-07T06:21:49.580Z"
   },
   {
    "duration": 20,
    "start_time": "2023-04-07T06:21:49.632Z"
   },
   {
    "duration": 17,
    "start_time": "2023-04-07T06:21:49.654Z"
   },
   {
    "duration": 11,
    "start_time": "2023-04-07T06:24:40.978Z"
   },
   {
    "duration": 15,
    "start_time": "2023-04-07T06:24:59.624Z"
   },
   {
    "duration": 14,
    "start_time": "2023-04-07T06:25:16.132Z"
   },
   {
    "duration": 92,
    "start_time": "2023-04-07T06:25:31.886Z"
   },
   {
    "duration": 15,
    "start_time": "2023-04-07T06:25:37.173Z"
   },
   {
    "duration": 15,
    "start_time": "2023-04-07T06:25:57.936Z"
   },
   {
    "duration": 137,
    "start_time": "2023-04-07T06:33:37.681Z"
   },
   {
    "duration": 1149,
    "start_time": "2023-04-07T06:35:44.031Z"
   },
   {
    "duration": 48,
    "start_time": "2023-04-07T06:35:45.182Z"
   },
   {
    "duration": 19,
    "start_time": "2023-04-07T06:35:45.232Z"
   },
   {
    "duration": 805,
    "start_time": "2023-04-07T06:35:45.253Z"
   },
   {
    "duration": 20,
    "start_time": "2023-04-07T06:35:46.061Z"
   },
   {
    "duration": 3,
    "start_time": "2023-04-07T06:35:46.083Z"
   },
   {
    "duration": 16,
    "start_time": "2023-04-07T06:35:46.088Z"
   },
   {
    "duration": 8,
    "start_time": "2023-04-07T06:35:46.105Z"
   },
   {
    "duration": 11,
    "start_time": "2023-04-07T06:35:46.115Z"
   },
   {
    "duration": 11,
    "start_time": "2023-04-07T06:35:46.128Z"
   },
   {
    "duration": 37,
    "start_time": "2023-04-07T06:35:46.140Z"
   },
   {
    "duration": 6,
    "start_time": "2023-04-07T06:35:46.179Z"
   },
   {
    "duration": 12,
    "start_time": "2023-04-07T06:35:46.186Z"
   },
   {
    "duration": 5,
    "start_time": "2023-04-07T06:35:46.201Z"
   },
   {
    "duration": 16,
    "start_time": "2023-04-07T06:35:46.208Z"
   },
   {
    "duration": 22,
    "start_time": "2023-04-07T06:35:46.226Z"
   },
   {
    "duration": 49,
    "start_time": "2023-04-07T06:35:46.250Z"
   },
   {
    "duration": 146,
    "start_time": "2023-04-07T06:35:46.300Z"
   },
   {
    "duration": 23,
    "start_time": "2023-04-07T06:35:46.448Z"
   },
   {
    "duration": 157,
    "start_time": "2023-04-07T06:35:46.473Z"
   },
   {
    "duration": 161,
    "start_time": "2023-04-07T06:35:46.632Z"
   },
   {
    "duration": 169,
    "start_time": "2023-04-07T06:35:46.795Z"
   },
   {
    "duration": 253,
    "start_time": "2023-04-07T06:35:46.969Z"
   },
   {
    "duration": 161,
    "start_time": "2023-04-07T06:35:47.224Z"
   },
   {
    "duration": 23,
    "start_time": "2023-04-07T06:35:47.386Z"
   },
   {
    "duration": 12,
    "start_time": "2023-04-07T06:35:47.410Z"
   },
   {
    "duration": 352,
    "start_time": "2023-04-07T06:35:47.424Z"
   },
   {
    "duration": 11,
    "start_time": "2023-04-07T06:35:47.777Z"
   },
   {
    "duration": 12,
    "start_time": "2023-04-07T06:35:47.789Z"
   },
   {
    "duration": 6,
    "start_time": "2023-04-07T06:35:47.802Z"
   },
   {
    "duration": 11,
    "start_time": "2023-04-07T06:35:47.810Z"
   },
   {
    "duration": 6,
    "start_time": "2023-04-07T06:35:47.823Z"
   },
   {
    "duration": 2,
    "start_time": "2023-04-07T06:35:47.831Z"
   },
   {
    "duration": 44,
    "start_time": "2023-04-07T06:35:47.834Z"
   },
   {
    "duration": 23,
    "start_time": "2023-04-07T06:35:47.880Z"
   },
   {
    "duration": 124,
    "start_time": "2023-04-07T06:35:47.905Z"
   },
   {
    "duration": 119,
    "start_time": "2023-04-07T06:35:48.031Z"
   },
   {
    "duration": 199,
    "start_time": "2023-04-07T06:35:48.151Z"
   },
   {
    "duration": 146,
    "start_time": "2023-04-07T06:35:48.352Z"
   },
   {
    "duration": 20,
    "start_time": "2023-04-07T06:35:48.499Z"
   },
   {
    "duration": 264,
    "start_time": "2023-04-07T06:35:48.522Z"
   },
   {
    "duration": 200,
    "start_time": "2023-04-07T06:35:48.788Z"
   },
   {
    "duration": 167,
    "start_time": "2023-04-07T06:35:48.989Z"
   },
   {
    "duration": 243,
    "start_time": "2023-04-07T06:35:49.158Z"
   },
   {
    "duration": 136,
    "start_time": "2023-04-07T06:35:49.403Z"
   },
   {
    "duration": 147,
    "start_time": "2023-04-07T06:35:49.541Z"
   },
   {
    "duration": 154,
    "start_time": "2023-04-07T06:35:49.690Z"
   },
   {
    "duration": 155,
    "start_time": "2023-04-07T06:35:49.846Z"
   },
   {
    "duration": 135,
    "start_time": "2023-04-07T06:35:50.003Z"
   },
   {
    "duration": 8,
    "start_time": "2023-04-07T06:35:50.140Z"
   },
   {
    "duration": 7,
    "start_time": "2023-04-07T06:35:50.149Z"
   },
   {
    "duration": 12,
    "start_time": "2023-04-07T06:35:50.171Z"
   },
   {
    "duration": 5,
    "start_time": "2023-04-07T06:35:50.185Z"
   },
   {
    "duration": 9,
    "start_time": "2023-04-07T06:37:16.414Z"
   },
   {
    "duration": 20,
    "start_time": "2023-04-07T06:37:42.589Z"
   },
   {
    "duration": 9,
    "start_time": "2023-04-07T06:37:59.488Z"
   },
   {
    "duration": 9,
    "start_time": "2023-04-07T06:38:06.553Z"
   },
   {
    "duration": 1126,
    "start_time": "2023-04-07T06:40:24.235Z"
   },
   {
    "duration": 64,
    "start_time": "2023-04-07T06:40:25.363Z"
   },
   {
    "duration": 17,
    "start_time": "2023-04-07T06:40:25.429Z"
   },
   {
    "duration": 764,
    "start_time": "2023-04-07T06:40:25.448Z"
   },
   {
    "duration": 8,
    "start_time": "2023-04-07T06:40:26.214Z"
   },
   {
    "duration": 13,
    "start_time": "2023-04-07T06:40:26.223Z"
   },
   {
    "duration": 15,
    "start_time": "2023-04-07T06:40:26.237Z"
   },
   {
    "duration": 7,
    "start_time": "2023-04-07T06:40:26.253Z"
   },
   {
    "duration": 15,
    "start_time": "2023-04-07T06:40:26.262Z"
   },
   {
    "duration": 17,
    "start_time": "2023-04-07T06:40:26.279Z"
   },
   {
    "duration": 7,
    "start_time": "2023-04-07T06:40:26.297Z"
   },
   {
    "duration": 3,
    "start_time": "2023-04-07T06:40:26.306Z"
   },
   {
    "duration": 7,
    "start_time": "2023-04-07T06:40:26.310Z"
   },
   {
    "duration": 3,
    "start_time": "2023-04-07T06:40:26.320Z"
   },
   {
    "duration": 12,
    "start_time": "2023-04-07T06:40:26.324Z"
   },
   {
    "duration": 50,
    "start_time": "2023-04-07T06:40:26.338Z"
   },
   {
    "duration": 20,
    "start_time": "2023-04-07T06:40:26.392Z"
   },
   {
    "duration": 133,
    "start_time": "2023-04-07T06:40:26.414Z"
   },
   {
    "duration": 13,
    "start_time": "2023-04-07T06:40:26.549Z"
   },
   {
    "duration": 147,
    "start_time": "2023-04-07T06:40:26.564Z"
   },
   {
    "duration": 149,
    "start_time": "2023-04-07T06:40:26.713Z"
   },
   {
    "duration": 161,
    "start_time": "2023-04-07T06:40:26.869Z"
   },
   {
    "duration": 226,
    "start_time": "2023-04-07T06:40:27.032Z"
   },
   {
    "duration": 143,
    "start_time": "2023-04-07T06:40:27.259Z"
   },
   {
    "duration": 21,
    "start_time": "2023-04-07T06:40:27.404Z"
   },
   {
    "duration": 11,
    "start_time": "2023-04-07T06:40:27.427Z"
   },
   {
    "duration": 382,
    "start_time": "2023-04-07T06:40:27.439Z"
   },
   {
    "duration": 6,
    "start_time": "2023-04-07T06:40:27.822Z"
   },
   {
    "duration": 10,
    "start_time": "2023-04-07T06:40:27.830Z"
   },
   {
    "duration": 9,
    "start_time": "2023-04-07T06:40:27.841Z"
   },
   {
    "duration": 23,
    "start_time": "2023-04-07T06:40:27.852Z"
   },
   {
    "duration": 8,
    "start_time": "2023-04-07T06:40:27.876Z"
   },
   {
    "duration": 12,
    "start_time": "2023-04-07T06:40:27.885Z"
   },
   {
    "duration": 15,
    "start_time": "2023-04-07T06:40:27.898Z"
   },
   {
    "duration": 6,
    "start_time": "2023-04-07T06:40:27.914Z"
   },
   {
    "duration": 142,
    "start_time": "2023-04-07T06:40:27.921Z"
   },
   {
    "duration": 155,
    "start_time": "2023-04-07T06:40:28.064Z"
   },
   {
    "duration": 154,
    "start_time": "2023-04-07T06:40:28.220Z"
   },
   {
    "duration": 146,
    "start_time": "2023-04-07T06:40:28.380Z"
   },
   {
    "duration": 19,
    "start_time": "2023-04-07T06:40:28.528Z"
   },
   {
    "duration": 140,
    "start_time": "2023-04-07T06:40:28.550Z"
   },
   {
    "duration": 122,
    "start_time": "2023-04-07T06:40:28.692Z"
   },
   {
    "duration": 127,
    "start_time": "2023-04-07T06:40:28.815Z"
   },
   {
    "duration": 220,
    "start_time": "2023-04-07T06:40:28.943Z"
   },
   {
    "duration": 139,
    "start_time": "2023-04-07T06:40:29.165Z"
   },
   {
    "duration": 133,
    "start_time": "2023-04-07T06:40:29.305Z"
   },
   {
    "duration": 147,
    "start_time": "2023-04-07T06:40:29.440Z"
   },
   {
    "duration": 147,
    "start_time": "2023-04-07T06:40:29.589Z"
   },
   {
    "duration": 140,
    "start_time": "2023-04-07T06:40:29.737Z"
   },
   {
    "duration": 11,
    "start_time": "2023-04-07T06:40:29.878Z"
   },
   {
    "duration": 5,
    "start_time": "2023-04-07T06:40:29.891Z"
   },
   {
    "duration": 14,
    "start_time": "2023-04-07T06:40:29.898Z"
   },
   {
    "duration": 7,
    "start_time": "2023-04-07T06:40:29.913Z"
   },
   {
    "duration": 4,
    "start_time": "2023-04-07T06:40:49.510Z"
   },
   {
    "duration": 1277,
    "start_time": "2023-04-07T06:42:17.759Z"
   },
   {
    "duration": 55,
    "start_time": "2023-04-07T06:42:19.038Z"
   },
   {
    "duration": 24,
    "start_time": "2023-04-07T06:42:19.095Z"
   },
   {
    "duration": 902,
    "start_time": "2023-04-07T06:42:19.122Z"
   },
   {
    "duration": 9,
    "start_time": "2023-04-07T06:42:20.025Z"
   },
   {
    "duration": 12,
    "start_time": "2023-04-07T06:42:20.035Z"
   },
   {
    "duration": 19,
    "start_time": "2023-04-07T06:42:20.049Z"
   },
   {
    "duration": 11,
    "start_time": "2023-04-07T06:42:20.070Z"
   },
   {
    "duration": 12,
    "start_time": "2023-04-07T06:42:20.083Z"
   },
   {
    "duration": 15,
    "start_time": "2023-04-07T06:42:20.098Z"
   },
   {
    "duration": 8,
    "start_time": "2023-04-07T06:42:20.114Z"
   },
   {
    "duration": 3,
    "start_time": "2023-04-07T06:42:20.124Z"
   },
   {
    "duration": 10,
    "start_time": "2023-04-07T06:42:20.128Z"
   },
   {
    "duration": 33,
    "start_time": "2023-04-07T06:42:20.139Z"
   },
   {
    "duration": 19,
    "start_time": "2023-04-07T06:42:20.174Z"
   },
   {
    "duration": 23,
    "start_time": "2023-04-07T06:42:20.195Z"
   },
   {
    "duration": 16,
    "start_time": "2023-04-07T06:42:20.220Z"
   },
   {
    "duration": 170,
    "start_time": "2023-04-07T06:42:20.237Z"
   },
   {
    "duration": 15,
    "start_time": "2023-04-07T06:42:20.409Z"
   },
   {
    "duration": 159,
    "start_time": "2023-04-07T06:42:20.425Z"
   },
   {
    "duration": 166,
    "start_time": "2023-04-07T06:42:20.586Z"
   },
   {
    "duration": 171,
    "start_time": "2023-04-07T06:42:20.753Z"
   },
   {
    "duration": 230,
    "start_time": "2023-04-07T06:42:20.925Z"
   },
   {
    "duration": 155,
    "start_time": "2023-04-07T06:42:21.156Z"
   },
   {
    "duration": 22,
    "start_time": "2023-04-07T06:42:21.312Z"
   },
   {
    "duration": 13,
    "start_time": "2023-04-07T06:42:21.336Z"
   },
   {
    "duration": 390,
    "start_time": "2023-04-07T06:42:21.351Z"
   },
   {
    "duration": 6,
    "start_time": "2023-04-07T06:42:21.744Z"
   },
   {
    "duration": 4,
    "start_time": "2023-04-07T06:42:21.751Z"
   },
   {
    "duration": 21,
    "start_time": "2023-04-07T06:42:21.757Z"
   },
   {
    "duration": 11,
    "start_time": "2023-04-07T06:42:21.779Z"
   },
   {
    "duration": 19,
    "start_time": "2023-04-07T06:42:21.792Z"
   },
   {
    "duration": 11,
    "start_time": "2023-04-07T06:42:21.812Z"
   },
   {
    "duration": 9,
    "start_time": "2023-04-07T06:42:21.824Z"
   },
   {
    "duration": 15,
    "start_time": "2023-04-07T06:42:21.834Z"
   },
   {
    "duration": 163,
    "start_time": "2023-04-07T06:42:21.850Z"
   },
   {
    "duration": 141,
    "start_time": "2023-04-07T06:42:22.015Z"
   },
   {
    "duration": 152,
    "start_time": "2023-04-07T06:42:22.158Z"
   },
   {
    "duration": 179,
    "start_time": "2023-04-07T06:42:22.312Z"
   },
   {
    "duration": 24,
    "start_time": "2023-04-07T06:42:22.495Z"
   },
   {
    "duration": 145,
    "start_time": "2023-04-07T06:42:22.521Z"
   },
   {
    "duration": 176,
    "start_time": "2023-04-07T06:42:22.671Z"
   },
   {
    "duration": 161,
    "start_time": "2023-04-07T06:42:22.848Z"
   },
   {
    "duration": 236,
    "start_time": "2023-04-07T06:42:23.011Z"
   },
   {
    "duration": 155,
    "start_time": "2023-04-07T06:42:23.249Z"
   },
   {
    "duration": 142,
    "start_time": "2023-04-07T06:42:23.406Z"
   },
   {
    "duration": 144,
    "start_time": "2023-04-07T06:42:23.550Z"
   },
   {
    "duration": 162,
    "start_time": "2023-04-07T06:42:23.696Z"
   },
   {
    "duration": 141,
    "start_time": "2023-04-07T06:42:23.860Z"
   },
   {
    "duration": 8,
    "start_time": "2023-04-07T06:42:24.003Z"
   },
   {
    "duration": 23,
    "start_time": "2023-04-07T06:42:24.013Z"
   },
   {
    "duration": 49,
    "start_time": "2023-04-07T06:42:24.037Z"
   },
   {
    "duration": 18,
    "start_time": "2023-04-07T06:42:24.087Z"
   },
   {
    "duration": 106,
    "start_time": "2023-04-08T00:09:18.652Z"
   },
   {
    "duration": 718,
    "start_time": "2024-11-06T22:49:52.011Z"
   }
  ],
  "kernelspec": {
   "display_name": "Python 3 (ipykernel)",
   "language": "python",
   "name": "python3"
  },
  "language_info": {
   "codemirror_mode": {
    "name": "ipython",
    "version": 3
   },
   "file_extension": ".py",
   "mimetype": "text/x-python",
   "name": "python",
   "nbconvert_exporter": "python",
   "pygments_lexer": "ipython3",
   "version": "3.9.5"
  },
  "toc": {
   "base_numbering": 1,
   "nav_menu": {},
   "number_sections": true,
   "sideBar": true,
   "skip_h1_title": true,
   "title_cell": "Table of Contents",
   "title_sidebar": "Contents",
   "toc_cell": false,
   "toc_position": {
    "height": "calc(100% - 180px)",
    "left": "10px",
    "top": "150px",
    "width": "307.09375px"
   },
   "toc_section_display": true,
   "toc_window_display": true
  }
 },
 "nbformat": 4,
 "nbformat_minor": 2
}
