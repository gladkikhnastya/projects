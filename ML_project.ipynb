{
 "cells": [
  {
   "cell_type": "markdown",
   "metadata": {
    "toc": true
   },
   "source": [
    "<h1>Содержание<span class=\"tocSkip\"></span></h1>\n",
    "<div class=\"toc\"><ul class=\"toc-item\"><li><span><a href=\"#Подготовка-данных\" data-toc-modified-id=\"Подготовка-данных-1\"><span class=\"toc-item-num\">1&nbsp;&nbsp;</span>Подготовка данных</a></span><ul class=\"toc-item\"><li><span><a href=\"#Уберем-лишние-данные,-которые-могут-помешать-в-дальнейшем.-Обработка-пропусков\" data-toc-modified-id=\"Уберем-лишние-данные,-которые-могут-помешать-в-дальнейшем.-Обработка-пропусков-1.1\"><span class=\"toc-item-num\">1.1&nbsp;&nbsp;</span>Уберем лишние данные, которые могут помешать в дальнейшем. Обработка пропусков</a></span></li><li><span><a href=\"#Разобьем-данные-на-выборки,-используя-прямое-кодирование\" data-toc-modified-id=\"Разобьем-данные-на-выборки,-используя-прямое-кодирование-1.2\"><span class=\"toc-item-num\">1.2&nbsp;&nbsp;</span>Разобьем данные на выборки, используя прямое кодирование</a></span></li><li><span><a href=\"#Масштабируем-признаки\" data-toc-modified-id=\"Масштабируем-признаки-1.3\"><span class=\"toc-item-num\">1.3&nbsp;&nbsp;</span>Масштабируем признаки</a></span></li></ul></li><li><span><a href=\"#Исследование-задачи\" data-toc-modified-id=\"Исследование-задачи-2\"><span class=\"toc-item-num\">2&nbsp;&nbsp;</span>Исследование задачи</a></span><ul class=\"toc-item\"><li><span><a href=\"#Исследуем-случайный-лес-без-учета-дисбаланса\" data-toc-modified-id=\"Исследуем-случайный-лес-без-учета-дисбаланса-2.1\"><span class=\"toc-item-num\">2.1&nbsp;&nbsp;</span>Исследуем случайный лес без учета дисбаланса</a></span></li><li><span><a href=\"#Исследуем-дерево-решений-без-учета-дисбаланса\" data-toc-modified-id=\"Исследуем-дерево-решений-без-учета-дисбаланса-2.2\"><span class=\"toc-item-num\">2.2&nbsp;&nbsp;</span>Исследуем дерево решений без учета дисбаланса</a></span></li></ul></li><li><span><a href=\"#Борьба-с-дисбалансом\" data-toc-modified-id=\"Борьба-с-дисбалансом-3\"><span class=\"toc-item-num\">3&nbsp;&nbsp;</span>Борьба с дисбалансом</a></span><ul class=\"toc-item\"><li><span><a href=\"#Исследуем-случайный-лес-с-учетом-дисбаланса\" data-toc-modified-id=\"Исследуем-случайный-лес-с-учетом-дисбаланса-3.1\"><span class=\"toc-item-num\">3.1&nbsp;&nbsp;</span>Исследуем случайный лес с учетом дисбаланса</a></span></li><li><span><a href=\"#Исследуем-дерево-решений-с-учетом-дисбаланса\" data-toc-modified-id=\"Исследуем-дерево-решений-с-учетом-дисбаланса-3.2\"><span class=\"toc-item-num\">3.2&nbsp;&nbsp;</span>Исследуем дерево решений с учетом дисбаланса</a></span></li><li><span><a href=\"#Исследуем-логистическую-регрессию-с-учетом-дисбаланса\" data-toc-modified-id=\"Исследуем-логистическую-регрессию-с-учетом-дисбаланса-3.3\"><span class=\"toc-item-num\">3.3&nbsp;&nbsp;</span>Исследуем логистическую регрессию с учетом дисбаланса</a></span></li><li><span><a href=\"#Увеличиваем-выборку\" data-toc-modified-id=\"Увеличиваем-выборку-3.4\"><span class=\"toc-item-num\">3.4&nbsp;&nbsp;</span>Увеличиваем выборку</a></span><ul class=\"toc-item\"><li><span><a href=\"#Для-логистической-регрессии\" data-toc-modified-id=\"Для-логистической-регрессии-3.4.1\"><span class=\"toc-item-num\">3.4.1&nbsp;&nbsp;</span>Для логистической регрессии</a></span></li><li><span><a href=\"#Для-дерева-решений\" data-toc-modified-id=\"Для-дерева-решений-3.4.2\"><span class=\"toc-item-num\">3.4.2&nbsp;&nbsp;</span>Для дерева решений</a></span></li><li><span><a href=\"#Для-случайного-леса\" data-toc-modified-id=\"Для-случайного-леса-3.4.3\"><span class=\"toc-item-num\">3.4.3&nbsp;&nbsp;</span>Для случайного леса</a></span></li></ul></li><li><span><a href=\"#Уменьшаем-выборку\" data-toc-modified-id=\"Уменьшаем-выборку-3.5\"><span class=\"toc-item-num\">3.5&nbsp;&nbsp;</span>Уменьшаем выборку</a></span><ul class=\"toc-item\"><li><span><a href=\"#Для-логистической-регрессии\" data-toc-modified-id=\"Для-логистической-регрессии-3.5.1\"><span class=\"toc-item-num\">3.5.1&nbsp;&nbsp;</span>Для логистической регрессии</a></span></li><li><span><a href=\"#Для-случайного-леса\" data-toc-modified-id=\"Для-случайного-леса-3.5.2\"><span class=\"toc-item-num\">3.5.2&nbsp;&nbsp;</span>Для случайного леса</a></span></li><li><span><a href=\"#Для-дерева-решений\" data-toc-modified-id=\"Для-дерева-решений-3.5.3\"><span class=\"toc-item-num\">3.5.3&nbsp;&nbsp;</span>Для дерева решений</a></span></li></ul></li></ul></li><li><span><a href=\"#Тестирование-модели\" data-toc-modified-id=\"Тестирование-модели-4\"><span class=\"toc-item-num\">4&nbsp;&nbsp;</span>Тестирование модели</a></span></li><li><span><a href=\"#Выводы\" data-toc-modified-id=\"Выводы-5\"><span class=\"toc-item-num\">5&nbsp;&nbsp;</span>Выводы</a></span></li><li><span><a href=\"#Чек-лист-готовности-проекта\" data-toc-modified-id=\"Чек-лист-готовности-проекта-6\"><span class=\"toc-item-num\">6&nbsp;&nbsp;</span>Чек-лист готовности проекта</a></span></li></ul></div>"
   ]
  },
  {
   "cell_type": "markdown",
   "metadata": {},
   "source": [
    "# Отток клиентов"
   ]
  },
  {
   "cell_type": "markdown",
   "metadata": {},
   "source": [
    "Из «Бета-Банка» стали уходить клиенты. Каждый месяц. Немного, но заметно. Банковские маркетологи посчитали: сохранять текущих клиентов дешевле, чем привлекать новых.\n",
    "\n",
    "Нужно спрогнозировать, уйдёт клиент из банка в ближайшее время или нет. Предоставлены исторические данные о поведении клиентов и расторжении договоров с банком. \n",
    "\n",
    "Построить модель с предельно большим значением *F1*-меры. Довести метрику до 0.59. Проверить *F1*-меру на тестовой выборке.\n",
    "\n",
    "Дополнительно измерить *AUC-ROC*, сравнивайте её значение с *F1*-мерой.\n",
    "\n",
    "Источник данных: [https://www.kaggle.com/barelydedicated/bank-customer-churn-modeling](https://www.kaggle.com/barelydedicated/bank-customer-churn-modeling)"
   ]
  },
  {
   "cell_type": "markdown",
   "metadata": {},
   "source": [
    "## Подготовка данных"
   ]
  },
  {
   "cell_type": "code",
   "execution_count": 1,
   "metadata": {},
   "outputs": [],
   "source": [
    "import pandas as pd\n",
    "from sklearn.model_selection import train_test_split\n",
    "from sklearn.linear_model import LinearRegression\n",
    "from sklearn.tree import DecisionTreeRegressor, DecisionTreeClassifier\n",
    "from sklearn.ensemble import RandomForestRegressor, RandomForestClassifier\n",
    "from sklearn.linear_model import LogisticRegression\n",
    "from sklearn.metrics import f1_score, roc_auc_score\n",
    "from sklearn.preprocessing import StandardScaler\n",
    "from sklearn.utils import shuffle\n",
    "import matplotlib.pyplot as plt"
   ]
  },
  {
   "cell_type": "markdown",
   "metadata": {},
   "source": [
    "<div class=\"alert alert-block alert-success\">\n",
    "<b>Успех:</b> Импорты на месте\n",
    "</div>\n",
    "\n"
   ]
  },
  {
   "cell_type": "code",
   "execution_count": 2,
   "metadata": {},
   "outputs": [],
   "source": [
    "data = pd.read_csv('/datasets/Churn.csv')"
   ]
  },
  {
   "cell_type": "code",
   "execution_count": 3,
   "metadata": {},
   "outputs": [
    {
     "name": "stdout",
     "output_type": "stream",
     "text": [
      "<class 'pandas.core.frame.DataFrame'>\n",
      "RangeIndex: 10000 entries, 0 to 9999\n",
      "Data columns (total 14 columns):\n",
      " #   Column           Non-Null Count  Dtype  \n",
      "---  ------           --------------  -----  \n",
      " 0   RowNumber        10000 non-null  int64  \n",
      " 1   CustomerId       10000 non-null  int64  \n",
      " 2   Surname          10000 non-null  object \n",
      " 3   CreditScore      10000 non-null  int64  \n",
      " 4   Geography        10000 non-null  object \n",
      " 5   Gender           10000 non-null  object \n",
      " 6   Age              10000 non-null  int64  \n",
      " 7   Tenure           9091 non-null   float64\n",
      " 8   Balance          10000 non-null  float64\n",
      " 9   NumOfProducts    10000 non-null  int64  \n",
      " 10  HasCrCard        10000 non-null  int64  \n",
      " 11  IsActiveMember   10000 non-null  int64  \n",
      " 12  EstimatedSalary  10000 non-null  float64\n",
      " 13  Exited           10000 non-null  int64  \n",
      "dtypes: float64(3), int64(8), object(3)\n",
      "memory usage: 1.1+ MB\n"
     ]
    }
   ],
   "source": [
    "data.info()"
   ]
  },
  {
   "cell_type": "markdown",
   "metadata": {},
   "source": [
    "Все типы данных соответсвуют названиям колонок"
   ]
  },
  {
   "cell_type": "code",
   "execution_count": 4,
   "metadata": {},
   "outputs": [
    {
     "data": {
      "text/html": [
       "<div>\n",
       "<style scoped>\n",
       "    .dataframe tbody tr th:only-of-type {\n",
       "        vertical-align: middle;\n",
       "    }\n",
       "\n",
       "    .dataframe tbody tr th {\n",
       "        vertical-align: top;\n",
       "    }\n",
       "\n",
       "    .dataframe thead th {\n",
       "        text-align: right;\n",
       "    }\n",
       "</style>\n",
       "<table border=\"1\" class=\"dataframe\">\n",
       "  <thead>\n",
       "    <tr style=\"text-align: right;\">\n",
       "      <th></th>\n",
       "      <th>RowNumber</th>\n",
       "      <th>CustomerId</th>\n",
       "      <th>Surname</th>\n",
       "      <th>CreditScore</th>\n",
       "      <th>Geography</th>\n",
       "      <th>Gender</th>\n",
       "      <th>Age</th>\n",
       "      <th>Tenure</th>\n",
       "      <th>Balance</th>\n",
       "      <th>NumOfProducts</th>\n",
       "      <th>HasCrCard</th>\n",
       "      <th>IsActiveMember</th>\n",
       "      <th>EstimatedSalary</th>\n",
       "      <th>Exited</th>\n",
       "    </tr>\n",
       "  </thead>\n",
       "  <tbody>\n",
       "    <tr>\n",
       "      <th>0</th>\n",
       "      <td>1</td>\n",
       "      <td>15634602</td>\n",
       "      <td>Hargrave</td>\n",
       "      <td>619</td>\n",
       "      <td>France</td>\n",
       "      <td>Female</td>\n",
       "      <td>42</td>\n",
       "      <td>2.0</td>\n",
       "      <td>0.00</td>\n",
       "      <td>1</td>\n",
       "      <td>1</td>\n",
       "      <td>1</td>\n",
       "      <td>101348.88</td>\n",
       "      <td>1</td>\n",
       "    </tr>\n",
       "    <tr>\n",
       "      <th>1</th>\n",
       "      <td>2</td>\n",
       "      <td>15647311</td>\n",
       "      <td>Hill</td>\n",
       "      <td>608</td>\n",
       "      <td>Spain</td>\n",
       "      <td>Female</td>\n",
       "      <td>41</td>\n",
       "      <td>1.0</td>\n",
       "      <td>83807.86</td>\n",
       "      <td>1</td>\n",
       "      <td>0</td>\n",
       "      <td>1</td>\n",
       "      <td>112542.58</td>\n",
       "      <td>0</td>\n",
       "    </tr>\n",
       "    <tr>\n",
       "      <th>2</th>\n",
       "      <td>3</td>\n",
       "      <td>15619304</td>\n",
       "      <td>Onio</td>\n",
       "      <td>502</td>\n",
       "      <td>France</td>\n",
       "      <td>Female</td>\n",
       "      <td>42</td>\n",
       "      <td>8.0</td>\n",
       "      <td>159660.80</td>\n",
       "      <td>3</td>\n",
       "      <td>1</td>\n",
       "      <td>0</td>\n",
       "      <td>113931.57</td>\n",
       "      <td>1</td>\n",
       "    </tr>\n",
       "    <tr>\n",
       "      <th>3</th>\n",
       "      <td>4</td>\n",
       "      <td>15701354</td>\n",
       "      <td>Boni</td>\n",
       "      <td>699</td>\n",
       "      <td>France</td>\n",
       "      <td>Female</td>\n",
       "      <td>39</td>\n",
       "      <td>1.0</td>\n",
       "      <td>0.00</td>\n",
       "      <td>2</td>\n",
       "      <td>0</td>\n",
       "      <td>0</td>\n",
       "      <td>93826.63</td>\n",
       "      <td>0</td>\n",
       "    </tr>\n",
       "    <tr>\n",
       "      <th>4</th>\n",
       "      <td>5</td>\n",
       "      <td>15737888</td>\n",
       "      <td>Mitchell</td>\n",
       "      <td>850</td>\n",
       "      <td>Spain</td>\n",
       "      <td>Female</td>\n",
       "      <td>43</td>\n",
       "      <td>2.0</td>\n",
       "      <td>125510.82</td>\n",
       "      <td>1</td>\n",
       "      <td>1</td>\n",
       "      <td>1</td>\n",
       "      <td>79084.10</td>\n",
       "      <td>0</td>\n",
       "    </tr>\n",
       "    <tr>\n",
       "      <th>5</th>\n",
       "      <td>6</td>\n",
       "      <td>15574012</td>\n",
       "      <td>Chu</td>\n",
       "      <td>645</td>\n",
       "      <td>Spain</td>\n",
       "      <td>Male</td>\n",
       "      <td>44</td>\n",
       "      <td>8.0</td>\n",
       "      <td>113755.78</td>\n",
       "      <td>2</td>\n",
       "      <td>1</td>\n",
       "      <td>0</td>\n",
       "      <td>149756.71</td>\n",
       "      <td>1</td>\n",
       "    </tr>\n",
       "    <tr>\n",
       "      <th>6</th>\n",
       "      <td>7</td>\n",
       "      <td>15592531</td>\n",
       "      <td>Bartlett</td>\n",
       "      <td>822</td>\n",
       "      <td>France</td>\n",
       "      <td>Male</td>\n",
       "      <td>50</td>\n",
       "      <td>7.0</td>\n",
       "      <td>0.00</td>\n",
       "      <td>2</td>\n",
       "      <td>1</td>\n",
       "      <td>1</td>\n",
       "      <td>10062.80</td>\n",
       "      <td>0</td>\n",
       "    </tr>\n",
       "    <tr>\n",
       "      <th>7</th>\n",
       "      <td>8</td>\n",
       "      <td>15656148</td>\n",
       "      <td>Obinna</td>\n",
       "      <td>376</td>\n",
       "      <td>Germany</td>\n",
       "      <td>Female</td>\n",
       "      <td>29</td>\n",
       "      <td>4.0</td>\n",
       "      <td>115046.74</td>\n",
       "      <td>4</td>\n",
       "      <td>1</td>\n",
       "      <td>0</td>\n",
       "      <td>119346.88</td>\n",
       "      <td>1</td>\n",
       "    </tr>\n",
       "    <tr>\n",
       "      <th>8</th>\n",
       "      <td>9</td>\n",
       "      <td>15792365</td>\n",
       "      <td>He</td>\n",
       "      <td>501</td>\n",
       "      <td>France</td>\n",
       "      <td>Male</td>\n",
       "      <td>44</td>\n",
       "      <td>4.0</td>\n",
       "      <td>142051.07</td>\n",
       "      <td>2</td>\n",
       "      <td>0</td>\n",
       "      <td>1</td>\n",
       "      <td>74940.50</td>\n",
       "      <td>0</td>\n",
       "    </tr>\n",
       "    <tr>\n",
       "      <th>9</th>\n",
       "      <td>10</td>\n",
       "      <td>15592389</td>\n",
       "      <td>H?</td>\n",
       "      <td>684</td>\n",
       "      <td>France</td>\n",
       "      <td>Male</td>\n",
       "      <td>27</td>\n",
       "      <td>2.0</td>\n",
       "      <td>134603.88</td>\n",
       "      <td>1</td>\n",
       "      <td>1</td>\n",
       "      <td>1</td>\n",
       "      <td>71725.73</td>\n",
       "      <td>0</td>\n",
       "    </tr>\n",
       "    <tr>\n",
       "      <th>10</th>\n",
       "      <td>11</td>\n",
       "      <td>15767821</td>\n",
       "      <td>Bearce</td>\n",
       "      <td>528</td>\n",
       "      <td>France</td>\n",
       "      <td>Male</td>\n",
       "      <td>31</td>\n",
       "      <td>6.0</td>\n",
       "      <td>102016.72</td>\n",
       "      <td>2</td>\n",
       "      <td>0</td>\n",
       "      <td>0</td>\n",
       "      <td>80181.12</td>\n",
       "      <td>0</td>\n",
       "    </tr>\n",
       "    <tr>\n",
       "      <th>11</th>\n",
       "      <td>12</td>\n",
       "      <td>15737173</td>\n",
       "      <td>Andrews</td>\n",
       "      <td>497</td>\n",
       "      <td>Spain</td>\n",
       "      <td>Male</td>\n",
       "      <td>24</td>\n",
       "      <td>3.0</td>\n",
       "      <td>0.00</td>\n",
       "      <td>2</td>\n",
       "      <td>1</td>\n",
       "      <td>0</td>\n",
       "      <td>76390.01</td>\n",
       "      <td>0</td>\n",
       "    </tr>\n",
       "    <tr>\n",
       "      <th>12</th>\n",
       "      <td>13</td>\n",
       "      <td>15632264</td>\n",
       "      <td>Kay</td>\n",
       "      <td>476</td>\n",
       "      <td>France</td>\n",
       "      <td>Female</td>\n",
       "      <td>34</td>\n",
       "      <td>10.0</td>\n",
       "      <td>0.00</td>\n",
       "      <td>2</td>\n",
       "      <td>1</td>\n",
       "      <td>0</td>\n",
       "      <td>26260.98</td>\n",
       "      <td>0</td>\n",
       "    </tr>\n",
       "    <tr>\n",
       "      <th>13</th>\n",
       "      <td>14</td>\n",
       "      <td>15691483</td>\n",
       "      <td>Chin</td>\n",
       "      <td>549</td>\n",
       "      <td>France</td>\n",
       "      <td>Female</td>\n",
       "      <td>25</td>\n",
       "      <td>5.0</td>\n",
       "      <td>0.00</td>\n",
       "      <td>2</td>\n",
       "      <td>0</td>\n",
       "      <td>0</td>\n",
       "      <td>190857.79</td>\n",
       "      <td>0</td>\n",
       "    </tr>\n",
       "    <tr>\n",
       "      <th>14</th>\n",
       "      <td>15</td>\n",
       "      <td>15600882</td>\n",
       "      <td>Scott</td>\n",
       "      <td>635</td>\n",
       "      <td>Spain</td>\n",
       "      <td>Female</td>\n",
       "      <td>35</td>\n",
       "      <td>7.0</td>\n",
       "      <td>0.00</td>\n",
       "      <td>2</td>\n",
       "      <td>1</td>\n",
       "      <td>1</td>\n",
       "      <td>65951.65</td>\n",
       "      <td>0</td>\n",
       "    </tr>\n",
       "  </tbody>\n",
       "</table>\n",
       "</div>"
      ],
      "text/plain": [
       "    RowNumber  CustomerId   Surname  CreditScore Geography  Gender  Age  \\\n",
       "0           1    15634602  Hargrave          619    France  Female   42   \n",
       "1           2    15647311      Hill          608     Spain  Female   41   \n",
       "2           3    15619304      Onio          502    France  Female   42   \n",
       "3           4    15701354      Boni          699    France  Female   39   \n",
       "4           5    15737888  Mitchell          850     Spain  Female   43   \n",
       "5           6    15574012       Chu          645     Spain    Male   44   \n",
       "6           7    15592531  Bartlett          822    France    Male   50   \n",
       "7           8    15656148    Obinna          376   Germany  Female   29   \n",
       "8           9    15792365        He          501    France    Male   44   \n",
       "9          10    15592389        H?          684    France    Male   27   \n",
       "10         11    15767821    Bearce          528    France    Male   31   \n",
       "11         12    15737173   Andrews          497     Spain    Male   24   \n",
       "12         13    15632264       Kay          476    France  Female   34   \n",
       "13         14    15691483      Chin          549    France  Female   25   \n",
       "14         15    15600882     Scott          635     Spain  Female   35   \n",
       "\n",
       "    Tenure    Balance  NumOfProducts  HasCrCard  IsActiveMember  \\\n",
       "0      2.0       0.00              1          1               1   \n",
       "1      1.0   83807.86              1          0               1   \n",
       "2      8.0  159660.80              3          1               0   \n",
       "3      1.0       0.00              2          0               0   \n",
       "4      2.0  125510.82              1          1               1   \n",
       "5      8.0  113755.78              2          1               0   \n",
       "6      7.0       0.00              2          1               1   \n",
       "7      4.0  115046.74              4          1               0   \n",
       "8      4.0  142051.07              2          0               1   \n",
       "9      2.0  134603.88              1          1               1   \n",
       "10     6.0  102016.72              2          0               0   \n",
       "11     3.0       0.00              2          1               0   \n",
       "12    10.0       0.00              2          1               0   \n",
       "13     5.0       0.00              2          0               0   \n",
       "14     7.0       0.00              2          1               1   \n",
       "\n",
       "    EstimatedSalary  Exited  \n",
       "0         101348.88       1  \n",
       "1         112542.58       0  \n",
       "2         113931.57       1  \n",
       "3          93826.63       0  \n",
       "4          79084.10       0  \n",
       "5         149756.71       1  \n",
       "6          10062.80       0  \n",
       "7         119346.88       1  \n",
       "8          74940.50       0  \n",
       "9          71725.73       0  \n",
       "10         80181.12       0  \n",
       "11         76390.01       0  \n",
       "12         26260.98       0  \n",
       "13        190857.79       0  \n",
       "14         65951.65       0  "
      ]
     },
     "execution_count": 4,
     "metadata": {},
     "output_type": "execute_result"
    }
   ],
   "source": [
    "data.head(15)"
   ]
  },
  {
   "cell_type": "code",
   "execution_count": 5,
   "metadata": {},
   "outputs": [
    {
     "data": {
      "image/png": "[encoded data removed]",
      "text/plain": [
       "<Figure size 1080x1440 with 12 Axes>"
      ]
     },
     "metadata": {
      "needs_background": "light"
     },
     "output_type": "display_data"
    }
   ],
   "source": [
    "data.hist(figsize=(15,20));"
   ]
  },
  {
   "cell_type": "markdown",
   "metadata": {},
   "source": [
    "Выбросов в данных нет, как и аномальных значений, поэтому можно приступить к анализу. Единственный столбец с выбросами - баланс, но 0 не является аномальным значением, так как многие не хранят деньги в таком формате."
   ]
  },
  {
   "cell_type": "markdown",
   "metadata": {},
   "source": [
    "### Уберем лишние данные, которые могут помешать в дальнейшем. Обработка пропусков\n"
   ]
  },
  {
   "cell_type": "code",
   "execution_count": 6,
   "metadata": {},
   "outputs": [],
   "source": [
    "data = data.drop(['RowNumber', 'CustomerId', 'Surname'], axis=1)"
   ]
  },
  {
   "cell_type": "code",
   "execution_count": 7,
   "metadata": {},
   "outputs": [
    {
     "data": {
      "text/plain": [
       "CreditScore          0\n",
       "Geography            0\n",
       "Gender               0\n",
       "Age                  0\n",
       "Tenure             909\n",
       "Balance              0\n",
       "NumOfProducts        0\n",
       "HasCrCard            0\n",
       "IsActiveMember       0\n",
       "EstimatedSalary      0\n",
       "Exited               0\n",
       "dtype: int64"
      ]
     },
     "execution_count": 7,
     "metadata": {},
     "output_type": "execute_result"
    }
   ],
   "source": [
    "data.isna().sum()"
   ]
  },
  {
   "cell_type": "code",
   "execution_count": 8,
   "metadata": {},
   "outputs": [],
   "source": [
    "data = data.dropna(subset=['Tenure']).reset_index(drop=True)"
   ]
  },
  {
   "cell_type": "markdown",
   "metadata": {},
   "source": [
    "Удалим пропуски для корректной работы дальнейшего кода"
   ]
  },
  {
   "cell_type": "markdown",
   "metadata": {},
   "source": [
    "### Разобьем данные на выборки, используя прямое кодирование"
   ]
  },
  {
   "cell_type": "code",
   "execution_count": 9,
   "metadata": {},
   "outputs": [],
   "source": [
    "data_ohe = pd.get_dummies(data, drop_first=True)\n",
    "target = data_ohe['Exited']\n",
    "features = data_ohe.drop('Exited', axis=1)"
   ]
  },
  {
   "cell_type": "code",
   "execution_count": 10,
   "metadata": {},
   "outputs": [],
   "source": [
    "features_train, features_valid, target_train, target_valid = train_test_split(\n",
    "    features, target, test_size=0.2, random_state=12345\n",
    ")\n",
    "\n",
    "features_train, features_test, target_train, target_test = train_test_split(\n",
    "    features_train, target_train, test_size=0.25, random_state=12345\n",
    ")"
   ]
  },
  {
   "cell_type": "code",
   "execution_count": 11,
   "metadata": {},
   "outputs": [
    {
     "name": "stdout",
     "output_type": "stream",
     "text": [
      "Тренировочная: (5454, 11)\n",
      "Валидационная: (1819, 11)\n",
      "Тестовая: (1818, 11)\n"
     ]
    }
   ],
   "source": [
    "print('Тренировочная:', features_train.shape)\n",
    "print('Валидационная:', features_valid.shape)\n",
    "print('Тестовая:', features_test.shape)"
   ]
  },
  {
   "cell_type": "markdown",
   "metadata": {},
   "source": [
    "Использовали ОНЕ, так как это более универсальный вариант кодирования, с ним работать будет проще"
   ]
  },
  {
   "cell_type": "markdown",
   "metadata": {},
   "source": [
    "### Масштабируем признаки"
   ]
  },
  {
   "cell_type": "code",
   "execution_count": 12,
   "metadata": {
    "scrolled": true
   },
   "outputs": [
    {
     "name": "stderr",
     "output_type": "stream",
     "text": [
      "/tmp/ipykernel_48/1351064386.py:6: SettingWithCopyWarning: \n",
      "A value is trying to be set on a copy of a slice from a DataFrame.\n",
      "Try using .loc[row_indexer,col_indexer] = value instead\n",
      "\n",
      "See the caveats in the documentation: https://pandas.pydata.org/pandas-docs/stable/user_guide/indexing.html#returning-a-view-versus-a-copy\n",
      "  features_valid[numeric] = scaler.transform(features_valid[numeric])\n",
      "/opt/conda/lib/python3.9/site-packages/pandas/core/indexing.py:1738: SettingWithCopyWarning: \n",
      "A value is trying to be set on a copy of a slice from a DataFrame.\n",
      "Try using .loc[row_indexer,col_indexer] = value instead\n",
      "\n",
      "See the caveats in the documentation: https://pandas.pydata.org/pandas-docs/stable/user_guide/indexing.html#returning-a-view-versus-a-copy\n",
      "  self._setitem_single_column(loc, value[:, i].tolist(), pi)\n"
     ]
    }
   ],
   "source": [
    "numeric = ['CreditScore', 'EstimatedSalary', 'Age', 'Tenure', 'NumOfProducts']\n",
    "scaler = StandardScaler()\n",
    "scaler.fit(features_train[numeric])\n",
    "\n",
    "features_train[numeric] = scaler.transform(features_train[numeric])\n",
    "features_valid[numeric] = scaler.transform(features_valid[numeric])\n",
    "features_test[numeric] = scaler.transform(features_test[numeric])"
   ]
  },
  {
   "cell_type": "code",
   "execution_count": null,
   "metadata": {},
   "outputs": [],
   "source": []
  },
  {
   "cell_type": "markdown",
   "metadata": {},
   "source": [
    "Масштабирование необходимо, так как некоторые столбцы, например, возраст и зп сильно отличаются друг от друга"
   ]
  },
  {
   "cell_type": "markdown",
   "metadata": {},
   "source": [
    "## Исследование задачи"
   ]
  },
  {
   "cell_type": "markdown",
   "metadata": {},
   "source": [
    "### Исследуем случайный лес без учета дисбаланса"
   ]
  },
  {
   "cell_type": "code",
   "execution_count": 13,
   "metadata": {
    "scrolled": true
   },
   "outputs": [
    {
     "name": "stdout",
     "output_type": "stream",
     "text": [
      "Глубина:  1 Количество деревьев:  10 Качество модели:  0.0\n",
      "Глубина:  2 Количество деревьев:  10 Качество модели:  0.21904761904761907\n",
      "Глубина:  3 Количество деревьев:  10 Качество модели:  0.2369668246445497\n",
      "Глубина:  4 Количество деревьев:  10 Качество модели:  0.40842105263157896\n",
      "Глубина:  5 Количество деревьев:  10 Качество модели:  0.49906890130353815\n",
      "F1 лучшей модели: 0.5542949756888169\n",
      "\n",
      "auc_roc: 0.8540884029529949\n"
     ]
    }
   ],
   "source": [
    "best_model = None\n",
    "best_result = 0\n",
    "for depth in range(1, 6):\n",
    "    for est in range(1, 11):\n",
    "        model = RandomForestClassifier(random_state=12345, n_estimators=est, max_depth=depth) \n",
    "        model.fit(features_train, target_train) \n",
    "        predictions = model.predict(features_valid)\n",
    "        result = f1_score(target_valid, predictions) \n",
    "        if result > best_result:\n",
    "            best_model = model \n",
    "            best_result = result\n",
    "    print(\n",
    "        \"Глубина: \", depth,  \"Количество деревьев: \", est,\n",
    "        \"Качество модели: \", f1_score(target_valid, predictions)\n",
    "    )    \n",
    " \n",
    "print(\"F1 лучшей модели:\", best_result)  \n",
    "\n",
    "probabilities_valid = model.predict_proba(features_valid)\n",
    "probabilities_one_valid = probabilities_valid[:, 1]\n",
    "\n",
    "auc_roc = roc_auc_score(target_valid, probabilities_one_valid)\n",
    "\n",
    "print()\n",
    "print(f'auc_roc: {auc_roc}')"
   ]
  },
  {
   "cell_type": "markdown",
   "metadata": {},
   "source": [
    "В auc_roc видно, что качество модели высокое, но f1 меньше, чем 0.59, то есть случайный лес с дисбалансом не подходит"
   ]
  },
  {
   "cell_type": "markdown",
   "metadata": {},
   "source": [
    "### Исследуем дерево решений без учета дисбаланса"
   ]
  },
  {
   "cell_type": "code",
   "execution_count": 14,
   "metadata": {},
   "outputs": [
    {
     "name": "stdout",
     "output_type": "stream",
     "text": [
      "Глубина:  1 Качество модели:  0.0\n",
      "Глубина:  2 Качество модели:  0.5234248788368336\n",
      "Глубина:  3 Качество модели:  0.3907563025210084\n",
      "Глубина:  4 Качество модели:  0.41493775933609955\n",
      "Глубина:  5 Качество модели:  0.5831960461285008\n",
      "Глубина:  6 Качество модели:  0.5437956204379562\n",
      "Глубина:  7 Качество модели:  0.585209003215434\n",
      "Глубина:  8 Качество модели:  0.5513866231647635\n",
      "Глубина:  9 Качество модели:  0.5942684766214177\n",
      "Глубина:  10 Качество модели:  0.5147286821705426\n",
      "Глубина:  11 Качество модели:  0.5171898355754858\n",
      "Глубина:  12 Качество модели:  0.5220994475138122\n",
      "Глубина:  13 Качество модели:  0.5134751773049645\n",
      "Глубина:  14 Качество модели:  0.5155195681511472\n",
      "Глубина:  15 Качество модели:  0.4876712328767123\n",
      "Глубина:  16 Качество модели:  0.5119363395225464\n",
      "Глубина:  17 Качество модели:  0.5098554533508541\n",
      "Глубина:  18 Качество модели:  0.5098039215686274\n",
      "Глубина:  19 Качество модели:  0.5256241787122208\n",
      "Глубина:  20 Качество модели:  0.518324607329843\n",
      "Глубина:  21 Качество модели:  0.5110246433203631\n",
      "Глубина:  22 Качество модели:  0.5242463958060288\n",
      "Глубина:  23 Качество модели:  0.518324607329843\n",
      "Глубина:  24 Качество модели:  0.518324607329843\n",
      "Глубина:  25 Качество модели:  0.518324607329843\n",
      "Глубина:  26 Качество модели:  0.518324607329843\n",
      "Глубина:  27 Качество модели:  0.518324607329843\n",
      "Глубина:  28 Качество модели:  0.518324607329843\n",
      "Глубина:  29 Качество модели:  0.518324607329843\n",
      "F1 лучшей модели: 0.5942684766214177\n",
      "\n",
      "auc_roc: 0.7003616484440707\n"
     ]
    }
   ],
   "source": [
    "best_model = None\n",
    "best_result = 0\n",
    "for depth in range(1, 30):\n",
    "    model = DecisionTreeClassifier(criterion='gini', random_state=12345, max_depth=depth)\n",
    "    model.fit(features_train, target_train) \n",
    "    predictions = model.predict(features_valid)\n",
    "    result = f1_score(target_valid, predictions)\n",
    "    if result > best_result:\n",
    "        best_model = model\n",
    "        best_result = result\n",
    "    print(\"Глубина: \", depth, \"Качество модели: \", f1_score(target_valid, predictions))     \n",
    "\n",
    "print(\"F1 лучшей модели:\", best_result) \n",
    "\n",
    "probabilities_valid = model.predict_proba(features_valid)\n",
    "probabilities_one_valid = probabilities_valid[:, 1]\n",
    "\n",
    "auc_roc = roc_auc_score(target_valid, probabilities_one_valid)\n",
    "\n",
    "print()\n",
    "print(f'auc_roc: {auc_roc}')"
   ]
  },
  {
   "cell_type": "markdown",
   "metadata": {},
   "source": [
    "Здесь же качество модели тоже высоко, но f1 уже подходит, то есть дерево решений даже при дисбалансе является хорошей моделью"
   ]
  },
  {
   "cell_type": "markdown",
   "metadata": {},
   "source": [
    "## Борьба с дисбалансом"
   ]
  },
  {
   "cell_type": "markdown",
   "metadata": {},
   "source": [
    "### Исследуем случайный лес с учетом дисбаланса"
   ]
  },
  {
   "cell_type": "code",
   "execution_count": 15,
   "metadata": {},
   "outputs": [
    {
     "name": "stdout",
     "output_type": "stream",
     "text": [
      "Глубина:  1 Количество деревьев:  9 Качество модели:  0.518324607329843\n",
      "Глубина:  2 Количество деревьев:  9 Качество модели:  0.518324607329843\n",
      "Глубина:  3 Количество деревьев:  9 Качество модели:  0.518324607329843\n",
      "Глубина:  4 Количество деревьев:  9 Качество модели:  0.518324607329843\n",
      "Глубина:  5 Количество деревьев:  9 Качество модели:  0.518324607329843\n",
      "Глубина:  6 Количество деревьев:  9 Качество модели:  0.518324607329843\n",
      "Глубина:  7 Количество деревьев:  9 Качество модели:  0.518324607329843\n",
      "Глубина:  8 Количество деревьев:  9 Качество модели:  0.518324607329843\n",
      "Глубина:  9 Количество деревьев:  9 Качество модели:  0.518324607329843\n",
      "F1 лучшей модели: 0.518324607329843\n",
      "\n",
      "auc_roc: 0.8356938603868798\n"
     ]
    }
   ],
   "source": [
    "best_model = None\n",
    "best_result = 0\n",
    "for depth in range(1, 10):\n",
    "    for est in range(1, 10):\n",
    "        model = RandomForestClassifier(random_state=12345, max_depth=depth, n_estimators=est, class_weight='balanced') \n",
    "        model.fit(features_train, target_train) \n",
    "        result = f1_score(target_valid, predictions) \n",
    "        predictions_valid = model.predict(features_valid)\n",
    "        if result > best_result:\n",
    "            best_model = model \n",
    "            best_result = result\n",
    "    print(\n",
    "        \"Глубина: \", depth,  \"Количество деревьев: \", est,\n",
    "        \"Качество модели: \", f1_score(target_valid, predictions)\n",
    "    )    \n",
    " \n",
    "print(\"F1 лучшей модели:\", best_result) \n",
    "\n",
    "probabilities_valid = model.predict_proba(features_valid)\n",
    "probabilities_one_valid = probabilities_valid[:, 1]\n",
    "\n",
    "auc_roc = roc_auc_score(target_valid, probabilities_one_valid)\n",
    "\n",
    "print()\n",
    "print(f'auc_roc: {auc_roc}')"
   ]
  },
  {
   "cell_type": "markdown",
   "metadata": {},
   "source": [
    "У случайного леса все еще низкий показатель f1 даже при сбалансированной модели, то есть эту модель мы не будем в дальнейшем использовать"
   ]
  },
  {
   "cell_type": "markdown",
   "metadata": {},
   "source": [
    "### Исследуем дерево решений с учетом дисбаланса"
   ]
  },
  {
   "cell_type": "code",
   "execution_count": 16,
   "metadata": {},
   "outputs": [
    {
     "name": "stdout",
     "output_type": "stream",
     "text": [
      "Глубина:  1 Качество модели:  0.4892412231030578\n",
      "Глубина:  2 Качество модели:  0.5187637969094923\n",
      "Глубина:  3 Качество модели:  0.5353418308227114\n",
      "Глубина:  4 Качество модели:  0.4873524451939291\n",
      "Глубина:  5 Качество модели:  0.5430463576158941\n",
      "Глубина:  6 Качество модели:  0.5741728922091781\n",
      "Глубина:  7 Качество модели:  0.5522682445759369\n",
      "Глубина:  8 Качество модели:  0.5548523206751055\n",
      "Глубина:  9 Качество модели:  0.540948275862069\n",
      "Глубина:  10 Качество модели:  0.5336225596529284\n",
      "Глубина:  11 Качество модели:  0.5137211855104281\n",
      "Глубина:  12 Качество модели:  0.4966139954853273\n",
      "Глубина:  13 Качество модели:  0.466824644549763\n",
      "Глубина:  14 Качество модели:  0.4701583434835566\n",
      "F1 лучшей модели: 0.5741728922091781\n",
      "\n",
      "auc_roc: 0.6834576207831043\n"
     ]
    }
   ],
   "source": [
    "best_model = None\n",
    "best_result = 0\n",
    "for depth in range(1, 15):\n",
    "    model = DecisionTreeClassifier(criterion='gini', random_state=12345, max_depth=depth, class_weight='balanced')\n",
    "    model.fit(features_train, target_train) \n",
    "    predictions = model.predict(features_valid)\n",
    "    result = f1_score(target_valid, predictions)\n",
    "    if result > best_result:\n",
    "        best_model = model\n",
    "        best_result = result\n",
    "    print(\"Глубина: \", depth, \"Качество модели: \", f1_score(target_valid, predictions))     \n",
    "\n",
    "print(\"F1 лучшей модели:\", best_result) \n",
    "\n",
    "probabilities_valid = model.predict_proba(features_valid)\n",
    "probabilities_one_valid = probabilities_valid[:, 1]\n",
    "\n",
    "auc_roc = roc_auc_score(target_valid, probabilities_one_valid)\n",
    "\n",
    "print()\n",
    "print(f'auc_roc: {auc_roc}')"
   ]
  },
  {
   "cell_type": "markdown",
   "metadata": {},
   "source": [
    "При учете дисбаланса у дерева решений упали и  auc_roc, и f1, то есть модель показывает лучшие результаты при дисбалансе классов"
   ]
  },
  {
   "cell_type": "markdown",
   "metadata": {},
   "source": [
    "### Исследуем логистическую регрессию с учетом дисбаланса"
   ]
  },
  {
   "cell_type": "code",
   "execution_count": 17,
   "metadata": {},
   "outputs": [
    {
     "name": "stdout",
     "output_type": "stream",
     "text": [
      "0.4701583434835566\n",
      "\n",
      "auc_roc: 0.7799644893000655\n"
     ]
    }
   ],
   "source": [
    "model = LogisticRegression(random_state=12345, solver='liblinear', class_weight='balanced')\n",
    "model.fit(features_train, target_train)\n",
    "predicted_valid = model.predict(features_valid)\n",
    "print(f1_score(target_valid, predictions))\n",
    "\n",
    "probabilities_valid = model.predict_proba(features_valid)\n",
    "probabilities_one_valid = probabilities_valid[:, 1]\n",
    "\n",
    "auc_roc = roc_auc_score(target_valid, probabilities_one_valid)\n",
    "\n",
    "print()\n",
    "print(f'auc_roc: {auc_roc}')"
   ]
  },
  {
   "cell_type": "markdown",
   "metadata": {},
   "source": [
    "У регрессии показатели ниже, чем у доругих моделей, поэтому она не подходит для дальнейшего рассмотрения"
   ]
  },
  {
   "cell_type": "markdown",
   "metadata": {},
   "source": [
    "### Увеличиваем выборку"
   ]
  },
  {
   "cell_type": "markdown",
   "metadata": {},
   "source": [
    "#### Для логистической регрессии"
   ]
  },
  {
   "cell_type": "code",
   "execution_count": 18,
   "metadata": {},
   "outputs": [
    {
     "name": "stdout",
     "output_type": "stream",
     "text": [
      "F1: 0.40096327513546054\n",
      "\n",
      "auc_roc: 0.6173366975049063\n"
     ]
    }
   ],
   "source": [
    "def upsample(features, target, repeat):\n",
    "    features_zeros = features[target == 0]\n",
    "    features_ones = features[target == 1]\n",
    "    target_zeros = target[target == 0]\n",
    "    target_ones = target[target == 1]\n",
    "\n",
    "    features_upsampled = pd.concat([features_zeros] + [features_ones] * repeat)\n",
    "    target_upsampled = pd.concat([target_zeros] + [target_ones] * repeat)\n",
    "    \n",
    "    features_upsampled, target_upsampled = shuffle(\n",
    "        features_upsampled, target_upsampled, random_state=12345)\n",
    "    \n",
    "    return features_upsampled, target_upsampled\n",
    "\n",
    "features_upsampled, target_upsampled = upsample(features_train, target_train, 4)\n",
    "\n",
    "\n",
    "model = LogisticRegression(solver='liblinear', random_state=12345)\n",
    "model.fit(features_upsampled, target_upsampled)\n",
    "predicted_valid = model.predict(features_valid)\n",
    "\n",
    "print(\"F1:\", f1_score(target_valid, predicted_valid))\n",
    "\n",
    "probabilities_valid = model.predict_proba(features_valid)\n",
    "probabilities_one_valid = probabilities_valid[:, 1]\n",
    "\n",
    "auc_roc = roc_auc_score(target_valid, probabilities_one_valid)\n",
    "\n",
    "print()\n",
    "print(f'auc_roc: {auc_roc}')"
   ]
  },
  {
   "cell_type": "markdown",
   "metadata": {},
   "source": [
    "При repeat=4 f1 получается не больше ~ 0.4, что далеко от необходимых 0.59"
   ]
  },
  {
   "cell_type": "code",
   "execution_count": 19,
   "metadata": {},
   "outputs": [
    {
     "data": {
      "text/plain": [
       "1    4476\n",
       "0    4335\n",
       "Name: Exited, dtype: int64"
      ]
     },
     "execution_count": 19,
     "metadata": {},
     "output_type": "execute_result"
    }
   ],
   "source": [
    "target_upsampled.value_counts()"
   ]
  },
  {
   "cell_type": "markdown",
   "metadata": {},
   "source": [
    "Проверили значения для создания модели"
   ]
  },
  {
   "cell_type": "markdown",
   "metadata": {},
   "source": [
    "#### Для дерева решений "
   ]
  },
  {
   "cell_type": "code",
   "execution_count": 20,
   "metadata": {},
   "outputs": [
    {
     "name": "stdout",
     "output_type": "stream",
     "text": [
      "F1: 0.5345717234262126\n",
      "\n",
      "auc_roc: 0.7840594336977853\n"
     ]
    }
   ],
   "source": [
    "model = DecisionTreeClassifier(random_state=12345, max_depth=9)\n",
    "model.fit(features_upsampled, target_upsampled)\n",
    "predicted_valid = model.predict(features_valid)\n",
    "\n",
    "print(\"F1:\", f1_score(target_valid, predicted_valid))\n",
    "\n",
    "probabilities_valid = model.predict_proba(features_valid)\n",
    "probabilities_one_valid = probabilities_valid[:, 1]\n",
    "\n",
    "auc_roc = roc_auc_score(target_valid, probabilities_one_valid)\n",
    "\n",
    "print()\n",
    "print(f'auc_roc: {auc_roc}')"
   ]
  },
  {
   "cell_type": "markdown",
   "metadata": {},
   "source": [
    "У этой модели не удалось дойти до нужного значения, поэтому ее использовать не придется"
   ]
  },
  {
   "cell_type": "markdown",
   "metadata": {},
   "source": [
    "#### Для случайного леса"
   ]
  },
  {
   "cell_type": "code",
   "execution_count": 21,
   "metadata": {},
   "outputs": [
    {
     "name": "stdout",
     "output_type": "stream",
     "text": [
      "F1: 0.5849056603773585\n",
      "\n",
      "auc_roc: 0.8619343986543314\n"
     ]
    }
   ],
   "source": [
    "model = RandomForestClassifier(max_depth=9, random_state=12345)\n",
    "model.fit(features_upsampled, target_upsampled)\n",
    "predicted_valid = model.predict(features_valid)\n",
    "\n",
    "print(\"F1:\", f1_score(target_valid, predicted_valid))\n",
    "\n",
    "probabilities_valid = model.predict_proba(features_valid)\n",
    "probabilities_one_valid = probabilities_valid[:, 1]\n",
    "\n",
    "auc_roc = roc_auc_score(target_valid, probabilities_one_valid)\n",
    "\n",
    "print()\n",
    "print(f'auc_roc: {auc_roc}')"
   ]
  },
  {
   "cell_type": "markdown",
   "metadata": {},
   "source": [
    "У этой модели показатель не дошел до 0.59, поэтому тоже не подходит. Auc_roc также высокий"
   ]
  },
  {
   "cell_type": "markdown",
   "metadata": {},
   "source": [
    "### Уменьшаем выборку"
   ]
  },
  {
   "cell_type": "markdown",
   "metadata": {},
   "source": [
    "#### Для логистической регрессии"
   ]
  },
  {
   "cell_type": "code",
   "execution_count": 22,
   "metadata": {},
   "outputs": [
    {
     "name": "stdout",
     "output_type": "stream",
     "text": [
      "F1: 0.5217391304347826\n",
      "\n",
      "auc_roc: 0.7757069432763294\n"
     ]
    }
   ],
   "source": [
    "def downsample(features, target, fraction):\n",
    "    features_zeros = features[target == 0]\n",
    "    features_ones = features[target == 1]\n",
    "    target_zeros = target[target == 0]\n",
    "    target_ones = target[target == 1]\n",
    "\n",
    "    features_downsampled = pd.concat(\n",
    "        [features_zeros.sample(frac=fraction, random_state=12345)] + [features_ones])\n",
    "    target_downsampled = pd.concat(\n",
    "        [target_zeros.sample(frac=fraction, random_state=12345)] + [target_ones])\n",
    "    \n",
    "    features_downsampled, target_downsampled = shuffle(\n",
    "        features_downsampled, target_downsampled, random_state=12345)\n",
    "    \n",
    "    return features_downsampled, target_downsampled\n",
    "\n",
    "features_downsampled, target_downsampled = downsample(features_train, target_train, 0.291)\n",
    "\n",
    "\n",
    "model = LogisticRegression(solver='liblinear', random_state=12345)\n",
    "model.fit(features_downsampled, target_downsampled)\n",
    "predicted_valid = model.predict(features_valid)\n",
    "\n",
    "print(\"F1:\", f1_score(target_valid, predicted_valid))\n",
    "\n",
    "probabilities_valid = model.predict_proba(features_valid)\n",
    "probabilities_one_valid = probabilities_valid[:, 1]\n",
    "\n",
    "auc_roc = roc_auc_score(target_valid, probabilities_one_valid)\n",
    "\n",
    "print()\n",
    "print(f'auc_roc: {auc_roc}')"
   ]
  },
  {
   "cell_type": "markdown",
   "metadata": {},
   "source": [
    "При frac=0.291 получается наилучший результат f1, но он меньше 0.59"
   ]
  },
  {
   "cell_type": "code",
   "execution_count": 23,
   "metadata": {},
   "outputs": [
    {
     "data": {
      "text/plain": [
       "0    1261\n",
       "1    1119\n",
       "Name: Exited, dtype: int64"
      ]
     },
     "execution_count": 23,
     "metadata": {},
     "output_type": "execute_result"
    }
   ],
   "source": [
    "target_downsampled.value_counts()"
   ]
  },
  {
   "cell_type": "markdown",
   "metadata": {},
   "source": [
    "Данные для подсчета значения repeat"
   ]
  },
  {
   "cell_type": "markdown",
   "metadata": {},
   "source": [
    "#### Для случайного леса"
   ]
  },
  {
   "cell_type": "code",
   "execution_count": 24,
   "metadata": {},
   "outputs": [
    {
     "name": "stdout",
     "output_type": "stream",
     "text": [
      "F1: 0.6022727272727273\n",
      "\n",
      "auc_roc: 0.857110550415849\n"
     ]
    }
   ],
   "source": [
    "model = RandomForestClassifier(max_depth=10, random_state=12345)\n",
    "model.fit(features_downsampled, target_downsampled)\n",
    "predicted_valid = model.predict(features_valid)\n",
    "\n",
    "print(\"F1:\", f1_score(target_valid, predicted_valid))\n",
    "\n",
    "probabilities_valid = model.predict_proba(features_valid)\n",
    "probabilities_one_valid = probabilities_valid[:, 1]\n",
    "\n",
    "auc_roc = roc_auc_score(target_valid, probabilities_one_valid)\n",
    "\n",
    "print()\n",
    "print(f'auc_roc: {auc_roc}')"
   ]
  },
  {
   "cell_type": "markdown",
   "metadata": {},
   "source": [
    "На уменьшенной выборке у этой модели самые высокие показатели, что позволяет выбрать ее для тестововй модели"
   ]
  },
  {
   "cell_type": "markdown",
   "metadata": {},
   "source": [
    "#### Для дерева решений"
   ]
  },
  {
   "cell_type": "code",
   "execution_count": 25,
   "metadata": {},
   "outputs": [
    {
     "name": "stdout",
     "output_type": "stream",
     "text": [
      "F1: 0.5187376725838264\n",
      "\n",
      "auc_roc: 0.7780646668535651\n"
     ]
    }
   ],
   "source": [
    "model = DecisionTreeClassifier(max_depth=9, random_state=12345)\n",
    "model.fit(features_downsampled, target_downsampled)\n",
    "predicted_valid = model.predict(features_valid)\n",
    "\n",
    "print(\"F1:\", f1_score(target_valid, predicted_valid))\n",
    "\n",
    "probabilities_valid = model.predict_proba(features_valid)\n",
    "probabilities_one_valid = probabilities_valid[:, 1]\n",
    "\n",
    "auc_roc = roc_auc_score(target_valid, probabilities_one_valid)\n",
    "\n",
    "print()\n",
    "print(f'auc_roc: {auc_roc}')"
   ]
  },
  {
   "cell_type": "markdown",
   "metadata": {},
   "source": [
    "Показатели высокие, но не доходят до нужного результата"
   ]
  },
  {
   "cell_type": "markdown",
   "metadata": {},
   "source": [
    "## Тестирование модели"
   ]
  },
  {
   "cell_type": "markdown",
   "metadata": {},
   "source": [
    "<div class=\"alert alert-block alert-warning\">\n",
    "<b>Изменения:</b> исправила все пункты\n",
    "</div>"
   ]
  },
  {
   "cell_type": "code",
   "execution_count": 26,
   "metadata": {},
   "outputs": [
    {
     "name": "stdout",
     "output_type": "stream",
     "text": [
      "Результат на тестовой выборке: 0.5962566844919787\n",
      "\n",
      "auc_roc: 0.8503966641075434\n"
     ]
    }
   ],
   "source": [
    "model = RandomForestClassifier(random_state=12345, max_depth=9, class_weight='balanced')\n",
    "model.fit(features_train, target_train) \n",
    "predictions = model.predict(features_test)\n",
    "result = f1_score(target_test, predictions)\n",
    "print(f'Результат на тестовой выборке: {result}')\n",
    "\n",
    "probabilities_test = model.predict_proba(features_test)\n",
    "probabilities_one_test = probabilities_test[:, 1]\n",
    "\n",
    "auc_roc = roc_auc_score(target_test, probabilities_one_test)\n",
    "\n",
    "print()\n",
    "print(f'auc_roc: {auc_roc}')"
   ]
  },
  {
   "cell_type": "markdown",
   "metadata": {},
   "source": [
    "Случайный лес стал лучшей моделью, так как важный показатель f1 оказался больше, чем 0.59 на теренировочной выборке, что позволяет использовать ее и в дальнейшем. На тестовых данных модель также оказалась больше 0.59, а auc_roc близок к 1, то есть случайный лес действительно хорошо работает"
   ]
  },
  {
   "cell_type": "markdown",
   "metadata": {},
   "source": [
    "## Выводы"
   ]
  },
  {
   "cell_type": "markdown",
   "metadata": {},
   "source": [
    "1. На первом этапе данные были изучены и доработаны(отброшено лишнее и пропуски).\n",
    "2. При проверке моделей без учета дисбаланса удалось достигнуть 0.59 у дерева решений, но у случайного леса показатель не доходил до нужной отметки.\n",
    "3. При учете дисбаланса лучшие результаты показывал случайный лес при учеличении выборки. Случайный лес дошел до отметки 0.6, что позволило сделать выбор в пользу этой модели\n",
    "4. Итоговой моделью стал случайный лес, так как только у него на тестовой выборе получилось дойти до f1 больше, чем 0.59, а показатель auc_roc тоже получился достаточно высоким"
   ]
  }
 ],
 "metadata": {
  "ExecuteTimeLog": [
   {
    "duration": 1060,
    "start_time": "2023-08-26T05:32:07.769Z"
   },
   {
    "duration": 111,
    "start_time": "2023-08-26T05:32:08.831Z"
   },
   {
    "duration": 83,
    "start_time": "2023-08-26T05:32:18.506Z"
   },
   {
    "duration": 12,
    "start_time": "2023-08-26T05:32:19.787Z"
   },
   {
    "duration": 25,
    "start_time": "2023-08-26T05:32:22.813Z"
   },
   {
    "duration": 1683,
    "start_time": "2023-08-26T05:32:26.143Z"
   },
   {
    "duration": 14,
    "start_time": "2023-08-26T05:37:01.381Z"
   },
   {
    "duration": 3,
    "start_time": "2023-08-26T05:46:22.054Z"
   },
   {
    "duration": 40,
    "start_time": "2023-08-26T05:46:23.732Z"
   },
   {
    "duration": 12,
    "start_time": "2023-08-26T05:46:24.271Z"
   },
   {
    "duration": 14,
    "start_time": "2023-08-26T05:46:25.749Z"
   },
   {
    "duration": 1198,
    "start_time": "2023-08-26T05:46:26.502Z"
   },
   {
    "duration": 4,
    "start_time": "2023-08-26T05:46:28.774Z"
   },
   {
    "duration": 7,
    "start_time": "2023-08-26T05:46:30.240Z"
   },
   {
    "duration": 1240,
    "start_time": "2023-08-26T06:00:00.987Z"
   },
   {
    "duration": 0,
    "start_time": "2023-08-26T06:00:02.230Z"
   },
   {
    "duration": 0,
    "start_time": "2023-08-26T06:00:02.231Z"
   },
   {
    "duration": 0,
    "start_time": "2023-08-26T06:00:02.232Z"
   },
   {
    "duration": 0,
    "start_time": "2023-08-26T06:00:02.234Z"
   },
   {
    "duration": 0,
    "start_time": "2023-08-26T06:00:02.239Z"
   },
   {
    "duration": 0,
    "start_time": "2023-08-26T06:00:02.240Z"
   },
   {
    "duration": 0,
    "start_time": "2023-08-26T06:00:02.250Z"
   },
   {
    "duration": 1182,
    "start_time": "2023-08-26T06:00:48.680Z"
   },
   {
    "duration": 0,
    "start_time": "2023-08-26T06:00:49.864Z"
   },
   {
    "duration": 0,
    "start_time": "2023-08-26T06:00:49.866Z"
   },
   {
    "duration": 0,
    "start_time": "2023-08-26T06:00:49.867Z"
   },
   {
    "duration": 0,
    "start_time": "2023-08-26T06:00:49.869Z"
   },
   {
    "duration": 0,
    "start_time": "2023-08-26T06:00:49.870Z"
   },
   {
    "duration": 0,
    "start_time": "2023-08-26T06:00:49.871Z"
   },
   {
    "duration": 0,
    "start_time": "2023-08-26T06:00:49.872Z"
   },
   {
    "duration": 1122,
    "start_time": "2023-08-26T06:01:03.442Z"
   },
   {
    "duration": 41,
    "start_time": "2023-08-26T06:01:04.566Z"
   },
   {
    "duration": 13,
    "start_time": "2023-08-26T06:01:04.609Z"
   },
   {
    "duration": 37,
    "start_time": "2023-08-26T06:01:04.624Z"
   },
   {
    "duration": 1709,
    "start_time": "2023-08-26T06:01:04.663Z"
   },
   {
    "duration": 141,
    "start_time": "2023-08-26T06:01:06.374Z"
   },
   {
    "duration": 0,
    "start_time": "2023-08-26T06:01:06.516Z"
   },
   {
    "duration": 0,
    "start_time": "2023-08-26T06:01:06.517Z"
   },
   {
    "duration": 11,
    "start_time": "2023-08-26T06:01:41.832Z"
   },
   {
    "duration": 252,
    "start_time": "2023-08-26T06:02:08.427Z"
   },
   {
    "duration": 56,
    "start_time": "2023-08-26T06:02:09.904Z"
   },
   {
    "duration": 26,
    "start_time": "2023-08-26T06:02:12.515Z"
   },
   {
    "duration": 5,
    "start_time": "2023-08-26T06:04:43.412Z"
   },
   {
    "duration": 29,
    "start_time": "2023-08-26T06:04:52.946Z"
   },
   {
    "duration": 1096,
    "start_time": "2023-08-26T06:07:27.926Z"
   },
   {
    "duration": 43,
    "start_time": "2023-08-26T06:07:29.024Z"
   },
   {
    "duration": 13,
    "start_time": "2023-08-26T06:07:29.071Z"
   },
   {
    "duration": 31,
    "start_time": "2023-08-26T06:07:29.087Z"
   },
   {
    "duration": 1722,
    "start_time": "2023-08-26T06:07:29.121Z"
   },
   {
    "duration": 116,
    "start_time": "2023-08-26T06:07:30.845Z"
   },
   {
    "duration": 0,
    "start_time": "2023-08-26T06:07:30.963Z"
   },
   {
    "duration": 0,
    "start_time": "2023-08-26T06:07:30.964Z"
   },
   {
    "duration": 0,
    "start_time": "2023-08-26T06:07:30.965Z"
   },
   {
    "duration": 5,
    "start_time": "2023-08-26T06:07:49.612Z"
   },
   {
    "duration": 16,
    "start_time": "2023-08-26T06:07:51.940Z"
   },
   {
    "duration": 10,
    "start_time": "2023-08-26T06:07:52.902Z"
   },
   {
    "duration": 41,
    "start_time": "2023-08-26T06:07:54.763Z"
   },
   {
    "duration": 21,
    "start_time": "2023-08-26T06:08:51.740Z"
   },
   {
    "duration": 1100,
    "start_time": "2023-08-26T06:09:45.074Z"
   },
   {
    "duration": 42,
    "start_time": "2023-08-26T06:09:46.176Z"
   },
   {
    "duration": 13,
    "start_time": "2023-08-26T06:09:46.219Z"
   },
   {
    "duration": 28,
    "start_time": "2023-08-26T06:09:46.233Z"
   },
   {
    "duration": 1573,
    "start_time": "2023-08-26T06:09:46.263Z"
   },
   {
    "duration": 12,
    "start_time": "2023-08-26T06:09:47.838Z"
   },
   {
    "duration": 18,
    "start_time": "2023-08-26T06:09:47.851Z"
   },
   {
    "duration": 6,
    "start_time": "2023-08-26T06:09:47.871Z"
   },
   {
    "duration": 14,
    "start_time": "2023-08-26T06:09:47.879Z"
   },
   {
    "duration": 21,
    "start_time": "2023-08-26T06:09:58.738Z"
   },
   {
    "duration": 16,
    "start_time": "2023-08-26T06:10:04.610Z"
   },
   {
    "duration": 1068,
    "start_time": "2023-08-26T06:10:33.717Z"
   },
   {
    "duration": 41,
    "start_time": "2023-08-26T06:10:34.787Z"
   },
   {
    "duration": 13,
    "start_time": "2023-08-26T06:10:34.829Z"
   },
   {
    "duration": 25,
    "start_time": "2023-08-26T06:10:34.843Z"
   },
   {
    "duration": 1661,
    "start_time": "2023-08-26T06:10:34.869Z"
   },
   {
    "duration": 4,
    "start_time": "2023-08-26T06:10:36.533Z"
   },
   {
    "duration": 22,
    "start_time": "2023-08-26T06:10:36.539Z"
   },
   {
    "duration": 9,
    "start_time": "2023-08-26T06:10:36.562Z"
   },
   {
    "duration": 22,
    "start_time": "2023-08-26T06:10:36.573Z"
   },
   {
    "duration": 1141,
    "start_time": "2023-08-26T06:11:25.425Z"
   },
   {
    "duration": 40,
    "start_time": "2023-08-26T06:11:26.568Z"
   },
   {
    "duration": 11,
    "start_time": "2023-08-26T06:11:26.609Z"
   },
   {
    "duration": 21,
    "start_time": "2023-08-26T06:11:26.621Z"
   },
   {
    "duration": 1590,
    "start_time": "2023-08-26T06:11:26.643Z"
   },
   {
    "duration": 4,
    "start_time": "2023-08-26T06:11:28.235Z"
   },
   {
    "duration": 20,
    "start_time": "2023-08-26T06:11:28.241Z"
   },
   {
    "duration": 10,
    "start_time": "2023-08-26T06:11:28.262Z"
   },
   {
    "duration": 29,
    "start_time": "2023-08-26T06:11:28.274Z"
   },
   {
    "duration": 4,
    "start_time": "2023-08-26T06:12:16.478Z"
   },
   {
    "duration": 1133,
    "start_time": "2023-08-26T06:12:43.692Z"
   },
   {
    "duration": 40,
    "start_time": "2023-08-26T06:12:44.827Z"
   },
   {
    "duration": 12,
    "start_time": "2023-08-26T06:12:44.868Z"
   },
   {
    "duration": 20,
    "start_time": "2023-08-26T06:12:44.881Z"
   },
   {
    "duration": 1621,
    "start_time": "2023-08-26T06:12:44.902Z"
   },
   {
    "duration": 5,
    "start_time": "2023-08-26T06:12:46.524Z"
   },
   {
    "duration": 24,
    "start_time": "2023-08-26T06:12:46.530Z"
   },
   {
    "duration": 7,
    "start_time": "2023-08-26T06:12:46.556Z"
   },
   {
    "duration": 12,
    "start_time": "2023-08-26T06:12:46.564Z"
   },
   {
    "duration": 26,
    "start_time": "2023-08-26T06:12:46.577Z"
   },
   {
    "duration": 1076,
    "start_time": "2023-08-26T06:13:20.115Z"
   },
   {
    "duration": 40,
    "start_time": "2023-08-26T06:13:21.193Z"
   },
   {
    "duration": 13,
    "start_time": "2023-08-26T06:13:21.234Z"
   },
   {
    "duration": 29,
    "start_time": "2023-08-26T06:13:21.249Z"
   },
   {
    "duration": 1528,
    "start_time": "2023-08-26T06:13:21.280Z"
   },
   {
    "duration": 4,
    "start_time": "2023-08-26T06:13:22.810Z"
   },
   {
    "duration": 16,
    "start_time": "2023-08-26T06:13:22.816Z"
   },
   {
    "duration": 18,
    "start_time": "2023-08-26T06:13:22.834Z"
   },
   {
    "duration": 6,
    "start_time": "2023-08-26T06:13:22.853Z"
   },
   {
    "duration": 25,
    "start_time": "2023-08-26T06:13:22.861Z"
   },
   {
    "duration": 1130,
    "start_time": "2023-08-26T06:13:32.709Z"
   },
   {
    "duration": 41,
    "start_time": "2023-08-26T06:13:33.841Z"
   },
   {
    "duration": 12,
    "start_time": "2023-08-26T06:13:33.883Z"
   },
   {
    "duration": 20,
    "start_time": "2023-08-26T06:13:33.896Z"
   },
   {
    "duration": 1691,
    "start_time": "2023-08-26T06:13:33.918Z"
   },
   {
    "duration": 6,
    "start_time": "2023-08-26T06:13:35.612Z"
   },
   {
    "duration": 31,
    "start_time": "2023-08-26T06:13:35.619Z"
   },
   {
    "duration": 12,
    "start_time": "2023-08-26T06:13:35.652Z"
   },
   {
    "duration": 5,
    "start_time": "2023-08-26T06:13:35.667Z"
   },
   {
    "duration": 26,
    "start_time": "2023-08-26T06:13:35.674Z"
   },
   {
    "duration": 26,
    "start_time": "2023-08-26T06:18:28.007Z"
   },
   {
    "duration": 25,
    "start_time": "2023-08-26T06:18:48.038Z"
   },
   {
    "duration": 5,
    "start_time": "2023-08-26T06:19:27.035Z"
   },
   {
    "duration": 111,
    "start_time": "2023-08-26T06:26:00.080Z"
   },
   {
    "duration": 1052,
    "start_time": "2023-08-26T06:26:42.210Z"
   },
   {
    "duration": 40,
    "start_time": "2023-08-26T06:26:43.268Z"
   },
   {
    "duration": 11,
    "start_time": "2023-08-26T06:26:43.309Z"
   },
   {
    "duration": 19,
    "start_time": "2023-08-26T06:26:43.322Z"
   },
   {
    "duration": 1569,
    "start_time": "2023-08-26T06:26:43.343Z"
   },
   {
    "duration": 4,
    "start_time": "2023-08-26T06:26:44.913Z"
   },
   {
    "duration": 20,
    "start_time": "2023-08-26T06:26:44.919Z"
   },
   {
    "duration": 14,
    "start_time": "2023-08-26T06:26:44.941Z"
   },
   {
    "duration": 8,
    "start_time": "2023-08-26T06:26:44.959Z"
   },
   {
    "duration": 16,
    "start_time": "2023-08-26T06:26:44.969Z"
   },
   {
    "duration": 115,
    "start_time": "2023-08-26T06:26:44.986Z"
   },
   {
    "duration": 1107,
    "start_time": "2023-08-26T06:28:59.762Z"
   },
   {
    "duration": 44,
    "start_time": "2023-08-26T06:29:00.871Z"
   },
   {
    "duration": 22,
    "start_time": "2023-08-26T06:29:00.917Z"
   },
   {
    "duration": 52,
    "start_time": "2023-08-26T06:29:00.941Z"
   },
   {
    "duration": 1736,
    "start_time": "2023-08-26T06:29:00.995Z"
   },
   {
    "duration": 5,
    "start_time": "2023-08-26T06:29:02.733Z"
   },
   {
    "duration": 21,
    "start_time": "2023-08-26T06:29:02.749Z"
   },
   {
    "duration": 15,
    "start_time": "2023-08-26T06:29:02.773Z"
   },
   {
    "duration": 16,
    "start_time": "2023-08-26T06:29:02.790Z"
   },
   {
    "duration": 60,
    "start_time": "2023-08-26T06:29:02.807Z"
   },
   {
    "duration": 115,
    "start_time": "2023-08-26T06:29:02.869Z"
   },
   {
    "duration": 21,
    "start_time": "2023-08-26T06:33:35.902Z"
   },
   {
    "duration": 14,
    "start_time": "2023-08-26T06:39:53.082Z"
   },
   {
    "duration": 1063,
    "start_time": "2023-08-26T06:41:53.298Z"
   },
   {
    "duration": 42,
    "start_time": "2023-08-26T06:41:54.364Z"
   },
   {
    "duration": 12,
    "start_time": "2023-08-26T06:41:54.407Z"
   },
   {
    "duration": 20,
    "start_time": "2023-08-26T06:41:54.421Z"
   },
   {
    "duration": 1631,
    "start_time": "2023-08-26T06:41:54.442Z"
   },
   {
    "duration": 6,
    "start_time": "2023-08-26T06:41:56.075Z"
   },
   {
    "duration": 33,
    "start_time": "2023-08-26T06:41:56.083Z"
   },
   {
    "duration": 12,
    "start_time": "2023-08-26T06:41:56.118Z"
   },
   {
    "duration": 5,
    "start_time": "2023-08-26T06:41:56.132Z"
   },
   {
    "duration": 40,
    "start_time": "2023-08-26T06:41:56.140Z"
   },
   {
    "duration": 151,
    "start_time": "2023-08-26T06:41:56.182Z"
   },
   {
    "duration": 0,
    "start_time": "2023-08-26T06:41:56.335Z"
   },
   {
    "duration": 0,
    "start_time": "2023-08-26T06:41:56.337Z"
   },
   {
    "duration": 0,
    "start_time": "2023-08-26T06:41:56.338Z"
   },
   {
    "duration": 22,
    "start_time": "2023-08-26T06:42:47.549Z"
   },
   {
    "duration": 19,
    "start_time": "2023-08-26T06:42:53.979Z"
   },
   {
    "duration": 16,
    "start_time": "2023-08-26T06:42:56.725Z"
   },
   {
    "duration": 1059,
    "start_time": "2023-08-26T06:48:06.866Z"
   },
   {
    "duration": 54,
    "start_time": "2023-08-26T06:48:07.927Z"
   },
   {
    "duration": 12,
    "start_time": "2023-08-26T06:48:07.983Z"
   },
   {
    "duration": 23,
    "start_time": "2023-08-26T06:48:07.996Z"
   },
   {
    "duration": 1638,
    "start_time": "2023-08-26T06:48:08.021Z"
   },
   {
    "duration": 7,
    "start_time": "2023-08-26T06:48:09.661Z"
   },
   {
    "duration": 13,
    "start_time": "2023-08-26T06:48:09.669Z"
   },
   {
    "duration": 8,
    "start_time": "2023-08-26T06:48:09.683Z"
   },
   {
    "duration": 3,
    "start_time": "2023-08-26T06:48:09.693Z"
   },
   {
    "duration": 23,
    "start_time": "2023-08-26T06:48:09.698Z"
   },
   {
    "duration": 142,
    "start_time": "2023-08-26T06:48:09.722Z"
   },
   {
    "duration": 0,
    "start_time": "2023-08-26T06:48:09.868Z"
   },
   {
    "duration": 1,
    "start_time": "2023-08-26T06:48:09.869Z"
   },
   {
    "duration": 0,
    "start_time": "2023-08-26T06:48:09.870Z"
   },
   {
    "duration": 0,
    "start_time": "2023-08-26T06:48:09.871Z"
   },
   {
    "duration": 1107,
    "start_time": "2023-08-26T06:48:39.315Z"
   },
   {
    "duration": 46,
    "start_time": "2023-08-26T06:48:40.424Z"
   },
   {
    "duration": 17,
    "start_time": "2023-08-26T06:48:40.472Z"
   },
   {
    "duration": 21,
    "start_time": "2023-08-26T06:48:40.491Z"
   },
   {
    "duration": 1728,
    "start_time": "2023-08-26T06:48:40.514Z"
   },
   {
    "duration": 5,
    "start_time": "2023-08-26T06:48:42.258Z"
   },
   {
    "duration": 20,
    "start_time": "2023-08-26T06:48:42.265Z"
   },
   {
    "duration": 6,
    "start_time": "2023-08-26T06:48:42.287Z"
   },
   {
    "duration": 7,
    "start_time": "2023-08-26T06:48:42.294Z"
   },
   {
    "duration": 28,
    "start_time": "2023-08-26T06:48:42.304Z"
   },
   {
    "duration": 140,
    "start_time": "2023-08-26T06:48:42.334Z"
   },
   {
    "duration": 0,
    "start_time": "2023-08-26T06:48:42.476Z"
   },
   {
    "duration": 0,
    "start_time": "2023-08-26T06:48:42.479Z"
   },
   {
    "duration": 0,
    "start_time": "2023-08-26T06:48:42.480Z"
   },
   {
    "duration": 0,
    "start_time": "2023-08-26T06:48:42.481Z"
   },
   {
    "duration": 1090,
    "start_time": "2023-08-26T06:49:08.187Z"
   },
   {
    "duration": 40,
    "start_time": "2023-08-26T06:49:09.279Z"
   },
   {
    "duration": 11,
    "start_time": "2023-08-26T06:49:09.321Z"
   },
   {
    "duration": 32,
    "start_time": "2023-08-26T06:49:09.334Z"
   },
   {
    "duration": 1672,
    "start_time": "2023-08-26T06:49:09.367Z"
   },
   {
    "duration": 5,
    "start_time": "2023-08-26T06:49:11.041Z"
   },
   {
    "duration": 19,
    "start_time": "2023-08-26T06:49:11.053Z"
   },
   {
    "duration": 5,
    "start_time": "2023-08-26T06:49:11.074Z"
   },
   {
    "duration": 4,
    "start_time": "2023-08-26T06:49:11.081Z"
   },
   {
    "duration": 21,
    "start_time": "2023-08-26T06:49:11.087Z"
   },
   {
    "duration": 131,
    "start_time": "2023-08-26T06:49:11.110Z"
   },
   {
    "duration": 0,
    "start_time": "2023-08-26T06:49:11.243Z"
   },
   {
    "duration": 0,
    "start_time": "2023-08-26T06:49:11.244Z"
   },
   {
    "duration": 0,
    "start_time": "2023-08-26T06:49:11.249Z"
   },
   {
    "duration": 0,
    "start_time": "2023-08-26T06:49:11.249Z"
   },
   {
    "duration": 8,
    "start_time": "2023-08-26T06:50:30.514Z"
   },
   {
    "duration": 4,
    "start_time": "2023-08-26T06:50:31.109Z"
   },
   {
    "duration": 26,
    "start_time": "2023-08-26T06:50:33.078Z"
   },
   {
    "duration": 26,
    "start_time": "2023-08-26T06:50:36.055Z"
   },
   {
    "duration": 18,
    "start_time": "2023-08-26T06:50:56.673Z"
   },
   {
    "duration": 27,
    "start_time": "2023-08-26T07:06:42.149Z"
   },
   {
    "duration": 3922,
    "start_time": "2023-08-26T12:31:46.172Z"
   },
   {
    "duration": 187,
    "start_time": "2023-08-26T12:31:50.096Z"
   },
   {
    "duration": 15,
    "start_time": "2023-08-26T12:31:50.286Z"
   },
   {
    "duration": 40,
    "start_time": "2023-08-26T12:31:50.303Z"
   },
   {
    "duration": 2217,
    "start_time": "2023-08-26T12:31:50.345Z"
   },
   {
    "duration": 5,
    "start_time": "2023-08-26T12:31:52.565Z"
   },
   {
    "duration": 19,
    "start_time": "2023-08-26T12:31:52.572Z"
   },
   {
    "duration": 10,
    "start_time": "2023-08-26T12:31:52.594Z"
   },
   {
    "duration": 4,
    "start_time": "2023-08-26T12:31:52.606Z"
   },
   {
    "duration": 70,
    "start_time": "2023-08-26T12:31:52.612Z"
   },
   {
    "duration": 133,
    "start_time": "2023-08-26T12:31:52.684Z"
   },
   {
    "duration": 0,
    "start_time": "2023-08-26T12:31:52.819Z"
   },
   {
    "duration": 0,
    "start_time": "2023-08-26T12:31:52.821Z"
   },
   {
    "duration": 0,
    "start_time": "2023-08-26T12:31:52.822Z"
   },
   {
    "duration": 0,
    "start_time": "2023-08-26T12:31:52.823Z"
   },
   {
    "duration": 0,
    "start_time": "2023-08-26T12:31:52.825Z"
   },
   {
    "duration": 1,
    "start_time": "2023-08-26T12:31:52.826Z"
   },
   {
    "duration": 0,
    "start_time": "2023-08-26T12:31:52.828Z"
   },
   {
    "duration": 0,
    "start_time": "2023-08-26T12:31:52.829Z"
   },
   {
    "duration": 4,
    "start_time": "2023-08-26T12:33:00.445Z"
   },
   {
    "duration": 85,
    "start_time": "2023-08-26T12:33:00.451Z"
   },
   {
    "duration": 55,
    "start_time": "2023-08-26T12:33:00.538Z"
   },
   {
    "duration": 65,
    "start_time": "2023-08-26T12:33:00.595Z"
   },
   {
    "duration": 1768,
    "start_time": "2023-08-26T12:33:00.662Z"
   },
   {
    "duration": 5,
    "start_time": "2023-08-26T12:33:02.433Z"
   },
   {
    "duration": 45,
    "start_time": "2023-08-26T12:33:02.440Z"
   },
   {
    "duration": 18,
    "start_time": "2023-08-26T12:33:02.487Z"
   },
   {
    "duration": 6,
    "start_time": "2023-08-26T12:33:02.508Z"
   },
   {
    "duration": 66,
    "start_time": "2023-08-26T12:33:02.517Z"
   },
   {
    "duration": 20,
    "start_time": "2023-08-26T12:36:38.333Z"
   },
   {
    "duration": 119,
    "start_time": "2023-08-26T12:36:42.334Z"
   },
   {
    "duration": 9,
    "start_time": "2023-08-26T12:36:44.170Z"
   },
   {
    "duration": 1152,
    "start_time": "2023-08-26T16:42:42.533Z"
   },
   {
    "duration": 82,
    "start_time": "2023-08-26T16:42:43.686Z"
   },
   {
    "duration": 12,
    "start_time": "2023-08-26T16:42:43.854Z"
   },
   {
    "duration": 22,
    "start_time": "2023-08-26T16:42:44.850Z"
   },
   {
    "duration": 1792,
    "start_time": "2023-08-26T16:42:45.438Z"
   },
   {
    "duration": 4,
    "start_time": "2023-08-26T16:42:47.924Z"
   },
   {
    "duration": 8,
    "start_time": "2023-08-26T16:42:49.650Z"
   },
   {
    "duration": 8,
    "start_time": "2023-08-26T16:43:05.935Z"
   },
   {
    "duration": 13,
    "start_time": "2023-08-26T16:43:10.391Z"
   },
   {
    "duration": 19,
    "start_time": "2023-08-26T16:44:09.210Z"
   },
   {
    "duration": 12,
    "start_time": "2023-08-26T16:44:10.459Z"
   },
   {
    "duration": 5,
    "start_time": "2023-08-26T16:44:11.134Z"
   },
   {
    "duration": 40,
    "start_time": "2023-08-26T16:44:15.666Z"
   },
   {
    "duration": 105,
    "start_time": "2023-08-26T16:44:28.819Z"
   },
   {
    "duration": 15,
    "start_time": "2023-08-26T16:44:49.578Z"
   },
   {
    "duration": 1047,
    "start_time": "2023-08-26T16:45:20.372Z"
   },
   {
    "duration": 18,
    "start_time": "2023-08-26T16:45:25.606Z"
   },
   {
    "duration": 263,
    "start_time": "2023-08-26T16:45:41.289Z"
   },
   {
    "duration": 266,
    "start_time": "2023-08-26T16:46:10.830Z"
   },
   {
    "duration": 1094,
    "start_time": "2023-08-26T16:46:59.494Z"
   },
   {
    "duration": 40,
    "start_time": "2023-08-26T16:47:00.591Z"
   },
   {
    "duration": 24,
    "start_time": "2023-08-26T16:47:00.633Z"
   },
   {
    "duration": 60,
    "start_time": "2023-08-26T16:47:00.660Z"
   },
   {
    "duration": 1624,
    "start_time": "2023-08-26T16:47:00.722Z"
   },
   {
    "duration": 4,
    "start_time": "2023-08-26T16:47:02.348Z"
   },
   {
    "duration": 23,
    "start_time": "2023-08-26T16:47:02.354Z"
   },
   {
    "duration": 32,
    "start_time": "2023-08-26T16:47:02.379Z"
   },
   {
    "duration": 37,
    "start_time": "2023-08-26T16:47:02.413Z"
   },
   {
    "duration": 37,
    "start_time": "2023-08-26T16:47:02.453Z"
   },
   {
    "duration": 45,
    "start_time": "2023-08-26T16:47:02.491Z"
   },
   {
    "duration": 57,
    "start_time": "2023-08-26T16:47:02.538Z"
   },
   {
    "duration": 1083,
    "start_time": "2023-08-26T16:47:02.597Z"
   },
   {
    "duration": 285,
    "start_time": "2023-08-26T16:47:03.682Z"
   },
   {
    "duration": 1156,
    "start_time": "2023-08-26T16:47:03.968Z"
   },
   {
    "duration": 118,
    "start_time": "2023-08-26T16:47:05.126Z"
   },
   {
    "duration": 0,
    "start_time": "2023-08-26T16:47:05.245Z"
   },
   {
    "duration": 0,
    "start_time": "2023-08-26T16:47:05.247Z"
   },
   {
    "duration": 0,
    "start_time": "2023-08-26T16:47:05.248Z"
   },
   {
    "duration": 0,
    "start_time": "2023-08-26T16:47:05.249Z"
   },
   {
    "duration": 0,
    "start_time": "2023-08-26T16:47:05.250Z"
   },
   {
    "duration": 297,
    "start_time": "2023-08-26T16:47:32.248Z"
   },
   {
    "duration": 174,
    "start_time": "2023-08-26T16:47:35.165Z"
   },
   {
    "duration": 68,
    "start_time": "2023-08-26T16:47:43.272Z"
   },
   {
    "duration": 70,
    "start_time": "2023-08-26T16:49:03.074Z"
   },
   {
    "duration": 27,
    "start_time": "2023-08-26T16:49:12.106Z"
   },
   {
    "duration": 332,
    "start_time": "2023-08-26T16:49:21.956Z"
   },
   {
    "duration": 54,
    "start_time": "2023-08-26T16:59:48.191Z"
   },
   {
    "duration": 28,
    "start_time": "2023-08-26T16:59:52.914Z"
   },
   {
    "duration": 25,
    "start_time": "2023-08-26T16:59:57.358Z"
   },
   {
    "duration": 105,
    "start_time": "2023-08-26T17:00:04.235Z"
   },
   {
    "duration": 466,
    "start_time": "2023-08-26T17:00:10.668Z"
   },
   {
    "duration": 6,
    "start_time": "2023-08-26T17:00:29.527Z"
   },
   {
    "duration": 27184,
    "start_time": "2023-08-26T17:00:45.561Z"
   },
   {
    "duration": 17,
    "start_time": "2023-08-26T17:07:07.568Z"
   },
   {
    "duration": 88,
    "start_time": "2023-08-26T17:07:17.757Z"
   },
   {
    "duration": 29,
    "start_time": "2023-08-26T17:07:23.546Z"
   },
   {
    "duration": 85,
    "start_time": "2023-08-26T17:07:30.451Z"
   },
   {
    "duration": 91,
    "start_time": "2023-08-26T17:07:36.756Z"
   },
   {
    "duration": 124,
    "start_time": "2023-08-26T17:07:45.811Z"
   },
   {
    "duration": 4666,
    "start_time": "2023-08-26T17:07:54.773Z"
   },
   {
    "duration": 2509,
    "start_time": "2023-08-26T17:08:12.541Z"
   },
   {
    "duration": 9,
    "start_time": "2023-08-26T17:08:22.311Z"
   },
   {
    "duration": 86,
    "start_time": "2023-08-26T17:09:24.852Z"
   },
   {
    "duration": 51,
    "start_time": "2023-08-26T17:11:23.685Z"
   },
   {
    "duration": 29,
    "start_time": "2023-08-26T17:11:27.552Z"
   },
   {
    "duration": 18,
    "start_time": "2023-08-26T17:11:36.955Z"
   },
   {
    "duration": 27,
    "start_time": "2023-08-26T17:11:46.446Z"
   },
   {
    "duration": 26,
    "start_time": "2023-08-26T17:11:54.112Z"
   },
   {
    "duration": 24,
    "start_time": "2023-08-26T17:12:28.151Z"
   },
   {
    "duration": 76,
    "start_time": "2023-08-26T17:12:33.462Z"
   },
   {
    "duration": 28,
    "start_time": "2023-08-26T17:12:39.207Z"
   },
   {
    "duration": 34,
    "start_time": "2023-08-26T17:12:43.272Z"
   },
   {
    "duration": 32,
    "start_time": "2023-08-26T17:12:48.688Z"
   },
   {
    "duration": 80,
    "start_time": "2023-08-26T17:12:54.055Z"
   },
   {
    "duration": 29,
    "start_time": "2023-08-26T17:13:01.071Z"
   },
   {
    "duration": 31,
    "start_time": "2023-08-26T17:13:05.269Z"
   },
   {
    "duration": 34,
    "start_time": "2023-08-26T17:13:11.626Z"
   },
   {
    "duration": 65,
    "start_time": "2023-08-26T17:13:19.181Z"
   },
   {
    "duration": 108,
    "start_time": "2023-08-26T17:14:11.628Z"
   },
   {
    "duration": 41,
    "start_time": "2023-08-26T17:14:21.111Z"
   },
   {
    "duration": 98,
    "start_time": "2023-08-26T17:14:27.444Z"
   },
   {
    "duration": 30,
    "start_time": "2023-08-26T17:14:32.252Z"
   },
   {
    "duration": 39,
    "start_time": "2023-08-26T17:14:37.119Z"
   },
   {
    "duration": 29,
    "start_time": "2023-08-26T17:14:42.650Z"
   },
   {
    "duration": 62,
    "start_time": "2023-08-26T17:14:46.572Z"
   },
   {
    "duration": 116,
    "start_time": "2023-08-26T17:14:54.118Z"
   },
   {
    "duration": 36,
    "start_time": "2023-08-26T17:14:59.304Z"
   },
   {
    "duration": 64,
    "start_time": "2023-08-26T17:15:03.970Z"
   },
   {
    "duration": 29,
    "start_time": "2023-08-26T17:15:08.254Z"
   },
   {
    "duration": 29,
    "start_time": "2023-08-26T17:15:14.302Z"
   },
   {
    "duration": 84,
    "start_time": "2023-08-26T17:15:19.349Z"
   },
   {
    "duration": 44,
    "start_time": "2023-08-26T17:15:26.100Z"
   },
   {
    "duration": 58,
    "start_time": "2023-08-26T17:15:30.279Z"
   },
   {
    "duration": 129,
    "start_time": "2023-08-26T17:15:34.905Z"
   },
   {
    "duration": 89,
    "start_time": "2023-08-26T17:15:53.951Z"
   },
   {
    "duration": 101,
    "start_time": "2023-08-26T17:16:18.452Z"
   },
   {
    "duration": 405,
    "start_time": "2023-08-26T17:16:24.175Z"
   },
   {
    "duration": 53,
    "start_time": "2023-08-26T17:16:31.395Z"
   },
   {
    "duration": 402,
    "start_time": "2023-08-26T17:16:37.047Z"
   },
   {
    "duration": 342,
    "start_time": "2023-08-26T17:16:50.604Z"
   },
   {
    "duration": 270,
    "start_time": "2023-08-26T17:17:03.571Z"
   },
   {
    "duration": 488,
    "start_time": "2023-08-26T17:17:11.852Z"
   },
   {
    "duration": 395,
    "start_time": "2023-08-26T17:17:26.347Z"
   },
   {
    "duration": 325,
    "start_time": "2023-08-26T17:17:33.810Z"
   },
   {
    "duration": 382,
    "start_time": "2023-08-26T17:17:38.781Z"
   },
   {
    "duration": 5017,
    "start_time": "2023-08-26T17:17:47.029Z"
   },
   {
    "duration": 363,
    "start_time": "2023-08-26T17:18:06.382Z"
   },
   {
    "duration": 27,
    "start_time": "2023-08-26T17:18:57.326Z"
   },
   {
    "duration": 42,
    "start_time": "2023-08-26T17:19:39.772Z"
   },
   {
    "duration": 49,
    "start_time": "2023-08-26T17:19:44.533Z"
   },
   {
    "duration": 30,
    "start_time": "2023-08-26T17:20:09.504Z"
   },
   {
    "duration": 30,
    "start_time": "2023-08-26T17:20:28.988Z"
   },
   {
    "duration": 28,
    "start_time": "2023-08-26T17:20:54.624Z"
   },
   {
    "duration": 11,
    "start_time": "2023-08-26T17:22:03.272Z"
   },
   {
    "duration": 684,
    "start_time": "2023-08-26T17:23:39.682Z"
   },
   {
    "duration": 24,
    "start_time": "2023-08-26T17:24:03.849Z"
   },
   {
    "duration": 38,
    "start_time": "2023-08-26T17:24:28.378Z"
   },
   {
    "duration": 34,
    "start_time": "2023-08-26T17:24:37.235Z"
   },
   {
    "duration": 32,
    "start_time": "2023-08-26T17:24:45.118Z"
   },
   {
    "duration": 11,
    "start_time": "2023-08-26T17:26:28.660Z"
   },
   {
    "duration": 26,
    "start_time": "2023-08-26T17:26:38.650Z"
   },
   {
    "duration": 458,
    "start_time": "2023-08-26T17:26:55.524Z"
   },
   {
    "duration": 62,
    "start_time": "2023-08-26T17:27:47.123Z"
   },
   {
    "duration": 106,
    "start_time": "2023-08-26T17:27:57.959Z"
   },
   {
    "duration": 34,
    "start_time": "2023-08-26T17:28:07.419Z"
   },
   {
    "duration": 57,
    "start_time": "2023-08-26T17:28:12.152Z"
   },
   {
    "duration": 458,
    "start_time": "2023-08-26T17:28:17.465Z"
   },
   {
    "duration": 22,
    "start_time": "2023-08-26T17:33:56.325Z"
   },
   {
    "duration": 22,
    "start_time": "2023-08-26T17:34:22.823Z"
   },
   {
    "duration": 1072,
    "start_time": "2023-08-26T17:34:39.438Z"
   },
   {
    "duration": 40,
    "start_time": "2023-08-26T17:34:40.511Z"
   },
   {
    "duration": 11,
    "start_time": "2023-08-26T17:34:40.552Z"
   },
   {
    "duration": 50,
    "start_time": "2023-08-26T17:34:40.565Z"
   },
   {
    "duration": 1589,
    "start_time": "2023-08-26T17:34:40.616Z"
   },
   {
    "duration": 4,
    "start_time": "2023-08-26T17:34:42.207Z"
   },
   {
    "duration": 9,
    "start_time": "2023-08-26T17:34:42.213Z"
   },
   {
    "duration": 17,
    "start_time": "2023-08-26T17:34:42.224Z"
   },
   {
    "duration": 19,
    "start_time": "2023-08-26T17:34:42.242Z"
   },
   {
    "duration": 7,
    "start_time": "2023-08-26T17:34:42.264Z"
   },
   {
    "duration": 6,
    "start_time": "2023-08-26T17:34:42.273Z"
   },
   {
    "duration": 32,
    "start_time": "2023-08-26T17:34:42.280Z"
   },
   {
    "duration": 1078,
    "start_time": "2023-08-26T17:34:42.333Z"
   },
   {
    "duration": 684,
    "start_time": "2023-08-26T17:34:43.413Z"
   },
   {
    "duration": 40063,
    "start_time": "2023-08-26T17:34:44.098Z"
   },
   {
    "duration": 311,
    "start_time": "2023-08-26T17:35:24.163Z"
   },
   {
    "duration": 66,
    "start_time": "2023-08-26T17:35:24.476Z"
   },
   {
    "duration": 496,
    "start_time": "2023-08-26T17:35:24.544Z"
   },
   {
    "duration": 196,
    "start_time": "2023-08-26T17:35:25.044Z"
   },
   {
    "duration": 632,
    "start_time": "2023-08-26T17:35:25.241Z"
   },
   {
    "duration": 279,
    "start_time": "2023-08-26T17:36:45.194Z"
   },
   {
    "duration": 1058,
    "start_time": "2023-08-26T17:37:20.779Z"
   },
   {
    "duration": 40,
    "start_time": "2023-08-26T17:37:21.839Z"
   },
   {
    "duration": 12,
    "start_time": "2023-08-26T17:37:21.881Z"
   },
   {
    "duration": 25,
    "start_time": "2023-08-26T17:37:21.895Z"
   },
   {
    "duration": 1713,
    "start_time": "2023-08-26T17:37:21.921Z"
   },
   {
    "duration": 5,
    "start_time": "2023-08-26T17:37:23.635Z"
   },
   {
    "duration": 36,
    "start_time": "2023-08-26T17:37:23.641Z"
   },
   {
    "duration": 24,
    "start_time": "2023-08-26T17:37:23.679Z"
   },
   {
    "duration": 18,
    "start_time": "2023-08-26T17:37:23.705Z"
   },
   {
    "duration": 16,
    "start_time": "2023-08-26T17:37:23.725Z"
   },
   {
    "duration": 15,
    "start_time": "2023-08-26T17:37:23.742Z"
   },
   {
    "duration": 50,
    "start_time": "2023-08-26T17:37:23.758Z"
   },
   {
    "duration": 1049,
    "start_time": "2023-08-26T17:37:23.810Z"
   },
   {
    "duration": 710,
    "start_time": "2023-08-26T17:37:24.860Z"
   },
   {
    "duration": 3026,
    "start_time": "2023-08-26T17:37:25.572Z"
   },
   {
    "duration": 86,
    "start_time": "2023-08-26T17:37:28.599Z"
   },
   {
    "duration": 0,
    "start_time": "2023-08-26T17:37:28.687Z"
   },
   {
    "duration": 0,
    "start_time": "2023-08-26T17:37:28.688Z"
   },
   {
    "duration": 0,
    "start_time": "2023-08-26T17:37:28.689Z"
   },
   {
    "duration": 0,
    "start_time": "2023-08-26T17:37:28.690Z"
   },
   {
    "duration": 0,
    "start_time": "2023-08-26T17:37:28.691Z"
   },
   {
    "duration": 306,
    "start_time": "2023-08-26T17:37:39.660Z"
   },
   {
    "duration": 1095,
    "start_time": "2023-08-26T17:41:22.977Z"
   },
   {
    "duration": 52,
    "start_time": "2023-08-26T17:41:24.076Z"
   },
   {
    "duration": 24,
    "start_time": "2023-08-26T17:41:24.130Z"
   },
   {
    "duration": 32,
    "start_time": "2023-08-26T17:41:24.158Z"
   },
   {
    "duration": 1823,
    "start_time": "2023-08-26T17:41:24.192Z"
   },
   {
    "duration": 6,
    "start_time": "2023-08-26T17:41:26.017Z"
   },
   {
    "duration": 24,
    "start_time": "2023-08-26T17:41:26.034Z"
   },
   {
    "duration": 10,
    "start_time": "2023-08-26T17:41:26.060Z"
   },
   {
    "duration": 19,
    "start_time": "2023-08-26T17:41:26.072Z"
   },
   {
    "duration": 19,
    "start_time": "2023-08-26T17:41:26.095Z"
   },
   {
    "duration": 16,
    "start_time": "2023-08-26T17:41:26.116Z"
   },
   {
    "duration": 30,
    "start_time": "2023-08-26T17:41:26.137Z"
   },
   {
    "duration": 1055,
    "start_time": "2023-08-26T17:41:26.169Z"
   },
   {
    "duration": 715,
    "start_time": "2023-08-26T17:41:27.225Z"
   },
   {
    "duration": 84,
    "start_time": "2023-08-26T17:41:27.941Z"
   },
   {
    "duration": 1,
    "start_time": "2023-08-26T17:41:28.026Z"
   },
   {
    "duration": 0,
    "start_time": "2023-08-26T17:41:28.028Z"
   },
   {
    "duration": 0,
    "start_time": "2023-08-26T17:41:28.030Z"
   },
   {
    "duration": 0,
    "start_time": "2023-08-26T17:41:28.032Z"
   },
   {
    "duration": 0,
    "start_time": "2023-08-26T17:41:28.033Z"
   },
   {
    "duration": 1112,
    "start_time": "2023-08-26T17:41:49.051Z"
   },
   {
    "duration": 42,
    "start_time": "2023-08-26T17:41:50.165Z"
   },
   {
    "duration": 14,
    "start_time": "2023-08-26T17:41:50.208Z"
   },
   {
    "duration": 34,
    "start_time": "2023-08-26T17:41:50.223Z"
   },
   {
    "duration": 1765,
    "start_time": "2023-08-26T17:41:50.260Z"
   },
   {
    "duration": 11,
    "start_time": "2023-08-26T17:41:52.027Z"
   },
   {
    "duration": 21,
    "start_time": "2023-08-26T17:41:52.040Z"
   },
   {
    "duration": 18,
    "start_time": "2023-08-26T17:41:52.063Z"
   },
   {
    "duration": 21,
    "start_time": "2023-08-26T17:41:52.083Z"
   },
   {
    "duration": 8,
    "start_time": "2023-08-26T17:41:52.105Z"
   },
   {
    "duration": 7,
    "start_time": "2023-08-26T17:41:52.115Z"
   },
   {
    "duration": 47,
    "start_time": "2023-08-26T17:41:52.124Z"
   },
   {
    "duration": 1205,
    "start_time": "2023-08-26T17:41:52.172Z"
   },
   {
    "duration": 744,
    "start_time": "2023-08-26T17:41:53.379Z"
   },
   {
    "duration": 2186,
    "start_time": "2023-08-26T17:41:54.125Z"
   },
   {
    "duration": 313,
    "start_time": "2023-08-26T17:41:56.313Z"
   },
   {
    "duration": 196,
    "start_time": "2023-08-26T17:41:56.641Z"
   },
   {
    "duration": 496,
    "start_time": "2023-08-26T17:41:56.840Z"
   },
   {
    "duration": 209,
    "start_time": "2023-08-26T17:41:57.338Z"
   },
   {
    "duration": 659,
    "start_time": "2023-08-26T17:41:57.552Z"
   },
   {
    "duration": 57,
    "start_time": "2023-08-27T04:32:14.582Z"
   },
   {
    "duration": 1103,
    "start_time": "2023-08-27T04:39:27.346Z"
   },
   {
    "duration": 82,
    "start_time": "2023-08-27T04:39:28.451Z"
   },
   {
    "duration": 14,
    "start_time": "2023-08-27T04:39:28.535Z"
   },
   {
    "duration": 24,
    "start_time": "2023-08-27T04:39:28.551Z"
   },
   {
    "duration": 1895,
    "start_time": "2023-08-27T04:39:28.577Z"
   },
   {
    "duration": 5,
    "start_time": "2023-08-27T04:39:30.475Z"
   },
   {
    "duration": 55,
    "start_time": "2023-08-27T04:39:30.482Z"
   },
   {
    "duration": 62,
    "start_time": "2023-08-27T04:39:30.539Z"
   },
   {
    "duration": 36,
    "start_time": "2023-08-27T04:39:30.603Z"
   },
   {
    "duration": 34,
    "start_time": "2023-08-27T04:39:30.642Z"
   },
   {
    "duration": 26,
    "start_time": "2023-08-27T04:39:30.678Z"
   },
   {
    "duration": 56,
    "start_time": "2023-08-27T04:39:30.705Z"
   },
   {
    "duration": 1124,
    "start_time": "2023-08-27T04:39:30.763Z"
   },
   {
    "duration": 759,
    "start_time": "2023-08-27T04:39:31.889Z"
   },
   {
    "duration": 2086,
    "start_time": "2023-08-27T04:39:32.649Z"
   },
   {
    "duration": 321,
    "start_time": "2023-08-27T04:39:34.737Z"
   },
   {
    "duration": 143,
    "start_time": "2023-08-27T04:39:35.059Z"
   },
   {
    "duration": 201,
    "start_time": "2023-08-27T04:39:35.206Z"
   },
   {
    "duration": 293,
    "start_time": "2023-08-27T04:39:35.409Z"
   },
   {
    "duration": 758,
    "start_time": "2023-08-27T04:39:35.704Z"
   },
   {
    "duration": 6,
    "start_time": "2023-08-27T04:40:46.569Z"
   },
   {
    "duration": 1176,
    "start_time": "2023-08-27T04:40:56.730Z"
   },
   {
    "duration": 44,
    "start_time": "2023-08-27T04:40:57.908Z"
   },
   {
    "duration": 14,
    "start_time": "2023-08-27T04:40:57.953Z"
   },
   {
    "duration": 23,
    "start_time": "2023-08-27T04:40:57.969Z"
   },
   {
    "duration": 1809,
    "start_time": "2023-08-27T04:40:57.994Z"
   },
   {
    "duration": 5,
    "start_time": "2023-08-27T04:40:59.805Z"
   },
   {
    "duration": 8,
    "start_time": "2023-08-27T04:40:59.811Z"
   },
   {
    "duration": 13,
    "start_time": "2023-08-27T04:40:59.821Z"
   },
   {
    "duration": 12,
    "start_time": "2023-08-27T04:40:59.836Z"
   },
   {
    "duration": 7,
    "start_time": "2023-08-27T04:40:59.851Z"
   },
   {
    "duration": 12,
    "start_time": "2023-08-27T04:40:59.860Z"
   },
   {
    "duration": 49,
    "start_time": "2023-08-27T04:40:59.874Z"
   },
   {
    "duration": 1156,
    "start_time": "2023-08-27T04:40:59.925Z"
   },
   {
    "duration": 795,
    "start_time": "2023-08-27T04:41:01.083Z"
   },
   {
    "duration": 2154,
    "start_time": "2023-08-27T04:41:01.880Z"
   },
   {
    "duration": 343,
    "start_time": "2023-08-27T04:41:04.036Z"
   },
   {
    "duration": 45,
    "start_time": "2023-08-27T04:41:04.381Z"
   },
   {
    "duration": 200,
    "start_time": "2023-08-27T04:41:04.503Z"
   },
   {
    "duration": 96,
    "start_time": "2023-08-27T04:41:04.706Z"
   },
   {
    "duration": 98,
    "start_time": "2023-08-27T04:41:04.804Z"
   },
   {
    "duration": 753,
    "start_time": "2023-08-27T04:41:04.905Z"
   },
   {
    "duration": 18,
    "start_time": "2023-08-27T04:42:26.683Z"
   },
   {
    "duration": 31,
    "start_time": "2023-08-27T04:42:32.261Z"
   },
   {
    "duration": 17,
    "start_time": "2023-08-27T04:42:39.066Z"
   },
   {
    "duration": 18,
    "start_time": "2023-08-27T04:42:43.367Z"
   },
   {
    "duration": 55,
    "start_time": "2023-08-27T04:42:46.851Z"
   },
   {
    "duration": 29,
    "start_time": "2023-08-27T04:42:51.493Z"
   },
   {
    "duration": 115,
    "start_time": "2023-08-27T04:42:55.390Z"
   },
   {
    "duration": 103,
    "start_time": "2023-08-27T04:43:00.399Z"
   },
   {
    "duration": 99,
    "start_time": "2023-08-27T04:43:05.603Z"
   },
   {
    "duration": 310,
    "start_time": "2023-08-27T04:43:10.406Z"
   },
   {
    "duration": 45,
    "start_time": "2023-08-27T04:43:15.559Z"
   },
   {
    "duration": 48,
    "start_time": "2023-08-27T04:43:19.163Z"
   },
   {
    "duration": 11,
    "start_time": "2023-08-27T04:46:50.805Z"
   },
   {
    "duration": 338,
    "start_time": "2023-08-27T04:47:01.974Z"
   },
   {
    "duration": 20,
    "start_time": "2023-08-27T04:47:59.451Z"
   },
   {
    "duration": 30,
    "start_time": "2023-08-27T04:48:12.882Z"
   },
   {
    "duration": 60,
    "start_time": "2023-08-27T04:48:19.047Z"
   },
   {
    "duration": 5,
    "start_time": "2023-08-27T04:54:10.480Z"
   },
   {
    "duration": 20,
    "start_time": "2023-08-27T04:55:04.982Z"
   },
   {
    "duration": 29,
    "start_time": "2023-08-27T04:55:27.700Z"
   },
   {
    "duration": 30,
    "start_time": "2023-08-27T04:55:35.499Z"
   },
   {
    "duration": 19,
    "start_time": "2023-08-27T05:08:33.003Z"
   },
   {
    "duration": 52,
    "start_time": "2023-08-27T05:08:39.834Z"
   },
   {
    "duration": 7,
    "start_time": "2023-08-27T05:08:43.470Z"
   },
   {
    "duration": 47,
    "start_time": "2023-08-27T05:08:51.171Z"
   },
   {
    "duration": 43,
    "start_time": "2023-08-27T05:08:56.479Z"
   },
   {
    "duration": 20,
    "start_time": "2023-08-27T05:09:02.814Z"
   },
   {
    "duration": 44,
    "start_time": "2023-08-27T05:09:06.374Z"
   },
   {
    "duration": 24,
    "start_time": "2023-08-27T05:09:10.949Z"
   },
   {
    "duration": 42,
    "start_time": "2023-08-27T05:09:13.853Z"
   },
   {
    "duration": 65,
    "start_time": "2023-08-27T05:09:19.836Z"
   },
   {
    "duration": 112,
    "start_time": "2023-08-27T05:09:25.845Z"
   },
   {
    "duration": 152,
    "start_time": "2023-08-27T05:09:30.452Z"
   },
   {
    "duration": 301,
    "start_time": "2023-08-27T05:09:35.431Z"
   },
   {
    "duration": 518,
    "start_time": "2023-08-27T05:09:43.654Z"
   },
   {
    "duration": 43,
    "start_time": "2023-08-27T05:09:49.539Z"
   },
   {
    "duration": 37,
    "start_time": "2023-08-27T05:10:50.187Z"
   },
   {
    "duration": 42,
    "start_time": "2023-08-27T05:10:57.605Z"
   },
   {
    "duration": 38,
    "start_time": "2023-08-27T05:11:04.021Z"
   },
   {
    "duration": 58,
    "start_time": "2023-08-27T05:13:03.383Z"
   },
   {
    "duration": 370,
    "start_time": "2023-08-27T05:13:15.600Z"
   },
   {
    "duration": 391,
    "start_time": "2023-08-27T05:13:29.402Z"
   },
   {
    "duration": 674,
    "start_time": "2023-08-27T05:21:11.320Z"
   },
   {
    "duration": 408,
    "start_time": "2023-08-27T05:24:10.401Z"
   },
   {
    "duration": 29,
    "start_time": "2023-08-27T05:26:05.081Z"
   },
   {
    "duration": 544,
    "start_time": "2023-08-27T05:29:39.898Z"
   },
   {
    "duration": 1414,
    "start_time": "2023-08-27T05:35:36.648Z"
   },
   {
    "duration": 43,
    "start_time": "2023-08-27T05:35:38.064Z"
   },
   {
    "duration": 15,
    "start_time": "2023-08-27T05:35:38.109Z"
   },
   {
    "duration": 21,
    "start_time": "2023-08-27T05:35:38.127Z"
   },
   {
    "duration": 1632,
    "start_time": "2023-08-27T05:35:38.151Z"
   },
   {
    "duration": 5,
    "start_time": "2023-08-27T05:35:39.785Z"
   },
   {
    "duration": 8,
    "start_time": "2023-08-27T05:35:39.802Z"
   },
   {
    "duration": 10,
    "start_time": "2023-08-27T05:35:39.811Z"
   },
   {
    "duration": 14,
    "start_time": "2023-08-27T05:35:39.823Z"
   },
   {
    "duration": 20,
    "start_time": "2023-08-27T05:35:39.839Z"
   },
   {
    "duration": 5,
    "start_time": "2023-08-27T05:35:39.861Z"
   },
   {
    "duration": 53,
    "start_time": "2023-08-27T05:35:39.867Z"
   },
   {
    "duration": 1187,
    "start_time": "2023-08-27T05:35:39.922Z"
   },
   {
    "duration": 740,
    "start_time": "2023-08-27T05:35:41.110Z"
   },
   {
    "duration": 2144,
    "start_time": "2023-08-27T05:35:41.852Z"
   },
   {
    "duration": 340,
    "start_time": "2023-08-27T05:35:43.998Z"
   },
   {
    "duration": 67,
    "start_time": "2023-08-27T05:35:44.340Z"
   },
   {
    "duration": 298,
    "start_time": "2023-08-27T05:35:44.409Z"
   },
   {
    "duration": 93,
    "start_time": "2023-08-27T05:35:44.709Z"
   },
   {
    "duration": 125,
    "start_time": "2023-08-27T05:35:44.804Z"
   },
   {
    "duration": 701,
    "start_time": "2023-08-27T05:35:44.931Z"
   },
   {
    "duration": 73,
    "start_time": "2023-08-27T05:35:45.634Z"
   },
   {
    "duration": 99,
    "start_time": "2023-08-27T05:35:45.709Z"
   },
   {
    "duration": 496,
    "start_time": "2023-08-27T05:35:45.811Z"
   },
   {
    "duration": 39,
    "start_time": "2023-08-27T05:35:46.309Z"
   },
   {
    "duration": 591,
    "start_time": "2023-08-27T05:35:46.351Z"
   },
   {
    "duration": 1562,
    "start_time": "2023-08-27T07:30:39.362Z"
   },
   {
    "duration": 166,
    "start_time": "2023-08-27T07:30:40.926Z"
   },
   {
    "duration": 14,
    "start_time": "2023-08-27T07:30:41.094Z"
   },
   {
    "duration": 23,
    "start_time": "2023-08-27T07:30:41.110Z"
   },
   {
    "duration": 1400,
    "start_time": "2023-08-27T07:30:41.135Z"
   },
   {
    "duration": 4,
    "start_time": "2023-08-27T07:30:42.537Z"
   },
   {
    "duration": 22,
    "start_time": "2023-08-27T07:30:42.543Z"
   },
   {
    "duration": 8,
    "start_time": "2023-08-27T07:30:42.566Z"
   },
   {
    "duration": 13,
    "start_time": "2023-08-27T07:30:42.576Z"
   },
   {
    "duration": 7,
    "start_time": "2023-08-27T07:30:42.592Z"
   },
   {
    "duration": 9,
    "start_time": "2023-08-27T07:30:42.600Z"
   },
   {
    "duration": 30,
    "start_time": "2023-08-27T07:30:42.611Z"
   },
   {
    "duration": 1097,
    "start_time": "2023-08-27T07:30:42.643Z"
   },
   {
    "duration": 737,
    "start_time": "2023-08-27T07:30:43.741Z"
   },
   {
    "duration": 1977,
    "start_time": "2023-08-27T07:30:44.480Z"
   },
   {
    "duration": 292,
    "start_time": "2023-08-27T07:30:46.459Z"
   },
   {
    "duration": 100,
    "start_time": "2023-08-27T07:30:46.757Z"
   },
   {
    "duration": 120,
    "start_time": "2023-08-27T07:30:46.859Z"
   },
   {
    "duration": 77,
    "start_time": "2023-08-27T07:30:46.981Z"
   },
   {
    "duration": 125,
    "start_time": "2023-08-27T07:30:47.060Z"
   },
   {
    "duration": 691,
    "start_time": "2023-08-27T07:30:47.187Z"
   },
   {
    "duration": 79,
    "start_time": "2023-08-27T07:30:47.880Z"
   },
   {
    "duration": 217,
    "start_time": "2023-08-27T07:30:47.961Z"
   },
   {
    "duration": 346,
    "start_time": "2023-08-27T07:30:48.179Z"
   },
   {
    "duration": 29,
    "start_time": "2023-08-27T07:30:48.527Z"
   },
   {
    "duration": 570,
    "start_time": "2023-08-27T07:30:48.558Z"
   }
  ],
  "kernelspec": {
   "display_name": "Python 3 (ipykernel)",
   "language": "python",
   "name": "python3"
  },
  "language_info": {
   "codemirror_mode": {
    "name": "ipython",
    "version": 3
   },
   "file_extension": ".py",
   "mimetype": "text/x-python",
   "name": "python",
   "nbconvert_exporter": "python",
   "pygments_lexer": "ipython3",
   "version": "3.9.5"
  },
  "toc": {
   "base_numbering": 1,
   "nav_menu": {},
   "number_sections": true,
   "sideBar": true,
   "skip_h1_title": true,
   "title_cell": "Содержание",
   "title_sidebar": "Contents",
   "toc_cell": true,
   "toc_position": {},
   "toc_section_display": true,
   "toc_window_display": true
  }
 },
 "nbformat": 4,
 "nbformat_minor": 2
}
